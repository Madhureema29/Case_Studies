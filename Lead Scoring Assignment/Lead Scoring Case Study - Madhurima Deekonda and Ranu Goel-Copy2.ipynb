{
 "cells": [
  {
   "cell_type": "markdown",
   "metadata": {},
   "source": [
    "# LOGISTIC REGRESSION"
   ]
  },
  {
   "cell_type": "markdown",
   "metadata": {},
   "source": [
    "# Problem Statement\n",
    "An education company, X Education sells online courses to industry professionals. On any given day, many professionals who are interested in the courses land on their website and browse for courses. \n",
    "\n",
    "The company markets its courses on several websites and search engines like Google. When these people browse the courses and fill up a form providing their email address or phone number, they are classified to be a lead.\n",
    "Once these leads are acquired, employees from the sales team start making calls, writing emails, etc. Through this process, some of the leads get converted while most do not. \n",
    "\n",
    "X Education needs us to help them select the most promising leads, i.e. the leads that are most likely to convert into paying customers.\n",
    "\n",
    "The company requires us to build a model wherein you need to assign a lead score to each of the leads such that the customers with higher lead score have a higher conversion chance and the customers with lower lead score have a lower conversion chance. "
   ]
  },
  {
   "cell_type": "markdown",
   "metadata": {},
   "source": [
    "## Reading and Understanding Data"
   ]
  },
  {
   "cell_type": "code",
   "execution_count": 1,
   "metadata": {},
   "outputs": [],
   "source": [
    "# Supressing Warnings\n",
    "import warnings\n",
    "warnings.filterwarnings('ignore')"
   ]
  },
  {
   "cell_type": "code",
   "execution_count": 2,
   "metadata": {},
   "outputs": [],
   "source": [
    "# Importing all required packages\n",
    "import numpy as np\n",
    "import pandas as pd\n",
    "import matplotlib.pyplot as plt\n",
    "import seaborn as sns\n",
    "%matplotlib inline"
   ]
  },
  {
   "cell_type": "code",
   "execution_count": 3,
   "metadata": {
    "scrolled": false
   },
   "outputs": [
    {
     "data": {
      "text/html": [
       "<div>\n",
       "<style scoped>\n",
       "    .dataframe tbody tr th:only-of-type {\n",
       "        vertical-align: middle;\n",
       "    }\n",
       "\n",
       "    .dataframe tbody tr th {\n",
       "        vertical-align: top;\n",
       "    }\n",
       "\n",
       "    .dataframe thead th {\n",
       "        text-align: right;\n",
       "    }\n",
       "</style>\n",
       "<table border=\"1\" class=\"dataframe\">\n",
       "  <thead>\n",
       "    <tr style=\"text-align: right;\">\n",
       "      <th></th>\n",
       "      <th>Prospect ID</th>\n",
       "      <th>Lead Number</th>\n",
       "      <th>Lead Origin</th>\n",
       "      <th>Lead Source</th>\n",
       "      <th>Do Not Email</th>\n",
       "      <th>Do Not Call</th>\n",
       "      <th>Converted</th>\n",
       "      <th>TotalVisits</th>\n",
       "      <th>Total Time Spent on Website</th>\n",
       "      <th>Page Views Per Visit</th>\n",
       "      <th>...</th>\n",
       "      <th>Get updates on DM Content</th>\n",
       "      <th>Lead Profile</th>\n",
       "      <th>City</th>\n",
       "      <th>Asymmetrique Activity Index</th>\n",
       "      <th>Asymmetrique Profile Index</th>\n",
       "      <th>Asymmetrique Activity Score</th>\n",
       "      <th>Asymmetrique Profile Score</th>\n",
       "      <th>I agree to pay the amount through cheque</th>\n",
       "      <th>A free copy of Mastering The Interview</th>\n",
       "      <th>Last Notable Activity</th>\n",
       "    </tr>\n",
       "  </thead>\n",
       "  <tbody>\n",
       "    <tr>\n",
       "      <th>0</th>\n",
       "      <td>7927b2df-8bba-4d29-b9a2-b6e0beafe620</td>\n",
       "      <td>660737</td>\n",
       "      <td>API</td>\n",
       "      <td>Olark Chat</td>\n",
       "      <td>No</td>\n",
       "      <td>No</td>\n",
       "      <td>0</td>\n",
       "      <td>0.0</td>\n",
       "      <td>0</td>\n",
       "      <td>0.0</td>\n",
       "      <td>...</td>\n",
       "      <td>No</td>\n",
       "      <td>Select</td>\n",
       "      <td>Select</td>\n",
       "      <td>02.Medium</td>\n",
       "      <td>02.Medium</td>\n",
       "      <td>15.0</td>\n",
       "      <td>15.0</td>\n",
       "      <td>No</td>\n",
       "      <td>No</td>\n",
       "      <td>Modified</td>\n",
       "    </tr>\n",
       "    <tr>\n",
       "      <th>1</th>\n",
       "      <td>2a272436-5132-4136-86fa-dcc88c88f482</td>\n",
       "      <td>660728</td>\n",
       "      <td>API</td>\n",
       "      <td>Organic Search</td>\n",
       "      <td>No</td>\n",
       "      <td>No</td>\n",
       "      <td>0</td>\n",
       "      <td>5.0</td>\n",
       "      <td>674</td>\n",
       "      <td>2.5</td>\n",
       "      <td>...</td>\n",
       "      <td>No</td>\n",
       "      <td>Select</td>\n",
       "      <td>Select</td>\n",
       "      <td>02.Medium</td>\n",
       "      <td>02.Medium</td>\n",
       "      <td>15.0</td>\n",
       "      <td>15.0</td>\n",
       "      <td>No</td>\n",
       "      <td>No</td>\n",
       "      <td>Email Opened</td>\n",
       "    </tr>\n",
       "    <tr>\n",
       "      <th>2</th>\n",
       "      <td>8cc8c611-a219-4f35-ad23-fdfd2656bd8a</td>\n",
       "      <td>660727</td>\n",
       "      <td>Landing Page Submission</td>\n",
       "      <td>Direct Traffic</td>\n",
       "      <td>No</td>\n",
       "      <td>No</td>\n",
       "      <td>1</td>\n",
       "      <td>2.0</td>\n",
       "      <td>1532</td>\n",
       "      <td>2.0</td>\n",
       "      <td>...</td>\n",
       "      <td>No</td>\n",
       "      <td>Potential Lead</td>\n",
       "      <td>Mumbai</td>\n",
       "      <td>02.Medium</td>\n",
       "      <td>01.High</td>\n",
       "      <td>14.0</td>\n",
       "      <td>20.0</td>\n",
       "      <td>No</td>\n",
       "      <td>Yes</td>\n",
       "      <td>Email Opened</td>\n",
       "    </tr>\n",
       "    <tr>\n",
       "      <th>3</th>\n",
       "      <td>0cc2df48-7cf4-4e39-9de9-19797f9b38cc</td>\n",
       "      <td>660719</td>\n",
       "      <td>Landing Page Submission</td>\n",
       "      <td>Direct Traffic</td>\n",
       "      <td>No</td>\n",
       "      <td>No</td>\n",
       "      <td>0</td>\n",
       "      <td>1.0</td>\n",
       "      <td>305</td>\n",
       "      <td>1.0</td>\n",
       "      <td>...</td>\n",
       "      <td>No</td>\n",
       "      <td>Select</td>\n",
       "      <td>Mumbai</td>\n",
       "      <td>02.Medium</td>\n",
       "      <td>01.High</td>\n",
       "      <td>13.0</td>\n",
       "      <td>17.0</td>\n",
       "      <td>No</td>\n",
       "      <td>No</td>\n",
       "      <td>Modified</td>\n",
       "    </tr>\n",
       "    <tr>\n",
       "      <th>4</th>\n",
       "      <td>3256f628-e534-4826-9d63-4a8b88782852</td>\n",
       "      <td>660681</td>\n",
       "      <td>Landing Page Submission</td>\n",
       "      <td>Google</td>\n",
       "      <td>No</td>\n",
       "      <td>No</td>\n",
       "      <td>1</td>\n",
       "      <td>2.0</td>\n",
       "      <td>1428</td>\n",
       "      <td>1.0</td>\n",
       "      <td>...</td>\n",
       "      <td>No</td>\n",
       "      <td>Select</td>\n",
       "      <td>Mumbai</td>\n",
       "      <td>02.Medium</td>\n",
       "      <td>01.High</td>\n",
       "      <td>15.0</td>\n",
       "      <td>18.0</td>\n",
       "      <td>No</td>\n",
       "      <td>No</td>\n",
       "      <td>Modified</td>\n",
       "    </tr>\n",
       "  </tbody>\n",
       "</table>\n",
       "<p>5 rows × 37 columns</p>\n",
       "</div>"
      ],
      "text/plain": [
       "                            Prospect ID  Lead Number              Lead Origin  \\\n",
       "0  7927b2df-8bba-4d29-b9a2-b6e0beafe620       660737                      API   \n",
       "1  2a272436-5132-4136-86fa-dcc88c88f482       660728                      API   \n",
       "2  8cc8c611-a219-4f35-ad23-fdfd2656bd8a       660727  Landing Page Submission   \n",
       "3  0cc2df48-7cf4-4e39-9de9-19797f9b38cc       660719  Landing Page Submission   \n",
       "4  3256f628-e534-4826-9d63-4a8b88782852       660681  Landing Page Submission   \n",
       "\n",
       "      Lead Source Do Not Email Do Not Call  Converted  TotalVisits  \\\n",
       "0      Olark Chat           No          No          0          0.0   \n",
       "1  Organic Search           No          No          0          5.0   \n",
       "2  Direct Traffic           No          No          1          2.0   \n",
       "3  Direct Traffic           No          No          0          1.0   \n",
       "4          Google           No          No          1          2.0   \n",
       "\n",
       "   Total Time Spent on Website  Page Views Per Visit  ...  \\\n",
       "0                            0                   0.0  ...   \n",
       "1                          674                   2.5  ...   \n",
       "2                         1532                   2.0  ...   \n",
       "3                          305                   1.0  ...   \n",
       "4                         1428                   1.0  ...   \n",
       "\n",
       "  Get updates on DM Content    Lead Profile    City  \\\n",
       "0                        No          Select  Select   \n",
       "1                        No          Select  Select   \n",
       "2                        No  Potential Lead  Mumbai   \n",
       "3                        No          Select  Mumbai   \n",
       "4                        No          Select  Mumbai   \n",
       "\n",
       "  Asymmetrique Activity Index Asymmetrique Profile Index  \\\n",
       "0                   02.Medium                  02.Medium   \n",
       "1                   02.Medium                  02.Medium   \n",
       "2                   02.Medium                    01.High   \n",
       "3                   02.Medium                    01.High   \n",
       "4                   02.Medium                    01.High   \n",
       "\n",
       "  Asymmetrique Activity Score Asymmetrique Profile Score  \\\n",
       "0                        15.0                       15.0   \n",
       "1                        15.0                       15.0   \n",
       "2                        14.0                       20.0   \n",
       "3                        13.0                       17.0   \n",
       "4                        15.0                       18.0   \n",
       "\n",
       "  I agree to pay the amount through cheque  \\\n",
       "0                                       No   \n",
       "1                                       No   \n",
       "2                                       No   \n",
       "3                                       No   \n",
       "4                                       No   \n",
       "\n",
       "  A free copy of Mastering The Interview Last Notable Activity  \n",
       "0                                     No              Modified  \n",
       "1                                     No          Email Opened  \n",
       "2                                    Yes          Email Opened  \n",
       "3                                     No              Modified  \n",
       "4                                     No              Modified  \n",
       "\n",
       "[5 rows x 37 columns]"
      ]
     },
     "execution_count": 3,
     "metadata": {},
     "output_type": "execute_result"
    }
   ],
   "source": [
    "# Importing the dataset\n",
    "leads = pd.read_csv('Leads.csv')\n",
    "leads.head()"
   ]
  },
  {
   "cell_type": "markdown",
   "metadata": {},
   "source": [
    "### Inspect Data"
   ]
  },
  {
   "cell_type": "code",
   "execution_count": 4,
   "metadata": {},
   "outputs": [
    {
     "data": {
      "text/plain": [
       "(9240, 37)"
      ]
     },
     "execution_count": 4,
     "metadata": {},
     "output_type": "execute_result"
    }
   ],
   "source": [
    "leads.shape"
   ]
  },
  {
   "cell_type": "code",
   "execution_count": 5,
   "metadata": {},
   "outputs": [
    {
     "name": "stdout",
     "output_type": "stream",
     "text": [
      "<class 'pandas.core.frame.DataFrame'>\n",
      "RangeIndex: 9240 entries, 0 to 9239\n",
      "Data columns (total 37 columns):\n",
      " #   Column                                         Non-Null Count  Dtype  \n",
      "---  ------                                         --------------  -----  \n",
      " 0   Prospect ID                                    9240 non-null   object \n",
      " 1   Lead Number                                    9240 non-null   int64  \n",
      " 2   Lead Origin                                    9240 non-null   object \n",
      " 3   Lead Source                                    9204 non-null   object \n",
      " 4   Do Not Email                                   9240 non-null   object \n",
      " 5   Do Not Call                                    9240 non-null   object \n",
      " 6   Converted                                      9240 non-null   int64  \n",
      " 7   TotalVisits                                    9103 non-null   float64\n",
      " 8   Total Time Spent on Website                    9240 non-null   int64  \n",
      " 9   Page Views Per Visit                           9103 non-null   float64\n",
      " 10  Last Activity                                  9137 non-null   object \n",
      " 11  Country                                        6779 non-null   object \n",
      " 12  Specialization                                 7802 non-null   object \n",
      " 13  How did you hear about X Education             7033 non-null   object \n",
      " 14  What is your current occupation                6550 non-null   object \n",
      " 15  What matters most to you in choosing a course  6531 non-null   object \n",
      " 16  Search                                         9240 non-null   object \n",
      " 17  Magazine                                       9240 non-null   object \n",
      " 18  Newspaper Article                              9240 non-null   object \n",
      " 19  X Education Forums                             9240 non-null   object \n",
      " 20  Newspaper                                      9240 non-null   object \n",
      " 21  Digital Advertisement                          9240 non-null   object \n",
      " 22  Through Recommendations                        9240 non-null   object \n",
      " 23  Receive More Updates About Our Courses         9240 non-null   object \n",
      " 24  Tags                                           5887 non-null   object \n",
      " 25  Lead Quality                                   4473 non-null   object \n",
      " 26  Update me on Supply Chain Content              9240 non-null   object \n",
      " 27  Get updates on DM Content                      9240 non-null   object \n",
      " 28  Lead Profile                                   6531 non-null   object \n",
      " 29  City                                           7820 non-null   object \n",
      " 30  Asymmetrique Activity Index                    5022 non-null   object \n",
      " 31  Asymmetrique Profile Index                     5022 non-null   object \n",
      " 32  Asymmetrique Activity Score                    5022 non-null   float64\n",
      " 33  Asymmetrique Profile Score                     5022 non-null   float64\n",
      " 34  I agree to pay the amount through cheque       9240 non-null   object \n",
      " 35  A free copy of Mastering The Interview         9240 non-null   object \n",
      " 36  Last Notable Activity                          9240 non-null   object \n",
      "dtypes: float64(4), int64(3), object(30)\n",
      "memory usage: 2.6+ MB\n"
     ]
    }
   ],
   "source": [
    "leads.info()"
   ]
  },
  {
   "cell_type": "markdown",
   "metadata": {},
   "source": [
    "## Data Cleaning"
   ]
  },
  {
   "cell_type": "code",
   "execution_count": 6,
   "metadata": {},
   "outputs": [],
   "source": [
    "# Looking at all the columns and rows\n",
    "pd.set_option('display.max_columns', 200)\n",
    "pd.set_option('display.max_rows', 200)"
   ]
  },
  {
   "cell_type": "code",
   "execution_count": 7,
   "metadata": {},
   "outputs": [
    {
     "data": {
      "text/html": [
       "<div>\n",
       "<style scoped>\n",
       "    .dataframe tbody tr th:only-of-type {\n",
       "        vertical-align: middle;\n",
       "    }\n",
       "\n",
       "    .dataframe tbody tr th {\n",
       "        vertical-align: top;\n",
       "    }\n",
       "\n",
       "    .dataframe thead th {\n",
       "        text-align: right;\n",
       "    }\n",
       "</style>\n",
       "<table border=\"1\" class=\"dataframe\">\n",
       "  <thead>\n",
       "    <tr style=\"text-align: right;\">\n",
       "      <th></th>\n",
       "      <th>Prospect ID</th>\n",
       "      <th>Lead Number</th>\n",
       "      <th>Lead Origin</th>\n",
       "      <th>Lead Source</th>\n",
       "      <th>Do Not Email</th>\n",
       "      <th>Do Not Call</th>\n",
       "      <th>Converted</th>\n",
       "      <th>TotalVisits</th>\n",
       "      <th>Total Time Spent on Website</th>\n",
       "      <th>Page Views Per Visit</th>\n",
       "      <th>Last Activity</th>\n",
       "      <th>Country</th>\n",
       "      <th>Specialization</th>\n",
       "      <th>How did you hear about X Education</th>\n",
       "      <th>What is your current occupation</th>\n",
       "      <th>What matters most to you in choosing a course</th>\n",
       "      <th>Search</th>\n",
       "      <th>Magazine</th>\n",
       "      <th>Newspaper Article</th>\n",
       "      <th>X Education Forums</th>\n",
       "      <th>Newspaper</th>\n",
       "      <th>Digital Advertisement</th>\n",
       "      <th>Through Recommendations</th>\n",
       "      <th>Receive More Updates About Our Courses</th>\n",
       "      <th>Tags</th>\n",
       "      <th>Lead Quality</th>\n",
       "      <th>Update me on Supply Chain Content</th>\n",
       "      <th>Get updates on DM Content</th>\n",
       "      <th>Lead Profile</th>\n",
       "      <th>City</th>\n",
       "      <th>Asymmetrique Activity Index</th>\n",
       "      <th>Asymmetrique Profile Index</th>\n",
       "      <th>Asymmetrique Activity Score</th>\n",
       "      <th>Asymmetrique Profile Score</th>\n",
       "      <th>I agree to pay the amount through cheque</th>\n",
       "      <th>A free copy of Mastering The Interview</th>\n",
       "      <th>Last Notable Activity</th>\n",
       "    </tr>\n",
       "  </thead>\n",
       "  <tbody>\n",
       "    <tr>\n",
       "      <th>0</th>\n",
       "      <td>7927b2df-8bba-4d29-b9a2-b6e0beafe620</td>\n",
       "      <td>660737</td>\n",
       "      <td>API</td>\n",
       "      <td>Olark Chat</td>\n",
       "      <td>No</td>\n",
       "      <td>No</td>\n",
       "      <td>0</td>\n",
       "      <td>0.0</td>\n",
       "      <td>0</td>\n",
       "      <td>0.00</td>\n",
       "      <td>Page Visited on Website</td>\n",
       "      <td>NaN</td>\n",
       "      <td>Select</td>\n",
       "      <td>Select</td>\n",
       "      <td>Unemployed</td>\n",
       "      <td>Better Career Prospects</td>\n",
       "      <td>No</td>\n",
       "      <td>No</td>\n",
       "      <td>No</td>\n",
       "      <td>No</td>\n",
       "      <td>No</td>\n",
       "      <td>No</td>\n",
       "      <td>No</td>\n",
       "      <td>No</td>\n",
       "      <td>Interested in other courses</td>\n",
       "      <td>Low in Relevance</td>\n",
       "      <td>No</td>\n",
       "      <td>No</td>\n",
       "      <td>Select</td>\n",
       "      <td>Select</td>\n",
       "      <td>02.Medium</td>\n",
       "      <td>02.Medium</td>\n",
       "      <td>15.0</td>\n",
       "      <td>15.0</td>\n",
       "      <td>No</td>\n",
       "      <td>No</td>\n",
       "      <td>Modified</td>\n",
       "    </tr>\n",
       "    <tr>\n",
       "      <th>1</th>\n",
       "      <td>2a272436-5132-4136-86fa-dcc88c88f482</td>\n",
       "      <td>660728</td>\n",
       "      <td>API</td>\n",
       "      <td>Organic Search</td>\n",
       "      <td>No</td>\n",
       "      <td>No</td>\n",
       "      <td>0</td>\n",
       "      <td>5.0</td>\n",
       "      <td>674</td>\n",
       "      <td>2.50</td>\n",
       "      <td>Email Opened</td>\n",
       "      <td>India</td>\n",
       "      <td>Select</td>\n",
       "      <td>Select</td>\n",
       "      <td>Unemployed</td>\n",
       "      <td>Better Career Prospects</td>\n",
       "      <td>No</td>\n",
       "      <td>No</td>\n",
       "      <td>No</td>\n",
       "      <td>No</td>\n",
       "      <td>No</td>\n",
       "      <td>No</td>\n",
       "      <td>No</td>\n",
       "      <td>No</td>\n",
       "      <td>Ringing</td>\n",
       "      <td>NaN</td>\n",
       "      <td>No</td>\n",
       "      <td>No</td>\n",
       "      <td>Select</td>\n",
       "      <td>Select</td>\n",
       "      <td>02.Medium</td>\n",
       "      <td>02.Medium</td>\n",
       "      <td>15.0</td>\n",
       "      <td>15.0</td>\n",
       "      <td>No</td>\n",
       "      <td>No</td>\n",
       "      <td>Email Opened</td>\n",
       "    </tr>\n",
       "    <tr>\n",
       "      <th>2</th>\n",
       "      <td>8cc8c611-a219-4f35-ad23-fdfd2656bd8a</td>\n",
       "      <td>660727</td>\n",
       "      <td>Landing Page Submission</td>\n",
       "      <td>Direct Traffic</td>\n",
       "      <td>No</td>\n",
       "      <td>No</td>\n",
       "      <td>1</td>\n",
       "      <td>2.0</td>\n",
       "      <td>1532</td>\n",
       "      <td>2.00</td>\n",
       "      <td>Email Opened</td>\n",
       "      <td>India</td>\n",
       "      <td>Business Administration</td>\n",
       "      <td>Select</td>\n",
       "      <td>Student</td>\n",
       "      <td>Better Career Prospects</td>\n",
       "      <td>No</td>\n",
       "      <td>No</td>\n",
       "      <td>No</td>\n",
       "      <td>No</td>\n",
       "      <td>No</td>\n",
       "      <td>No</td>\n",
       "      <td>No</td>\n",
       "      <td>No</td>\n",
       "      <td>Will revert after reading the email</td>\n",
       "      <td>Might be</td>\n",
       "      <td>No</td>\n",
       "      <td>No</td>\n",
       "      <td>Potential Lead</td>\n",
       "      <td>Mumbai</td>\n",
       "      <td>02.Medium</td>\n",
       "      <td>01.High</td>\n",
       "      <td>14.0</td>\n",
       "      <td>20.0</td>\n",
       "      <td>No</td>\n",
       "      <td>Yes</td>\n",
       "      <td>Email Opened</td>\n",
       "    </tr>\n",
       "    <tr>\n",
       "      <th>3</th>\n",
       "      <td>0cc2df48-7cf4-4e39-9de9-19797f9b38cc</td>\n",
       "      <td>660719</td>\n",
       "      <td>Landing Page Submission</td>\n",
       "      <td>Direct Traffic</td>\n",
       "      <td>No</td>\n",
       "      <td>No</td>\n",
       "      <td>0</td>\n",
       "      <td>1.0</td>\n",
       "      <td>305</td>\n",
       "      <td>1.00</td>\n",
       "      <td>Unreachable</td>\n",
       "      <td>India</td>\n",
       "      <td>Media and Advertising</td>\n",
       "      <td>Word Of Mouth</td>\n",
       "      <td>Unemployed</td>\n",
       "      <td>Better Career Prospects</td>\n",
       "      <td>No</td>\n",
       "      <td>No</td>\n",
       "      <td>No</td>\n",
       "      <td>No</td>\n",
       "      <td>No</td>\n",
       "      <td>No</td>\n",
       "      <td>No</td>\n",
       "      <td>No</td>\n",
       "      <td>Ringing</td>\n",
       "      <td>Not Sure</td>\n",
       "      <td>No</td>\n",
       "      <td>No</td>\n",
       "      <td>Select</td>\n",
       "      <td>Mumbai</td>\n",
       "      <td>02.Medium</td>\n",
       "      <td>01.High</td>\n",
       "      <td>13.0</td>\n",
       "      <td>17.0</td>\n",
       "      <td>No</td>\n",
       "      <td>No</td>\n",
       "      <td>Modified</td>\n",
       "    </tr>\n",
       "    <tr>\n",
       "      <th>4</th>\n",
       "      <td>3256f628-e534-4826-9d63-4a8b88782852</td>\n",
       "      <td>660681</td>\n",
       "      <td>Landing Page Submission</td>\n",
       "      <td>Google</td>\n",
       "      <td>No</td>\n",
       "      <td>No</td>\n",
       "      <td>1</td>\n",
       "      <td>2.0</td>\n",
       "      <td>1428</td>\n",
       "      <td>1.00</td>\n",
       "      <td>Converted to Lead</td>\n",
       "      <td>India</td>\n",
       "      <td>Select</td>\n",
       "      <td>Other</td>\n",
       "      <td>Unemployed</td>\n",
       "      <td>Better Career Prospects</td>\n",
       "      <td>No</td>\n",
       "      <td>No</td>\n",
       "      <td>No</td>\n",
       "      <td>No</td>\n",
       "      <td>No</td>\n",
       "      <td>No</td>\n",
       "      <td>No</td>\n",
       "      <td>No</td>\n",
       "      <td>Will revert after reading the email</td>\n",
       "      <td>Might be</td>\n",
       "      <td>No</td>\n",
       "      <td>No</td>\n",
       "      <td>Select</td>\n",
       "      <td>Mumbai</td>\n",
       "      <td>02.Medium</td>\n",
       "      <td>01.High</td>\n",
       "      <td>15.0</td>\n",
       "      <td>18.0</td>\n",
       "      <td>No</td>\n",
       "      <td>No</td>\n",
       "      <td>Modified</td>\n",
       "    </tr>\n",
       "    <tr>\n",
       "      <th>...</th>\n",
       "      <td>...</td>\n",
       "      <td>...</td>\n",
       "      <td>...</td>\n",
       "      <td>...</td>\n",
       "      <td>...</td>\n",
       "      <td>...</td>\n",
       "      <td>...</td>\n",
       "      <td>...</td>\n",
       "      <td>...</td>\n",
       "      <td>...</td>\n",
       "      <td>...</td>\n",
       "      <td>...</td>\n",
       "      <td>...</td>\n",
       "      <td>...</td>\n",
       "      <td>...</td>\n",
       "      <td>...</td>\n",
       "      <td>...</td>\n",
       "      <td>...</td>\n",
       "      <td>...</td>\n",
       "      <td>...</td>\n",
       "      <td>...</td>\n",
       "      <td>...</td>\n",
       "      <td>...</td>\n",
       "      <td>...</td>\n",
       "      <td>...</td>\n",
       "      <td>...</td>\n",
       "      <td>...</td>\n",
       "      <td>...</td>\n",
       "      <td>...</td>\n",
       "      <td>...</td>\n",
       "      <td>...</td>\n",
       "      <td>...</td>\n",
       "      <td>...</td>\n",
       "      <td>...</td>\n",
       "      <td>...</td>\n",
       "      <td>...</td>\n",
       "      <td>...</td>\n",
       "    </tr>\n",
       "    <tr>\n",
       "      <th>9235</th>\n",
       "      <td>19d6451e-fcd6-407c-b83b-48e1af805ea9</td>\n",
       "      <td>579564</td>\n",
       "      <td>Landing Page Submission</td>\n",
       "      <td>Direct Traffic</td>\n",
       "      <td>Yes</td>\n",
       "      <td>No</td>\n",
       "      <td>1</td>\n",
       "      <td>8.0</td>\n",
       "      <td>1845</td>\n",
       "      <td>2.67</td>\n",
       "      <td>Email Marked Spam</td>\n",
       "      <td>Saudi Arabia</td>\n",
       "      <td>IT Projects Management</td>\n",
       "      <td>Select</td>\n",
       "      <td>Unemployed</td>\n",
       "      <td>Better Career Prospects</td>\n",
       "      <td>No</td>\n",
       "      <td>No</td>\n",
       "      <td>No</td>\n",
       "      <td>No</td>\n",
       "      <td>No</td>\n",
       "      <td>No</td>\n",
       "      <td>No</td>\n",
       "      <td>No</td>\n",
       "      <td>Will revert after reading the email</td>\n",
       "      <td>High in Relevance</td>\n",
       "      <td>No</td>\n",
       "      <td>No</td>\n",
       "      <td>Potential Lead</td>\n",
       "      <td>Mumbai</td>\n",
       "      <td>02.Medium</td>\n",
       "      <td>01.High</td>\n",
       "      <td>15.0</td>\n",
       "      <td>17.0</td>\n",
       "      <td>No</td>\n",
       "      <td>No</td>\n",
       "      <td>Email Marked Spam</td>\n",
       "    </tr>\n",
       "    <tr>\n",
       "      <th>9236</th>\n",
       "      <td>82a7005b-7196-4d56-95ce-a79f937a158d</td>\n",
       "      <td>579546</td>\n",
       "      <td>Landing Page Submission</td>\n",
       "      <td>Direct Traffic</td>\n",
       "      <td>No</td>\n",
       "      <td>No</td>\n",
       "      <td>0</td>\n",
       "      <td>2.0</td>\n",
       "      <td>238</td>\n",
       "      <td>2.00</td>\n",
       "      <td>SMS Sent</td>\n",
       "      <td>India</td>\n",
       "      <td>Media and Advertising</td>\n",
       "      <td>Select</td>\n",
       "      <td>Unemployed</td>\n",
       "      <td>Better Career Prospects</td>\n",
       "      <td>No</td>\n",
       "      <td>No</td>\n",
       "      <td>No</td>\n",
       "      <td>No</td>\n",
       "      <td>No</td>\n",
       "      <td>No</td>\n",
       "      <td>No</td>\n",
       "      <td>No</td>\n",
       "      <td>wrong number given</td>\n",
       "      <td>Might be</td>\n",
       "      <td>No</td>\n",
       "      <td>No</td>\n",
       "      <td>Potential Lead</td>\n",
       "      <td>Mumbai</td>\n",
       "      <td>02.Medium</td>\n",
       "      <td>01.High</td>\n",
       "      <td>14.0</td>\n",
       "      <td>19.0</td>\n",
       "      <td>No</td>\n",
       "      <td>Yes</td>\n",
       "      <td>SMS Sent</td>\n",
       "    </tr>\n",
       "    <tr>\n",
       "      <th>9237</th>\n",
       "      <td>aac550fe-a586-452d-8d3c-f1b62c94e02c</td>\n",
       "      <td>579545</td>\n",
       "      <td>Landing Page Submission</td>\n",
       "      <td>Direct Traffic</td>\n",
       "      <td>Yes</td>\n",
       "      <td>No</td>\n",
       "      <td>0</td>\n",
       "      <td>2.0</td>\n",
       "      <td>199</td>\n",
       "      <td>2.00</td>\n",
       "      <td>SMS Sent</td>\n",
       "      <td>India</td>\n",
       "      <td>Business Administration</td>\n",
       "      <td>Select</td>\n",
       "      <td>Unemployed</td>\n",
       "      <td>Better Career Prospects</td>\n",
       "      <td>No</td>\n",
       "      <td>No</td>\n",
       "      <td>No</td>\n",
       "      <td>No</td>\n",
       "      <td>No</td>\n",
       "      <td>No</td>\n",
       "      <td>No</td>\n",
       "      <td>No</td>\n",
       "      <td>invalid number</td>\n",
       "      <td>Not Sure</td>\n",
       "      <td>No</td>\n",
       "      <td>No</td>\n",
       "      <td>Potential Lead</td>\n",
       "      <td>Mumbai</td>\n",
       "      <td>02.Medium</td>\n",
       "      <td>01.High</td>\n",
       "      <td>13.0</td>\n",
       "      <td>20.0</td>\n",
       "      <td>No</td>\n",
       "      <td>Yes</td>\n",
       "      <td>SMS Sent</td>\n",
       "    </tr>\n",
       "    <tr>\n",
       "      <th>9238</th>\n",
       "      <td>5330a7d1-2f2b-4df4-85d6-64ca2f6b95b9</td>\n",
       "      <td>579538</td>\n",
       "      <td>Landing Page Submission</td>\n",
       "      <td>Google</td>\n",
       "      <td>No</td>\n",
       "      <td>No</td>\n",
       "      <td>1</td>\n",
       "      <td>3.0</td>\n",
       "      <td>499</td>\n",
       "      <td>3.00</td>\n",
       "      <td>SMS Sent</td>\n",
       "      <td>India</td>\n",
       "      <td>Human Resource Management</td>\n",
       "      <td>Online Search</td>\n",
       "      <td>NaN</td>\n",
       "      <td>NaN</td>\n",
       "      <td>No</td>\n",
       "      <td>No</td>\n",
       "      <td>No</td>\n",
       "      <td>No</td>\n",
       "      <td>No</td>\n",
       "      <td>No</td>\n",
       "      <td>No</td>\n",
       "      <td>No</td>\n",
       "      <td>NaN</td>\n",
       "      <td>NaN</td>\n",
       "      <td>No</td>\n",
       "      <td>No</td>\n",
       "      <td>NaN</td>\n",
       "      <td>Other Metro Cities</td>\n",
       "      <td>02.Medium</td>\n",
       "      <td>02.Medium</td>\n",
       "      <td>15.0</td>\n",
       "      <td>16.0</td>\n",
       "      <td>No</td>\n",
       "      <td>No</td>\n",
       "      <td>SMS Sent</td>\n",
       "    </tr>\n",
       "    <tr>\n",
       "      <th>9239</th>\n",
       "      <td>571b5c8e-a5b2-4d57-8574-f2ffb06fdeff</td>\n",
       "      <td>579533</td>\n",
       "      <td>Landing Page Submission</td>\n",
       "      <td>Direct Traffic</td>\n",
       "      <td>No</td>\n",
       "      <td>No</td>\n",
       "      <td>1</td>\n",
       "      <td>6.0</td>\n",
       "      <td>1279</td>\n",
       "      <td>3.00</td>\n",
       "      <td>SMS Sent</td>\n",
       "      <td>Bangladesh</td>\n",
       "      <td>Supply Chain Management</td>\n",
       "      <td>Select</td>\n",
       "      <td>Unemployed</td>\n",
       "      <td>Better Career Prospects</td>\n",
       "      <td>No</td>\n",
       "      <td>No</td>\n",
       "      <td>No</td>\n",
       "      <td>No</td>\n",
       "      <td>No</td>\n",
       "      <td>No</td>\n",
       "      <td>No</td>\n",
       "      <td>No</td>\n",
       "      <td>Will revert after reading the email</td>\n",
       "      <td>Might be</td>\n",
       "      <td>No</td>\n",
       "      <td>No</td>\n",
       "      <td>Potential Lead</td>\n",
       "      <td>Other Cities</td>\n",
       "      <td>02.Medium</td>\n",
       "      <td>01.High</td>\n",
       "      <td>15.0</td>\n",
       "      <td>18.0</td>\n",
       "      <td>No</td>\n",
       "      <td>Yes</td>\n",
       "      <td>Modified</td>\n",
       "    </tr>\n",
       "  </tbody>\n",
       "</table>\n",
       "<p>9240 rows × 37 columns</p>\n",
       "</div>"
      ],
      "text/plain": [
       "                               Prospect ID  Lead Number  \\\n",
       "0     7927b2df-8bba-4d29-b9a2-b6e0beafe620       660737   \n",
       "1     2a272436-5132-4136-86fa-dcc88c88f482       660728   \n",
       "2     8cc8c611-a219-4f35-ad23-fdfd2656bd8a       660727   \n",
       "3     0cc2df48-7cf4-4e39-9de9-19797f9b38cc       660719   \n",
       "4     3256f628-e534-4826-9d63-4a8b88782852       660681   \n",
       "...                                    ...          ...   \n",
       "9235  19d6451e-fcd6-407c-b83b-48e1af805ea9       579564   \n",
       "9236  82a7005b-7196-4d56-95ce-a79f937a158d       579546   \n",
       "9237  aac550fe-a586-452d-8d3c-f1b62c94e02c       579545   \n",
       "9238  5330a7d1-2f2b-4df4-85d6-64ca2f6b95b9       579538   \n",
       "9239  571b5c8e-a5b2-4d57-8574-f2ffb06fdeff       579533   \n",
       "\n",
       "                  Lead Origin     Lead Source Do Not Email Do Not Call  \\\n",
       "0                         API      Olark Chat           No          No   \n",
       "1                         API  Organic Search           No          No   \n",
       "2     Landing Page Submission  Direct Traffic           No          No   \n",
       "3     Landing Page Submission  Direct Traffic           No          No   \n",
       "4     Landing Page Submission          Google           No          No   \n",
       "...                       ...             ...          ...         ...   \n",
       "9235  Landing Page Submission  Direct Traffic          Yes          No   \n",
       "9236  Landing Page Submission  Direct Traffic           No          No   \n",
       "9237  Landing Page Submission  Direct Traffic          Yes          No   \n",
       "9238  Landing Page Submission          Google           No          No   \n",
       "9239  Landing Page Submission  Direct Traffic           No          No   \n",
       "\n",
       "      Converted  TotalVisits  Total Time Spent on Website  \\\n",
       "0             0          0.0                            0   \n",
       "1             0          5.0                          674   \n",
       "2             1          2.0                         1532   \n",
       "3             0          1.0                          305   \n",
       "4             1          2.0                         1428   \n",
       "...         ...          ...                          ...   \n",
       "9235          1          8.0                         1845   \n",
       "9236          0          2.0                          238   \n",
       "9237          0          2.0                          199   \n",
       "9238          1          3.0                          499   \n",
       "9239          1          6.0                         1279   \n",
       "\n",
       "      Page Views Per Visit            Last Activity       Country  \\\n",
       "0                     0.00  Page Visited on Website           NaN   \n",
       "1                     2.50             Email Opened         India   \n",
       "2                     2.00             Email Opened         India   \n",
       "3                     1.00              Unreachable         India   \n",
       "4                     1.00        Converted to Lead         India   \n",
       "...                    ...                      ...           ...   \n",
       "9235                  2.67        Email Marked Spam  Saudi Arabia   \n",
       "9236                  2.00                 SMS Sent         India   \n",
       "9237                  2.00                 SMS Sent         India   \n",
       "9238                  3.00                 SMS Sent         India   \n",
       "9239                  3.00                 SMS Sent    Bangladesh   \n",
       "\n",
       "                 Specialization How did you hear about X Education  \\\n",
       "0                        Select                             Select   \n",
       "1                        Select                             Select   \n",
       "2       Business Administration                             Select   \n",
       "3         Media and Advertising                      Word Of Mouth   \n",
       "4                        Select                              Other   \n",
       "...                         ...                                ...   \n",
       "9235     IT Projects Management                             Select   \n",
       "9236      Media and Advertising                             Select   \n",
       "9237    Business Administration                             Select   \n",
       "9238  Human Resource Management                      Online Search   \n",
       "9239    Supply Chain Management                             Select   \n",
       "\n",
       "     What is your current occupation  \\\n",
       "0                         Unemployed   \n",
       "1                         Unemployed   \n",
       "2                            Student   \n",
       "3                         Unemployed   \n",
       "4                         Unemployed   \n",
       "...                              ...   \n",
       "9235                      Unemployed   \n",
       "9236                      Unemployed   \n",
       "9237                      Unemployed   \n",
       "9238                             NaN   \n",
       "9239                      Unemployed   \n",
       "\n",
       "     What matters most to you in choosing a course Search Magazine  \\\n",
       "0                          Better Career Prospects     No       No   \n",
       "1                          Better Career Prospects     No       No   \n",
       "2                          Better Career Prospects     No       No   \n",
       "3                          Better Career Prospects     No       No   \n",
       "4                          Better Career Prospects     No       No   \n",
       "...                                            ...    ...      ...   \n",
       "9235                       Better Career Prospects     No       No   \n",
       "9236                       Better Career Prospects     No       No   \n",
       "9237                       Better Career Prospects     No       No   \n",
       "9238                                           NaN     No       No   \n",
       "9239                       Better Career Prospects     No       No   \n",
       "\n",
       "     Newspaper Article X Education Forums Newspaper Digital Advertisement  \\\n",
       "0                   No                 No        No                    No   \n",
       "1                   No                 No        No                    No   \n",
       "2                   No                 No        No                    No   \n",
       "3                   No                 No        No                    No   \n",
       "4                   No                 No        No                    No   \n",
       "...                ...                ...       ...                   ...   \n",
       "9235                No                 No        No                    No   \n",
       "9236                No                 No        No                    No   \n",
       "9237                No                 No        No                    No   \n",
       "9238                No                 No        No                    No   \n",
       "9239                No                 No        No                    No   \n",
       "\n",
       "     Through Recommendations Receive More Updates About Our Courses  \\\n",
       "0                         No                                     No   \n",
       "1                         No                                     No   \n",
       "2                         No                                     No   \n",
       "3                         No                                     No   \n",
       "4                         No                                     No   \n",
       "...                      ...                                    ...   \n",
       "9235                      No                                     No   \n",
       "9236                      No                                     No   \n",
       "9237                      No                                     No   \n",
       "9238                      No                                     No   \n",
       "9239                      No                                     No   \n",
       "\n",
       "                                     Tags       Lead Quality  \\\n",
       "0             Interested in other courses   Low in Relevance   \n",
       "1                                 Ringing                NaN   \n",
       "2     Will revert after reading the email           Might be   \n",
       "3                                 Ringing           Not Sure   \n",
       "4     Will revert after reading the email           Might be   \n",
       "...                                   ...                ...   \n",
       "9235  Will revert after reading the email  High in Relevance   \n",
       "9236                   wrong number given           Might be   \n",
       "9237                       invalid number           Not Sure   \n",
       "9238                                  NaN                NaN   \n",
       "9239  Will revert after reading the email           Might be   \n",
       "\n",
       "     Update me on Supply Chain Content Get updates on DM Content  \\\n",
       "0                                   No                        No   \n",
       "1                                   No                        No   \n",
       "2                                   No                        No   \n",
       "3                                   No                        No   \n",
       "4                                   No                        No   \n",
       "...                                ...                       ...   \n",
       "9235                                No                        No   \n",
       "9236                                No                        No   \n",
       "9237                                No                        No   \n",
       "9238                                No                        No   \n",
       "9239                                No                        No   \n",
       "\n",
       "        Lead Profile                City Asymmetrique Activity Index  \\\n",
       "0             Select              Select                   02.Medium   \n",
       "1             Select              Select                   02.Medium   \n",
       "2     Potential Lead              Mumbai                   02.Medium   \n",
       "3             Select              Mumbai                   02.Medium   \n",
       "4             Select              Mumbai                   02.Medium   \n",
       "...              ...                 ...                         ...   \n",
       "9235  Potential Lead              Mumbai                   02.Medium   \n",
       "9236  Potential Lead              Mumbai                   02.Medium   \n",
       "9237  Potential Lead              Mumbai                   02.Medium   \n",
       "9238             NaN  Other Metro Cities                   02.Medium   \n",
       "9239  Potential Lead        Other Cities                   02.Medium   \n",
       "\n",
       "     Asymmetrique Profile Index  Asymmetrique Activity Score  \\\n",
       "0                     02.Medium                         15.0   \n",
       "1                     02.Medium                         15.0   \n",
       "2                       01.High                         14.0   \n",
       "3                       01.High                         13.0   \n",
       "4                       01.High                         15.0   \n",
       "...                         ...                          ...   \n",
       "9235                    01.High                         15.0   \n",
       "9236                    01.High                         14.0   \n",
       "9237                    01.High                         13.0   \n",
       "9238                  02.Medium                         15.0   \n",
       "9239                    01.High                         15.0   \n",
       "\n",
       "      Asymmetrique Profile Score I agree to pay the amount through cheque  \\\n",
       "0                           15.0                                       No   \n",
       "1                           15.0                                       No   \n",
       "2                           20.0                                       No   \n",
       "3                           17.0                                       No   \n",
       "4                           18.0                                       No   \n",
       "...                          ...                                      ...   \n",
       "9235                        17.0                                       No   \n",
       "9236                        19.0                                       No   \n",
       "9237                        20.0                                       No   \n",
       "9238                        16.0                                       No   \n",
       "9239                        18.0                                       No   \n",
       "\n",
       "     A free copy of Mastering The Interview Last Notable Activity  \n",
       "0                                        No              Modified  \n",
       "1                                        No          Email Opened  \n",
       "2                                       Yes          Email Opened  \n",
       "3                                        No              Modified  \n",
       "4                                        No              Modified  \n",
       "...                                     ...                   ...  \n",
       "9235                                     No     Email Marked Spam  \n",
       "9236                                    Yes              SMS Sent  \n",
       "9237                                    Yes              SMS Sent  \n",
       "9238                                     No              SMS Sent  \n",
       "9239                                    Yes              Modified  \n",
       "\n",
       "[9240 rows x 37 columns]"
      ]
     },
     "execution_count": 7,
     "metadata": {},
     "output_type": "execute_result"
    }
   ],
   "source": [
    "leads"
   ]
  },
  {
   "cell_type": "markdown",
   "metadata": {},
   "source": [
    "### Handling the Categorical Variables having 'Select' values."
   ]
  },
  {
   "cell_type": "markdown",
   "metadata": {},
   "source": [
    "After looking at the data, we have found that a few columns have the value **'Select'** which means that the customer has not selected any option in those columns. Let us look at those columns and replace the 'Select' values with proper data.\n",
    "\n",
    "**The columns having 'Select' values are:**\n",
    "1. City\n",
    "2. Specialization\n",
    "3. How did you hear about X Education\n",
    "4. Lead Profile"
   ]
  },
  {
   "cell_type": "code",
   "execution_count": 8,
   "metadata": {
    "scrolled": true
   },
   "outputs": [
    {
     "data": {
      "text/plain": [
       "Mumbai                         0.412020\n",
       "Select                         0.287596\n",
       "Thane & Outskirts              0.096164\n",
       "Other Cities                   0.087724\n",
       "Other Cities of Maharashtra    0.058440\n",
       "Other Metro Cities             0.048593\n",
       "Tier II Cities                 0.009463\n",
       "Name: City, dtype: float64"
      ]
     },
     "execution_count": 8,
     "metadata": {},
     "output_type": "execute_result"
    }
   ],
   "source": [
    "# Checking the count of unique values in the 'City' column\n",
    "leads.City.value_counts(normalize=True)"
   ]
  },
  {
   "cell_type": "markdown",
   "metadata": {},
   "source": [
    "> We can see that 28% of the values in the City column have value as 'Select', let us replace these values with **'NaN'**"
   ]
  },
  {
   "cell_type": "code",
   "execution_count": 9,
   "metadata": {},
   "outputs": [],
   "source": [
    "# Replacing the 'Select' value in City with NaN\n",
    "leads.loc[leads.City == 'Select', 'City'] = np.nan"
   ]
  },
  {
   "cell_type": "code",
   "execution_count": 10,
   "metadata": {
    "scrolled": true
   },
   "outputs": [
    {
     "data": {
      "text/plain": [
       "Mumbai                         0.578352\n",
       "Thane & Outskirts              0.134985\n",
       "Other Cities                   0.123138\n",
       "Other Cities of Maharashtra    0.082032\n",
       "Other Metro Cities             0.068210\n",
       "Tier II Cities                 0.013283\n",
       "Name: City, dtype: float64"
      ]
     },
     "execution_count": 10,
     "metadata": {},
     "output_type": "execute_result"
    }
   ],
   "source": [
    "leads.City.value_counts(normalize=True)"
   ]
  },
  {
   "cell_type": "code",
   "execution_count": 11,
   "metadata": {
    "scrolled": false
   },
   "outputs": [
    {
     "data": {
      "text/plain": [
       "Select                               0.248911\n",
       "Finance Management                   0.125096\n",
       "Human Resource Management            0.108690\n",
       "Marketing Management                 0.107408\n",
       "Operations Management                0.064471\n",
       "Business Administration              0.051653\n",
       "IT Projects Management               0.046911\n",
       "Supply Chain Management              0.044732\n",
       "Banking, Investment And Insurance    0.043322\n",
       "Media and Advertising                0.026019\n",
       "Travel and Tourism                   0.026019\n",
       "International Business               0.022815\n",
       "Healthcare Management                0.020379\n",
       "Hospitality Management               0.014612\n",
       "E-COMMERCE                           0.014355\n",
       "Retail Management                    0.012817\n",
       "Rural and Agribusiness               0.009357\n",
       "E-Business                           0.007306\n",
       "Services Excellence                  0.005127\n",
       "Name: Specialization, dtype: float64"
      ]
     },
     "execution_count": 11,
     "metadata": {},
     "output_type": "execute_result"
    }
   ],
   "source": [
    "# Checking the count of unique values in the 'Specialization' column\n",
    "leads.Specialization.value_counts(normalize = True)"
   ]
  },
  {
   "cell_type": "markdown",
   "metadata": {},
   "source": [
    "We can see that 24% of the data in the column 'Specialization' has the value 'Select'. This column tells us about the industry domain in which the customer worked before. So we can replace the 'Select' values to **NaN**."
   ]
  },
  {
   "cell_type": "code",
   "execution_count": 12,
   "metadata": {
    "scrolled": true
   },
   "outputs": [],
   "source": [
    "leads.loc[leads.Specialization == 'Select', 'Specialization'] = np.nan"
   ]
  },
  {
   "cell_type": "code",
   "execution_count": 13,
   "metadata": {
    "scrolled": true
   },
   "outputs": [
    {
     "data": {
      "text/plain": [
       "Finance Management                   0.166553\n",
       "Human Resource Management            0.144710\n",
       "Marketing Management                 0.143003\n",
       "Operations Management                0.085836\n",
       "Business Administration              0.068771\n",
       "IT Projects Management               0.062457\n",
       "Supply Chain Management              0.059556\n",
       "Banking, Investment And Insurance    0.057679\n",
       "Media and Advertising                0.034642\n",
       "Travel and Tourism                   0.034642\n",
       "International Business               0.030375\n",
       "Healthcare Management                0.027133\n",
       "Hospitality Management               0.019454\n",
       "E-COMMERCE                           0.019113\n",
       "Retail Management                    0.017065\n",
       "Rural and Agribusiness               0.012457\n",
       "E-Business                           0.009727\n",
       "Services Excellence                  0.006826\n",
       "Name: Specialization, dtype: float64"
      ]
     },
     "execution_count": 13,
     "metadata": {},
     "output_type": "execute_result"
    }
   ],
   "source": [
    "leads.Specialization.value_counts(normalize = True)"
   ]
  },
  {
   "cell_type": "code",
   "execution_count": 14,
   "metadata": {
    "scrolled": false
   },
   "outputs": [
    {
     "data": {
      "text/plain": [
       "Select                   0.717048\n",
       "Online Search            0.114887\n",
       "Word Of Mouth            0.049481\n",
       "Student of SomeSchool    0.044078\n",
       "Other                    0.026447\n",
       "Multiple Sources         0.021612\n",
       "Advertisements           0.009953\n",
       "Social Media             0.009527\n",
       "Email                    0.003697\n",
       "SMS                      0.003270\n",
       "Name: How did you hear about X Education, dtype: float64"
      ]
     },
     "execution_count": 14,
     "metadata": {},
     "output_type": "execute_result"
    }
   ],
   "source": [
    "# Checking the count of unique values in the 'How did you hear about X Education' column\n",
    "leads['How did you hear about X Education'].value_counts(normalize = True)"
   ]
  },
  {
   "cell_type": "markdown",
   "metadata": {},
   "source": [
    "> We can see that 71% of the data in the column 'How did you hear about X Education' has the value 'Select'. Let's replace the 'Select' values to **NaN**."
   ]
  },
  {
   "cell_type": "code",
   "execution_count": 15,
   "metadata": {
    "scrolled": true
   },
   "outputs": [],
   "source": [
    "leads.loc[leads['How did you hear about X Education'] == 'Select', 'How did you hear about X Education'] = np.nan"
   ]
  },
  {
   "cell_type": "code",
   "execution_count": 16,
   "metadata": {
    "scrolled": false
   },
   "outputs": [
    {
     "data": {
      "text/plain": [
       "Online Search            0.406030\n",
       "Word Of Mouth            0.174874\n",
       "Student of SomeSchool    0.155779\n",
       "Other                    0.093467\n",
       "Multiple Sources         0.076382\n",
       "Advertisements           0.035176\n",
       "Social Media             0.033668\n",
       "Email                    0.013065\n",
       "SMS                      0.011558\n",
       "Name: How did you hear about X Education, dtype: float64"
      ]
     },
     "execution_count": 16,
     "metadata": {},
     "output_type": "execute_result"
    }
   ],
   "source": [
    "leads['How did you hear about X Education'].value_counts(normalize = True)"
   ]
  },
  {
   "cell_type": "code",
   "execution_count": 17,
   "metadata": {
    "scrolled": true
   },
   "outputs": [
    {
     "data": {
      "text/plain": [
       "Select                         0.634819\n",
       "Potential Lead                 0.246976\n",
       "Other Leads                    0.074567\n",
       "Student of SomeSchool          0.036901\n",
       "Lateral Student                0.003675\n",
       "Dual Specialization Student    0.003062\n",
       "Name: Lead Profile, dtype: float64"
      ]
     },
     "execution_count": 17,
     "metadata": {},
     "output_type": "execute_result"
    }
   ],
   "source": [
    "# Checking the count of unique values in the 'Lead Profile' column\n",
    "leads['Lead Profile'].value_counts(normalize = True)"
   ]
  },
  {
   "cell_type": "markdown",
   "metadata": {},
   "source": [
    "> We can see that 63% of the data in the column 'How did you hear about X Education' has the value 'Select'. Let's replace the 'Select' values to **NaN**."
   ]
  },
  {
   "cell_type": "code",
   "execution_count": 18,
   "metadata": {
    "scrolled": true
   },
   "outputs": [],
   "source": [
    "leads.loc[leads['Lead Profile'] == 'Select', 'Lead Profile'] = np.nan"
   ]
  },
  {
   "cell_type": "code",
   "execution_count": 19,
   "metadata": {
    "scrolled": false
   },
   "outputs": [
    {
     "data": {
      "text/plain": [
       "Potential Lead                 0.676310\n",
       "Other Leads                    0.204193\n",
       "Student of SomeSchool          0.101048\n",
       "Lateral Student                0.010063\n",
       "Dual Specialization Student    0.008386\n",
       "Name: Lead Profile, dtype: float64"
      ]
     },
     "execution_count": 19,
     "metadata": {},
     "output_type": "execute_result"
    }
   ],
   "source": [
    "leads['Lead Profile'].value_counts(normalize = True)"
   ]
  },
  {
   "cell_type": "markdown",
   "metadata": {},
   "source": [
    "### Null Values"
   ]
  },
  {
   "cell_type": "code",
   "execution_count": 20,
   "metadata": {},
   "outputs": [
    {
     "data": {
      "text/plain": [
       "Prospect ID                                       0.00\n",
       "Lead Number                                       0.00\n",
       "Lead Origin                                       0.00\n",
       "Lead Source                                       0.39\n",
       "Do Not Email                                      0.00\n",
       "Do Not Call                                       0.00\n",
       "Converted                                         0.00\n",
       "TotalVisits                                       1.48\n",
       "Total Time Spent on Website                       0.00\n",
       "Page Views Per Visit                              1.48\n",
       "Last Activity                                     1.11\n",
       "Country                                          26.63\n",
       "Specialization                                   36.58\n",
       "How did you hear about X Education               78.46\n",
       "What is your current occupation                  29.11\n",
       "What matters most to you in choosing a course    29.32\n",
       "Search                                            0.00\n",
       "Magazine                                          0.00\n",
       "Newspaper Article                                 0.00\n",
       "X Education Forums                                0.00\n",
       "Newspaper                                         0.00\n",
       "Digital Advertisement                             0.00\n",
       "Through Recommendations                           0.00\n",
       "Receive More Updates About Our Courses            0.00\n",
       "Tags                                             36.29\n",
       "Lead Quality                                     51.59\n",
       "Update me on Supply Chain Content                 0.00\n",
       "Get updates on DM Content                         0.00\n",
       "Lead Profile                                     74.19\n",
       "City                                             39.71\n",
       "Asymmetrique Activity Index                      45.65\n",
       "Asymmetrique Profile Index                       45.65\n",
       "Asymmetrique Activity Score                      45.65\n",
       "Asymmetrique Profile Score                       45.65\n",
       "I agree to pay the amount through cheque          0.00\n",
       "A free copy of Mastering The Interview            0.00\n",
       "Last Notable Activity                             0.00\n",
       "dtype: float64"
      ]
     },
     "execution_count": 20,
     "metadata": {},
     "output_type": "execute_result"
    }
   ],
   "source": [
    "# Checking for null values in columns\n",
    "round(100*(leads.isnull().sum())/len(leads), 2)"
   ]
  },
  {
   "cell_type": "markdown",
   "metadata": {},
   "source": [
    "We can see that, the columns **'How did you hear about X Education', 'Tags', 'Lead Quality', 'Lead Profile', 'Asymmetrique Activity Index', 'Asymmetrique Profile Index', 'Asymmetrique Activity Score', 'Asymmetrique Profile Score'** have more than 40% of null values, so let's drop these columns. "
   ]
  },
  {
   "cell_type": "code",
   "execution_count": 21,
   "metadata": {},
   "outputs": [],
   "source": [
    "# Dropping the columns with more than 40% of null values\n",
    "leads = leads.drop(['How did you hear about X Education','Tags','Lead Quality','Lead Profile','Asymmetrique Activity Index', 'Asymmetrique Profile Index', \n",
    "                    'Asymmetrique Activity Score', 'Asymmetrique Profile Score' ],axis = 1)"
   ]
  },
  {
   "cell_type": "code",
   "execution_count": 22,
   "metadata": {
    "scrolled": false
   },
   "outputs": [
    {
     "data": {
      "text/plain": [
       "Prospect ID                                       0.00\n",
       "Lead Number                                       0.00\n",
       "Lead Origin                                       0.00\n",
       "Lead Source                                       0.39\n",
       "Do Not Email                                      0.00\n",
       "Do Not Call                                       0.00\n",
       "Converted                                         0.00\n",
       "TotalVisits                                       1.48\n",
       "Total Time Spent on Website                       0.00\n",
       "Page Views Per Visit                              1.48\n",
       "Last Activity                                     1.11\n",
       "Country                                          26.63\n",
       "Specialization                                   36.58\n",
       "What is your current occupation                  29.11\n",
       "What matters most to you in choosing a course    29.32\n",
       "Search                                            0.00\n",
       "Magazine                                          0.00\n",
       "Newspaper Article                                 0.00\n",
       "X Education Forums                                0.00\n",
       "Newspaper                                         0.00\n",
       "Digital Advertisement                             0.00\n",
       "Through Recommendations                           0.00\n",
       "Receive More Updates About Our Courses            0.00\n",
       "Update me on Supply Chain Content                 0.00\n",
       "Get updates on DM Content                         0.00\n",
       "City                                             39.71\n",
       "I agree to pay the amount through cheque          0.00\n",
       "A free copy of Mastering The Interview            0.00\n",
       "Last Notable Activity                             0.00\n",
       "dtype: float64"
      ]
     },
     "execution_count": 22,
     "metadata": {},
     "output_type": "execute_result"
    }
   ],
   "source": [
    "# Re-checking for null values in columns\n",
    "round(100*(leads.isnull().sum())/len(leads), 2)"
   ]
  },
  {
   "cell_type": "markdown",
   "metadata": {},
   "source": [
    "We can see that the columns **'Lead Source', 'TotalVisits', 'Country', 'Specialization', 'Page Views Per Visit', 'Last Activity, 'Lead Profile', 'City', 'What is your current occupation', 'What matters most to you in choosing a course', 'City'** still have null values.\n",
    "\n",
    "Before we handle these null values let's check for skewness in the categorical variables. "
   ]
  },
  {
   "cell_type": "markdown",
   "metadata": {},
   "source": [
    "### Skewness of Categories in Categorical Variables"
   ]
  },
  {
   "cell_type": "code",
   "execution_count": 23,
   "metadata": {
    "scrolled": false
   },
   "outputs": [
    {
     "data": {
      "text/plain": [
       "Prospect ID                                      9240\n",
       "Lead Number                                      9240\n",
       "Lead Origin                                         5\n",
       "Lead Source                                        21\n",
       "Do Not Email                                        2\n",
       "Do Not Call                                         2\n",
       "Converted                                           2\n",
       "TotalVisits                                        41\n",
       "Total Time Spent on Website                      1731\n",
       "Page Views Per Visit                              114\n",
       "Last Activity                                      17\n",
       "Country                                            38\n",
       "Specialization                                     18\n",
       "What is your current occupation                     6\n",
       "What matters most to you in choosing a course       3\n",
       "Search                                              2\n",
       "Magazine                                            1\n",
       "Newspaper Article                                   2\n",
       "X Education Forums                                  2\n",
       "Newspaper                                           2\n",
       "Digital Advertisement                               2\n",
       "Through Recommendations                             2\n",
       "Receive More Updates About Our Courses              1\n",
       "Update me on Supply Chain Content                   1\n",
       "Get updates on DM Content                           1\n",
       "City                                                6\n",
       "I agree to pay the amount through cheque            1\n",
       "A free copy of Mastering The Interview              2\n",
       "Last Notable Activity                              16\n",
       "dtype: int64"
      ]
     },
     "execution_count": 23,
     "metadata": {},
     "output_type": "execute_result"
    }
   ],
   "source": [
    "# Identifying the Categorical Variables\n",
    "leads.nunique()"
   ]
  },
  {
   "cell_type": "code",
   "execution_count": 24,
   "metadata": {
    "scrolled": false
   },
   "outputs": [
    {
     "data": {
      "text/plain": [
       "Landing Page Submission    0.528788\n",
       "API                        0.387446\n",
       "Lead Add Form              0.077706\n",
       "Lead Import                0.005952\n",
       "Quick Add Form             0.000108\n",
       "Name: Lead Origin, dtype: float64"
      ]
     },
     "execution_count": 24,
     "metadata": {},
     "output_type": "execute_result"
    }
   ],
   "source": [
    "# Checking for skewed data in 'Lead Origin'\n",
    "leads['Lead Origin'].value_counts(normalize=True)"
   ]
  },
  {
   "cell_type": "code",
   "execution_count": 25,
   "metadata": {
    "scrolled": true
   },
   "outputs": [
    {
     "data": {
      "text/plain": [
       "Landing Page Submission    4886\n",
       "API                        3580\n",
       "Lead Add Form               718\n",
       "Lead Import                  55\n",
       "Quick Add Form                1\n",
       "Name: Lead Origin, dtype: int64"
      ]
     },
     "execution_count": 25,
     "metadata": {},
     "output_type": "execute_result"
    }
   ],
   "source": [
    "leads['Lead Origin'].value_counts()"
   ]
  },
  {
   "cell_type": "markdown",
   "metadata": {},
   "source": [
    "We can see that the categories 'Lead Add Form', 'Lead Import' and 'Quick Add Form' have very less data as compared with other categories. Let's combine these categories to one Category - 'Others'"
   ]
  },
  {
   "cell_type": "code",
   "execution_count": 26,
   "metadata": {},
   "outputs": [],
   "source": [
    "# Combine the categories 'Lead Add Form', 'Lead Import' and 'Quick Add Form' to 'Other'\n",
    "leads.loc[leads['Lead Origin'] == 'Lead Add Form', 'Lead Origin'] = 'Others'\n",
    "leads.loc[leads['Lead Origin'] == 'Lead Import', 'Lead Origin'] = 'Others'\n",
    "leads.loc[leads['Lead Origin'] == 'Quick Add Form', 'Lead Origin'] = 'Others'"
   ]
  },
  {
   "cell_type": "code",
   "execution_count": 27,
   "metadata": {
    "scrolled": false
   },
   "outputs": [
    {
     "data": {
      "text/plain": [
       "Landing Page Submission    0.528788\n",
       "API                        0.387446\n",
       "Others                     0.083766\n",
       "Name: Lead Origin, dtype: float64"
      ]
     },
     "execution_count": 27,
     "metadata": {},
     "output_type": "execute_result"
    }
   ],
   "source": [
    "leads['Lead Origin'].value_counts(normalize = True)"
   ]
  },
  {
   "cell_type": "code",
   "execution_count": 28,
   "metadata": {
    "scrolled": false
   },
   "outputs": [
    {
     "data": {
      "text/plain": [
       "Google               0.311604\n",
       "Direct Traffic       0.276293\n",
       "Olark Chat           0.190678\n",
       "Organic Search       0.125380\n",
       "Reference            0.058018\n",
       "Welingak Website     0.015428\n",
       "Referral Sites       0.013581\n",
       "Facebook             0.005976\n",
       "bing                 0.000652\n",
       "google               0.000543\n",
       "Click2call           0.000435\n",
       "Live Chat            0.000217\n",
       "Social Media         0.000217\n",
       "Press_Release        0.000217\n",
       "blog                 0.000109\n",
       "testone              0.000109\n",
       "Pay per Click Ads    0.000109\n",
       "NC_EDM               0.000109\n",
       "youtubechannel       0.000109\n",
       "WeLearn              0.000109\n",
       "welearnblog_Home     0.000109\n",
       "Name: Lead Source, dtype: float64"
      ]
     },
     "execution_count": 28,
     "metadata": {},
     "output_type": "execute_result"
    }
   ],
   "source": [
    "# Checking for skewed data in 'Lead Origin'\n",
    "leads['Lead Source'].value_counts(normalize = True)"
   ]
  },
  {
   "cell_type": "markdown",
   "metadata": {},
   "source": [
    "We can see that there are two levels belonging to the Category - 'Google'. Let us first combine the two."
   ]
  },
  {
   "cell_type": "code",
   "execution_count": 29,
   "metadata": {},
   "outputs": [],
   "source": [
    "leads.loc[leads['Lead Source'] == 'google', 'Lead Source'] = 'Google'"
   ]
  },
  {
   "cell_type": "code",
   "execution_count": 30,
   "metadata": {
    "scrolled": false
   },
   "outputs": [
    {
     "data": {
      "text/plain": [
       "Google               0.312147\n",
       "Direct Traffic       0.276293\n",
       "Olark Chat           0.190678\n",
       "Organic Search       0.125380\n",
       "Reference            0.058018\n",
       "Welingak Website     0.015428\n",
       "Referral Sites       0.013581\n",
       "Facebook             0.005976\n",
       "bing                 0.000652\n",
       "Click2call           0.000435\n",
       "Social Media         0.000217\n",
       "Press_Release        0.000217\n",
       "Live Chat            0.000217\n",
       "blog                 0.000109\n",
       "testone              0.000109\n",
       "Pay per Click Ads    0.000109\n",
       "NC_EDM               0.000109\n",
       "youtubechannel       0.000109\n",
       "WeLearn              0.000109\n",
       "welearnblog_Home     0.000109\n",
       "Name: Lead Source, dtype: float64"
      ]
     },
     "execution_count": 30,
     "metadata": {},
     "output_type": "execute_result"
    }
   ],
   "source": [
    "leads['Lead Source'].value_counts(normalize=True)"
   ]
  },
  {
   "cell_type": "markdown",
   "metadata": {},
   "source": [
    "> We can see that all the levels in this column except 'Google', 'Direct Traffic', 'Olark Chat' and 'Organic Search' have very less data, so lets combine these categories to 'Others'"
   ]
  },
  {
   "cell_type": "code",
   "execution_count": 31,
   "metadata": {},
   "outputs": [],
   "source": [
    "# Combining categories with less data to Others\n",
    "leads.loc[leads['Lead Source'] == 'Reference', 'Lead Source'] = 'Others'\n",
    "leads.loc[leads['Lead Source'] == 'Welingak Website', 'Lead Source'] = 'Others'\n",
    "leads.loc[leads['Lead Source'] == 'Referral Sites', 'Lead Source'] = 'Others'\n",
    "leads.loc[leads['Lead Source'] == 'Facebook', 'Lead Source'] = 'Others'\n",
    "leads.loc[leads['Lead Source'] == 'bing', 'Lead Source'] = 'Others'\n",
    "leads.loc[leads['Lead Source'] == 'Click2call', 'Lead Source'] = 'Others'\n",
    "leads.loc[leads['Lead Source'] == 'Live Chat', 'Lead Source'] = 'Others'\n",
    "leads.loc[leads['Lead Source'] == 'WeLearn', 'Lead Source'] = 'Others'\n",
    "leads.loc[leads['Lead Source'] == 'welearnblog_Home', 'Lead Source'] = 'Others'\n",
    "leads.loc[leads['Lead Source'] == 'youtubechannel', 'Lead Source'] = 'Others'\n",
    "leads.loc[leads['Lead Source'] == 'testone', 'Lead Source'] = 'Others'\n",
    "leads.loc[leads['Lead Source'] == 'Pay per Click Ads', 'Lead Source'] = 'Others'\n",
    "leads.loc[leads['Lead Source'] == 'blog', 'Lead Source'] = 'Others'\n",
    "leads.loc[leads['Lead Source'] == 'Press_Release', 'Lead Source'] = 'Others'\n",
    "leads.loc[leads['Lead Source'] == 'testone', 'Lead Source'] = 'Others'\n",
    "leads.loc[leads['Lead Source'] == 'Social Media', 'Lead Source'] = 'Others'\n",
    "leads.loc[leads['Lead Source'] == 'NC_EDM', 'Lead Source'] = 'Others'"
   ]
  },
  {
   "cell_type": "code",
   "execution_count": 32,
   "metadata": {
    "scrolled": true
   },
   "outputs": [
    {
     "data": {
      "text/plain": [
       "Google            0.312147\n",
       "Direct Traffic    0.276293\n",
       "Olark Chat        0.190678\n",
       "Organic Search    0.125380\n",
       "Others            0.095502\n",
       "Name: Lead Source, dtype: float64"
      ]
     },
     "execution_count": 32,
     "metadata": {},
     "output_type": "execute_result"
    }
   ],
   "source": [
    "leads['Lead Source'].value_counts(normalize=True)"
   ]
  },
  {
   "cell_type": "code",
   "execution_count": 33,
   "metadata": {
    "scrolled": false
   },
   "outputs": [
    {
     "data": {
      "text/plain": [
       "India                   0.957663\n",
       "United States           0.010178\n",
       "United Arab Emirates    0.007818\n",
       "Singapore               0.003540\n",
       "Saudi Arabia            0.003098\n",
       "United Kingdom          0.002213\n",
       "Australia               0.001918\n",
       "Qatar                   0.001475\n",
       "Bahrain                 0.001033\n",
       "Hong Kong               0.001033\n",
       "Oman                    0.000885\n",
       "France                  0.000885\n",
       "unknown                 0.000738\n",
       "Canada                  0.000590\n",
       "South Africa            0.000590\n",
       "Germany                 0.000590\n",
       "Nigeria                 0.000590\n",
       "Kuwait                  0.000590\n",
       "Sweden                  0.000443\n",
       "Uganda                  0.000295\n",
       "Italy                   0.000295\n",
       "China                   0.000295\n",
       "Netherlands             0.000295\n",
       "Philippines             0.000295\n",
       "Ghana                   0.000295\n",
       "Asia/Pacific Region     0.000295\n",
       "Belgium                 0.000295\n",
       "Bangladesh              0.000295\n",
       "Sri Lanka               0.000148\n",
       "Liberia                 0.000148\n",
       "Kenya                   0.000148\n",
       "Russia                  0.000148\n",
       "Malaysia                0.000148\n",
       "Indonesia               0.000148\n",
       "Denmark                 0.000148\n",
       "Tanzania                0.000148\n",
       "Switzerland             0.000148\n",
       "Vietnam                 0.000148\n",
       "Name: Country, dtype: float64"
      ]
     },
     "execution_count": 33,
     "metadata": {},
     "output_type": "execute_result"
    }
   ],
   "source": [
    "# Checking for skewness in the COUNTRY column\n",
    "leads['Country'].value_counts(normalize=True)"
   ]
  },
  {
   "cell_type": "markdown",
   "metadata": {},
   "source": [
    "We can see that the data is highly skewed in the Country column as 95% of the values belong to 'India', let us drop this column as using this column to build the model would wrongly influence results. "
   ]
  },
  {
   "cell_type": "code",
   "execution_count": 34,
   "metadata": {},
   "outputs": [],
   "source": [
    "leads = leads.drop(['Country'], axis = 1)"
   ]
  },
  {
   "cell_type": "code",
   "execution_count": 35,
   "metadata": {},
   "outputs": [
    {
     "name": "stdout",
     "output_type": "stream",
     "text": [
      "<class 'pandas.core.frame.DataFrame'>\n",
      "RangeIndex: 9240 entries, 0 to 9239\n",
      "Data columns (total 28 columns):\n",
      " #   Column                                         Non-Null Count  Dtype  \n",
      "---  ------                                         --------------  -----  \n",
      " 0   Prospect ID                                    9240 non-null   object \n",
      " 1   Lead Number                                    9240 non-null   int64  \n",
      " 2   Lead Origin                                    9240 non-null   object \n",
      " 3   Lead Source                                    9204 non-null   object \n",
      " 4   Do Not Email                                   9240 non-null   object \n",
      " 5   Do Not Call                                    9240 non-null   object \n",
      " 6   Converted                                      9240 non-null   int64  \n",
      " 7   TotalVisits                                    9103 non-null   float64\n",
      " 8   Total Time Spent on Website                    9240 non-null   int64  \n",
      " 9   Page Views Per Visit                           9103 non-null   float64\n",
      " 10  Last Activity                                  9137 non-null   object \n",
      " 11  Specialization                                 5860 non-null   object \n",
      " 12  What is your current occupation                6550 non-null   object \n",
      " 13  What matters most to you in choosing a course  6531 non-null   object \n",
      " 14  Search                                         9240 non-null   object \n",
      " 15  Magazine                                       9240 non-null   object \n",
      " 16  Newspaper Article                              9240 non-null   object \n",
      " 17  X Education Forums                             9240 non-null   object \n",
      " 18  Newspaper                                      9240 non-null   object \n",
      " 19  Digital Advertisement                          9240 non-null   object \n",
      " 20  Through Recommendations                        9240 non-null   object \n",
      " 21  Receive More Updates About Our Courses         9240 non-null   object \n",
      " 22  Update me on Supply Chain Content              9240 non-null   object \n",
      " 23  Get updates on DM Content                      9240 non-null   object \n",
      " 24  City                                           5571 non-null   object \n",
      " 25  I agree to pay the amount through cheque       9240 non-null   object \n",
      " 26  A free copy of Mastering The Interview         9240 non-null   object \n",
      " 27  Last Notable Activity                          9240 non-null   object \n",
      "dtypes: float64(2), int64(3), object(23)\n",
      "memory usage: 2.0+ MB\n"
     ]
    }
   ],
   "source": [
    "leads.info()"
   ]
  },
  {
   "cell_type": "code",
   "execution_count": 36,
   "metadata": {},
   "outputs": [
    {
     "data": {
      "text/plain": [
       "Prospect ID                                      9240\n",
       "Lead Number                                      9240\n",
       "Lead Origin                                         3\n",
       "Lead Source                                         5\n",
       "Do Not Email                                        2\n",
       "Do Not Call                                         2\n",
       "Converted                                           2\n",
       "TotalVisits                                        41\n",
       "Total Time Spent on Website                      1731\n",
       "Page Views Per Visit                              114\n",
       "Last Activity                                      17\n",
       "Specialization                                     18\n",
       "What is your current occupation                     6\n",
       "What matters most to you in choosing a course       3\n",
       "Search                                              2\n",
       "Magazine                                            1\n",
       "Newspaper Article                                   2\n",
       "X Education Forums                                  2\n",
       "Newspaper                                           2\n",
       "Digital Advertisement                               2\n",
       "Through Recommendations                             2\n",
       "Receive More Updates About Our Courses              1\n",
       "Update me on Supply Chain Content                   1\n",
       "Get updates on DM Content                           1\n",
       "City                                                6\n",
       "I agree to pay the amount through cheque            1\n",
       "A free copy of Mastering The Interview              2\n",
       "Last Notable Activity                              16\n",
       "dtype: int64"
      ]
     },
     "execution_count": 36,
     "metadata": {},
     "output_type": "execute_result"
    }
   ],
   "source": [
    "# Checking for categorical variables again\n",
    "leads.nunique()"
   ]
  },
  {
   "cell_type": "code",
   "execution_count": 37,
   "metadata": {
    "scrolled": true
   },
   "outputs": [
    {
     "data": {
      "text/plain": [
       "Email Opened                    0.376163\n",
       "SMS Sent                        0.300427\n",
       "Olark Chat Conversation         0.106490\n",
       "Page Visited on Website         0.070045\n",
       "Converted to Lead               0.046843\n",
       "Email Bounced                   0.035679\n",
       "Email Link Clicked              0.029222\n",
       "Form Submitted on Website       0.012696\n",
       "Unreachable                     0.010178\n",
       "Unsubscribed                    0.006676\n",
       "Had a Phone Conversation        0.003283\n",
       "Approached upfront              0.000985\n",
       "View in browser link Clicked    0.000657\n",
       "Email Marked Spam               0.000219\n",
       "Email Received                  0.000219\n",
       "Visited Booth in Tradeshow      0.000109\n",
       "Resubscribed to emails          0.000109\n",
       "Name: Last Activity, dtype: float64"
      ]
     },
     "execution_count": 37,
     "metadata": {},
     "output_type": "execute_result"
    }
   ],
   "source": [
    "# Checking for skewness in the 'Last Activity' column\n",
    "leads['Last Activity'].value_counts(normalize=True)"
   ]
  },
  {
   "cell_type": "code",
   "execution_count": 38,
   "metadata": {},
   "outputs": [
    {
     "data": {
      "text/plain": [
       "Modified                        0.368723\n",
       "Email Opened                    0.305952\n",
       "SMS Sent                        0.235065\n",
       "Page Visited on Website         0.034416\n",
       "Olark Chat Conversation         0.019805\n",
       "Email Link Clicked              0.018723\n",
       "Email Bounced                   0.006494\n",
       "Unsubscribed                    0.005087\n",
       "Unreachable                     0.003463\n",
       "Had a Phone Conversation        0.001515\n",
       "Email Marked Spam               0.000216\n",
       "View in browser link Clicked    0.000108\n",
       "Email Received                  0.000108\n",
       "Approached upfront              0.000108\n",
       "Form Submitted on Website       0.000108\n",
       "Resubscribed to emails          0.000108\n",
       "Name: Last Notable Activity, dtype: float64"
      ]
     },
     "execution_count": 38,
     "metadata": {},
     "output_type": "execute_result"
    }
   ],
   "source": [
    "leads['Last Notable Activity'].value_counts(normalize=True)"
   ]
  },
  {
   "cell_type": "code",
   "execution_count": 39,
   "metadata": {},
   "outputs": [],
   "source": [
    "# Removing the column due to data imbalance.\n",
    "leads = leads.drop(['Last Activity'], axis = 1)"
   ]
  },
  {
   "cell_type": "code",
   "execution_count": 40,
   "metadata": {},
   "outputs": [
    {
     "name": "stdout",
     "output_type": "stream",
     "text": [
      "<class 'pandas.core.frame.DataFrame'>\n",
      "RangeIndex: 9240 entries, 0 to 9239\n",
      "Data columns (total 27 columns):\n",
      " #   Column                                         Non-Null Count  Dtype  \n",
      "---  ------                                         --------------  -----  \n",
      " 0   Prospect ID                                    9240 non-null   object \n",
      " 1   Lead Number                                    9240 non-null   int64  \n",
      " 2   Lead Origin                                    9240 non-null   object \n",
      " 3   Lead Source                                    9204 non-null   object \n",
      " 4   Do Not Email                                   9240 non-null   object \n",
      " 5   Do Not Call                                    9240 non-null   object \n",
      " 6   Converted                                      9240 non-null   int64  \n",
      " 7   TotalVisits                                    9103 non-null   float64\n",
      " 8   Total Time Spent on Website                    9240 non-null   int64  \n",
      " 9   Page Views Per Visit                           9103 non-null   float64\n",
      " 10  Specialization                                 5860 non-null   object \n",
      " 11  What is your current occupation                6550 non-null   object \n",
      " 12  What matters most to you in choosing a course  6531 non-null   object \n",
      " 13  Search                                         9240 non-null   object \n",
      " 14  Magazine                                       9240 non-null   object \n",
      " 15  Newspaper Article                              9240 non-null   object \n",
      " 16  X Education Forums                             9240 non-null   object \n",
      " 17  Newspaper                                      9240 non-null   object \n",
      " 18  Digital Advertisement                          9240 non-null   object \n",
      " 19  Through Recommendations                        9240 non-null   object \n",
      " 20  Receive More Updates About Our Courses         9240 non-null   object \n",
      " 21  Update me on Supply Chain Content              9240 non-null   object \n",
      " 22  Get updates on DM Content                      9240 non-null   object \n",
      " 23  City                                           5571 non-null   object \n",
      " 24  I agree to pay the amount through cheque       9240 non-null   object \n",
      " 25  A free copy of Mastering The Interview         9240 non-null   object \n",
      " 26  Last Notable Activity                          9240 non-null   object \n",
      "dtypes: float64(2), int64(3), object(22)\n",
      "memory usage: 1.9+ MB\n"
     ]
    }
   ],
   "source": [
    "leads.info()"
   ]
  },
  {
   "cell_type": "code",
   "execution_count": 41,
   "metadata": {
    "scrolled": false
   },
   "outputs": [
    {
     "data": {
      "text/plain": [
       "Finance Management                   0.166553\n",
       "Human Resource Management            0.144710\n",
       "Marketing Management                 0.143003\n",
       "Operations Management                0.085836\n",
       "Business Administration              0.068771\n",
       "IT Projects Management               0.062457\n",
       "Supply Chain Management              0.059556\n",
       "Banking, Investment And Insurance    0.057679\n",
       "Media and Advertising                0.034642\n",
       "Travel and Tourism                   0.034642\n",
       "International Business               0.030375\n",
       "Healthcare Management                0.027133\n",
       "Hospitality Management               0.019454\n",
       "E-COMMERCE                           0.019113\n",
       "Retail Management                    0.017065\n",
       "Rural and Agribusiness               0.012457\n",
       "E-Business                           0.009727\n",
       "Services Excellence                  0.006826\n",
       "Name: Specialization, dtype: float64"
      ]
     },
     "execution_count": 41,
     "metadata": {},
     "output_type": "execute_result"
    }
   ],
   "source": [
    "# Checking for skewness in the 'Specialization' column\n",
    "leads['Specialization'].value_counts(normalize = True)"
   ]
  },
  {
   "cell_type": "markdown",
   "metadata": {},
   "source": [
    ">No significant skewness found."
   ]
  },
  {
   "cell_type": "code",
   "execution_count": 42,
   "metadata": {},
   "outputs": [
    {
     "data": {
      "text/plain": [
       "Unemployed              0.854962\n",
       "Working Professional    0.107786\n",
       "Student                 0.032061\n",
       "Other                   0.002443\n",
       "Housewife               0.001527\n",
       "Businessman             0.001221\n",
       "Name: What is your current occupation, dtype: float64"
      ]
     },
     "execution_count": 42,
     "metadata": {},
     "output_type": "execute_result"
    }
   ],
   "source": [
    "# Checking for skewness in the 'What is your current occupation' column\n",
    "leads['What is your current occupation'].value_counts(normalize = True)"
   ]
  },
  {
   "cell_type": "markdown",
   "metadata": {},
   "source": [
    "1. We can see that the data is highly skewed.\n",
    "2. Lets replace the categories Student, Housewife and Businessman to 'Other' as it has very less data."
   ]
  },
  {
   "cell_type": "code",
   "execution_count": 43,
   "metadata": {},
   "outputs": [],
   "source": [
    "# Combining categories with less data to 'Other'\n",
    "leads.loc[leads['What is your current occupation'] == 'Student', 'What is your current occupation'] = 'Other'\n",
    "leads.loc[leads['What is your current occupation'] == 'Housewife', 'What is your current occupation'] = 'Other'\n",
    "leads.loc[leads['What is your current occupation'] == 'Businessman', 'What is your current occupation'] = 'Other'"
   ]
  },
  {
   "cell_type": "code",
   "execution_count": 44,
   "metadata": {
    "scrolled": true
   },
   "outputs": [
    {
     "data": {
      "text/plain": [
       "Unemployed              0.854962\n",
       "Working Professional    0.107786\n",
       "Other                   0.037252\n",
       "Name: What is your current occupation, dtype: float64"
      ]
     },
     "execution_count": 44,
     "metadata": {},
     "output_type": "execute_result"
    }
   ],
   "source": [
    "leads['What is your current occupation'].value_counts(normalize = True)"
   ]
  },
  {
   "cell_type": "code",
   "execution_count": 45,
   "metadata": {
    "scrolled": true
   },
   "outputs": [
    {
     "data": {
      "text/plain": [
       "Better Career Prospects      0.999541\n",
       "Flexibility & Convenience    0.000306\n",
       "Other                        0.000153\n",
       "Name: What matters most to you in choosing a course, dtype: float64"
      ]
     },
     "execution_count": 45,
     "metadata": {},
     "output_type": "execute_result"
    }
   ],
   "source": [
    "# Checking for skewness in the 'What matters most to you in choosing a course' column\n",
    "leads['What matters most to you in choosing a course'].value_counts(normalize=True)"
   ]
  },
  {
   "cell_type": "markdown",
   "metadata": {},
   "source": [
    "> **We can see that the data here is highly skewed. We can drop this column.**"
   ]
  },
  {
   "cell_type": "code",
   "execution_count": 46,
   "metadata": {},
   "outputs": [],
   "source": [
    "leads = leads.drop(['What matters most to you in choosing a course'], axis = 1)"
   ]
  },
  {
   "cell_type": "code",
   "execution_count": 47,
   "metadata": {},
   "outputs": [
    {
     "name": "stdout",
     "output_type": "stream",
     "text": [
      "<class 'pandas.core.frame.DataFrame'>\n",
      "RangeIndex: 9240 entries, 0 to 9239\n",
      "Data columns (total 26 columns):\n",
      " #   Column                                    Non-Null Count  Dtype  \n",
      "---  ------                                    --------------  -----  \n",
      " 0   Prospect ID                               9240 non-null   object \n",
      " 1   Lead Number                               9240 non-null   int64  \n",
      " 2   Lead Origin                               9240 non-null   object \n",
      " 3   Lead Source                               9204 non-null   object \n",
      " 4   Do Not Email                              9240 non-null   object \n",
      " 5   Do Not Call                               9240 non-null   object \n",
      " 6   Converted                                 9240 non-null   int64  \n",
      " 7   TotalVisits                               9103 non-null   float64\n",
      " 8   Total Time Spent on Website               9240 non-null   int64  \n",
      " 9   Page Views Per Visit                      9103 non-null   float64\n",
      " 10  Specialization                            5860 non-null   object \n",
      " 11  What is your current occupation           6550 non-null   object \n",
      " 12  Search                                    9240 non-null   object \n",
      " 13  Magazine                                  9240 non-null   object \n",
      " 14  Newspaper Article                         9240 non-null   object \n",
      " 15  X Education Forums                        9240 non-null   object \n",
      " 16  Newspaper                                 9240 non-null   object \n",
      " 17  Digital Advertisement                     9240 non-null   object \n",
      " 18  Through Recommendations                   9240 non-null   object \n",
      " 19  Receive More Updates About Our Courses    9240 non-null   object \n",
      " 20  Update me on Supply Chain Content         9240 non-null   object \n",
      " 21  Get updates on DM Content                 9240 non-null   object \n",
      " 22  City                                      5571 non-null   object \n",
      " 23  I agree to pay the amount through cheque  9240 non-null   object \n",
      " 24  A free copy of Mastering The Interview    9240 non-null   object \n",
      " 25  Last Notable Activity                     9240 non-null   object \n",
      "dtypes: float64(2), int64(3), object(21)\n",
      "memory usage: 1.8+ MB\n"
     ]
    }
   ],
   "source": [
    "leads.info()"
   ]
  },
  {
   "cell_type": "code",
   "execution_count": 48,
   "metadata": {
    "scrolled": false
   },
   "outputs": [
    {
     "data": {
      "text/plain": [
       "Mumbai                         0.578352\n",
       "Thane & Outskirts              0.134985\n",
       "Other Cities                   0.123138\n",
       "Other Cities of Maharashtra    0.082032\n",
       "Other Metro Cities             0.068210\n",
       "Tier II Cities                 0.013283\n",
       "Name: City, dtype: float64"
      ]
     },
     "execution_count": 48,
     "metadata": {},
     "output_type": "execute_result"
    }
   ],
   "source": [
    "# Checking skewness in City column\n",
    "leads['City'].value_counts(normalize = True)"
   ]
  },
  {
   "cell_type": "markdown",
   "metadata": {},
   "source": [
    "> We can see that the level 'Other Cities of Maharashtra' and 'Thane & Outskirts' are similar. Let's replace the level 'Thane & Outskirts' to 'Other Cities of Maharashtra'"
   ]
  },
  {
   "cell_type": "code",
   "execution_count": 49,
   "metadata": {},
   "outputs": [],
   "source": [
    "# Renaming the level\n",
    "leads.loc[leads['City'] == 'Thane & Outskirts', 'City'] = 'Other Cities of Maharashtra'"
   ]
  },
  {
   "cell_type": "markdown",
   "metadata": {},
   "source": [
    "> Lets combine the levels 'Other Metro Cities and Tier II Cities to 'Other Cities', as they have very less data."
   ]
  },
  {
   "cell_type": "code",
   "execution_count": 50,
   "metadata": {},
   "outputs": [],
   "source": [
    "leads.loc[leads['City'] == 'Other Metro Cities', 'City'] = 'Other Cities'\n",
    "leads.loc[leads['City'] == 'Tier II Cities', 'City'] = 'Other Cities'"
   ]
  },
  {
   "cell_type": "code",
   "execution_count": 51,
   "metadata": {},
   "outputs": [
    {
     "data": {
      "text/plain": [
       "Mumbai                         0.578352\n",
       "Other Cities of Maharashtra    0.217017\n",
       "Other Cities                   0.204631\n",
       "Name: City, dtype: float64"
      ]
     },
     "execution_count": 51,
     "metadata": {},
     "output_type": "execute_result"
    }
   ],
   "source": [
    "leads['City'].value_counts(normalize=True)"
   ]
  },
  {
   "cell_type": "code",
   "execution_count": 52,
   "metadata": {},
   "outputs": [
    {
     "data": {
      "text/plain": [
       "Modified                        0.368723\n",
       "Email Opened                    0.305952\n",
       "SMS Sent                        0.235065\n",
       "Page Visited on Website         0.034416\n",
       "Olark Chat Conversation         0.019805\n",
       "Email Link Clicked              0.018723\n",
       "Email Bounced                   0.006494\n",
       "Unsubscribed                    0.005087\n",
       "Unreachable                     0.003463\n",
       "Had a Phone Conversation        0.001515\n",
       "Email Marked Spam               0.000216\n",
       "View in browser link Clicked    0.000108\n",
       "Email Received                  0.000108\n",
       "Approached upfront              0.000108\n",
       "Form Submitted on Website       0.000108\n",
       "Resubscribed to emails          0.000108\n",
       "Name: Last Notable Activity, dtype: float64"
      ]
     },
     "execution_count": 52,
     "metadata": {},
     "output_type": "execute_result"
    }
   ],
   "source": [
    "# Checking skewness in City column\n",
    "leads['Last Notable Activity'].value_counts(normalize = True)"
   ]
  },
  {
   "cell_type": "markdown",
   "metadata": {},
   "source": [
    "> We can see that all the levels except 'Modified, Email Opened and SMS Sent' have very less data, so lets combine those levels to 'Other'"
   ]
  },
  {
   "cell_type": "code",
   "execution_count": 53,
   "metadata": {},
   "outputs": [],
   "source": [
    "# Combining categories with less data to Others\n",
    "leads.loc[leads['Last Notable Activity'] == 'Page Visited on Website', 'Last Notable Activity'] = 'Others'\n",
    "leads.loc[leads['Last Notable Activity'] == 'Olark Chat Conversation', 'Last Notable Activity'] = 'Others'\n",
    "leads.loc[leads['Last Notable Activity'] == 'Email Link Clicked', 'Last Notable Activity'] = 'Others'\n",
    "leads.loc[leads['Last Notable Activity'] == 'Email Bounce', 'Last Notable Activity'] = 'Others'\n",
    "leads.loc[leads['Last Notable Activity'] == 'Unsubscribed', 'Last Notable Activity'] = 'Others'\n",
    "leads.loc[leads['Last Notable Activity'] == 'Unreachable', 'Last Notable Activity'] = 'Others'\n",
    "leads.loc[leads['Last Notable Activity'] == 'Had a Phone Conversation', 'Last Notable Activity'] = 'Others'\n",
    "leads.loc[leads['Last Notable Activity'] == 'Email Marked Spam', 'Last Notable Activity'] = 'Others'\n",
    "leads.loc[leads['Last Notable Activity'] == 'Resubscribed to emails', 'Last Notable Activity'] = 'Others'\n",
    "leads.loc[leads['Last Notable Activity'] == 'View in browser link Clicked', 'Last Notable Activity'] = 'Others'\n",
    "leads.loc[leads['Last Notable Activity'] == 'Approached upfront', 'Last Notable Activity'] = 'Others'\n",
    "leads.loc[leads['Last Notable Activity'] == 'Email Received', 'Last Notable Activity'] = 'Others'\n",
    "leads.loc[leads['Last Notable Activity'] == 'Email Bounced', 'Last Notable Activity'] = 'Others'\n",
    "leads.loc[leads['Last Notable Activity'] == 'Form Submitted on Website', 'Last Notable Activity'] = 'Others'"
   ]
  },
  {
   "cell_type": "code",
   "execution_count": 54,
   "metadata": {},
   "outputs": [
    {
     "data": {
      "text/plain": [
       "Modified        0.368723\n",
       "Email Opened    0.305952\n",
       "SMS Sent        0.235065\n",
       "Others          0.090260\n",
       "Name: Last Notable Activity, dtype: float64"
      ]
     },
     "execution_count": 54,
     "metadata": {},
     "output_type": "execute_result"
    }
   ],
   "source": [
    "leads['Last Notable Activity'].value_counts(normalize=True)"
   ]
  },
  {
   "cell_type": "markdown",
   "metadata": {},
   "source": [
    "### Checking for skewness in binary variables"
   ]
  },
  {
   "cell_type": "code",
   "execution_count": 55,
   "metadata": {},
   "outputs": [
    {
     "data": {
      "text/plain": [
       "No     0.920563\n",
       "Yes    0.079437\n",
       "Name: Do Not Email, dtype: float64"
      ]
     },
     "execution_count": 55,
     "metadata": {},
     "output_type": "execute_result"
    }
   ],
   "source": [
    "leads['Do Not Email'].value_counts(normalize=True)"
   ]
  },
  {
   "cell_type": "code",
   "execution_count": 56,
   "metadata": {},
   "outputs": [],
   "source": [
    "leads = leads.drop(['Do Not Email'], axis = 1)"
   ]
  },
  {
   "cell_type": "code",
   "execution_count": 57,
   "metadata": {
    "scrolled": true
   },
   "outputs": [
    {
     "data": {
      "text/plain": [
       "No     0.999784\n",
       "Yes    0.000216\n",
       "Name: Do Not Call, dtype: float64"
      ]
     },
     "execution_count": 57,
     "metadata": {},
     "output_type": "execute_result"
    }
   ],
   "source": [
    "leads['Do Not Call'].value_counts(normalize=True)"
   ]
  },
  {
   "cell_type": "code",
   "execution_count": 58,
   "metadata": {},
   "outputs": [],
   "source": [
    "leads = leads.drop(['Do Not Call'], axis = 1)"
   ]
  },
  {
   "cell_type": "code",
   "execution_count": 59,
   "metadata": {
    "scrolled": false
   },
   "outputs": [
    {
     "data": {
      "text/plain": [
       "No     0.998485\n",
       "Yes    0.001515\n",
       "Name: Search, dtype: float64"
      ]
     },
     "execution_count": 59,
     "metadata": {},
     "output_type": "execute_result"
    }
   ],
   "source": [
    "leads['Search'].value_counts(normalize=True)"
   ]
  },
  {
   "cell_type": "code",
   "execution_count": 60,
   "metadata": {},
   "outputs": [],
   "source": [
    "leads = leads.drop(['Search'], axis = 1)"
   ]
  },
  {
   "cell_type": "code",
   "execution_count": 61,
   "metadata": {
    "scrolled": true
   },
   "outputs": [
    {
     "data": {
      "text/plain": [
       "No    9240\n",
       "Name: Magazine, dtype: int64"
      ]
     },
     "execution_count": 61,
     "metadata": {},
     "output_type": "execute_result"
    }
   ],
   "source": [
    "leads['Magazine'].value_counts()"
   ]
  },
  {
   "cell_type": "code",
   "execution_count": 62,
   "metadata": {},
   "outputs": [],
   "source": [
    "leads = leads.drop(['Magazine'], axis = 1)"
   ]
  },
  {
   "cell_type": "code",
   "execution_count": 63,
   "metadata": {
    "scrolled": true
   },
   "outputs": [
    {
     "data": {
      "text/plain": [
       "No     0.999784\n",
       "Yes    0.000216\n",
       "Name: Newspaper Article, dtype: float64"
      ]
     },
     "execution_count": 63,
     "metadata": {},
     "output_type": "execute_result"
    }
   ],
   "source": [
    "leads['Newspaper Article'].value_counts(normalize=True)"
   ]
  },
  {
   "cell_type": "code",
   "execution_count": 64,
   "metadata": {},
   "outputs": [],
   "source": [
    "leads = leads.drop(['Newspaper Article'], axis = 1)"
   ]
  },
  {
   "cell_type": "code",
   "execution_count": 65,
   "metadata": {
    "scrolled": true
   },
   "outputs": [
    {
     "data": {
      "text/plain": [
       "No     9239\n",
       "Yes       1\n",
       "Name: X Education Forums, dtype: int64"
      ]
     },
     "execution_count": 65,
     "metadata": {},
     "output_type": "execute_result"
    }
   ],
   "source": [
    "leads['X Education Forums'].value_counts()"
   ]
  },
  {
   "cell_type": "code",
   "execution_count": 66,
   "metadata": {},
   "outputs": [],
   "source": [
    "leads = leads.drop(['X Education Forums'], axis = 1)"
   ]
  },
  {
   "cell_type": "code",
   "execution_count": 67,
   "metadata": {
    "scrolled": true
   },
   "outputs": [
    {
     "data": {
      "text/plain": [
       "No     0.999567\n",
       "Yes    0.000433\n",
       "Name: Digital Advertisement, dtype: float64"
      ]
     },
     "execution_count": 67,
     "metadata": {},
     "output_type": "execute_result"
    }
   ],
   "source": [
    "leads['Digital Advertisement'].value_counts(normalize = True)"
   ]
  },
  {
   "cell_type": "code",
   "execution_count": 68,
   "metadata": {},
   "outputs": [],
   "source": [
    "leads = leads.drop(['Digital Advertisement'], axis = 1)"
   ]
  },
  {
   "cell_type": "code",
   "execution_count": 69,
   "metadata": {
    "scrolled": true
   },
   "outputs": [
    {
     "data": {
      "text/plain": [
       "No     0.999892\n",
       "Yes    0.000108\n",
       "Name: Newspaper, dtype: float64"
      ]
     },
     "execution_count": 69,
     "metadata": {},
     "output_type": "execute_result"
    }
   ],
   "source": [
    "leads['Newspaper'].value_counts(normalize=True)"
   ]
  },
  {
   "cell_type": "code",
   "execution_count": 70,
   "metadata": {},
   "outputs": [],
   "source": [
    "leads = leads.drop(['Newspaper'], axis =1)"
   ]
  },
  {
   "cell_type": "code",
   "execution_count": 71,
   "metadata": {
    "scrolled": true
   },
   "outputs": [
    {
     "data": {
      "text/plain": [
       "No     0.999242\n",
       "Yes    0.000758\n",
       "Name: Through Recommendations, dtype: float64"
      ]
     },
     "execution_count": 71,
     "metadata": {},
     "output_type": "execute_result"
    }
   ],
   "source": [
    "leads['Through Recommendations'].value_counts(normalize=True)"
   ]
  },
  {
   "cell_type": "code",
   "execution_count": 72,
   "metadata": {},
   "outputs": [],
   "source": [
    "leads = leads.drop(['Through Recommendations'], axis = 1)"
   ]
  },
  {
   "cell_type": "code",
   "execution_count": 73,
   "metadata": {
    "scrolled": true
   },
   "outputs": [
    {
     "data": {
      "text/plain": [
       "No    9240\n",
       "Name: Receive More Updates About Our Courses, dtype: int64"
      ]
     },
     "execution_count": 73,
     "metadata": {},
     "output_type": "execute_result"
    }
   ],
   "source": [
    "leads['Receive More Updates About Our Courses'].value_counts()"
   ]
  },
  {
   "cell_type": "code",
   "execution_count": 74,
   "metadata": {},
   "outputs": [],
   "source": [
    "leads = leads.drop(['Receive More Updates About Our Courses'], axis = 1)"
   ]
  },
  {
   "cell_type": "markdown",
   "metadata": {},
   "source": [
    "> As we can see the binary variables **Search, Magazine, Newspaper Article, X Education Forums, Newspaper, Digital, Advertisement, Through Recommendations, Receive More Updates About Our Courses** have been dropped as these variables were highly skewed."
   ]
  },
  {
   "cell_type": "code",
   "execution_count": 75,
   "metadata": {},
   "outputs": [],
   "source": [
    "# Dropping variables with just one category as it would influence the data.\n",
    "leads = leads.drop(['Update me on Supply Chain Content','Get updates on DM Content',\n",
    "                    'I agree to pay the amount through cheque'], axis = 1)"
   ]
  },
  {
   "cell_type": "code",
   "execution_count": 76,
   "metadata": {
    "scrolled": true
   },
   "outputs": [
    {
     "data": {
      "text/plain": [
       "No     0.687446\n",
       "Yes    0.312554\n",
       "Name: A free copy of Mastering The Interview, dtype: float64"
      ]
     },
     "execution_count": 76,
     "metadata": {},
     "output_type": "execute_result"
    }
   ],
   "source": [
    "# Checking for skewness in 'A free copy of Mastering The Interview'\n",
    "leads['A free copy of Mastering The Interview'].value_counts(normalize=True)"
   ]
  },
  {
   "cell_type": "markdown",
   "metadata": {},
   "source": [
    "> No skewed data in the column A free copy of Mastering The Interview."
   ]
  },
  {
   "cell_type": "markdown",
   "metadata": {},
   "source": [
    "### Re-checking the Null Values"
   ]
  },
  {
   "cell_type": "code",
   "execution_count": 77,
   "metadata": {
    "scrolled": true
   },
   "outputs": [
    {
     "data": {
      "text/plain": [
       "Prospect ID                                0.00\n",
       "Lead Number                                0.00\n",
       "Lead Origin                                0.00\n",
       "Lead Source                                0.39\n",
       "Converted                                  0.00\n",
       "TotalVisits                                1.48\n",
       "Total Time Spent on Website                0.00\n",
       "Page Views Per Visit                       1.48\n",
       "Specialization                            36.58\n",
       "What is your current occupation           29.11\n",
       "City                                      39.71\n",
       "A free copy of Mastering The Interview     0.00\n",
       "Last Notable Activity                      0.00\n",
       "dtype: float64"
      ]
     },
     "execution_count": 77,
     "metadata": {},
     "output_type": "execute_result"
    }
   ],
   "source": [
    "# Re-Checking for null values in columns\n",
    "round(100*(leads.isnull().sum())/len(leads), 2)"
   ]
  },
  {
   "cell_type": "markdown",
   "metadata": {},
   "source": [
    "We can see that the columns **Specialization, What is your current occupation, City** have more than 10% of null values."
   ]
  },
  {
   "cell_type": "code",
   "execution_count": 78,
   "metadata": {
    "scrolled": false
   },
   "outputs": [
    {
     "data": {
      "text/plain": [
       "Unemployed              0.854962\n",
       "Working Professional    0.107786\n",
       "Other                   0.037252\n",
       "Name: What is your current occupation, dtype: float64"
      ]
     },
     "execution_count": 78,
     "metadata": {},
     "output_type": "execute_result"
    }
   ],
   "source": [
    "# Checking the data of column - What is your current occupation, to impute appropriate null values.\n",
    "leads['What is your current occupation'].value_counts(normalize=True)"
   ]
  },
  {
   "cell_type": "code",
   "execution_count": 79,
   "metadata": {},
   "outputs": [
    {
     "data": {
      "text/plain": [
       "count           6550\n",
       "unique             3\n",
       "top       Unemployed\n",
       "freq            5600\n",
       "Name: What is your current occupation, dtype: object"
      ]
     },
     "execution_count": 79,
     "metadata": {},
     "output_type": "execute_result"
    }
   ],
   "source": [
    "leads['What is your current occupation'].describe()"
   ]
  },
  {
   "cell_type": "markdown",
   "metadata": {},
   "source": [
    "We can clearly see that most of the values in this column are 'Unemployed', hence we can impute null values in this data to 'Unemployed' based on Mode Imputation."
   ]
  },
  {
   "cell_type": "code",
   "execution_count": 80,
   "metadata": {},
   "outputs": [],
   "source": [
    "# Imputing the null values\n",
    "leads['What is your current occupation'] = leads['What is your current occupation'].replace(to_replace = np.nan, value = 'Unemployed')"
   ]
  },
  {
   "cell_type": "code",
   "execution_count": 81,
   "metadata": {},
   "outputs": [
    {
     "data": {
      "text/plain": [
       "Prospect ID                                0.00\n",
       "Lead Number                                0.00\n",
       "Lead Origin                                0.00\n",
       "Lead Source                                0.39\n",
       "Converted                                  0.00\n",
       "TotalVisits                                1.48\n",
       "Total Time Spent on Website                0.00\n",
       "Page Views Per Visit                       1.48\n",
       "Specialization                            36.58\n",
       "What is your current occupation            0.00\n",
       "City                                      39.71\n",
       "A free copy of Mastering The Interview     0.00\n",
       "Last Notable Activity                      0.00\n",
       "dtype: float64"
      ]
     },
     "execution_count": 81,
     "metadata": {},
     "output_type": "execute_result"
    }
   ],
   "source": [
    "# Re-Checking for null values in columns\n",
    "round(100*(leads.isnull().sum())/len(leads), 2)"
   ]
  },
  {
   "cell_type": "markdown",
   "metadata": {},
   "source": [
    "#### Imputing missing values in the column - Specialization\n",
    "> There are chances that the customer might have not chosen the Specialization because his/her specialization is not mentioned in the categories or because the customer is fresher. So, we can impute the null values to 'Other'."
   ]
  },
  {
   "cell_type": "code",
   "execution_count": 82,
   "metadata": {},
   "outputs": [],
   "source": [
    "# Imputing the null values\n",
    "leads['Specialization'] = leads['Specialization'].replace(to_replace = np.nan, value = 'Other')"
   ]
  },
  {
   "cell_type": "code",
   "execution_count": 83,
   "metadata": {},
   "outputs": [
    {
     "data": {
      "text/plain": [
       "Prospect ID                                0.00\n",
       "Lead Number                                0.00\n",
       "Lead Origin                                0.00\n",
       "Lead Source                                0.39\n",
       "Converted                                  0.00\n",
       "TotalVisits                                1.48\n",
       "Total Time Spent on Website                0.00\n",
       "Page Views Per Visit                       1.48\n",
       "Specialization                             0.00\n",
       "What is your current occupation            0.00\n",
       "City                                      39.71\n",
       "A free copy of Mastering The Interview     0.00\n",
       "Last Notable Activity                      0.00\n",
       "dtype: float64"
      ]
     },
     "execution_count": 83,
     "metadata": {},
     "output_type": "execute_result"
    }
   ],
   "source": [
    "# Re-Checking for null values in columns\n",
    "round(100*(leads.isnull().sum())/len(leads), 2)"
   ]
  },
  {
   "cell_type": "code",
   "execution_count": 84,
   "metadata": {
    "scrolled": false
   },
   "outputs": [
    {
     "data": {
      "text/plain": [
       "Mumbai                         0.578352\n",
       "Other Cities of Maharashtra    0.217017\n",
       "Other Cities                   0.204631\n",
       "Name: City, dtype: float64"
      ]
     },
     "execution_count": 84,
     "metadata": {},
     "output_type": "execute_result"
    }
   ],
   "source": [
    "# Checking the data of column - What is your current occupation, to impute appropriate null values.\n",
    "leads['City'].value_counts(normalize=True)"
   ]
  },
  {
   "cell_type": "code",
   "execution_count": 85,
   "metadata": {},
   "outputs": [
    {
     "data": {
      "text/plain": [
       "count       5571\n",
       "unique         3\n",
       "top       Mumbai\n",
       "freq        3222\n",
       "Name: City, dtype: object"
      ]
     },
     "execution_count": 85,
     "metadata": {},
     "output_type": "execute_result"
    }
   ],
   "source": [
    "leads['City'].describe()"
   ]
  },
  {
   "cell_type": "markdown",
   "metadata": {},
   "source": [
    "> We can clearly see that most of the values in this column are 'Mumbai', hence we can impute null values in this data to 'Mumbai' based on Mode Imputation."
   ]
  },
  {
   "cell_type": "code",
   "execution_count": 86,
   "metadata": {},
   "outputs": [],
   "source": [
    "# Imputing the null values\n",
    "leads['City'] = leads['City'].replace(to_replace = np.nan, value = 'Mumbai')"
   ]
  },
  {
   "cell_type": "code",
   "execution_count": 87,
   "metadata": {},
   "outputs": [
    {
     "data": {
      "text/plain": [
       "Prospect ID                               0.00\n",
       "Lead Number                               0.00\n",
       "Lead Origin                               0.00\n",
       "Lead Source                               0.39\n",
       "Converted                                 0.00\n",
       "TotalVisits                               1.48\n",
       "Total Time Spent on Website               0.00\n",
       "Page Views Per Visit                      1.48\n",
       "Specialization                            0.00\n",
       "What is your current occupation           0.00\n",
       "City                                      0.00\n",
       "A free copy of Mastering The Interview    0.00\n",
       "Last Notable Activity                     0.00\n",
       "dtype: float64"
      ]
     },
     "execution_count": 87,
     "metadata": {},
     "output_type": "execute_result"
    }
   ],
   "source": [
    "# Re-Checking for null values in columns\n",
    "round(100*(leads.isnull().sum())/len(leads), 2)"
   ]
  },
  {
   "cell_type": "markdown",
   "metadata": {},
   "source": [
    "Now, the null values in the data are below 10%, so we can drop these null values."
   ]
  },
  {
   "cell_type": "code",
   "execution_count": 88,
   "metadata": {
    "scrolled": false
   },
   "outputs": [
    {
     "data": {
      "text/html": [
       "<div>\n",
       "<style scoped>\n",
       "    .dataframe tbody tr th:only-of-type {\n",
       "        vertical-align: middle;\n",
       "    }\n",
       "\n",
       "    .dataframe tbody tr th {\n",
       "        vertical-align: top;\n",
       "    }\n",
       "\n",
       "    .dataframe thead th {\n",
       "        text-align: right;\n",
       "    }\n",
       "</style>\n",
       "<table border=\"1\" class=\"dataframe\">\n",
       "  <thead>\n",
       "    <tr style=\"text-align: right;\">\n",
       "      <th></th>\n",
       "      <th>Prospect ID</th>\n",
       "      <th>Lead Number</th>\n",
       "      <th>Lead Origin</th>\n",
       "      <th>Lead Source</th>\n",
       "      <th>Converted</th>\n",
       "      <th>TotalVisits</th>\n",
       "      <th>Total Time Spent on Website</th>\n",
       "      <th>Page Views Per Visit</th>\n",
       "      <th>Specialization</th>\n",
       "      <th>What is your current occupation</th>\n",
       "      <th>City</th>\n",
       "      <th>A free copy of Mastering The Interview</th>\n",
       "      <th>Last Notable Activity</th>\n",
       "    </tr>\n",
       "  </thead>\n",
       "  <tbody>\n",
       "    <tr>\n",
       "      <th>0</th>\n",
       "      <td>7927b2df-8bba-4d29-b9a2-b6e0beafe620</td>\n",
       "      <td>660737</td>\n",
       "      <td>API</td>\n",
       "      <td>Olark Chat</td>\n",
       "      <td>0</td>\n",
       "      <td>0.0</td>\n",
       "      <td>0</td>\n",
       "      <td>0.0</td>\n",
       "      <td>Other</td>\n",
       "      <td>Unemployed</td>\n",
       "      <td>Mumbai</td>\n",
       "      <td>No</td>\n",
       "      <td>Modified</td>\n",
       "    </tr>\n",
       "    <tr>\n",
       "      <th>1</th>\n",
       "      <td>2a272436-5132-4136-86fa-dcc88c88f482</td>\n",
       "      <td>660728</td>\n",
       "      <td>API</td>\n",
       "      <td>Organic Search</td>\n",
       "      <td>0</td>\n",
       "      <td>5.0</td>\n",
       "      <td>674</td>\n",
       "      <td>2.5</td>\n",
       "      <td>Other</td>\n",
       "      <td>Unemployed</td>\n",
       "      <td>Mumbai</td>\n",
       "      <td>No</td>\n",
       "      <td>Email Opened</td>\n",
       "    </tr>\n",
       "    <tr>\n",
       "      <th>2</th>\n",
       "      <td>8cc8c611-a219-4f35-ad23-fdfd2656bd8a</td>\n",
       "      <td>660727</td>\n",
       "      <td>Landing Page Submission</td>\n",
       "      <td>Direct Traffic</td>\n",
       "      <td>1</td>\n",
       "      <td>2.0</td>\n",
       "      <td>1532</td>\n",
       "      <td>2.0</td>\n",
       "      <td>Business Administration</td>\n",
       "      <td>Other</td>\n",
       "      <td>Mumbai</td>\n",
       "      <td>Yes</td>\n",
       "      <td>Email Opened</td>\n",
       "    </tr>\n",
       "    <tr>\n",
       "      <th>3</th>\n",
       "      <td>0cc2df48-7cf4-4e39-9de9-19797f9b38cc</td>\n",
       "      <td>660719</td>\n",
       "      <td>Landing Page Submission</td>\n",
       "      <td>Direct Traffic</td>\n",
       "      <td>0</td>\n",
       "      <td>1.0</td>\n",
       "      <td>305</td>\n",
       "      <td>1.0</td>\n",
       "      <td>Media and Advertising</td>\n",
       "      <td>Unemployed</td>\n",
       "      <td>Mumbai</td>\n",
       "      <td>No</td>\n",
       "      <td>Modified</td>\n",
       "    </tr>\n",
       "    <tr>\n",
       "      <th>4</th>\n",
       "      <td>3256f628-e534-4826-9d63-4a8b88782852</td>\n",
       "      <td>660681</td>\n",
       "      <td>Landing Page Submission</td>\n",
       "      <td>Google</td>\n",
       "      <td>1</td>\n",
       "      <td>2.0</td>\n",
       "      <td>1428</td>\n",
       "      <td>1.0</td>\n",
       "      <td>Other</td>\n",
       "      <td>Unemployed</td>\n",
       "      <td>Mumbai</td>\n",
       "      <td>No</td>\n",
       "      <td>Modified</td>\n",
       "    </tr>\n",
       "  </tbody>\n",
       "</table>\n",
       "</div>"
      ],
      "text/plain": [
       "                            Prospect ID  Lead Number              Lead Origin  \\\n",
       "0  7927b2df-8bba-4d29-b9a2-b6e0beafe620       660737                      API   \n",
       "1  2a272436-5132-4136-86fa-dcc88c88f482       660728                      API   \n",
       "2  8cc8c611-a219-4f35-ad23-fdfd2656bd8a       660727  Landing Page Submission   \n",
       "3  0cc2df48-7cf4-4e39-9de9-19797f9b38cc       660719  Landing Page Submission   \n",
       "4  3256f628-e534-4826-9d63-4a8b88782852       660681  Landing Page Submission   \n",
       "\n",
       "      Lead Source  Converted  TotalVisits  Total Time Spent on Website  \\\n",
       "0      Olark Chat          0          0.0                            0   \n",
       "1  Organic Search          0          5.0                          674   \n",
       "2  Direct Traffic          1          2.0                         1532   \n",
       "3  Direct Traffic          0          1.0                          305   \n",
       "4          Google          1          2.0                         1428   \n",
       "\n",
       "   Page Views Per Visit           Specialization  \\\n",
       "0                   0.0                    Other   \n",
       "1                   2.5                    Other   \n",
       "2                   2.0  Business Administration   \n",
       "3                   1.0    Media and Advertising   \n",
       "4                   1.0                    Other   \n",
       "\n",
       "  What is your current occupation    City  \\\n",
       "0                      Unemployed  Mumbai   \n",
       "1                      Unemployed  Mumbai   \n",
       "2                           Other  Mumbai   \n",
       "3                      Unemployed  Mumbai   \n",
       "4                      Unemployed  Mumbai   \n",
       "\n",
       "  A free copy of Mastering The Interview Last Notable Activity  \n",
       "0                                     No              Modified  \n",
       "1                                     No          Email Opened  \n",
       "2                                    Yes          Email Opened  \n",
       "3                                     No              Modified  \n",
       "4                                     No              Modified  "
      ]
     },
     "execution_count": 88,
     "metadata": {},
     "output_type": "execute_result"
    }
   ],
   "source": [
    "# Dropping the null values from the columns having less than 10% of null values.\n",
    "leads = leads.dropna(subset = ['TotalVisits','Page Views Per Visit','Lead Source'])\n",
    "leads.head()"
   ]
  },
  {
   "cell_type": "code",
   "execution_count": 89,
   "metadata": {},
   "outputs": [
    {
     "data": {
      "text/plain": [
       "Prospect ID                               0.0\n",
       "Lead Number                               0.0\n",
       "Lead Origin                               0.0\n",
       "Lead Source                               0.0\n",
       "Converted                                 0.0\n",
       "TotalVisits                               0.0\n",
       "Total Time Spent on Website               0.0\n",
       "Page Views Per Visit                      0.0\n",
       "Specialization                            0.0\n",
       "What is your current occupation           0.0\n",
       "City                                      0.0\n",
       "A free copy of Mastering The Interview    0.0\n",
       "Last Notable Activity                     0.0\n",
       "dtype: float64"
      ]
     },
     "execution_count": 89,
     "metadata": {},
     "output_type": "execute_result"
    }
   ],
   "source": [
    "round(100*(leads.isnull().sum())/len(leads), 2)"
   ]
  },
  {
   "cell_type": "markdown",
   "metadata": {},
   "source": [
    "### Dropping unneccessary columns"
   ]
  },
  {
   "cell_type": "code",
   "execution_count": 90,
   "metadata": {
    "scrolled": true
   },
   "outputs": [
    {
     "name": "stdout",
     "output_type": "stream",
     "text": [
      "<class 'pandas.core.frame.DataFrame'>\n",
      "Int64Index: 9074 entries, 0 to 9239\n",
      "Data columns (total 12 columns):\n",
      " #   Column                                  Non-Null Count  Dtype  \n",
      "---  ------                                  --------------  -----  \n",
      " 0   Lead Number                             9074 non-null   int64  \n",
      " 1   Lead Origin                             9074 non-null   object \n",
      " 2   Lead Source                             9074 non-null   object \n",
      " 3   Converted                               9074 non-null   int64  \n",
      " 4   TotalVisits                             9074 non-null   float64\n",
      " 5   Total Time Spent on Website             9074 non-null   int64  \n",
      " 6   Page Views Per Visit                    9074 non-null   float64\n",
      " 7   Specialization                          9074 non-null   object \n",
      " 8   What is your current occupation         9074 non-null   object \n",
      " 9   City                                    9074 non-null   object \n",
      " 10  A free copy of Mastering The Interview  9074 non-null   object \n",
      " 11  Last Notable Activity                   9074 non-null   object \n",
      "dtypes: float64(2), int64(3), object(7)\n",
      "memory usage: 921.6+ KB\n"
     ]
    }
   ],
   "source": [
    "#Dropping the column 'Prospect ID' as it has no readable values.\n",
    "leads = leads.drop(['Prospect ID'], axis = 1)\n",
    "leads.info()"
   ]
  },
  {
   "cell_type": "code",
   "execution_count": 91,
   "metadata": {
    "scrolled": true
   },
   "outputs": [
    {
     "name": "stdout",
     "output_type": "stream",
     "text": [
      "<class 'pandas.core.frame.DataFrame'>\n",
      "Int64Index: 9074 entries, 0 to 9239\n",
      "Data columns (total 11 columns):\n",
      " #   Column                                  Non-Null Count  Dtype  \n",
      "---  ------                                  --------------  -----  \n",
      " 0   Lead Number                             9074 non-null   int64  \n",
      " 1   Lead Origin                             9074 non-null   object \n",
      " 2   Lead Source                             9074 non-null   object \n",
      " 3   Converted                               9074 non-null   int64  \n",
      " 4   TotalVisits                             9074 non-null   float64\n",
      " 5   Page Views Per Visit                    9074 non-null   float64\n",
      " 6   Specialization                          9074 non-null   object \n",
      " 7   What is your current occupation         9074 non-null   object \n",
      " 8   City                                    9074 non-null   object \n",
      " 9   A free copy of Mastering The Interview  9074 non-null   object \n",
      " 10  Last Notable Activity                   9074 non-null   object \n",
      "dtypes: float64(2), int64(2), object(7)\n",
      "memory usage: 850.7+ KB\n"
     ]
    }
   ],
   "source": [
    "#Dropping the column 'Total Time Spent on Website' as we cannot peform Logistic Regression on Time Series Data.\n",
    "leads = leads.drop(['Total Time Spent on Website'], axis = 1)\n",
    "leads.info()"
   ]
  },
  {
   "cell_type": "code",
   "execution_count": 92,
   "metadata": {},
   "outputs": [],
   "source": [
    "# Dropping the column 'A free copy of Mastering The Interview' as it will not have any influence on Lead Conversion.\n",
    "leads = leads.drop(['A free copy of Mastering The Interview'], axis = 1)"
   ]
  },
  {
   "cell_type": "code",
   "execution_count": 93,
   "metadata": {
    "scrolled": true
   },
   "outputs": [
    {
     "data": {
      "text/html": [
       "<div>\n",
       "<style scoped>\n",
       "    .dataframe tbody tr th:only-of-type {\n",
       "        vertical-align: middle;\n",
       "    }\n",
       "\n",
       "    .dataframe tbody tr th {\n",
       "        vertical-align: top;\n",
       "    }\n",
       "\n",
       "    .dataframe thead th {\n",
       "        text-align: right;\n",
       "    }\n",
       "</style>\n",
       "<table border=\"1\" class=\"dataframe\">\n",
       "  <thead>\n",
       "    <tr style=\"text-align: right;\">\n",
       "      <th></th>\n",
       "      <th>Lead Number</th>\n",
       "      <th>Lead Origin</th>\n",
       "      <th>Lead Source</th>\n",
       "      <th>Converted</th>\n",
       "      <th>TotalVisits</th>\n",
       "      <th>Page Views Per Visit</th>\n",
       "      <th>Specialization</th>\n",
       "      <th>What is your current occupation</th>\n",
       "      <th>City</th>\n",
       "      <th>Last Notable Activity</th>\n",
       "    </tr>\n",
       "  </thead>\n",
       "  <tbody>\n",
       "    <tr>\n",
       "      <th>0</th>\n",
       "      <td>660737</td>\n",
       "      <td>API</td>\n",
       "      <td>Olark Chat</td>\n",
       "      <td>0</td>\n",
       "      <td>0.0</td>\n",
       "      <td>0.0</td>\n",
       "      <td>Other</td>\n",
       "      <td>Unemployed</td>\n",
       "      <td>Mumbai</td>\n",
       "      <td>Modified</td>\n",
       "    </tr>\n",
       "    <tr>\n",
       "      <th>1</th>\n",
       "      <td>660728</td>\n",
       "      <td>API</td>\n",
       "      <td>Organic Search</td>\n",
       "      <td>0</td>\n",
       "      <td>5.0</td>\n",
       "      <td>2.5</td>\n",
       "      <td>Other</td>\n",
       "      <td>Unemployed</td>\n",
       "      <td>Mumbai</td>\n",
       "      <td>Email Opened</td>\n",
       "    </tr>\n",
       "    <tr>\n",
       "      <th>2</th>\n",
       "      <td>660727</td>\n",
       "      <td>Landing Page Submission</td>\n",
       "      <td>Direct Traffic</td>\n",
       "      <td>1</td>\n",
       "      <td>2.0</td>\n",
       "      <td>2.0</td>\n",
       "      <td>Business Administration</td>\n",
       "      <td>Other</td>\n",
       "      <td>Mumbai</td>\n",
       "      <td>Email Opened</td>\n",
       "    </tr>\n",
       "    <tr>\n",
       "      <th>3</th>\n",
       "      <td>660719</td>\n",
       "      <td>Landing Page Submission</td>\n",
       "      <td>Direct Traffic</td>\n",
       "      <td>0</td>\n",
       "      <td>1.0</td>\n",
       "      <td>1.0</td>\n",
       "      <td>Media and Advertising</td>\n",
       "      <td>Unemployed</td>\n",
       "      <td>Mumbai</td>\n",
       "      <td>Modified</td>\n",
       "    </tr>\n",
       "    <tr>\n",
       "      <th>4</th>\n",
       "      <td>660681</td>\n",
       "      <td>Landing Page Submission</td>\n",
       "      <td>Google</td>\n",
       "      <td>1</td>\n",
       "      <td>2.0</td>\n",
       "      <td>1.0</td>\n",
       "      <td>Other</td>\n",
       "      <td>Unemployed</td>\n",
       "      <td>Mumbai</td>\n",
       "      <td>Modified</td>\n",
       "    </tr>\n",
       "  </tbody>\n",
       "</table>\n",
       "</div>"
      ],
      "text/plain": [
       "   Lead Number              Lead Origin     Lead Source  Converted  \\\n",
       "0       660737                      API      Olark Chat          0   \n",
       "1       660728                      API  Organic Search          0   \n",
       "2       660727  Landing Page Submission  Direct Traffic          1   \n",
       "3       660719  Landing Page Submission  Direct Traffic          0   \n",
       "4       660681  Landing Page Submission          Google          1   \n",
       "\n",
       "   TotalVisits  Page Views Per Visit           Specialization  \\\n",
       "0          0.0                   0.0                    Other   \n",
       "1          5.0                   2.5                    Other   \n",
       "2          2.0                   2.0  Business Administration   \n",
       "3          1.0                   1.0    Media and Advertising   \n",
       "4          2.0                   1.0                    Other   \n",
       "\n",
       "  What is your current occupation    City Last Notable Activity  \n",
       "0                      Unemployed  Mumbai              Modified  \n",
       "1                      Unemployed  Mumbai          Email Opened  \n",
       "2                           Other  Mumbai          Email Opened  \n",
       "3                      Unemployed  Mumbai              Modified  \n",
       "4                      Unemployed  Mumbai              Modified  "
      ]
     },
     "execution_count": 93,
     "metadata": {},
     "output_type": "execute_result"
    }
   ],
   "source": [
    "leads.head()"
   ]
  },
  {
   "cell_type": "markdown",
   "metadata": {},
   "source": [
    "### Checking the number of retained rows, after DATA CLEANING"
   ]
  },
  {
   "cell_type": "code",
   "execution_count": 94,
   "metadata": {
    "scrolled": true
   },
   "outputs": [
    {
     "name": "stdout",
     "output_type": "stream",
     "text": [
      "9074\n"
     ]
    }
   ],
   "source": [
    "retained = len(leads.index)\n",
    "print(retained)"
   ]
  },
  {
   "cell_type": "code",
   "execution_count": 95,
   "metadata": {},
   "outputs": [
    {
     "name": "stdout",
     "output_type": "stream",
     "text": [
      "98.2\n"
     ]
    }
   ],
   "source": [
    "retainedp = round(100*(retained/9240),2)\n",
    "print(retainedp)"
   ]
  },
  {
   "cell_type": "code",
   "execution_count": 96,
   "metadata": {},
   "outputs": [
    {
     "name": "stdout",
     "output_type": "stream",
     "text": [
      "<class 'pandas.core.frame.DataFrame'>\n",
      "Int64Index: 9074 entries, 0 to 9239\n",
      "Data columns (total 10 columns):\n",
      " #   Column                           Non-Null Count  Dtype  \n",
      "---  ------                           --------------  -----  \n",
      " 0   Lead Number                      9074 non-null   int64  \n",
      " 1   Lead Origin                      9074 non-null   object \n",
      " 2   Lead Source                      9074 non-null   object \n",
      " 3   Converted                        9074 non-null   int64  \n",
      " 4   TotalVisits                      9074 non-null   float64\n",
      " 5   Page Views Per Visit             9074 non-null   float64\n",
      " 6   Specialization                   9074 non-null   object \n",
      " 7   What is your current occupation  9074 non-null   object \n",
      " 8   City                             9074 non-null   object \n",
      " 9   Last Notable Activity            9074 non-null   object \n",
      "dtypes: float64(2), int64(2), object(6)\n",
      "memory usage: 779.8+ KB\n"
     ]
    }
   ],
   "source": [
    "leads.info()"
   ]
  },
  {
   "cell_type": "markdown",
   "metadata": {},
   "source": [
    "## EDA"
   ]
  },
  {
   "cell_type": "markdown",
   "metadata": {},
   "source": [
    "### Outlier Analysis"
   ]
  },
  {
   "cell_type": "code",
   "execution_count": 97,
   "metadata": {
    "scrolled": true
   },
   "outputs": [
    {
     "data": {
      "text/plain": [
       "Lead Number                        9074\n",
       "Lead Origin                           3\n",
       "Lead Source                           5\n",
       "Converted                             2\n",
       "TotalVisits                          41\n",
       "Page Views Per Visit                114\n",
       "Specialization                       19\n",
       "What is your current occupation       3\n",
       "City                                  3\n",
       "Last Notable Activity                 4\n",
       "dtype: int64"
      ]
     },
     "execution_count": 97,
     "metadata": {},
     "output_type": "execute_result"
    }
   ],
   "source": [
    "# Checking for continuous variables in the data\n",
    "leads.nunique()"
   ]
  },
  {
   "cell_type": "markdown",
   "metadata": {},
   "source": [
    "**The continuous variables are:**\n",
    "1. TotalVisits\n",
    "2. Page Views Per Visit                          "
   ]
  },
  {
   "cell_type": "code",
   "execution_count": 98,
   "metadata": {},
   "outputs": [
    {
     "data": {
      "text/html": [
       "<div>\n",
       "<style scoped>\n",
       "    .dataframe tbody tr th:only-of-type {\n",
       "        vertical-align: middle;\n",
       "    }\n",
       "\n",
       "    .dataframe tbody tr th {\n",
       "        vertical-align: top;\n",
       "    }\n",
       "\n",
       "    .dataframe thead th {\n",
       "        text-align: right;\n",
       "    }\n",
       "</style>\n",
       "<table border=\"1\" class=\"dataframe\">\n",
       "  <thead>\n",
       "    <tr style=\"text-align: right;\">\n",
       "      <th></th>\n",
       "      <th>TotalVisits</th>\n",
       "      <th>Page Views Per Visit</th>\n",
       "    </tr>\n",
       "  </thead>\n",
       "  <tbody>\n",
       "    <tr>\n",
       "      <th>0</th>\n",
       "      <td>0.0</td>\n",
       "      <td>0.0</td>\n",
       "    </tr>\n",
       "    <tr>\n",
       "      <th>1</th>\n",
       "      <td>5.0</td>\n",
       "      <td>2.5</td>\n",
       "    </tr>\n",
       "    <tr>\n",
       "      <th>2</th>\n",
       "      <td>2.0</td>\n",
       "      <td>2.0</td>\n",
       "    </tr>\n",
       "    <tr>\n",
       "      <th>3</th>\n",
       "      <td>1.0</td>\n",
       "      <td>1.0</td>\n",
       "    </tr>\n",
       "    <tr>\n",
       "      <th>4</th>\n",
       "      <td>2.0</td>\n",
       "      <td>1.0</td>\n",
       "    </tr>\n",
       "  </tbody>\n",
       "</table>\n",
       "</div>"
      ],
      "text/plain": [
       "   TotalVisits  Page Views Per Visit\n",
       "0          0.0                   0.0\n",
       "1          5.0                   2.5\n",
       "2          2.0                   2.0\n",
       "3          1.0                   1.0\n",
       "4          2.0                   1.0"
      ]
     },
     "execution_count": 98,
     "metadata": {},
     "output_type": "execute_result"
    }
   ],
   "source": [
    "# Checking for outliers\n",
    "num_leads = leads[['TotalVisits','Page Views Per Visit']]\n",
    "num_leads.head()"
   ]
  },
  {
   "cell_type": "code",
   "execution_count": 99,
   "metadata": {},
   "outputs": [
    {
     "data": {
      "text/html": [
       "<div>\n",
       "<style scoped>\n",
       "    .dataframe tbody tr th:only-of-type {\n",
       "        vertical-align: middle;\n",
       "    }\n",
       "\n",
       "    .dataframe tbody tr th {\n",
       "        vertical-align: top;\n",
       "    }\n",
       "\n",
       "    .dataframe thead th {\n",
       "        text-align: right;\n",
       "    }\n",
       "</style>\n",
       "<table border=\"1\" class=\"dataframe\">\n",
       "  <thead>\n",
       "    <tr style=\"text-align: right;\">\n",
       "      <th></th>\n",
       "      <th>TotalVisits</th>\n",
       "      <th>Page Views Per Visit</th>\n",
       "    </tr>\n",
       "  </thead>\n",
       "  <tbody>\n",
       "    <tr>\n",
       "      <th>count</th>\n",
       "      <td>9074.000000</td>\n",
       "      <td>9074.000000</td>\n",
       "    </tr>\n",
       "    <tr>\n",
       "      <th>mean</th>\n",
       "      <td>3.456028</td>\n",
       "      <td>2.370151</td>\n",
       "    </tr>\n",
       "    <tr>\n",
       "      <th>std</th>\n",
       "      <td>4.858802</td>\n",
       "      <td>2.160871</td>\n",
       "    </tr>\n",
       "    <tr>\n",
       "      <th>min</th>\n",
       "      <td>0.000000</td>\n",
       "      <td>0.000000</td>\n",
       "    </tr>\n",
       "    <tr>\n",
       "      <th>25%</th>\n",
       "      <td>1.000000</td>\n",
       "      <td>1.000000</td>\n",
       "    </tr>\n",
       "    <tr>\n",
       "      <th>50%</th>\n",
       "      <td>3.000000</td>\n",
       "      <td>2.000000</td>\n",
       "    </tr>\n",
       "    <tr>\n",
       "      <th>75%</th>\n",
       "      <td>5.000000</td>\n",
       "      <td>3.200000</td>\n",
       "    </tr>\n",
       "    <tr>\n",
       "      <th>max</th>\n",
       "      <td>251.000000</td>\n",
       "      <td>55.000000</td>\n",
       "    </tr>\n",
       "  </tbody>\n",
       "</table>\n",
       "</div>"
      ],
      "text/plain": [
       "       TotalVisits  Page Views Per Visit\n",
       "count  9074.000000           9074.000000\n",
       "mean      3.456028              2.370151\n",
       "std       4.858802              2.160871\n",
       "min       0.000000              0.000000\n",
       "25%       1.000000              1.000000\n",
       "50%       3.000000              2.000000\n",
       "75%       5.000000              3.200000\n",
       "max     251.000000             55.000000"
      ]
     },
     "execution_count": 99,
     "metadata": {},
     "output_type": "execute_result"
    }
   ],
   "source": [
    "num_leads.describe()"
   ]
  },
  {
   "cell_type": "markdown",
   "metadata": {},
   "source": [
    "We can see from the statistical table that there are outliers in the data."
   ]
  },
  {
   "cell_type": "code",
   "execution_count": 100,
   "metadata": {
    "scrolled": true
   },
   "outputs": [
    {
     "data": {
      "image/png": "[encoded data removed]",
      "text/plain": [
       "<Figure size 720x360 with 1 Axes>"
      ]
     },
     "metadata": {
      "needs_background": "light"
     },
     "output_type": "display_data"
    }
   ],
   "source": [
    "# Visualizing Outliers for 'TotalVisits'\n",
    "plt.figure(figsize = (10, 5))\n",
    "sns.boxplot(leads['TotalVisits'])\n",
    "plt.show()"
   ]
  },
  {
   "cell_type": "code",
   "execution_count": 101,
   "metadata": {},
   "outputs": [
    {
     "name": "stdout",
     "output_type": "stream",
     "text": [
      "0.90      7.0\n",
      "0.95     10.0\n",
      "0.96     10.0\n",
      "0.97     11.0\n",
      "0.98     13.0\n",
      "0.99     17.0\n",
      "1.00    251.0\n",
      "Name: TotalVisits, dtype: float64\n"
     ]
    }
   ],
   "source": [
    "# Checking the outliers at quantile level.\n",
    "print(leads['TotalVisits'].quantile([.90,.95,.96,.97,.98,.99,1]))"
   ]
  },
  {
   "cell_type": "markdown",
   "metadata": {},
   "source": [
    "> We can see that there is lot of difference between the 99th quantile and the 100th quantile. Let's cap the values at the 99th quantile."
   ]
  },
  {
   "cell_type": "code",
   "execution_count": 102,
   "metadata": {},
   "outputs": [],
   "source": [
    "# Capping outliers in exports\n",
    "leads.loc[leads.TotalVisits>leads.TotalVisits.quantile(.99),\"TotalVisits\"] = leads.TotalVisits.quantile(.99)"
   ]
  },
  {
   "cell_type": "code",
   "execution_count": 103,
   "metadata": {
    "scrolled": false
   },
   "outputs": [
    {
     "name": "stdout",
     "output_type": "stream",
     "text": [
      "0.75     5.0\n",
      "0.85     6.0\n",
      "0.95    10.0\n",
      "0.97    11.0\n",
      "0.98    13.0\n",
      "0.99    17.0\n",
      "1.00    17.0\n",
      "Name: TotalVisits, dtype: float64\n"
     ]
    }
   ],
   "source": [
    "print(leads['TotalVisits'].quantile([.75,.85,.95,.97,.98,.99,1]))"
   ]
  },
  {
   "cell_type": "code",
   "execution_count": 104,
   "metadata": {},
   "outputs": [
    {
     "data": {
      "image/png": "[encoded data removed]",
      "text/plain": [
       "<Figure size 720x360 with 1 Axes>"
      ]
     },
     "metadata": {
      "needs_background": "light"
     },
     "output_type": "display_data"
    }
   ],
   "source": [
    "# Visualizing Outliers for 'Page Views Per Visit'\n",
    "plt.figure(figsize = (10, 5))\n",
    "sns.boxplot(leads['Page Views Per Visit'])\n",
    "plt.show()"
   ]
  },
  {
   "cell_type": "code",
   "execution_count": 105,
   "metadata": {},
   "outputs": [
    {
     "name": "stdout",
     "output_type": "stream",
     "text": [
      "0.75     3.2\n",
      "0.85     4.0\n",
      "0.90     5.0\n",
      "0.95     6.0\n",
      "0.96     6.0\n",
      "0.97     7.0\n",
      "0.98     8.0\n",
      "0.99     9.0\n",
      "1.00    55.0\n",
      "Name: Page Views Per Visit, dtype: float64\n"
     ]
    }
   ],
   "source": [
    "# Checking the outliers at quantile level.\n",
    "print(leads['Page Views Per Visit'].quantile([.75,.85,.90,.95,.96,.97,.98,.99,1]))"
   ]
  },
  {
   "cell_type": "markdown",
   "metadata": {},
   "source": [
    "> We can see that there is lot of difference between the 99th quantile and the 100th quantile. Let's cap the values at the 99th quantile."
   ]
  },
  {
   "cell_type": "code",
   "execution_count": 106,
   "metadata": {},
   "outputs": [],
   "source": [
    "# Capping outliers in exports\n",
    "leads.loc[leads['Page Views Per Visit'] > \n",
    "          leads['Page Views Per Visit'].quantile(.99),\"Page Views Per Visit\"] = leads['Page Views Per Visit'].quantile(.99)"
   ]
  },
  {
   "cell_type": "code",
   "execution_count": 107,
   "metadata": {},
   "outputs": [
    {
     "name": "stdout",
     "output_type": "stream",
     "text": [
      "0.75    3.2\n",
      "0.85    4.0\n",
      "0.95    6.0\n",
      "0.97    7.0\n",
      "0.98    8.0\n",
      "0.99    9.0\n",
      "1.00    9.0\n",
      "Name: Page Views Per Visit, dtype: float64\n"
     ]
    }
   ],
   "source": [
    "print(leads['Page Views Per Visit'].quantile([.75,.85,.95,.97,.98,.99,1]))"
   ]
  },
  {
   "cell_type": "code",
   "execution_count": 108,
   "metadata": {
    "scrolled": true
   },
   "outputs": [
    {
     "data": {
      "text/html": [
       "<div>\n",
       "<style scoped>\n",
       "    .dataframe tbody tr th:only-of-type {\n",
       "        vertical-align: middle;\n",
       "    }\n",
       "\n",
       "    .dataframe tbody tr th {\n",
       "        vertical-align: top;\n",
       "    }\n",
       "\n",
       "    .dataframe thead th {\n",
       "        text-align: right;\n",
       "    }\n",
       "</style>\n",
       "<table border=\"1\" class=\"dataframe\">\n",
       "  <thead>\n",
       "    <tr style=\"text-align: right;\">\n",
       "      <th></th>\n",
       "      <th>TotalVisits</th>\n",
       "      <th>Page Views Per Visit</th>\n",
       "    </tr>\n",
       "  </thead>\n",
       "  <tbody>\n",
       "    <tr>\n",
       "      <th>count</th>\n",
       "      <td>9074.000000</td>\n",
       "      <td>9074.000000</td>\n",
       "    </tr>\n",
       "    <tr>\n",
       "      <th>mean</th>\n",
       "      <td>3.343178</td>\n",
       "      <td>2.341241</td>\n",
       "    </tr>\n",
       "    <tr>\n",
       "      <th>std</th>\n",
       "      <td>3.252302</td>\n",
       "      <td>1.984635</td>\n",
       "    </tr>\n",
       "    <tr>\n",
       "      <th>min</th>\n",
       "      <td>0.000000</td>\n",
       "      <td>0.000000</td>\n",
       "    </tr>\n",
       "    <tr>\n",
       "      <th>25%</th>\n",
       "      <td>1.000000</td>\n",
       "      <td>1.000000</td>\n",
       "    </tr>\n",
       "    <tr>\n",
       "      <th>50%</th>\n",
       "      <td>3.000000</td>\n",
       "      <td>2.000000</td>\n",
       "    </tr>\n",
       "    <tr>\n",
       "      <th>75%</th>\n",
       "      <td>5.000000</td>\n",
       "      <td>3.200000</td>\n",
       "    </tr>\n",
       "    <tr>\n",
       "      <th>max</th>\n",
       "      <td>17.000000</td>\n",
       "      <td>9.000000</td>\n",
       "    </tr>\n",
       "  </tbody>\n",
       "</table>\n",
       "</div>"
      ],
      "text/plain": [
       "       TotalVisits  Page Views Per Visit\n",
       "count  9074.000000           9074.000000\n",
       "mean      3.343178              2.341241\n",
       "std       3.252302              1.984635\n",
       "min       0.000000              0.000000\n",
       "25%       1.000000              1.000000\n",
       "50%       3.000000              2.000000\n",
       "75%       5.000000              3.200000\n",
       "max      17.000000              9.000000"
      ]
     },
     "execution_count": 108,
     "metadata": {},
     "output_type": "execute_result"
    }
   ],
   "source": [
    "num_leads = leads[['TotalVisits','Page Views Per Visit']]\n",
    "num_leads.describe()"
   ]
  },
  {
   "cell_type": "markdown",
   "metadata": {},
   "source": [
    "**Outliers have been treated.**"
   ]
  },
  {
   "cell_type": "markdown",
   "metadata": {},
   "source": [
    "## Data Preparation"
   ]
  },
  {
   "cell_type": "code",
   "execution_count": 109,
   "metadata": {
    "scrolled": true
   },
   "outputs": [
    {
     "data": {
      "text/plain": [
       "Lead Number                        9074\n",
       "Lead Origin                           3\n",
       "Lead Source                           5\n",
       "Converted                             2\n",
       "TotalVisits                          18\n",
       "Page Views Per Visit                102\n",
       "Specialization                       19\n",
       "What is your current occupation       3\n",
       "City                                  3\n",
       "Last Notable Activity                 4\n",
       "dtype: int64"
      ]
     },
     "execution_count": 109,
     "metadata": {},
     "output_type": "execute_result"
    }
   ],
   "source": [
    "leads.nunique()"
   ]
  },
  {
   "cell_type": "code",
   "execution_count": 110,
   "metadata": {
    "scrolled": true
   },
   "outputs": [
    {
     "data": {
      "text/html": [
       "<div>\n",
       "<style scoped>\n",
       "    .dataframe tbody tr th:only-of-type {\n",
       "        vertical-align: middle;\n",
       "    }\n",
       "\n",
       "    .dataframe tbody tr th {\n",
       "        vertical-align: top;\n",
       "    }\n",
       "\n",
       "    .dataframe thead th {\n",
       "        text-align: right;\n",
       "    }\n",
       "</style>\n",
       "<table border=\"1\" class=\"dataframe\">\n",
       "  <thead>\n",
       "    <tr style=\"text-align: right;\">\n",
       "      <th></th>\n",
       "      <th>Lead Number</th>\n",
       "      <th>Lead Origin</th>\n",
       "      <th>Lead Source</th>\n",
       "      <th>Converted</th>\n",
       "      <th>TotalVisits</th>\n",
       "      <th>Page Views Per Visit</th>\n",
       "      <th>Specialization</th>\n",
       "      <th>What is your current occupation</th>\n",
       "      <th>City</th>\n",
       "      <th>Last Notable Activity</th>\n",
       "    </tr>\n",
       "  </thead>\n",
       "  <tbody>\n",
       "    <tr>\n",
       "      <th>0</th>\n",
       "      <td>660737</td>\n",
       "      <td>API</td>\n",
       "      <td>Olark Chat</td>\n",
       "      <td>0</td>\n",
       "      <td>0.0</td>\n",
       "      <td>0.0</td>\n",
       "      <td>Other</td>\n",
       "      <td>Unemployed</td>\n",
       "      <td>Mumbai</td>\n",
       "      <td>Modified</td>\n",
       "    </tr>\n",
       "    <tr>\n",
       "      <th>1</th>\n",
       "      <td>660728</td>\n",
       "      <td>API</td>\n",
       "      <td>Organic Search</td>\n",
       "      <td>0</td>\n",
       "      <td>5.0</td>\n",
       "      <td>2.5</td>\n",
       "      <td>Other</td>\n",
       "      <td>Unemployed</td>\n",
       "      <td>Mumbai</td>\n",
       "      <td>Email Opened</td>\n",
       "    </tr>\n",
       "    <tr>\n",
       "      <th>2</th>\n",
       "      <td>660727</td>\n",
       "      <td>Landing Page Submission</td>\n",
       "      <td>Direct Traffic</td>\n",
       "      <td>1</td>\n",
       "      <td>2.0</td>\n",
       "      <td>2.0</td>\n",
       "      <td>Business Administration</td>\n",
       "      <td>Other</td>\n",
       "      <td>Mumbai</td>\n",
       "      <td>Email Opened</td>\n",
       "    </tr>\n",
       "    <tr>\n",
       "      <th>3</th>\n",
       "      <td>660719</td>\n",
       "      <td>Landing Page Submission</td>\n",
       "      <td>Direct Traffic</td>\n",
       "      <td>0</td>\n",
       "      <td>1.0</td>\n",
       "      <td>1.0</td>\n",
       "      <td>Media and Advertising</td>\n",
       "      <td>Unemployed</td>\n",
       "      <td>Mumbai</td>\n",
       "      <td>Modified</td>\n",
       "    </tr>\n",
       "    <tr>\n",
       "      <th>4</th>\n",
       "      <td>660681</td>\n",
       "      <td>Landing Page Submission</td>\n",
       "      <td>Google</td>\n",
       "      <td>1</td>\n",
       "      <td>2.0</td>\n",
       "      <td>1.0</td>\n",
       "      <td>Other</td>\n",
       "      <td>Unemployed</td>\n",
       "      <td>Mumbai</td>\n",
       "      <td>Modified</td>\n",
       "    </tr>\n",
       "  </tbody>\n",
       "</table>\n",
       "</div>"
      ],
      "text/plain": [
       "   Lead Number              Lead Origin     Lead Source  Converted  \\\n",
       "0       660737                      API      Olark Chat          0   \n",
       "1       660728                      API  Organic Search          0   \n",
       "2       660727  Landing Page Submission  Direct Traffic          1   \n",
       "3       660719  Landing Page Submission  Direct Traffic          0   \n",
       "4       660681  Landing Page Submission          Google          1   \n",
       "\n",
       "   TotalVisits  Page Views Per Visit           Specialization  \\\n",
       "0          0.0                   0.0                    Other   \n",
       "1          5.0                   2.5                    Other   \n",
       "2          2.0                   2.0  Business Administration   \n",
       "3          1.0                   1.0    Media and Advertising   \n",
       "4          2.0                   1.0                    Other   \n",
       "\n",
       "  What is your current occupation    City Last Notable Activity  \n",
       "0                      Unemployed  Mumbai              Modified  \n",
       "1                      Unemployed  Mumbai          Email Opened  \n",
       "2                           Other  Mumbai          Email Opened  \n",
       "3                      Unemployed  Mumbai              Modified  \n",
       "4                      Unemployed  Mumbai              Modified  "
      ]
     },
     "execution_count": 110,
     "metadata": {},
     "output_type": "execute_result"
    }
   ],
   "source": [
    "leads.head()"
   ]
  },
  {
   "cell_type": "code",
   "execution_count": 111,
   "metadata": {},
   "outputs": [],
   "source": [
    "# Making a copy of the original data, before creating the dummy variables.\n",
    "leads_final = leads.copy()"
   ]
  },
  {
   "cell_type": "markdown",
   "metadata": {},
   "source": [
    "### For categorical variables with multiple levels, create dummy features (one-hot encoded)"
   ]
  },
  {
   "cell_type": "code",
   "execution_count": 112,
   "metadata": {},
   "outputs": [],
   "source": [
    "# Creating dummy variables for categorical variables and dropping the first one.\n",
    "dummy1 = pd.get_dummies(leads[['Lead Origin', 'Lead Source', 'Specialization', 'What is your current occupation',\n",
    "                               'Last Notable Activity']], drop_first=True)\n",
    "\n",
    "# Adding the results to the master dataframe\n",
    "leads = pd.concat([leads, dummy1], axis=1)\n",
    "\n",
    "# Creating dummy variable for the column 'City' and \n",
    " # dropping the level 'Other Cities & Maharashtra', to avoid big names.\n",
    "cl = pd.get_dummies(leads['City'], prefix='City')\n",
    "\n",
    "# Dropping City_Other Cities of Maharashtra column\n",
    "cl1 = cl.drop(['City_Other Cities of Maharashtra'], 1)\n",
    "\n",
    "#Adding the results to the master dataframe\n",
    "leads = pd.concat([leads,cl1], axis=1)"
   ]
  },
  {
   "cell_type": "code",
   "execution_count": 113,
   "metadata": {
    "scrolled": false
   },
   "outputs": [
    {
     "data": {
      "text/html": [
       "<div>\n",
       "<style scoped>\n",
       "    .dataframe tbody tr th:only-of-type {\n",
       "        vertical-align: middle;\n",
       "    }\n",
       "\n",
       "    .dataframe tbody tr th {\n",
       "        vertical-align: top;\n",
       "    }\n",
       "\n",
       "    .dataframe thead th {\n",
       "        text-align: right;\n",
       "    }\n",
       "</style>\n",
       "<table border=\"1\" class=\"dataframe\">\n",
       "  <thead>\n",
       "    <tr style=\"text-align: right;\">\n",
       "      <th></th>\n",
       "      <th>Lead Number</th>\n",
       "      <th>Lead Origin</th>\n",
       "      <th>Lead Source</th>\n",
       "      <th>Converted</th>\n",
       "      <th>TotalVisits</th>\n",
       "      <th>Page Views Per Visit</th>\n",
       "      <th>Specialization</th>\n",
       "      <th>What is your current occupation</th>\n",
       "      <th>City</th>\n",
       "      <th>Last Notable Activity</th>\n",
       "      <th>Lead Origin_Landing Page Submission</th>\n",
       "      <th>Lead Origin_Others</th>\n",
       "      <th>Lead Source_Google</th>\n",
       "      <th>Lead Source_Olark Chat</th>\n",
       "      <th>Lead Source_Organic Search</th>\n",
       "      <th>Lead Source_Others</th>\n",
       "      <th>Specialization_Business Administration</th>\n",
       "      <th>Specialization_E-Business</th>\n",
       "      <th>Specialization_E-COMMERCE</th>\n",
       "      <th>Specialization_Finance Management</th>\n",
       "      <th>Specialization_Healthcare Management</th>\n",
       "      <th>Specialization_Hospitality Management</th>\n",
       "      <th>Specialization_Human Resource Management</th>\n",
       "      <th>Specialization_IT Projects Management</th>\n",
       "      <th>Specialization_International Business</th>\n",
       "      <th>Specialization_Marketing Management</th>\n",
       "      <th>Specialization_Media and Advertising</th>\n",
       "      <th>Specialization_Operations Management</th>\n",
       "      <th>Specialization_Other</th>\n",
       "      <th>Specialization_Retail Management</th>\n",
       "      <th>Specialization_Rural and Agribusiness</th>\n",
       "      <th>Specialization_Services Excellence</th>\n",
       "      <th>Specialization_Supply Chain Management</th>\n",
       "      <th>Specialization_Travel and Tourism</th>\n",
       "      <th>What is your current occupation_Unemployed</th>\n",
       "      <th>What is your current occupation_Working Professional</th>\n",
       "      <th>Last Notable Activity_Modified</th>\n",
       "      <th>Last Notable Activity_Others</th>\n",
       "      <th>Last Notable Activity_SMS Sent</th>\n",
       "      <th>City_Mumbai</th>\n",
       "      <th>City_Other Cities</th>\n",
       "    </tr>\n",
       "  </thead>\n",
       "  <tbody>\n",
       "    <tr>\n",
       "      <th>0</th>\n",
       "      <td>660737</td>\n",
       "      <td>API</td>\n",
       "      <td>Olark Chat</td>\n",
       "      <td>0</td>\n",
       "      <td>0.0</td>\n",
       "      <td>0.0</td>\n",
       "      <td>Other</td>\n",
       "      <td>Unemployed</td>\n",
       "      <td>Mumbai</td>\n",
       "      <td>Modified</td>\n",
       "      <td>0</td>\n",
       "      <td>0</td>\n",
       "      <td>0</td>\n",
       "      <td>1</td>\n",
       "      <td>0</td>\n",
       "      <td>0</td>\n",
       "      <td>0</td>\n",
       "      <td>0</td>\n",
       "      <td>0</td>\n",
       "      <td>0</td>\n",
       "      <td>0</td>\n",
       "      <td>0</td>\n",
       "      <td>0</td>\n",
       "      <td>0</td>\n",
       "      <td>0</td>\n",
       "      <td>0</td>\n",
       "      <td>0</td>\n",
       "      <td>0</td>\n",
       "      <td>1</td>\n",
       "      <td>0</td>\n",
       "      <td>0</td>\n",
       "      <td>0</td>\n",
       "      <td>0</td>\n",
       "      <td>0</td>\n",
       "      <td>1</td>\n",
       "      <td>0</td>\n",
       "      <td>1</td>\n",
       "      <td>0</td>\n",
       "      <td>0</td>\n",
       "      <td>1</td>\n",
       "      <td>0</td>\n",
       "    </tr>\n",
       "    <tr>\n",
       "      <th>1</th>\n",
       "      <td>660728</td>\n",
       "      <td>API</td>\n",
       "      <td>Organic Search</td>\n",
       "      <td>0</td>\n",
       "      <td>5.0</td>\n",
       "      <td>2.5</td>\n",
       "      <td>Other</td>\n",
       "      <td>Unemployed</td>\n",
       "      <td>Mumbai</td>\n",
       "      <td>Email Opened</td>\n",
       "      <td>0</td>\n",
       "      <td>0</td>\n",
       "      <td>0</td>\n",
       "      <td>0</td>\n",
       "      <td>1</td>\n",
       "      <td>0</td>\n",
       "      <td>0</td>\n",
       "      <td>0</td>\n",
       "      <td>0</td>\n",
       "      <td>0</td>\n",
       "      <td>0</td>\n",
       "      <td>0</td>\n",
       "      <td>0</td>\n",
       "      <td>0</td>\n",
       "      <td>0</td>\n",
       "      <td>0</td>\n",
       "      <td>0</td>\n",
       "      <td>0</td>\n",
       "      <td>1</td>\n",
       "      <td>0</td>\n",
       "      <td>0</td>\n",
       "      <td>0</td>\n",
       "      <td>0</td>\n",
       "      <td>0</td>\n",
       "      <td>1</td>\n",
       "      <td>0</td>\n",
       "      <td>0</td>\n",
       "      <td>0</td>\n",
       "      <td>0</td>\n",
       "      <td>1</td>\n",
       "      <td>0</td>\n",
       "    </tr>\n",
       "    <tr>\n",
       "      <th>2</th>\n",
       "      <td>660727</td>\n",
       "      <td>Landing Page Submission</td>\n",
       "      <td>Direct Traffic</td>\n",
       "      <td>1</td>\n",
       "      <td>2.0</td>\n",
       "      <td>2.0</td>\n",
       "      <td>Business Administration</td>\n",
       "      <td>Other</td>\n",
       "      <td>Mumbai</td>\n",
       "      <td>Email Opened</td>\n",
       "      <td>1</td>\n",
       "      <td>0</td>\n",
       "      <td>0</td>\n",
       "      <td>0</td>\n",
       "      <td>0</td>\n",
       "      <td>0</td>\n",
       "      <td>1</td>\n",
       "      <td>0</td>\n",
       "      <td>0</td>\n",
       "      <td>0</td>\n",
       "      <td>0</td>\n",
       "      <td>0</td>\n",
       "      <td>0</td>\n",
       "      <td>0</td>\n",
       "      <td>0</td>\n",
       "      <td>0</td>\n",
       "      <td>0</td>\n",
       "      <td>0</td>\n",
       "      <td>0</td>\n",
       "      <td>0</td>\n",
       "      <td>0</td>\n",
       "      <td>0</td>\n",
       "      <td>0</td>\n",
       "      <td>0</td>\n",
       "      <td>0</td>\n",
       "      <td>0</td>\n",
       "      <td>0</td>\n",
       "      <td>0</td>\n",
       "      <td>0</td>\n",
       "      <td>1</td>\n",
       "      <td>0</td>\n",
       "    </tr>\n",
       "    <tr>\n",
       "      <th>3</th>\n",
       "      <td>660719</td>\n",
       "      <td>Landing Page Submission</td>\n",
       "      <td>Direct Traffic</td>\n",
       "      <td>0</td>\n",
       "      <td>1.0</td>\n",
       "      <td>1.0</td>\n",
       "      <td>Media and Advertising</td>\n",
       "      <td>Unemployed</td>\n",
       "      <td>Mumbai</td>\n",
       "      <td>Modified</td>\n",
       "      <td>1</td>\n",
       "      <td>0</td>\n",
       "      <td>0</td>\n",
       "      <td>0</td>\n",
       "      <td>0</td>\n",
       "      <td>0</td>\n",
       "      <td>0</td>\n",
       "      <td>0</td>\n",
       "      <td>0</td>\n",
       "      <td>0</td>\n",
       "      <td>0</td>\n",
       "      <td>0</td>\n",
       "      <td>0</td>\n",
       "      <td>0</td>\n",
       "      <td>0</td>\n",
       "      <td>0</td>\n",
       "      <td>1</td>\n",
       "      <td>0</td>\n",
       "      <td>0</td>\n",
       "      <td>0</td>\n",
       "      <td>0</td>\n",
       "      <td>0</td>\n",
       "      <td>0</td>\n",
       "      <td>0</td>\n",
       "      <td>1</td>\n",
       "      <td>0</td>\n",
       "      <td>1</td>\n",
       "      <td>0</td>\n",
       "      <td>0</td>\n",
       "      <td>1</td>\n",
       "      <td>0</td>\n",
       "    </tr>\n",
       "    <tr>\n",
       "      <th>4</th>\n",
       "      <td>660681</td>\n",
       "      <td>Landing Page Submission</td>\n",
       "      <td>Google</td>\n",
       "      <td>1</td>\n",
       "      <td>2.0</td>\n",
       "      <td>1.0</td>\n",
       "      <td>Other</td>\n",
       "      <td>Unemployed</td>\n",
       "      <td>Mumbai</td>\n",
       "      <td>Modified</td>\n",
       "      <td>1</td>\n",
       "      <td>0</td>\n",
       "      <td>1</td>\n",
       "      <td>0</td>\n",
       "      <td>0</td>\n",
       "      <td>0</td>\n",
       "      <td>0</td>\n",
       "      <td>0</td>\n",
       "      <td>0</td>\n",
       "      <td>0</td>\n",
       "      <td>0</td>\n",
       "      <td>0</td>\n",
       "      <td>0</td>\n",
       "      <td>0</td>\n",
       "      <td>0</td>\n",
       "      <td>0</td>\n",
       "      <td>0</td>\n",
       "      <td>0</td>\n",
       "      <td>1</td>\n",
       "      <td>0</td>\n",
       "      <td>0</td>\n",
       "      <td>0</td>\n",
       "      <td>0</td>\n",
       "      <td>0</td>\n",
       "      <td>1</td>\n",
       "      <td>0</td>\n",
       "      <td>1</td>\n",
       "      <td>0</td>\n",
       "      <td>0</td>\n",
       "      <td>1</td>\n",
       "      <td>0</td>\n",
       "    </tr>\n",
       "  </tbody>\n",
       "</table>\n",
       "</div>"
      ],
      "text/plain": [
       "   Lead Number              Lead Origin     Lead Source  Converted  \\\n",
       "0       660737                      API      Olark Chat          0   \n",
       "1       660728                      API  Organic Search          0   \n",
       "2       660727  Landing Page Submission  Direct Traffic          1   \n",
       "3       660719  Landing Page Submission  Direct Traffic          0   \n",
       "4       660681  Landing Page Submission          Google          1   \n",
       "\n",
       "   TotalVisits  Page Views Per Visit           Specialization  \\\n",
       "0          0.0                   0.0                    Other   \n",
       "1          5.0                   2.5                    Other   \n",
       "2          2.0                   2.0  Business Administration   \n",
       "3          1.0                   1.0    Media and Advertising   \n",
       "4          2.0                   1.0                    Other   \n",
       "\n",
       "  What is your current occupation    City Last Notable Activity  \\\n",
       "0                      Unemployed  Mumbai              Modified   \n",
       "1                      Unemployed  Mumbai          Email Opened   \n",
       "2                           Other  Mumbai          Email Opened   \n",
       "3                      Unemployed  Mumbai              Modified   \n",
       "4                      Unemployed  Mumbai              Modified   \n",
       "\n",
       "   Lead Origin_Landing Page Submission  Lead Origin_Others  \\\n",
       "0                                    0                   0   \n",
       "1                                    0                   0   \n",
       "2                                    1                   0   \n",
       "3                                    1                   0   \n",
       "4                                    1                   0   \n",
       "\n",
       "   Lead Source_Google  Lead Source_Olark Chat  Lead Source_Organic Search  \\\n",
       "0                   0                       1                           0   \n",
       "1                   0                       0                           1   \n",
       "2                   0                       0                           0   \n",
       "3                   0                       0                           0   \n",
       "4                   1                       0                           0   \n",
       "\n",
       "   Lead Source_Others  Specialization_Business Administration  \\\n",
       "0                   0                                       0   \n",
       "1                   0                                       0   \n",
       "2                   0                                       1   \n",
       "3                   0                                       0   \n",
       "4                   0                                       0   \n",
       "\n",
       "   Specialization_E-Business  Specialization_E-COMMERCE  \\\n",
       "0                          0                          0   \n",
       "1                          0                          0   \n",
       "2                          0                          0   \n",
       "3                          0                          0   \n",
       "4                          0                          0   \n",
       "\n",
       "   Specialization_Finance Management  Specialization_Healthcare Management  \\\n",
       "0                                  0                                     0   \n",
       "1                                  0                                     0   \n",
       "2                                  0                                     0   \n",
       "3                                  0                                     0   \n",
       "4                                  0                                     0   \n",
       "\n",
       "   Specialization_Hospitality Management  \\\n",
       "0                                      0   \n",
       "1                                      0   \n",
       "2                                      0   \n",
       "3                                      0   \n",
       "4                                      0   \n",
       "\n",
       "   Specialization_Human Resource Management  \\\n",
       "0                                         0   \n",
       "1                                         0   \n",
       "2                                         0   \n",
       "3                                         0   \n",
       "4                                         0   \n",
       "\n",
       "   Specialization_IT Projects Management  \\\n",
       "0                                      0   \n",
       "1                                      0   \n",
       "2                                      0   \n",
       "3                                      0   \n",
       "4                                      0   \n",
       "\n",
       "   Specialization_International Business  Specialization_Marketing Management  \\\n",
       "0                                      0                                    0   \n",
       "1                                      0                                    0   \n",
       "2                                      0                                    0   \n",
       "3                                      0                                    0   \n",
       "4                                      0                                    0   \n",
       "\n",
       "   Specialization_Media and Advertising  Specialization_Operations Management  \\\n",
       "0                                     0                                     0   \n",
       "1                                     0                                     0   \n",
       "2                                     0                                     0   \n",
       "3                                     1                                     0   \n",
       "4                                     0                                     0   \n",
       "\n",
       "   Specialization_Other  Specialization_Retail Management  \\\n",
       "0                     1                                 0   \n",
       "1                     1                                 0   \n",
       "2                     0                                 0   \n",
       "3                     0                                 0   \n",
       "4                     1                                 0   \n",
       "\n",
       "   Specialization_Rural and Agribusiness  Specialization_Services Excellence  \\\n",
       "0                                      0                                   0   \n",
       "1                                      0                                   0   \n",
       "2                                      0                                   0   \n",
       "3                                      0                                   0   \n",
       "4                                      0                                   0   \n",
       "\n",
       "   Specialization_Supply Chain Management  Specialization_Travel and Tourism  \\\n",
       "0                                       0                                  0   \n",
       "1                                       0                                  0   \n",
       "2                                       0                                  0   \n",
       "3                                       0                                  0   \n",
       "4                                       0                                  0   \n",
       "\n",
       "   What is your current occupation_Unemployed  \\\n",
       "0                                           1   \n",
       "1                                           1   \n",
       "2                                           0   \n",
       "3                                           1   \n",
       "4                                           1   \n",
       "\n",
       "   What is your current occupation_Working Professional  \\\n",
       "0                                                  0      \n",
       "1                                                  0      \n",
       "2                                                  0      \n",
       "3                                                  0      \n",
       "4                                                  0      \n",
       "\n",
       "   Last Notable Activity_Modified  Last Notable Activity_Others  \\\n",
       "0                               1                             0   \n",
       "1                               0                             0   \n",
       "2                               0                             0   \n",
       "3                               1                             0   \n",
       "4                               1                             0   \n",
       "\n",
       "   Last Notable Activity_SMS Sent  City_Mumbai  City_Other Cities  \n",
       "0                               0            1                  0  \n",
       "1                               0            1                  0  \n",
       "2                               0            1                  0  \n",
       "3                               0            1                  0  \n",
       "4                               0            1                  0  "
      ]
     },
     "execution_count": 113,
     "metadata": {},
     "output_type": "execute_result"
    }
   ],
   "source": [
    "leads.head()"
   ]
  },
  {
   "cell_type": "code",
   "execution_count": 114,
   "metadata": {
    "scrolled": false
   },
   "outputs": [
    {
     "name": "stdout",
     "output_type": "stream",
     "text": [
      "<class 'pandas.core.frame.DataFrame'>\n",
      "Int64Index: 9074 entries, 0 to 9239\n",
      "Data columns (total 41 columns):\n",
      " #   Column                                                Non-Null Count  Dtype  \n",
      "---  ------                                                --------------  -----  \n",
      " 0   Lead Number                                           9074 non-null   int64  \n",
      " 1   Lead Origin                                           9074 non-null   object \n",
      " 2   Lead Source                                           9074 non-null   object \n",
      " 3   Converted                                             9074 non-null   int64  \n",
      " 4   TotalVisits                                           9074 non-null   float64\n",
      " 5   Page Views Per Visit                                  9074 non-null   float64\n",
      " 6   Specialization                                        9074 non-null   object \n",
      " 7   What is your current occupation                       9074 non-null   object \n",
      " 8   City                                                  9074 non-null   object \n",
      " 9   Last Notable Activity                                 9074 non-null   object \n",
      " 10  Lead Origin_Landing Page Submission                   9074 non-null   uint8  \n",
      " 11  Lead Origin_Others                                    9074 non-null   uint8  \n",
      " 12  Lead Source_Google                                    9074 non-null   uint8  \n",
      " 13  Lead Source_Olark Chat                                9074 non-null   uint8  \n",
      " 14  Lead Source_Organic Search                            9074 non-null   uint8  \n",
      " 15  Lead Source_Others                                    9074 non-null   uint8  \n",
      " 16  Specialization_Business Administration                9074 non-null   uint8  \n",
      " 17  Specialization_E-Business                             9074 non-null   uint8  \n",
      " 18  Specialization_E-COMMERCE                             9074 non-null   uint8  \n",
      " 19  Specialization_Finance Management                     9074 non-null   uint8  \n",
      " 20  Specialization_Healthcare Management                  9074 non-null   uint8  \n",
      " 21  Specialization_Hospitality Management                 9074 non-null   uint8  \n",
      " 22  Specialization_Human Resource Management              9074 non-null   uint8  \n",
      " 23  Specialization_IT Projects Management                 9074 non-null   uint8  \n",
      " 24  Specialization_International Business                 9074 non-null   uint8  \n",
      " 25  Specialization_Marketing Management                   9074 non-null   uint8  \n",
      " 26  Specialization_Media and Advertising                  9074 non-null   uint8  \n",
      " 27  Specialization_Operations Management                  9074 non-null   uint8  \n",
      " 28  Specialization_Other                                  9074 non-null   uint8  \n",
      " 29  Specialization_Retail Management                      9074 non-null   uint8  \n",
      " 30  Specialization_Rural and Agribusiness                 9074 non-null   uint8  \n",
      " 31  Specialization_Services Excellence                    9074 non-null   uint8  \n",
      " 32  Specialization_Supply Chain Management                9074 non-null   uint8  \n",
      " 33  Specialization_Travel and Tourism                     9074 non-null   uint8  \n",
      " 34  What is your current occupation_Unemployed            9074 non-null   uint8  \n",
      " 35  What is your current occupation_Working Professional  9074 non-null   uint8  \n",
      " 36  Last Notable Activity_Modified                        9074 non-null   uint8  \n",
      " 37  Last Notable Activity_Others                          9074 non-null   uint8  \n",
      " 38  Last Notable Activity_SMS Sent                        9074 non-null   uint8  \n",
      " 39  City_Mumbai                                           9074 non-null   uint8  \n",
      " 40  City_Other Cities                                     9074 non-null   uint8  \n",
      "dtypes: float64(2), int64(2), object(6), uint8(31)\n",
      "memory usage: 1.0+ MB\n"
     ]
    }
   ],
   "source": [
    "leads.info()"
   ]
  },
  {
   "cell_type": "code",
   "execution_count": 115,
   "metadata": {
    "scrolled": true
   },
   "outputs": [],
   "source": [
    "#Renaming columns appropriately \n",
    "leads = leads.rename(columns = {'Lead Origin_Landing Page Submission' : 'Origin_Landing Page Submission',\n",
    "                                'Lead Origin_Others' : 'Origin_Others',\n",
    "                                'Lead Source_Google' : 'Source_Google', 'Lead Source_Olark Chat':'Source_Olark Chat',\n",
    "                                'Lead Source_Organic Search':'Source_Organic Search',\n",
    "                                'Lead Source_Others':'Source_Others',\n",
    "                                'What is your current occupation_Unemployed':'Unemployed',\n",
    "                                'What is your current occupation_Working Professional':'Working Professional',\n",
    "                                'City_Other Cities' : 'Other Cities','City_Mumbai':'Mumbai',\n",
    "                                'Last Notable Activity_SMS Sent':'Last Activity_SMS Sent',\n",
    "                                'Last Notable Activity_Modified':'Last Activity_Modified',\n",
    "                                'Last Notable Activity_Others':'Last Activity_Other'})"
   ]
  },
  {
   "cell_type": "code",
   "execution_count": 116,
   "metadata": {
    "scrolled": true
   },
   "outputs": [
    {
     "data": {
      "text/html": [
       "<div>\n",
       "<style scoped>\n",
       "    .dataframe tbody tr th:only-of-type {\n",
       "        vertical-align: middle;\n",
       "    }\n",
       "\n",
       "    .dataframe tbody tr th {\n",
       "        vertical-align: top;\n",
       "    }\n",
       "\n",
       "    .dataframe thead th {\n",
       "        text-align: right;\n",
       "    }\n",
       "</style>\n",
       "<table border=\"1\" class=\"dataframe\">\n",
       "  <thead>\n",
       "    <tr style=\"text-align: right;\">\n",
       "      <th></th>\n",
       "      <th>Lead Number</th>\n",
       "      <th>Lead Origin</th>\n",
       "      <th>Lead Source</th>\n",
       "      <th>Converted</th>\n",
       "      <th>TotalVisits</th>\n",
       "      <th>Page Views Per Visit</th>\n",
       "      <th>Specialization</th>\n",
       "      <th>What is your current occupation</th>\n",
       "      <th>City</th>\n",
       "      <th>Last Notable Activity</th>\n",
       "      <th>Origin_Landing Page Submission</th>\n",
       "      <th>Origin_Others</th>\n",
       "      <th>Source_Google</th>\n",
       "      <th>Source_Olark Chat</th>\n",
       "      <th>Source_Organic Search</th>\n",
       "      <th>Source_Others</th>\n",
       "      <th>Specialization_Business Administration</th>\n",
       "      <th>Specialization_E-Business</th>\n",
       "      <th>Specialization_E-COMMERCE</th>\n",
       "      <th>Specialization_Finance Management</th>\n",
       "      <th>Specialization_Healthcare Management</th>\n",
       "      <th>Specialization_Hospitality Management</th>\n",
       "      <th>Specialization_Human Resource Management</th>\n",
       "      <th>Specialization_IT Projects Management</th>\n",
       "      <th>Specialization_International Business</th>\n",
       "      <th>Specialization_Marketing Management</th>\n",
       "      <th>Specialization_Media and Advertising</th>\n",
       "      <th>Specialization_Operations Management</th>\n",
       "      <th>Specialization_Other</th>\n",
       "      <th>Specialization_Retail Management</th>\n",
       "      <th>Specialization_Rural and Agribusiness</th>\n",
       "      <th>Specialization_Services Excellence</th>\n",
       "      <th>Specialization_Supply Chain Management</th>\n",
       "      <th>Specialization_Travel and Tourism</th>\n",
       "      <th>Unemployed</th>\n",
       "      <th>Working Professional</th>\n",
       "      <th>Last Activity_Modified</th>\n",
       "      <th>Last Activity_Other</th>\n",
       "      <th>Last Activity_SMS Sent</th>\n",
       "      <th>Mumbai</th>\n",
       "      <th>Other Cities</th>\n",
       "    </tr>\n",
       "  </thead>\n",
       "  <tbody>\n",
       "    <tr>\n",
       "      <th>0</th>\n",
       "      <td>660737</td>\n",
       "      <td>API</td>\n",
       "      <td>Olark Chat</td>\n",
       "      <td>0</td>\n",
       "      <td>0.0</td>\n",
       "      <td>0.0</td>\n",
       "      <td>Other</td>\n",
       "      <td>Unemployed</td>\n",
       "      <td>Mumbai</td>\n",
       "      <td>Modified</td>\n",
       "      <td>0</td>\n",
       "      <td>0</td>\n",
       "      <td>0</td>\n",
       "      <td>1</td>\n",
       "      <td>0</td>\n",
       "      <td>0</td>\n",
       "      <td>0</td>\n",
       "      <td>0</td>\n",
       "      <td>0</td>\n",
       "      <td>0</td>\n",
       "      <td>0</td>\n",
       "      <td>0</td>\n",
       "      <td>0</td>\n",
       "      <td>0</td>\n",
       "      <td>0</td>\n",
       "      <td>0</td>\n",
       "      <td>0</td>\n",
       "      <td>0</td>\n",
       "      <td>1</td>\n",
       "      <td>0</td>\n",
       "      <td>0</td>\n",
       "      <td>0</td>\n",
       "      <td>0</td>\n",
       "      <td>0</td>\n",
       "      <td>1</td>\n",
       "      <td>0</td>\n",
       "      <td>1</td>\n",
       "      <td>0</td>\n",
       "      <td>0</td>\n",
       "      <td>1</td>\n",
       "      <td>0</td>\n",
       "    </tr>\n",
       "    <tr>\n",
       "      <th>1</th>\n",
       "      <td>660728</td>\n",
       "      <td>API</td>\n",
       "      <td>Organic Search</td>\n",
       "      <td>0</td>\n",
       "      <td>5.0</td>\n",
       "      <td>2.5</td>\n",
       "      <td>Other</td>\n",
       "      <td>Unemployed</td>\n",
       "      <td>Mumbai</td>\n",
       "      <td>Email Opened</td>\n",
       "      <td>0</td>\n",
       "      <td>0</td>\n",
       "      <td>0</td>\n",
       "      <td>0</td>\n",
       "      <td>1</td>\n",
       "      <td>0</td>\n",
       "      <td>0</td>\n",
       "      <td>0</td>\n",
       "      <td>0</td>\n",
       "      <td>0</td>\n",
       "      <td>0</td>\n",
       "      <td>0</td>\n",
       "      <td>0</td>\n",
       "      <td>0</td>\n",
       "      <td>0</td>\n",
       "      <td>0</td>\n",
       "      <td>0</td>\n",
       "      <td>0</td>\n",
       "      <td>1</td>\n",
       "      <td>0</td>\n",
       "      <td>0</td>\n",
       "      <td>0</td>\n",
       "      <td>0</td>\n",
       "      <td>0</td>\n",
       "      <td>1</td>\n",
       "      <td>0</td>\n",
       "      <td>0</td>\n",
       "      <td>0</td>\n",
       "      <td>0</td>\n",
       "      <td>1</td>\n",
       "      <td>0</td>\n",
       "    </tr>\n",
       "    <tr>\n",
       "      <th>2</th>\n",
       "      <td>660727</td>\n",
       "      <td>Landing Page Submission</td>\n",
       "      <td>Direct Traffic</td>\n",
       "      <td>1</td>\n",
       "      <td>2.0</td>\n",
       "      <td>2.0</td>\n",
       "      <td>Business Administration</td>\n",
       "      <td>Other</td>\n",
       "      <td>Mumbai</td>\n",
       "      <td>Email Opened</td>\n",
       "      <td>1</td>\n",
       "      <td>0</td>\n",
       "      <td>0</td>\n",
       "      <td>0</td>\n",
       "      <td>0</td>\n",
       "      <td>0</td>\n",
       "      <td>1</td>\n",
       "      <td>0</td>\n",
       "      <td>0</td>\n",
       "      <td>0</td>\n",
       "      <td>0</td>\n",
       "      <td>0</td>\n",
       "      <td>0</td>\n",
       "      <td>0</td>\n",
       "      <td>0</td>\n",
       "      <td>0</td>\n",
       "      <td>0</td>\n",
       "      <td>0</td>\n",
       "      <td>0</td>\n",
       "      <td>0</td>\n",
       "      <td>0</td>\n",
       "      <td>0</td>\n",
       "      <td>0</td>\n",
       "      <td>0</td>\n",
       "      <td>0</td>\n",
       "      <td>0</td>\n",
       "      <td>0</td>\n",
       "      <td>0</td>\n",
       "      <td>0</td>\n",
       "      <td>1</td>\n",
       "      <td>0</td>\n",
       "    </tr>\n",
       "    <tr>\n",
       "      <th>3</th>\n",
       "      <td>660719</td>\n",
       "      <td>Landing Page Submission</td>\n",
       "      <td>Direct Traffic</td>\n",
       "      <td>0</td>\n",
       "      <td>1.0</td>\n",
       "      <td>1.0</td>\n",
       "      <td>Media and Advertising</td>\n",
       "      <td>Unemployed</td>\n",
       "      <td>Mumbai</td>\n",
       "      <td>Modified</td>\n",
       "      <td>1</td>\n",
       "      <td>0</td>\n",
       "      <td>0</td>\n",
       "      <td>0</td>\n",
       "      <td>0</td>\n",
       "      <td>0</td>\n",
       "      <td>0</td>\n",
       "      <td>0</td>\n",
       "      <td>0</td>\n",
       "      <td>0</td>\n",
       "      <td>0</td>\n",
       "      <td>0</td>\n",
       "      <td>0</td>\n",
       "      <td>0</td>\n",
       "      <td>0</td>\n",
       "      <td>0</td>\n",
       "      <td>1</td>\n",
       "      <td>0</td>\n",
       "      <td>0</td>\n",
       "      <td>0</td>\n",
       "      <td>0</td>\n",
       "      <td>0</td>\n",
       "      <td>0</td>\n",
       "      <td>0</td>\n",
       "      <td>1</td>\n",
       "      <td>0</td>\n",
       "      <td>1</td>\n",
       "      <td>0</td>\n",
       "      <td>0</td>\n",
       "      <td>1</td>\n",
       "      <td>0</td>\n",
       "    </tr>\n",
       "    <tr>\n",
       "      <th>4</th>\n",
       "      <td>660681</td>\n",
       "      <td>Landing Page Submission</td>\n",
       "      <td>Google</td>\n",
       "      <td>1</td>\n",
       "      <td>2.0</td>\n",
       "      <td>1.0</td>\n",
       "      <td>Other</td>\n",
       "      <td>Unemployed</td>\n",
       "      <td>Mumbai</td>\n",
       "      <td>Modified</td>\n",
       "      <td>1</td>\n",
       "      <td>0</td>\n",
       "      <td>1</td>\n",
       "      <td>0</td>\n",
       "      <td>0</td>\n",
       "      <td>0</td>\n",
       "      <td>0</td>\n",
       "      <td>0</td>\n",
       "      <td>0</td>\n",
       "      <td>0</td>\n",
       "      <td>0</td>\n",
       "      <td>0</td>\n",
       "      <td>0</td>\n",
       "      <td>0</td>\n",
       "      <td>0</td>\n",
       "      <td>0</td>\n",
       "      <td>0</td>\n",
       "      <td>0</td>\n",
       "      <td>1</td>\n",
       "      <td>0</td>\n",
       "      <td>0</td>\n",
       "      <td>0</td>\n",
       "      <td>0</td>\n",
       "      <td>0</td>\n",
       "      <td>1</td>\n",
       "      <td>0</td>\n",
       "      <td>1</td>\n",
       "      <td>0</td>\n",
       "      <td>0</td>\n",
       "      <td>1</td>\n",
       "      <td>0</td>\n",
       "    </tr>\n",
       "  </tbody>\n",
       "</table>\n",
       "</div>"
      ],
      "text/plain": [
       "   Lead Number              Lead Origin     Lead Source  Converted  \\\n",
       "0       660737                      API      Olark Chat          0   \n",
       "1       660728                      API  Organic Search          0   \n",
       "2       660727  Landing Page Submission  Direct Traffic          1   \n",
       "3       660719  Landing Page Submission  Direct Traffic          0   \n",
       "4       660681  Landing Page Submission          Google          1   \n",
       "\n",
       "   TotalVisits  Page Views Per Visit           Specialization  \\\n",
       "0          0.0                   0.0                    Other   \n",
       "1          5.0                   2.5                    Other   \n",
       "2          2.0                   2.0  Business Administration   \n",
       "3          1.0                   1.0    Media and Advertising   \n",
       "4          2.0                   1.0                    Other   \n",
       "\n",
       "  What is your current occupation    City Last Notable Activity  \\\n",
       "0                      Unemployed  Mumbai              Modified   \n",
       "1                      Unemployed  Mumbai          Email Opened   \n",
       "2                           Other  Mumbai          Email Opened   \n",
       "3                      Unemployed  Mumbai              Modified   \n",
       "4                      Unemployed  Mumbai              Modified   \n",
       "\n",
       "   Origin_Landing Page Submission  Origin_Others  Source_Google  \\\n",
       "0                               0              0              0   \n",
       "1                               0              0              0   \n",
       "2                               1              0              0   \n",
       "3                               1              0              0   \n",
       "4                               1              0              1   \n",
       "\n",
       "   Source_Olark Chat  Source_Organic Search  Source_Others  \\\n",
       "0                  1                      0              0   \n",
       "1                  0                      1              0   \n",
       "2                  0                      0              0   \n",
       "3                  0                      0              0   \n",
       "4                  0                      0              0   \n",
       "\n",
       "   Specialization_Business Administration  Specialization_E-Business  \\\n",
       "0                                       0                          0   \n",
       "1                                       0                          0   \n",
       "2                                       1                          0   \n",
       "3                                       0                          0   \n",
       "4                                       0                          0   \n",
       "\n",
       "   Specialization_E-COMMERCE  Specialization_Finance Management  \\\n",
       "0                          0                                  0   \n",
       "1                          0                                  0   \n",
       "2                          0                                  0   \n",
       "3                          0                                  0   \n",
       "4                          0                                  0   \n",
       "\n",
       "   Specialization_Healthcare Management  \\\n",
       "0                                     0   \n",
       "1                                     0   \n",
       "2                                     0   \n",
       "3                                     0   \n",
       "4                                     0   \n",
       "\n",
       "   Specialization_Hospitality Management  \\\n",
       "0                                      0   \n",
       "1                                      0   \n",
       "2                                      0   \n",
       "3                                      0   \n",
       "4                                      0   \n",
       "\n",
       "   Specialization_Human Resource Management  \\\n",
       "0                                         0   \n",
       "1                                         0   \n",
       "2                                         0   \n",
       "3                                         0   \n",
       "4                                         0   \n",
       "\n",
       "   Specialization_IT Projects Management  \\\n",
       "0                                      0   \n",
       "1                                      0   \n",
       "2                                      0   \n",
       "3                                      0   \n",
       "4                                      0   \n",
       "\n",
       "   Specialization_International Business  Specialization_Marketing Management  \\\n",
       "0                                      0                                    0   \n",
       "1                                      0                                    0   \n",
       "2                                      0                                    0   \n",
       "3                                      0                                    0   \n",
       "4                                      0                                    0   \n",
       "\n",
       "   Specialization_Media and Advertising  Specialization_Operations Management  \\\n",
       "0                                     0                                     0   \n",
       "1                                     0                                     0   \n",
       "2                                     0                                     0   \n",
       "3                                     1                                     0   \n",
       "4                                     0                                     0   \n",
       "\n",
       "   Specialization_Other  Specialization_Retail Management  \\\n",
       "0                     1                                 0   \n",
       "1                     1                                 0   \n",
       "2                     0                                 0   \n",
       "3                     0                                 0   \n",
       "4                     1                                 0   \n",
       "\n",
       "   Specialization_Rural and Agribusiness  Specialization_Services Excellence  \\\n",
       "0                                      0                                   0   \n",
       "1                                      0                                   0   \n",
       "2                                      0                                   0   \n",
       "3                                      0                                   0   \n",
       "4                                      0                                   0   \n",
       "\n",
       "   Specialization_Supply Chain Management  Specialization_Travel and Tourism  \\\n",
       "0                                       0                                  0   \n",
       "1                                       0                                  0   \n",
       "2                                       0                                  0   \n",
       "3                                       0                                  0   \n",
       "4                                       0                                  0   \n",
       "\n",
       "   Unemployed  Working Professional  Last Activity_Modified  \\\n",
       "0           1                     0                       1   \n",
       "1           1                     0                       0   \n",
       "2           0                     0                       0   \n",
       "3           1                     0                       1   \n",
       "4           1                     0                       1   \n",
       "\n",
       "   Last Activity_Other  Last Activity_SMS Sent  Mumbai  Other Cities  \n",
       "0                    0                       0       1             0  \n",
       "1                    0                       0       1             0  \n",
       "2                    0                       0       1             0  \n",
       "3                    0                       0       1             0  \n",
       "4                    0                       0       1             0  "
      ]
     },
     "execution_count": 116,
     "metadata": {},
     "output_type": "execute_result"
    }
   ],
   "source": [
    "leads.head()"
   ]
  },
  {
   "cell_type": "code",
   "execution_count": 117,
   "metadata": {},
   "outputs": [
    {
     "data": {
      "text/plain": [
       "Index(['Lead Number', 'Lead Origin', 'Lead Source', 'Converted', 'TotalVisits',\n",
       "       'Page Views Per Visit', 'Specialization',\n",
       "       'What is your current occupation', 'City', 'Last Notable Activity',\n",
       "       'Origin_Landing Page Submission', 'Origin_Others', 'Source_Google',\n",
       "       'Source_Olark Chat', 'Source_Organic Search', 'Source_Others',\n",
       "       'Specialization_Business Administration', 'Specialization_E-Business',\n",
       "       'Specialization_E-COMMERCE', 'Specialization_Finance Management',\n",
       "       'Specialization_Healthcare Management',\n",
       "       'Specialization_Hospitality Management',\n",
       "       'Specialization_Human Resource Management',\n",
       "       'Specialization_IT Projects Management',\n",
       "       'Specialization_International Business',\n",
       "       'Specialization_Marketing Management',\n",
       "       'Specialization_Media and Advertising',\n",
       "       'Specialization_Operations Management', 'Specialization_Other',\n",
       "       'Specialization_Retail Management',\n",
       "       'Specialization_Rural and Agribusiness',\n",
       "       'Specialization_Services Excellence',\n",
       "       'Specialization_Supply Chain Management',\n",
       "       'Specialization_Travel and Tourism', 'Unemployed',\n",
       "       'Working Professional', 'Last Activity_Modified', 'Last Activity_Other',\n",
       "       'Last Activity_SMS Sent', 'Mumbai', 'Other Cities'],\n",
       "      dtype='object')"
      ]
     },
     "execution_count": 117,
     "metadata": {},
     "output_type": "execute_result"
    }
   ],
   "source": [
    "leads.columns"
   ]
  },
  {
   "cell_type": "code",
   "execution_count": 118,
   "metadata": {},
   "outputs": [],
   "source": [
    "# Dropping original column\n",
    "leads = leads.drop(['Lead Origin', 'Lead Source', 'Specialization',\n",
    "                    'What is your current occupation', 'City','Last Notable Activity'], axis = 1)"
   ]
  },
  {
   "cell_type": "code",
   "execution_count": 119,
   "metadata": {},
   "outputs": [
    {
     "data": {
      "text/html": [
       "<div>\n",
       "<style scoped>\n",
       "    .dataframe tbody tr th:only-of-type {\n",
       "        vertical-align: middle;\n",
       "    }\n",
       "\n",
       "    .dataframe tbody tr th {\n",
       "        vertical-align: top;\n",
       "    }\n",
       "\n",
       "    .dataframe thead th {\n",
       "        text-align: right;\n",
       "    }\n",
       "</style>\n",
       "<table border=\"1\" class=\"dataframe\">\n",
       "  <thead>\n",
       "    <tr style=\"text-align: right;\">\n",
       "      <th></th>\n",
       "      <th>Lead Number</th>\n",
       "      <th>Converted</th>\n",
       "      <th>TotalVisits</th>\n",
       "      <th>Page Views Per Visit</th>\n",
       "      <th>Origin_Landing Page Submission</th>\n",
       "      <th>Origin_Others</th>\n",
       "      <th>Source_Google</th>\n",
       "      <th>Source_Olark Chat</th>\n",
       "      <th>Source_Organic Search</th>\n",
       "      <th>Source_Others</th>\n",
       "      <th>Specialization_Business Administration</th>\n",
       "      <th>Specialization_E-Business</th>\n",
       "      <th>Specialization_E-COMMERCE</th>\n",
       "      <th>Specialization_Finance Management</th>\n",
       "      <th>Specialization_Healthcare Management</th>\n",
       "      <th>Specialization_Hospitality Management</th>\n",
       "      <th>Specialization_Human Resource Management</th>\n",
       "      <th>Specialization_IT Projects Management</th>\n",
       "      <th>Specialization_International Business</th>\n",
       "      <th>Specialization_Marketing Management</th>\n",
       "      <th>Specialization_Media and Advertising</th>\n",
       "      <th>Specialization_Operations Management</th>\n",
       "      <th>Specialization_Other</th>\n",
       "      <th>Specialization_Retail Management</th>\n",
       "      <th>Specialization_Rural and Agribusiness</th>\n",
       "      <th>Specialization_Services Excellence</th>\n",
       "      <th>Specialization_Supply Chain Management</th>\n",
       "      <th>Specialization_Travel and Tourism</th>\n",
       "      <th>Unemployed</th>\n",
       "      <th>Working Professional</th>\n",
       "      <th>Last Activity_Modified</th>\n",
       "      <th>Last Activity_Other</th>\n",
       "      <th>Last Activity_SMS Sent</th>\n",
       "      <th>Mumbai</th>\n",
       "      <th>Other Cities</th>\n",
       "    </tr>\n",
       "  </thead>\n",
       "  <tbody>\n",
       "    <tr>\n",
       "      <th>0</th>\n",
       "      <td>660737</td>\n",
       "      <td>0</td>\n",
       "      <td>0.0</td>\n",
       "      <td>0.0</td>\n",
       "      <td>0</td>\n",
       "      <td>0</td>\n",
       "      <td>0</td>\n",
       "      <td>1</td>\n",
       "      <td>0</td>\n",
       "      <td>0</td>\n",
       "      <td>0</td>\n",
       "      <td>0</td>\n",
       "      <td>0</td>\n",
       "      <td>0</td>\n",
       "      <td>0</td>\n",
       "      <td>0</td>\n",
       "      <td>0</td>\n",
       "      <td>0</td>\n",
       "      <td>0</td>\n",
       "      <td>0</td>\n",
       "      <td>0</td>\n",
       "      <td>0</td>\n",
       "      <td>1</td>\n",
       "      <td>0</td>\n",
       "      <td>0</td>\n",
       "      <td>0</td>\n",
       "      <td>0</td>\n",
       "      <td>0</td>\n",
       "      <td>1</td>\n",
       "      <td>0</td>\n",
       "      <td>1</td>\n",
       "      <td>0</td>\n",
       "      <td>0</td>\n",
       "      <td>1</td>\n",
       "      <td>0</td>\n",
       "    </tr>\n",
       "    <tr>\n",
       "      <th>1</th>\n",
       "      <td>660728</td>\n",
       "      <td>0</td>\n",
       "      <td>5.0</td>\n",
       "      <td>2.5</td>\n",
       "      <td>0</td>\n",
       "      <td>0</td>\n",
       "      <td>0</td>\n",
       "      <td>0</td>\n",
       "      <td>1</td>\n",
       "      <td>0</td>\n",
       "      <td>0</td>\n",
       "      <td>0</td>\n",
       "      <td>0</td>\n",
       "      <td>0</td>\n",
       "      <td>0</td>\n",
       "      <td>0</td>\n",
       "      <td>0</td>\n",
       "      <td>0</td>\n",
       "      <td>0</td>\n",
       "      <td>0</td>\n",
       "      <td>0</td>\n",
       "      <td>0</td>\n",
       "      <td>1</td>\n",
       "      <td>0</td>\n",
       "      <td>0</td>\n",
       "      <td>0</td>\n",
       "      <td>0</td>\n",
       "      <td>0</td>\n",
       "      <td>1</td>\n",
       "      <td>0</td>\n",
       "      <td>0</td>\n",
       "      <td>0</td>\n",
       "      <td>0</td>\n",
       "      <td>1</td>\n",
       "      <td>0</td>\n",
       "    </tr>\n",
       "    <tr>\n",
       "      <th>2</th>\n",
       "      <td>660727</td>\n",
       "      <td>1</td>\n",
       "      <td>2.0</td>\n",
       "      <td>2.0</td>\n",
       "      <td>1</td>\n",
       "      <td>0</td>\n",
       "      <td>0</td>\n",
       "      <td>0</td>\n",
       "      <td>0</td>\n",
       "      <td>0</td>\n",
       "      <td>1</td>\n",
       "      <td>0</td>\n",
       "      <td>0</td>\n",
       "      <td>0</td>\n",
       "      <td>0</td>\n",
       "      <td>0</td>\n",
       "      <td>0</td>\n",
       "      <td>0</td>\n",
       "      <td>0</td>\n",
       "      <td>0</td>\n",
       "      <td>0</td>\n",
       "      <td>0</td>\n",
       "      <td>0</td>\n",
       "      <td>0</td>\n",
       "      <td>0</td>\n",
       "      <td>0</td>\n",
       "      <td>0</td>\n",
       "      <td>0</td>\n",
       "      <td>0</td>\n",
       "      <td>0</td>\n",
       "      <td>0</td>\n",
       "      <td>0</td>\n",
       "      <td>0</td>\n",
       "      <td>1</td>\n",
       "      <td>0</td>\n",
       "    </tr>\n",
       "    <tr>\n",
       "      <th>3</th>\n",
       "      <td>660719</td>\n",
       "      <td>0</td>\n",
       "      <td>1.0</td>\n",
       "      <td>1.0</td>\n",
       "      <td>1</td>\n",
       "      <td>0</td>\n",
       "      <td>0</td>\n",
       "      <td>0</td>\n",
       "      <td>0</td>\n",
       "      <td>0</td>\n",
       "      <td>0</td>\n",
       "      <td>0</td>\n",
       "      <td>0</td>\n",
       "      <td>0</td>\n",
       "      <td>0</td>\n",
       "      <td>0</td>\n",
       "      <td>0</td>\n",
       "      <td>0</td>\n",
       "      <td>0</td>\n",
       "      <td>0</td>\n",
       "      <td>1</td>\n",
       "      <td>0</td>\n",
       "      <td>0</td>\n",
       "      <td>0</td>\n",
       "      <td>0</td>\n",
       "      <td>0</td>\n",
       "      <td>0</td>\n",
       "      <td>0</td>\n",
       "      <td>1</td>\n",
       "      <td>0</td>\n",
       "      <td>1</td>\n",
       "      <td>0</td>\n",
       "      <td>0</td>\n",
       "      <td>1</td>\n",
       "      <td>0</td>\n",
       "    </tr>\n",
       "    <tr>\n",
       "      <th>4</th>\n",
       "      <td>660681</td>\n",
       "      <td>1</td>\n",
       "      <td>2.0</td>\n",
       "      <td>1.0</td>\n",
       "      <td>1</td>\n",
       "      <td>0</td>\n",
       "      <td>1</td>\n",
       "      <td>0</td>\n",
       "      <td>0</td>\n",
       "      <td>0</td>\n",
       "      <td>0</td>\n",
       "      <td>0</td>\n",
       "      <td>0</td>\n",
       "      <td>0</td>\n",
       "      <td>0</td>\n",
       "      <td>0</td>\n",
       "      <td>0</td>\n",
       "      <td>0</td>\n",
       "      <td>0</td>\n",
       "      <td>0</td>\n",
       "      <td>0</td>\n",
       "      <td>0</td>\n",
       "      <td>1</td>\n",
       "      <td>0</td>\n",
       "      <td>0</td>\n",
       "      <td>0</td>\n",
       "      <td>0</td>\n",
       "      <td>0</td>\n",
       "      <td>1</td>\n",
       "      <td>0</td>\n",
       "      <td>1</td>\n",
       "      <td>0</td>\n",
       "      <td>0</td>\n",
       "      <td>1</td>\n",
       "      <td>0</td>\n",
       "    </tr>\n",
       "  </tbody>\n",
       "</table>\n",
       "</div>"
      ],
      "text/plain": [
       "   Lead Number  Converted  TotalVisits  Page Views Per Visit  \\\n",
       "0       660737          0          0.0                   0.0   \n",
       "1       660728          0          5.0                   2.5   \n",
       "2       660727          1          2.0                   2.0   \n",
       "3       660719          0          1.0                   1.0   \n",
       "4       660681          1          2.0                   1.0   \n",
       "\n",
       "   Origin_Landing Page Submission  Origin_Others  Source_Google  \\\n",
       "0                               0              0              0   \n",
       "1                               0              0              0   \n",
       "2                               1              0              0   \n",
       "3                               1              0              0   \n",
       "4                               1              0              1   \n",
       "\n",
       "   Source_Olark Chat  Source_Organic Search  Source_Others  \\\n",
       "0                  1                      0              0   \n",
       "1                  0                      1              0   \n",
       "2                  0                      0              0   \n",
       "3                  0                      0              0   \n",
       "4                  0                      0              0   \n",
       "\n",
       "   Specialization_Business Administration  Specialization_E-Business  \\\n",
       "0                                       0                          0   \n",
       "1                                       0                          0   \n",
       "2                                       1                          0   \n",
       "3                                       0                          0   \n",
       "4                                       0                          0   \n",
       "\n",
       "   Specialization_E-COMMERCE  Specialization_Finance Management  \\\n",
       "0                          0                                  0   \n",
       "1                          0                                  0   \n",
       "2                          0                                  0   \n",
       "3                          0                                  0   \n",
       "4                          0                                  0   \n",
       "\n",
       "   Specialization_Healthcare Management  \\\n",
       "0                                     0   \n",
       "1                                     0   \n",
       "2                                     0   \n",
       "3                                     0   \n",
       "4                                     0   \n",
       "\n",
       "   Specialization_Hospitality Management  \\\n",
       "0                                      0   \n",
       "1                                      0   \n",
       "2                                      0   \n",
       "3                                      0   \n",
       "4                                      0   \n",
       "\n",
       "   Specialization_Human Resource Management  \\\n",
       "0                                         0   \n",
       "1                                         0   \n",
       "2                                         0   \n",
       "3                                         0   \n",
       "4                                         0   \n",
       "\n",
       "   Specialization_IT Projects Management  \\\n",
       "0                                      0   \n",
       "1                                      0   \n",
       "2                                      0   \n",
       "3                                      0   \n",
       "4                                      0   \n",
       "\n",
       "   Specialization_International Business  Specialization_Marketing Management  \\\n",
       "0                                      0                                    0   \n",
       "1                                      0                                    0   \n",
       "2                                      0                                    0   \n",
       "3                                      0                                    0   \n",
       "4                                      0                                    0   \n",
       "\n",
       "   Specialization_Media and Advertising  Specialization_Operations Management  \\\n",
       "0                                     0                                     0   \n",
       "1                                     0                                     0   \n",
       "2                                     0                                     0   \n",
       "3                                     1                                     0   \n",
       "4                                     0                                     0   \n",
       "\n",
       "   Specialization_Other  Specialization_Retail Management  \\\n",
       "0                     1                                 0   \n",
       "1                     1                                 0   \n",
       "2                     0                                 0   \n",
       "3                     0                                 0   \n",
       "4                     1                                 0   \n",
       "\n",
       "   Specialization_Rural and Agribusiness  Specialization_Services Excellence  \\\n",
       "0                                      0                                   0   \n",
       "1                                      0                                   0   \n",
       "2                                      0                                   0   \n",
       "3                                      0                                   0   \n",
       "4                                      0                                   0   \n",
       "\n",
       "   Specialization_Supply Chain Management  Specialization_Travel and Tourism  \\\n",
       "0                                       0                                  0   \n",
       "1                                       0                                  0   \n",
       "2                                       0                                  0   \n",
       "3                                       0                                  0   \n",
       "4                                       0                                  0   \n",
       "\n",
       "   Unemployed  Working Professional  Last Activity_Modified  \\\n",
       "0           1                     0                       1   \n",
       "1           1                     0                       0   \n",
       "2           0                     0                       0   \n",
       "3           1                     0                       1   \n",
       "4           1                     0                       1   \n",
       "\n",
       "   Last Activity_Other  Last Activity_SMS Sent  Mumbai  Other Cities  \n",
       "0                    0                       0       1             0  \n",
       "1                    0                       0       1             0  \n",
       "2                    0                       0       1             0  \n",
       "3                    0                       0       1             0  \n",
       "4                    0                       0       1             0  "
      ]
     },
     "execution_count": 119,
     "metadata": {},
     "output_type": "execute_result"
    }
   ],
   "source": [
    "leads.head()"
   ]
  },
  {
   "cell_type": "code",
   "execution_count": 120,
   "metadata": {},
   "outputs": [
    {
     "name": "stdout",
     "output_type": "stream",
     "text": [
      "<class 'pandas.core.frame.DataFrame'>\n",
      "Int64Index: 9074 entries, 0 to 9239\n",
      "Data columns (total 35 columns):\n",
      " #   Column                                    Non-Null Count  Dtype  \n",
      "---  ------                                    --------------  -----  \n",
      " 0   Lead Number                               9074 non-null   int64  \n",
      " 1   Converted                                 9074 non-null   int64  \n",
      " 2   TotalVisits                               9074 non-null   float64\n",
      " 3   Page Views Per Visit                      9074 non-null   float64\n",
      " 4   Origin_Landing Page Submission            9074 non-null   uint8  \n",
      " 5   Origin_Others                             9074 non-null   uint8  \n",
      " 6   Source_Google                             9074 non-null   uint8  \n",
      " 7   Source_Olark Chat                         9074 non-null   uint8  \n",
      " 8   Source_Organic Search                     9074 non-null   uint8  \n",
      " 9   Source_Others                             9074 non-null   uint8  \n",
      " 10  Specialization_Business Administration    9074 non-null   uint8  \n",
      " 11  Specialization_E-Business                 9074 non-null   uint8  \n",
      " 12  Specialization_E-COMMERCE                 9074 non-null   uint8  \n",
      " 13  Specialization_Finance Management         9074 non-null   uint8  \n",
      " 14  Specialization_Healthcare Management      9074 non-null   uint8  \n",
      " 15  Specialization_Hospitality Management     9074 non-null   uint8  \n",
      " 16  Specialization_Human Resource Management  9074 non-null   uint8  \n",
      " 17  Specialization_IT Projects Management     9074 non-null   uint8  \n",
      " 18  Specialization_International Business     9074 non-null   uint8  \n",
      " 19  Specialization_Marketing Management       9074 non-null   uint8  \n",
      " 20  Specialization_Media and Advertising      9074 non-null   uint8  \n",
      " 21  Specialization_Operations Management      9074 non-null   uint8  \n",
      " 22  Specialization_Other                      9074 non-null   uint8  \n",
      " 23  Specialization_Retail Management          9074 non-null   uint8  \n",
      " 24  Specialization_Rural and Agribusiness     9074 non-null   uint8  \n",
      " 25  Specialization_Services Excellence        9074 non-null   uint8  \n",
      " 26  Specialization_Supply Chain Management    9074 non-null   uint8  \n",
      " 27  Specialization_Travel and Tourism         9074 non-null   uint8  \n",
      " 28  Unemployed                                9074 non-null   uint8  \n",
      " 29  Working Professional                      9074 non-null   uint8  \n",
      " 30  Last Activity_Modified                    9074 non-null   uint8  \n",
      " 31  Last Activity_Other                       9074 non-null   uint8  \n",
      " 32  Last Activity_SMS Sent                    9074 non-null   uint8  \n",
      " 33  Mumbai                                    9074 non-null   uint8  \n",
      " 34  Other Cities                              9074 non-null   uint8  \n",
      "dtypes: float64(2), int64(2), uint8(31)\n",
      "memory usage: 629.2 KB\n"
     ]
    }
   ],
   "source": [
    "leads.info()"
   ]
  },
  {
   "cell_type": "markdown",
   "metadata": {},
   "source": [
    "## Train-Test Split"
   ]
  },
  {
   "cell_type": "code",
   "execution_count": 121,
   "metadata": {},
   "outputs": [],
   "source": [
    "# Importing the required Library\n",
    "from sklearn.model_selection import train_test_split"
   ]
  },
  {
   "cell_type": "code",
   "execution_count": 122,
   "metadata": {},
   "outputs": [
    {
     "data": {
      "text/html": [
       "<div>\n",
       "<style scoped>\n",
       "    .dataframe tbody tr th:only-of-type {\n",
       "        vertical-align: middle;\n",
       "    }\n",
       "\n",
       "    .dataframe tbody tr th {\n",
       "        vertical-align: top;\n",
       "    }\n",
       "\n",
       "    .dataframe thead th {\n",
       "        text-align: right;\n",
       "    }\n",
       "</style>\n",
       "<table border=\"1\" class=\"dataframe\">\n",
       "  <thead>\n",
       "    <tr style=\"text-align: right;\">\n",
       "      <th></th>\n",
       "      <th>TotalVisits</th>\n",
       "      <th>Page Views Per Visit</th>\n",
       "      <th>Origin_Landing Page Submission</th>\n",
       "      <th>Origin_Others</th>\n",
       "      <th>Source_Google</th>\n",
       "      <th>Source_Olark Chat</th>\n",
       "      <th>Source_Organic Search</th>\n",
       "      <th>Source_Others</th>\n",
       "      <th>Specialization_Business Administration</th>\n",
       "      <th>Specialization_E-Business</th>\n",
       "      <th>Specialization_E-COMMERCE</th>\n",
       "      <th>Specialization_Finance Management</th>\n",
       "      <th>Specialization_Healthcare Management</th>\n",
       "      <th>Specialization_Hospitality Management</th>\n",
       "      <th>Specialization_Human Resource Management</th>\n",
       "      <th>Specialization_IT Projects Management</th>\n",
       "      <th>Specialization_International Business</th>\n",
       "      <th>Specialization_Marketing Management</th>\n",
       "      <th>Specialization_Media and Advertising</th>\n",
       "      <th>Specialization_Operations Management</th>\n",
       "      <th>Specialization_Other</th>\n",
       "      <th>Specialization_Retail Management</th>\n",
       "      <th>Specialization_Rural and Agribusiness</th>\n",
       "      <th>Specialization_Services Excellence</th>\n",
       "      <th>Specialization_Supply Chain Management</th>\n",
       "      <th>Specialization_Travel and Tourism</th>\n",
       "      <th>Unemployed</th>\n",
       "      <th>Working Professional</th>\n",
       "      <th>Last Activity_Modified</th>\n",
       "      <th>Last Activity_Other</th>\n",
       "      <th>Last Activity_SMS Sent</th>\n",
       "      <th>Mumbai</th>\n",
       "      <th>Other Cities</th>\n",
       "    </tr>\n",
       "  </thead>\n",
       "  <tbody>\n",
       "    <tr>\n",
       "      <th>0</th>\n",
       "      <td>0.0</td>\n",
       "      <td>0.0</td>\n",
       "      <td>0</td>\n",
       "      <td>0</td>\n",
       "      <td>0</td>\n",
       "      <td>1</td>\n",
       "      <td>0</td>\n",
       "      <td>0</td>\n",
       "      <td>0</td>\n",
       "      <td>0</td>\n",
       "      <td>0</td>\n",
       "      <td>0</td>\n",
       "      <td>0</td>\n",
       "      <td>0</td>\n",
       "      <td>0</td>\n",
       "      <td>0</td>\n",
       "      <td>0</td>\n",
       "      <td>0</td>\n",
       "      <td>0</td>\n",
       "      <td>0</td>\n",
       "      <td>1</td>\n",
       "      <td>0</td>\n",
       "      <td>0</td>\n",
       "      <td>0</td>\n",
       "      <td>0</td>\n",
       "      <td>0</td>\n",
       "      <td>1</td>\n",
       "      <td>0</td>\n",
       "      <td>1</td>\n",
       "      <td>0</td>\n",
       "      <td>0</td>\n",
       "      <td>1</td>\n",
       "      <td>0</td>\n",
       "    </tr>\n",
       "    <tr>\n",
       "      <th>1</th>\n",
       "      <td>5.0</td>\n",
       "      <td>2.5</td>\n",
       "      <td>0</td>\n",
       "      <td>0</td>\n",
       "      <td>0</td>\n",
       "      <td>0</td>\n",
       "      <td>1</td>\n",
       "      <td>0</td>\n",
       "      <td>0</td>\n",
       "      <td>0</td>\n",
       "      <td>0</td>\n",
       "      <td>0</td>\n",
       "      <td>0</td>\n",
       "      <td>0</td>\n",
       "      <td>0</td>\n",
       "      <td>0</td>\n",
       "      <td>0</td>\n",
       "      <td>0</td>\n",
       "      <td>0</td>\n",
       "      <td>0</td>\n",
       "      <td>1</td>\n",
       "      <td>0</td>\n",
       "      <td>0</td>\n",
       "      <td>0</td>\n",
       "      <td>0</td>\n",
       "      <td>0</td>\n",
       "      <td>1</td>\n",
       "      <td>0</td>\n",
       "      <td>0</td>\n",
       "      <td>0</td>\n",
       "      <td>0</td>\n",
       "      <td>1</td>\n",
       "      <td>0</td>\n",
       "    </tr>\n",
       "    <tr>\n",
       "      <th>2</th>\n",
       "      <td>2.0</td>\n",
       "      <td>2.0</td>\n",
       "      <td>1</td>\n",
       "      <td>0</td>\n",
       "      <td>0</td>\n",
       "      <td>0</td>\n",
       "      <td>0</td>\n",
       "      <td>0</td>\n",
       "      <td>1</td>\n",
       "      <td>0</td>\n",
       "      <td>0</td>\n",
       "      <td>0</td>\n",
       "      <td>0</td>\n",
       "      <td>0</td>\n",
       "      <td>0</td>\n",
       "      <td>0</td>\n",
       "      <td>0</td>\n",
       "      <td>0</td>\n",
       "      <td>0</td>\n",
       "      <td>0</td>\n",
       "      <td>0</td>\n",
       "      <td>0</td>\n",
       "      <td>0</td>\n",
       "      <td>0</td>\n",
       "      <td>0</td>\n",
       "      <td>0</td>\n",
       "      <td>0</td>\n",
       "      <td>0</td>\n",
       "      <td>0</td>\n",
       "      <td>0</td>\n",
       "      <td>0</td>\n",
       "      <td>1</td>\n",
       "      <td>0</td>\n",
       "    </tr>\n",
       "    <tr>\n",
       "      <th>3</th>\n",
       "      <td>1.0</td>\n",
       "      <td>1.0</td>\n",
       "      <td>1</td>\n",
       "      <td>0</td>\n",
       "      <td>0</td>\n",
       "      <td>0</td>\n",
       "      <td>0</td>\n",
       "      <td>0</td>\n",
       "      <td>0</td>\n",
       "      <td>0</td>\n",
       "      <td>0</td>\n",
       "      <td>0</td>\n",
       "      <td>0</td>\n",
       "      <td>0</td>\n",
       "      <td>0</td>\n",
       "      <td>0</td>\n",
       "      <td>0</td>\n",
       "      <td>0</td>\n",
       "      <td>1</td>\n",
       "      <td>0</td>\n",
       "      <td>0</td>\n",
       "      <td>0</td>\n",
       "      <td>0</td>\n",
       "      <td>0</td>\n",
       "      <td>0</td>\n",
       "      <td>0</td>\n",
       "      <td>1</td>\n",
       "      <td>0</td>\n",
       "      <td>1</td>\n",
       "      <td>0</td>\n",
       "      <td>0</td>\n",
       "      <td>1</td>\n",
       "      <td>0</td>\n",
       "    </tr>\n",
       "    <tr>\n",
       "      <th>4</th>\n",
       "      <td>2.0</td>\n",
       "      <td>1.0</td>\n",
       "      <td>1</td>\n",
       "      <td>0</td>\n",
       "      <td>1</td>\n",
       "      <td>0</td>\n",
       "      <td>0</td>\n",
       "      <td>0</td>\n",
       "      <td>0</td>\n",
       "      <td>0</td>\n",
       "      <td>0</td>\n",
       "      <td>0</td>\n",
       "      <td>0</td>\n",
       "      <td>0</td>\n",
       "      <td>0</td>\n",
       "      <td>0</td>\n",
       "      <td>0</td>\n",
       "      <td>0</td>\n",
       "      <td>0</td>\n",
       "      <td>0</td>\n",
       "      <td>1</td>\n",
       "      <td>0</td>\n",
       "      <td>0</td>\n",
       "      <td>0</td>\n",
       "      <td>0</td>\n",
       "      <td>0</td>\n",
       "      <td>1</td>\n",
       "      <td>0</td>\n",
       "      <td>1</td>\n",
       "      <td>0</td>\n",
       "      <td>0</td>\n",
       "      <td>1</td>\n",
       "      <td>0</td>\n",
       "    </tr>\n",
       "  </tbody>\n",
       "</table>\n",
       "</div>"
      ],
      "text/plain": [
       "   TotalVisits  Page Views Per Visit  Origin_Landing Page Submission  \\\n",
       "0          0.0                   0.0                               0   \n",
       "1          5.0                   2.5                               0   \n",
       "2          2.0                   2.0                               1   \n",
       "3          1.0                   1.0                               1   \n",
       "4          2.0                   1.0                               1   \n",
       "\n",
       "   Origin_Others  Source_Google  Source_Olark Chat  Source_Organic Search  \\\n",
       "0              0              0                  1                      0   \n",
       "1              0              0                  0                      1   \n",
       "2              0              0                  0                      0   \n",
       "3              0              0                  0                      0   \n",
       "4              0              1                  0                      0   \n",
       "\n",
       "   Source_Others  Specialization_Business Administration  \\\n",
       "0              0                                       0   \n",
       "1              0                                       0   \n",
       "2              0                                       1   \n",
       "3              0                                       0   \n",
       "4              0                                       0   \n",
       "\n",
       "   Specialization_E-Business  Specialization_E-COMMERCE  \\\n",
       "0                          0                          0   \n",
       "1                          0                          0   \n",
       "2                          0                          0   \n",
       "3                          0                          0   \n",
       "4                          0                          0   \n",
       "\n",
       "   Specialization_Finance Management  Specialization_Healthcare Management  \\\n",
       "0                                  0                                     0   \n",
       "1                                  0                                     0   \n",
       "2                                  0                                     0   \n",
       "3                                  0                                     0   \n",
       "4                                  0                                     0   \n",
       "\n",
       "   Specialization_Hospitality Management  \\\n",
       "0                                      0   \n",
       "1                                      0   \n",
       "2                                      0   \n",
       "3                                      0   \n",
       "4                                      0   \n",
       "\n",
       "   Specialization_Human Resource Management  \\\n",
       "0                                         0   \n",
       "1                                         0   \n",
       "2                                         0   \n",
       "3                                         0   \n",
       "4                                         0   \n",
       "\n",
       "   Specialization_IT Projects Management  \\\n",
       "0                                      0   \n",
       "1                                      0   \n",
       "2                                      0   \n",
       "3                                      0   \n",
       "4                                      0   \n",
       "\n",
       "   Specialization_International Business  Specialization_Marketing Management  \\\n",
       "0                                      0                                    0   \n",
       "1                                      0                                    0   \n",
       "2                                      0                                    0   \n",
       "3                                      0                                    0   \n",
       "4                                      0                                    0   \n",
       "\n",
       "   Specialization_Media and Advertising  Specialization_Operations Management  \\\n",
       "0                                     0                                     0   \n",
       "1                                     0                                     0   \n",
       "2                                     0                                     0   \n",
       "3                                     1                                     0   \n",
       "4                                     0                                     0   \n",
       "\n",
       "   Specialization_Other  Specialization_Retail Management  \\\n",
       "0                     1                                 0   \n",
       "1                     1                                 0   \n",
       "2                     0                                 0   \n",
       "3                     0                                 0   \n",
       "4                     1                                 0   \n",
       "\n",
       "   Specialization_Rural and Agribusiness  Specialization_Services Excellence  \\\n",
       "0                                      0                                   0   \n",
       "1                                      0                                   0   \n",
       "2                                      0                                   0   \n",
       "3                                      0                                   0   \n",
       "4                                      0                                   0   \n",
       "\n",
       "   Specialization_Supply Chain Management  Specialization_Travel and Tourism  \\\n",
       "0                                       0                                  0   \n",
       "1                                       0                                  0   \n",
       "2                                       0                                  0   \n",
       "3                                       0                                  0   \n",
       "4                                       0                                  0   \n",
       "\n",
       "   Unemployed  Working Professional  Last Activity_Modified  \\\n",
       "0           1                     0                       1   \n",
       "1           1                     0                       0   \n",
       "2           0                     0                       0   \n",
       "3           1                     0                       1   \n",
       "4           1                     0                       1   \n",
       "\n",
       "   Last Activity_Other  Last Activity_SMS Sent  Mumbai  Other Cities  \n",
       "0                    0                       0       1             0  \n",
       "1                    0                       0       1             0  \n",
       "2                    0                       0       1             0  \n",
       "3                    0                       0       1             0  \n",
       "4                    0                       0       1             0  "
      ]
     },
     "execution_count": 122,
     "metadata": {},
     "output_type": "execute_result"
    }
   ],
   "source": [
    "# Putting feature variable to X\n",
    "X = leads.drop(['Converted','Lead Number'], axis=1)\n",
    "X.head()"
   ]
  },
  {
   "cell_type": "code",
   "execution_count": 123,
   "metadata": {},
   "outputs": [
    {
     "data": {
      "text/plain": [
       "0    0\n",
       "1    0\n",
       "2    1\n",
       "3    0\n",
       "4    1\n",
       "Name: Converted, dtype: int64"
      ]
     },
     "execution_count": 123,
     "metadata": {},
     "output_type": "execute_result"
    }
   ],
   "source": [
    "# Putting response variable to y\n",
    "y = leads['Converted']\n",
    "y.head()"
   ]
  },
  {
   "cell_type": "code",
   "execution_count": 124,
   "metadata": {},
   "outputs": [],
   "source": [
    "# Splitting the data into train and test\n",
    "X_train, X_test, y_train, y_test = train_test_split(X, y, train_size=0.7, test_size=0.3, random_state=100)"
   ]
  },
  {
   "cell_type": "markdown",
   "metadata": {},
   "source": [
    "## Feature Scaling"
   ]
  },
  {
   "cell_type": "code",
   "execution_count": 125,
   "metadata": {},
   "outputs": [],
   "source": [
    "from sklearn.preprocessing import StandardScaler"
   ]
  },
  {
   "cell_type": "code",
   "execution_count": 126,
   "metadata": {},
   "outputs": [
    {
     "data": {
      "text/html": [
       "<div>\n",
       "<style scoped>\n",
       "    .dataframe tbody tr th:only-of-type {\n",
       "        vertical-align: middle;\n",
       "    }\n",
       "\n",
       "    .dataframe tbody tr th {\n",
       "        vertical-align: top;\n",
       "    }\n",
       "\n",
       "    .dataframe thead th {\n",
       "        text-align: right;\n",
       "    }\n",
       "</style>\n",
       "<table border=\"1\" class=\"dataframe\">\n",
       "  <thead>\n",
       "    <tr style=\"text-align: right;\">\n",
       "      <th></th>\n",
       "      <th>TotalVisits</th>\n",
       "      <th>Page Views Per Visit</th>\n",
       "      <th>Origin_Landing Page Submission</th>\n",
       "      <th>Origin_Others</th>\n",
       "      <th>Source_Google</th>\n",
       "      <th>Source_Olark Chat</th>\n",
       "      <th>Source_Organic Search</th>\n",
       "      <th>Source_Others</th>\n",
       "      <th>Specialization_Business Administration</th>\n",
       "      <th>Specialization_E-Business</th>\n",
       "      <th>Specialization_E-COMMERCE</th>\n",
       "      <th>Specialization_Finance Management</th>\n",
       "      <th>Specialization_Healthcare Management</th>\n",
       "      <th>Specialization_Hospitality Management</th>\n",
       "      <th>Specialization_Human Resource Management</th>\n",
       "      <th>Specialization_IT Projects Management</th>\n",
       "      <th>Specialization_International Business</th>\n",
       "      <th>Specialization_Marketing Management</th>\n",
       "      <th>Specialization_Media and Advertising</th>\n",
       "      <th>Specialization_Operations Management</th>\n",
       "      <th>Specialization_Other</th>\n",
       "      <th>Specialization_Retail Management</th>\n",
       "      <th>Specialization_Rural and Agribusiness</th>\n",
       "      <th>Specialization_Services Excellence</th>\n",
       "      <th>Specialization_Supply Chain Management</th>\n",
       "      <th>Specialization_Travel and Tourism</th>\n",
       "      <th>Unemployed</th>\n",
       "      <th>Working Professional</th>\n",
       "      <th>Last Activity_Modified</th>\n",
       "      <th>Last Activity_Other</th>\n",
       "      <th>Last Activity_SMS Sent</th>\n",
       "      <th>Mumbai</th>\n",
       "      <th>Other Cities</th>\n",
       "    </tr>\n",
       "  </thead>\n",
       "  <tbody>\n",
       "    <tr>\n",
       "      <th>3009</th>\n",
       "      <td>-0.417238</td>\n",
       "      <td>2.0</td>\n",
       "      <td>1</td>\n",
       "      <td>0</td>\n",
       "      <td>0</td>\n",
       "      <td>0</td>\n",
       "      <td>0</td>\n",
       "      <td>0</td>\n",
       "      <td>0</td>\n",
       "      <td>0</td>\n",
       "      <td>0</td>\n",
       "      <td>1</td>\n",
       "      <td>0</td>\n",
       "      <td>0</td>\n",
       "      <td>0</td>\n",
       "      <td>0</td>\n",
       "      <td>0</td>\n",
       "      <td>0</td>\n",
       "      <td>0</td>\n",
       "      <td>0</td>\n",
       "      <td>0</td>\n",
       "      <td>0</td>\n",
       "      <td>0</td>\n",
       "      <td>0</td>\n",
       "      <td>0</td>\n",
       "      <td>0</td>\n",
       "      <td>1</td>\n",
       "      <td>0</td>\n",
       "      <td>0</td>\n",
       "      <td>0</td>\n",
       "      <td>0</td>\n",
       "      <td>1</td>\n",
       "      <td>0</td>\n",
       "    </tr>\n",
       "    <tr>\n",
       "      <th>1012</th>\n",
       "      <td>-0.417238</td>\n",
       "      <td>2.0</td>\n",
       "      <td>1</td>\n",
       "      <td>0</td>\n",
       "      <td>0</td>\n",
       "      <td>0</td>\n",
       "      <td>0</td>\n",
       "      <td>0</td>\n",
       "      <td>0</td>\n",
       "      <td>0</td>\n",
       "      <td>0</td>\n",
       "      <td>0</td>\n",
       "      <td>0</td>\n",
       "      <td>0</td>\n",
       "      <td>0</td>\n",
       "      <td>0</td>\n",
       "      <td>0</td>\n",
       "      <td>0</td>\n",
       "      <td>0</td>\n",
       "      <td>0</td>\n",
       "      <td>1</td>\n",
       "      <td>0</td>\n",
       "      <td>0</td>\n",
       "      <td>0</td>\n",
       "      <td>0</td>\n",
       "      <td>0</td>\n",
       "      <td>0</td>\n",
       "      <td>1</td>\n",
       "      <td>0</td>\n",
       "      <td>1</td>\n",
       "      <td>0</td>\n",
       "      <td>1</td>\n",
       "      <td>0</td>\n",
       "    </tr>\n",
       "    <tr>\n",
       "      <th>9226</th>\n",
       "      <td>-1.034493</td>\n",
       "      <td>0.0</td>\n",
       "      <td>0</td>\n",
       "      <td>0</td>\n",
       "      <td>0</td>\n",
       "      <td>1</td>\n",
       "      <td>0</td>\n",
       "      <td>0</td>\n",
       "      <td>0</td>\n",
       "      <td>0</td>\n",
       "      <td>0</td>\n",
       "      <td>0</td>\n",
       "      <td>0</td>\n",
       "      <td>0</td>\n",
       "      <td>0</td>\n",
       "      <td>0</td>\n",
       "      <td>0</td>\n",
       "      <td>0</td>\n",
       "      <td>0</td>\n",
       "      <td>0</td>\n",
       "      <td>1</td>\n",
       "      <td>0</td>\n",
       "      <td>0</td>\n",
       "      <td>0</td>\n",
       "      <td>0</td>\n",
       "      <td>0</td>\n",
       "      <td>1</td>\n",
       "      <td>0</td>\n",
       "      <td>1</td>\n",
       "      <td>0</td>\n",
       "      <td>0</td>\n",
       "      <td>1</td>\n",
       "      <td>0</td>\n",
       "    </tr>\n",
       "    <tr>\n",
       "      <th>4750</th>\n",
       "      <td>-0.417238</td>\n",
       "      <td>2.0</td>\n",
       "      <td>1</td>\n",
       "      <td>0</td>\n",
       "      <td>0</td>\n",
       "      <td>0</td>\n",
       "      <td>0</td>\n",
       "      <td>0</td>\n",
       "      <td>0</td>\n",
       "      <td>0</td>\n",
       "      <td>0</td>\n",
       "      <td>0</td>\n",
       "      <td>0</td>\n",
       "      <td>0</td>\n",
       "      <td>0</td>\n",
       "      <td>0</td>\n",
       "      <td>0</td>\n",
       "      <td>1</td>\n",
       "      <td>0</td>\n",
       "      <td>0</td>\n",
       "      <td>0</td>\n",
       "      <td>0</td>\n",
       "      <td>0</td>\n",
       "      <td>0</td>\n",
       "      <td>0</td>\n",
       "      <td>0</td>\n",
       "      <td>1</td>\n",
       "      <td>0</td>\n",
       "      <td>0</td>\n",
       "      <td>0</td>\n",
       "      <td>1</td>\n",
       "      <td>0</td>\n",
       "      <td>1</td>\n",
       "    </tr>\n",
       "    <tr>\n",
       "      <th>7987</th>\n",
       "      <td>0.508645</td>\n",
       "      <td>2.5</td>\n",
       "      <td>1</td>\n",
       "      <td>0</td>\n",
       "      <td>0</td>\n",
       "      <td>0</td>\n",
       "      <td>0</td>\n",
       "      <td>0</td>\n",
       "      <td>0</td>\n",
       "      <td>0</td>\n",
       "      <td>0</td>\n",
       "      <td>1</td>\n",
       "      <td>0</td>\n",
       "      <td>0</td>\n",
       "      <td>0</td>\n",
       "      <td>0</td>\n",
       "      <td>0</td>\n",
       "      <td>0</td>\n",
       "      <td>0</td>\n",
       "      <td>0</td>\n",
       "      <td>0</td>\n",
       "      <td>0</td>\n",
       "      <td>0</td>\n",
       "      <td>0</td>\n",
       "      <td>0</td>\n",
       "      <td>0</td>\n",
       "      <td>1</td>\n",
       "      <td>0</td>\n",
       "      <td>1</td>\n",
       "      <td>0</td>\n",
       "      <td>0</td>\n",
       "      <td>0</td>\n",
       "      <td>0</td>\n",
       "    </tr>\n",
       "  </tbody>\n",
       "</table>\n",
       "</div>"
      ],
      "text/plain": [
       "      TotalVisits  Page Views Per Visit  Origin_Landing Page Submission  \\\n",
       "3009    -0.417238                   2.0                               1   \n",
       "1012    -0.417238                   2.0                               1   \n",
       "9226    -1.034493                   0.0                               0   \n",
       "4750    -0.417238                   2.0                               1   \n",
       "7987     0.508645                   2.5                               1   \n",
       "\n",
       "      Origin_Others  Source_Google  Source_Olark Chat  Source_Organic Search  \\\n",
       "3009              0              0                  0                      0   \n",
       "1012              0              0                  0                      0   \n",
       "9226              0              0                  1                      0   \n",
       "4750              0              0                  0                      0   \n",
       "7987              0              0                  0                      0   \n",
       "\n",
       "      Source_Others  Specialization_Business Administration  \\\n",
       "3009              0                                       0   \n",
       "1012              0                                       0   \n",
       "9226              0                                       0   \n",
       "4750              0                                       0   \n",
       "7987              0                                       0   \n",
       "\n",
       "      Specialization_E-Business  Specialization_E-COMMERCE  \\\n",
       "3009                          0                          0   \n",
       "1012                          0                          0   \n",
       "9226                          0                          0   \n",
       "4750                          0                          0   \n",
       "7987                          0                          0   \n",
       "\n",
       "      Specialization_Finance Management  Specialization_Healthcare Management  \\\n",
       "3009                                  1                                     0   \n",
       "1012                                  0                                     0   \n",
       "9226                                  0                                     0   \n",
       "4750                                  0                                     0   \n",
       "7987                                  1                                     0   \n",
       "\n",
       "      Specialization_Hospitality Management  \\\n",
       "3009                                      0   \n",
       "1012                                      0   \n",
       "9226                                      0   \n",
       "4750                                      0   \n",
       "7987                                      0   \n",
       "\n",
       "      Specialization_Human Resource Management  \\\n",
       "3009                                         0   \n",
       "1012                                         0   \n",
       "9226                                         0   \n",
       "4750                                         0   \n",
       "7987                                         0   \n",
       "\n",
       "      Specialization_IT Projects Management  \\\n",
       "3009                                      0   \n",
       "1012                                      0   \n",
       "9226                                      0   \n",
       "4750                                      0   \n",
       "7987                                      0   \n",
       "\n",
       "      Specialization_International Business  \\\n",
       "3009                                      0   \n",
       "1012                                      0   \n",
       "9226                                      0   \n",
       "4750                                      0   \n",
       "7987                                      0   \n",
       "\n",
       "      Specialization_Marketing Management  \\\n",
       "3009                                    0   \n",
       "1012                                    0   \n",
       "9226                                    0   \n",
       "4750                                    1   \n",
       "7987                                    0   \n",
       "\n",
       "      Specialization_Media and Advertising  \\\n",
       "3009                                     0   \n",
       "1012                                     0   \n",
       "9226                                     0   \n",
       "4750                                     0   \n",
       "7987                                     0   \n",
       "\n",
       "      Specialization_Operations Management  Specialization_Other  \\\n",
       "3009                                     0                     0   \n",
       "1012                                     0                     1   \n",
       "9226                                     0                     1   \n",
       "4750                                     0                     0   \n",
       "7987                                     0                     0   \n",
       "\n",
       "      Specialization_Retail Management  Specialization_Rural and Agribusiness  \\\n",
       "3009                                 0                                      0   \n",
       "1012                                 0                                      0   \n",
       "9226                                 0                                      0   \n",
       "4750                                 0                                      0   \n",
       "7987                                 0                                      0   \n",
       "\n",
       "      Specialization_Services Excellence  \\\n",
       "3009                                   0   \n",
       "1012                                   0   \n",
       "9226                                   0   \n",
       "4750                                   0   \n",
       "7987                                   0   \n",
       "\n",
       "      Specialization_Supply Chain Management  \\\n",
       "3009                                       0   \n",
       "1012                                       0   \n",
       "9226                                       0   \n",
       "4750                                       0   \n",
       "7987                                       0   \n",
       "\n",
       "      Specialization_Travel and Tourism  Unemployed  Working Professional  \\\n",
       "3009                                  0           1                     0   \n",
       "1012                                  0           0                     1   \n",
       "9226                                  0           1                     0   \n",
       "4750                                  0           1                     0   \n",
       "7987                                  0           1                     0   \n",
       "\n",
       "      Last Activity_Modified  Last Activity_Other  Last Activity_SMS Sent  \\\n",
       "3009                       0                    0                       0   \n",
       "1012                       0                    1                       0   \n",
       "9226                       1                    0                       0   \n",
       "4750                       0                    0                       1   \n",
       "7987                       1                    0                       0   \n",
       "\n",
       "      Mumbai  Other Cities  \n",
       "3009       1             0  \n",
       "1012       1             0  \n",
       "9226       1             0  \n",
       "4750       0             1  \n",
       "7987       0             0  "
      ]
     },
     "execution_count": 126,
     "metadata": {},
     "output_type": "execute_result"
    }
   ],
   "source": [
    "scaler = StandardScaler()\n",
    "\n",
    "X_train[['TotalVisits']] = scaler.fit_transform(X_train[['TotalVisits']])\n",
    "X_train.head()\n"
   ]
  },
  {
   "cell_type": "markdown",
   "metadata": {},
   "source": [
    "## Model Building"
   ]
  },
  {
   "cell_type": "code",
   "execution_count": 127,
   "metadata": {},
   "outputs": [],
   "source": [
    "# Importing the required library\n",
    "import statsmodels.api as sm"
   ]
  },
  {
   "cell_type": "code",
   "execution_count": 128,
   "metadata": {
    "scrolled": false
   },
   "outputs": [
    {
     "data": {
      "text/html": [
       "<table class=\"simpletable\">\n",
       "<caption>Generalized Linear Model Regression Results</caption>\n",
       "<tr>\n",
       "  <th>Dep. Variable:</th>       <td>Converted</td>    <th>  No. Observations:  </th>  <td>  6351</td> \n",
       "</tr>\n",
       "<tr>\n",
       "  <th>Model:</th>                  <td>GLM</td>       <th>  Df Residuals:      </th>  <td>  6317</td> \n",
       "</tr>\n",
       "<tr>\n",
       "  <th>Model Family:</th>        <td>Binomial</td>     <th>  Df Model:          </th>  <td>    33</td> \n",
       "</tr>\n",
       "<tr>\n",
       "  <th>Link Function:</th>         <td>logit</td>      <th>  Scale:             </th> <td>  1.0000</td>\n",
       "</tr>\n",
       "<tr>\n",
       "  <th>Method:</th>                <td>IRLS</td>       <th>  Log-Likelihood:    </th> <td> -3136.8</td>\n",
       "</tr>\n",
       "<tr>\n",
       "  <th>Date:</th>            <td>Mon, 20 Jul 2020</td> <th>  Deviance:          </th> <td>  6273.6</td>\n",
       "</tr>\n",
       "<tr>\n",
       "  <th>Time:</th>                <td>01:33:42</td>     <th>  Pearson chi2:      </th> <td>6.65e+03</td>\n",
       "</tr>\n",
       "<tr>\n",
       "  <th>No. Iterations:</th>          <td>6</td>        <th>                     </th>     <td> </td>   \n",
       "</tr>\n",
       "<tr>\n",
       "  <th>Covariance Type:</th>     <td>nonrobust</td>    <th>                     </th>     <td> </td>   \n",
       "</tr>\n",
       "</table>\n",
       "<table class=\"simpletable\">\n",
       "<tr>\n",
       "                      <td></td>                        <th>coef</th>     <th>std err</th>      <th>z</th>      <th>P>|z|</th>  <th>[0.025</th>    <th>0.975]</th>  \n",
       "</tr>\n",
       "<tr>\n",
       "  <th>const</th>                                    <td>    1.0046</td> <td>    0.283</td> <td>    3.548</td> <td> 0.000</td> <td>    0.450</td> <td>    1.560</td>\n",
       "</tr>\n",
       "<tr>\n",
       "  <th>TotalVisits</th>                              <td>    0.2837</td> <td>    0.043</td> <td>    6.573</td> <td> 0.000</td> <td>    0.199</td> <td>    0.368</td>\n",
       "</tr>\n",
       "<tr>\n",
       "  <th>Page Views Per Visit</th>                     <td>   -0.0958</td> <td>    0.025</td> <td>   -3.830</td> <td> 0.000</td> <td>   -0.145</td> <td>   -0.047</td>\n",
       "</tr>\n",
       "<tr>\n",
       "  <th>Origin_Landing Page Submission</th>           <td>   -1.0911</td> <td>    0.121</td> <td>   -9.042</td> <td> 0.000</td> <td>   -1.328</td> <td>   -0.855</td>\n",
       "</tr>\n",
       "<tr>\n",
       "  <th>Origin_Others</th>                            <td>    2.6875</td> <td>    0.322</td> <td>    8.337</td> <td> 0.000</td> <td>    2.056</td> <td>    3.319</td>\n",
       "</tr>\n",
       "<tr>\n",
       "  <th>Source_Google</th>                            <td>    0.4006</td> <td>    0.085</td> <td>    4.699</td> <td> 0.000</td> <td>    0.233</td> <td>    0.568</td>\n",
       "</tr>\n",
       "<tr>\n",
       "  <th>Source_Olark Chat</th>                        <td>    0.0702</td> <td>    0.132</td> <td>    0.534</td> <td> 0.594</td> <td>   -0.188</td> <td>    0.328</td>\n",
       "</tr>\n",
       "<tr>\n",
       "  <th>Source_Organic Search</th>                    <td>    0.1236</td> <td>    0.115</td> <td>    1.077</td> <td> 0.282</td> <td>   -0.101</td> <td>    0.349</td>\n",
       "</tr>\n",
       "<tr>\n",
       "  <th>Source_Others</th>                            <td>   -0.0510</td> <td>    0.276</td> <td>   -0.185</td> <td> 0.854</td> <td>   -0.593</td> <td>    0.491</td>\n",
       "</tr>\n",
       "<tr>\n",
       "  <th>Specialization_Business Administration</th>   <td>   -0.2581</td> <td>    0.217</td> <td>   -1.189</td> <td> 0.234</td> <td>   -0.683</td> <td>    0.167</td>\n",
       "</tr>\n",
       "<tr>\n",
       "  <th>Specialization_E-Business</th>                <td>    0.2845</td> <td>    0.393</td> <td>    0.724</td> <td> 0.469</td> <td>   -0.486</td> <td>    1.055</td>\n",
       "</tr>\n",
       "<tr>\n",
       "  <th>Specialization_E-COMMERCE</th>                <td>   -0.5674</td> <td>    0.328</td> <td>   -1.729</td> <td> 0.084</td> <td>   -1.211</td> <td>    0.076</td>\n",
       "</tr>\n",
       "<tr>\n",
       "  <th>Specialization_Finance Management</th>        <td>   -0.1775</td> <td>    0.182</td> <td>   -0.975</td> <td> 0.329</td> <td>   -0.534</td> <td>    0.179</td>\n",
       "</tr>\n",
       "<tr>\n",
       "  <th>Specialization_Healthcare Management</th>     <td>   -0.2495</td> <td>    0.283</td> <td>   -0.880</td> <td> 0.379</td> <td>   -0.805</td> <td>    0.306</td>\n",
       "</tr>\n",
       "<tr>\n",
       "  <th>Specialization_Hospitality Management</th>    <td>   -0.3472</td> <td>    0.326</td> <td>   -1.063</td> <td> 0.288</td> <td>   -0.987</td> <td>    0.293</td>\n",
       "</tr>\n",
       "<tr>\n",
       "  <th>Specialization_Human Resource Management</th> <td>   -0.1200</td> <td>    0.185</td> <td>   -0.649</td> <td> 0.517</td> <td>   -0.483</td> <td>    0.243</td>\n",
       "</tr>\n",
       "<tr>\n",
       "  <th>Specialization_IT Projects Management</th>    <td>   -0.3099</td> <td>    0.219</td> <td>   -1.415</td> <td> 0.157</td> <td>   -0.739</td> <td>    0.119</td>\n",
       "</tr>\n",
       "<tr>\n",
       "  <th>Specialization_International Business</th>    <td>   -0.4118</td> <td>    0.263</td> <td>   -1.567</td> <td> 0.117</td> <td>   -0.927</td> <td>    0.103</td>\n",
       "</tr>\n",
       "<tr>\n",
       "  <th>Specialization_Marketing Management</th>      <td>   -0.0255</td> <td>    0.185</td> <td>   -0.138</td> <td> 0.890</td> <td>   -0.389</td> <td>    0.337</td>\n",
       "</tr>\n",
       "<tr>\n",
       "  <th>Specialization_Media and Advertising</th>     <td>   -0.4159</td> <td>    0.253</td> <td>   -1.646</td> <td> 0.100</td> <td>   -0.911</td> <td>    0.079</td>\n",
       "</tr>\n",
       "<tr>\n",
       "  <th>Specialization_Operations Management</th>     <td>   -0.1267</td> <td>    0.204</td> <td>   -0.622</td> <td> 0.534</td> <td>   -0.526</td> <td>    0.273</td>\n",
       "</tr>\n",
       "<tr>\n",
       "  <th>Specialization_Other</th>                     <td>   -1.4673</td> <td>    0.190</td> <td>   -7.706</td> <td> 0.000</td> <td>   -1.840</td> <td>   -1.094</td>\n",
       "</tr>\n",
       "<tr>\n",
       "  <th>Specialization_Retail Management</th>         <td>   -0.4072</td> <td>    0.320</td> <td>   -1.271</td> <td> 0.204</td> <td>   -1.035</td> <td>    0.221</td>\n",
       "</tr>\n",
       "<tr>\n",
       "  <th>Specialization_Rural and Agribusiness</th>    <td>   -0.2496</td> <td>    0.361</td> <td>   -0.691</td> <td> 0.489</td> <td>   -0.957</td> <td>    0.458</td>\n",
       "</tr>\n",
       "<tr>\n",
       "  <th>Specialization_Services Excellence</th>       <td>   -1.0106</td> <td>    0.571</td> <td>   -1.770</td> <td> 0.077</td> <td>   -2.130</td> <td>    0.109</td>\n",
       "</tr>\n",
       "<tr>\n",
       "  <th>Specialization_Supply Chain Management</th>   <td>   -0.1449</td> <td>    0.223</td> <td>   -0.649</td> <td> 0.517</td> <td>   -0.583</td> <td>    0.293</td>\n",
       "</tr>\n",
       "<tr>\n",
       "  <th>Specialization_Travel and Tourism</th>        <td>   -0.3995</td> <td>    0.271</td> <td>   -1.472</td> <td> 0.141</td> <td>   -0.931</td> <td>    0.132</td>\n",
       "</tr>\n",
       "<tr>\n",
       "  <th>Unemployed</th>                               <td>   -0.5467</td> <td>    0.187</td> <td>   -2.920</td> <td> 0.004</td> <td>   -0.914</td> <td>   -0.180</td>\n",
       "</tr>\n",
       "<tr>\n",
       "  <th>Working Professional</th>                     <td>    2.1516</td> <td>    0.255</td> <td>    8.422</td> <td> 0.000</td> <td>    1.651</td> <td>    2.652</td>\n",
       "</tr>\n",
       "<tr>\n",
       "  <th>Last Activity_Modified</th>                   <td>   -0.7260</td> <td>    0.080</td> <td>   -9.119</td> <td> 0.000</td> <td>   -0.882</td> <td>   -0.570</td>\n",
       "</tr>\n",
       "<tr>\n",
       "  <th>Last Activity_Other</th>                      <td>   -0.4369</td> <td>    0.120</td> <td>   -3.653</td> <td> 0.000</td> <td>   -0.671</td> <td>   -0.202</td>\n",
       "</tr>\n",
       "<tr>\n",
       "  <th>Last Activity_SMS Sent</th>                   <td>    1.4520</td> <td>    0.081</td> <td>   18.005</td> <td> 0.000</td> <td>    1.294</td> <td>    1.610</td>\n",
       "</tr>\n",
       "<tr>\n",
       "  <th>Mumbai</th>                                   <td>   -0.0776</td> <td>    0.097</td> <td>   -0.798</td> <td> 0.425</td> <td>   -0.268</td> <td>    0.113</td>\n",
       "</tr>\n",
       "<tr>\n",
       "  <th>Other Cities</th>                             <td>   -0.0757</td> <td>    0.123</td> <td>   -0.616</td> <td> 0.538</td> <td>   -0.316</td> <td>    0.165</td>\n",
       "</tr>\n",
       "</table>"
      ],
      "text/plain": [
       "<class 'statsmodels.iolib.summary.Summary'>\n",
       "\"\"\"\n",
       "                 Generalized Linear Model Regression Results                  \n",
       "==============================================================================\n",
       "Dep. Variable:              Converted   No. Observations:                 6351\n",
       "Model:                            GLM   Df Residuals:                     6317\n",
       "Model Family:                Binomial   Df Model:                           33\n",
       "Link Function:                  logit   Scale:                          1.0000\n",
       "Method:                          IRLS   Log-Likelihood:                -3136.8\n",
       "Date:                Mon, 20 Jul 2020   Deviance:                       6273.6\n",
       "Time:                        01:33:42   Pearson chi2:                 6.65e+03\n",
       "No. Iterations:                     6                                         \n",
       "Covariance Type:            nonrobust                                         \n",
       "============================================================================================================\n",
       "                                               coef    std err          z      P>|z|      [0.025      0.975]\n",
       "------------------------------------------------------------------------------------------------------------\n",
       "const                                        1.0046      0.283      3.548      0.000       0.450       1.560\n",
       "TotalVisits                                  0.2837      0.043      6.573      0.000       0.199       0.368\n",
       "Page Views Per Visit                        -0.0958      0.025     -3.830      0.000      -0.145      -0.047\n",
       "Origin_Landing Page Submission              -1.0911      0.121     -9.042      0.000      -1.328      -0.855\n",
       "Origin_Others                                2.6875      0.322      8.337      0.000       2.056       3.319\n",
       "Source_Google                                0.4006      0.085      4.699      0.000       0.233       0.568\n",
       "Source_Olark Chat                            0.0702      0.132      0.534      0.594      -0.188       0.328\n",
       "Source_Organic Search                        0.1236      0.115      1.077      0.282      -0.101       0.349\n",
       "Source_Others                               -0.0510      0.276     -0.185      0.854      -0.593       0.491\n",
       "Specialization_Business Administration      -0.2581      0.217     -1.189      0.234      -0.683       0.167\n",
       "Specialization_E-Business                    0.2845      0.393      0.724      0.469      -0.486       1.055\n",
       "Specialization_E-COMMERCE                   -0.5674      0.328     -1.729      0.084      -1.211       0.076\n",
       "Specialization_Finance Management           -0.1775      0.182     -0.975      0.329      -0.534       0.179\n",
       "Specialization_Healthcare Management        -0.2495      0.283     -0.880      0.379      -0.805       0.306\n",
       "Specialization_Hospitality Management       -0.3472      0.326     -1.063      0.288      -0.987       0.293\n",
       "Specialization_Human Resource Management    -0.1200      0.185     -0.649      0.517      -0.483       0.243\n",
       "Specialization_IT Projects Management       -0.3099      0.219     -1.415      0.157      -0.739       0.119\n",
       "Specialization_International Business       -0.4118      0.263     -1.567      0.117      -0.927       0.103\n",
       "Specialization_Marketing Management         -0.0255      0.185     -0.138      0.890      -0.389       0.337\n",
       "Specialization_Media and Advertising        -0.4159      0.253     -1.646      0.100      -0.911       0.079\n",
       "Specialization_Operations Management        -0.1267      0.204     -0.622      0.534      -0.526       0.273\n",
       "Specialization_Other                        -1.4673      0.190     -7.706      0.000      -1.840      -1.094\n",
       "Specialization_Retail Management            -0.4072      0.320     -1.271      0.204      -1.035       0.221\n",
       "Specialization_Rural and Agribusiness       -0.2496      0.361     -0.691      0.489      -0.957       0.458\n",
       "Specialization_Services Excellence          -1.0106      0.571     -1.770      0.077      -2.130       0.109\n",
       "Specialization_Supply Chain Management      -0.1449      0.223     -0.649      0.517      -0.583       0.293\n",
       "Specialization_Travel and Tourism           -0.3995      0.271     -1.472      0.141      -0.931       0.132\n",
       "Unemployed                                  -0.5467      0.187     -2.920      0.004      -0.914      -0.180\n",
       "Working Professional                         2.1516      0.255      8.422      0.000       1.651       2.652\n",
       "Last Activity_Modified                      -0.7260      0.080     -9.119      0.000      -0.882      -0.570\n",
       "Last Activity_Other                         -0.4369      0.120     -3.653      0.000      -0.671      -0.202\n",
       "Last Activity_SMS Sent                       1.4520      0.081     18.005      0.000       1.294       1.610\n",
       "Mumbai                                      -0.0776      0.097     -0.798      0.425      -0.268       0.113\n",
       "Other Cities                                -0.0757      0.123     -0.616      0.538      -0.316       0.165\n",
       "============================================================================================================\n",
       "\"\"\""
      ]
     },
     "execution_count": 128,
     "metadata": {},
     "output_type": "execute_result"
    }
   ],
   "source": [
    "# Running the first training model\n",
    "logm1 = sm.GLM(y_train,(sm.add_constant(X_train)), family = sm.families.Binomial())\n",
    "logm1.fit().summary()"
   ]
  },
  {
   "cell_type": "markdown",
   "metadata": {},
   "source": [
    "## Feature Selecting using RFE"
   ]
  },
  {
   "cell_type": "code",
   "execution_count": 129,
   "metadata": {},
   "outputs": [],
   "source": [
    "from sklearn.linear_model import LogisticRegression\n",
    "logreg = LogisticRegression()"
   ]
  },
  {
   "cell_type": "code",
   "execution_count": 130,
   "metadata": {},
   "outputs": [],
   "source": [
    "from sklearn.feature_selection import RFE\n",
    "rfe = RFE(logreg, 15)             \n",
    "rfe = rfe.fit(X_train, y_train)"
   ]
  },
  {
   "cell_type": "code",
   "execution_count": 131,
   "metadata": {},
   "outputs": [
    {
     "data": {
      "text/plain": [
       "array([False, False,  True,  True,  True, False, False, False, False,\n",
       "        True,  True, False, False, False, False, False,  True, False,\n",
       "        True, False,  True,  True, False,  True, False, False,  True,\n",
       "        True,  True,  True,  True, False, False])"
      ]
     },
     "execution_count": 131,
     "metadata": {},
     "output_type": "execute_result"
    }
   ],
   "source": [
    "rfe.support_"
   ]
  },
  {
   "cell_type": "code",
   "execution_count": 132,
   "metadata": {},
   "outputs": [
    {
     "data": {
      "text/plain": [
       "[('TotalVisits', False, 5),\n",
       " ('Page Views Per Visit', False, 10),\n",
       " ('Origin_Landing Page Submission', True, 1),\n",
       " ('Origin_Others', True, 1),\n",
       " ('Source_Google', True, 1),\n",
       " ('Source_Olark Chat', False, 15),\n",
       " ('Source_Organic Search', False, 9),\n",
       " ('Source_Others', False, 14),\n",
       " ('Specialization_Business Administration', False, 8),\n",
       " ('Specialization_E-Business', True, 1),\n",
       " ('Specialization_E-COMMERCE', True, 1),\n",
       " ('Specialization_Finance Management', False, 16),\n",
       " ('Specialization_Healthcare Management', False, 7),\n",
       " ('Specialization_Hospitality Management', False, 4),\n",
       " ('Specialization_Human Resource Management', False, 19),\n",
       " ('Specialization_IT Projects Management', False, 3),\n",
       " ('Specialization_International Business', True, 1),\n",
       " ('Specialization_Marketing Management', False, 6),\n",
       " ('Specialization_Media and Advertising', True, 1),\n",
       " ('Specialization_Operations Management', False, 18),\n",
       " ('Specialization_Other', True, 1),\n",
       " ('Specialization_Retail Management', True, 1),\n",
       " ('Specialization_Rural and Agribusiness', False, 11),\n",
       " ('Specialization_Services Excellence', True, 1),\n",
       " ('Specialization_Supply Chain Management', False, 17),\n",
       " ('Specialization_Travel and Tourism', False, 2),\n",
       " ('Unemployed', True, 1),\n",
       " ('Working Professional', True, 1),\n",
       " ('Last Activity_Modified', True, 1),\n",
       " ('Last Activity_Other', True, 1),\n",
       " ('Last Activity_SMS Sent', True, 1),\n",
       " ('Mumbai', False, 13),\n",
       " ('Other Cities', False, 12)]"
      ]
     },
     "execution_count": 132,
     "metadata": {},
     "output_type": "execute_result"
    }
   ],
   "source": [
    "list(zip(X_train.columns, rfe.support_, rfe.ranking_))"
   ]
  },
  {
   "cell_type": "code",
   "execution_count": 133,
   "metadata": {},
   "outputs": [],
   "source": [
    "col = X_train.columns[rfe.support_]"
   ]
  },
  {
   "cell_type": "code",
   "execution_count": 134,
   "metadata": {},
   "outputs": [
    {
     "data": {
      "text/plain": [
       "Index(['TotalVisits', 'Page Views Per Visit', 'Source_Olark Chat',\n",
       "       'Source_Organic Search', 'Source_Others',\n",
       "       'Specialization_Business Administration',\n",
       "       'Specialization_Finance Management',\n",
       "       'Specialization_Healthcare Management',\n",
       "       'Specialization_Hospitality Management',\n",
       "       'Specialization_Human Resource Management',\n",
       "       'Specialization_IT Projects Management',\n",
       "       'Specialization_Marketing Management',\n",
       "       'Specialization_Operations Management',\n",
       "       'Specialization_Rural and Agribusiness',\n",
       "       'Specialization_Supply Chain Management',\n",
       "       'Specialization_Travel and Tourism', 'Mumbai', 'Other Cities'],\n",
       "      dtype='object')"
      ]
     },
     "execution_count": 134,
     "metadata": {},
     "output_type": "execute_result"
    }
   ],
   "source": [
    "X_train.columns[~rfe.support_]"
   ]
  },
  {
   "cell_type": "code",
   "execution_count": 135,
   "metadata": {
    "scrolled": false
   },
   "outputs": [
    {
     "data": {
      "text/html": [
       "<table class=\"simpletable\">\n",
       "<caption>Generalized Linear Model Regression Results</caption>\n",
       "<tr>\n",
       "  <th>Dep. Variable:</th>       <td>Converted</td>    <th>  No. Observations:  </th>  <td>  6351</td> \n",
       "</tr>\n",
       "<tr>\n",
       "  <th>Model:</th>                  <td>GLM</td>       <th>  Df Residuals:      </th>  <td>  6335</td> \n",
       "</tr>\n",
       "<tr>\n",
       "  <th>Model Family:</th>        <td>Binomial</td>     <th>  Df Model:          </th>  <td>    15</td> \n",
       "</tr>\n",
       "<tr>\n",
       "  <th>Link Function:</th>         <td>logit</td>      <th>  Scale:             </th> <td>  1.0000</td>\n",
       "</tr>\n",
       "<tr>\n",
       "  <th>Method:</th>                <td>IRLS</td>       <th>  Log-Likelihood:    </th> <td> -3163.4</td>\n",
       "</tr>\n",
       "<tr>\n",
       "  <th>Date:</th>            <td>Mon, 20 Jul 2020</td> <th>  Deviance:          </th> <td>  6326.8</td>\n",
       "</tr>\n",
       "<tr>\n",
       "  <th>Time:</th>                <td>01:33:44</td>     <th>  Pearson chi2:      </th> <td>6.66e+03</td>\n",
       "</tr>\n",
       "<tr>\n",
       "  <th>No. Iterations:</th>          <td>6</td>        <th>                     </th>     <td> </td>   \n",
       "</tr>\n",
       "<tr>\n",
       "  <th>Covariance Type:</th>     <td>nonrobust</td>    <th>                     </th>     <td> </td>   \n",
       "</tr>\n",
       "</table>\n",
       "<table class=\"simpletable\">\n",
       "<tr>\n",
       "                    <td></td>                       <th>coef</th>     <th>std err</th>      <th>z</th>      <th>P>|z|</th>  <th>[0.025</th>    <th>0.975]</th>  \n",
       "</tr>\n",
       "<tr>\n",
       "  <th>const</th>                                 <td>    0.6652</td> <td>    0.210</td> <td>    3.170</td> <td> 0.002</td> <td>    0.254</td> <td>    1.076</td>\n",
       "</tr>\n",
       "<tr>\n",
       "  <th>Origin_Landing Page Submission</th>        <td>   -1.1596</td> <td>    0.109</td> <td>  -10.610</td> <td> 0.000</td> <td>   -1.374</td> <td>   -0.945</td>\n",
       "</tr>\n",
       "<tr>\n",
       "  <th>Origin_Others</th>                         <td>    2.5147</td> <td>    0.180</td> <td>   13.987</td> <td> 0.000</td> <td>    2.162</td> <td>    2.867</td>\n",
       "</tr>\n",
       "<tr>\n",
       "  <th>Source_Google</th>                         <td>    0.3672</td> <td>    0.066</td> <td>    5.604</td> <td> 0.000</td> <td>    0.239</td> <td>    0.496</td>\n",
       "</tr>\n",
       "<tr>\n",
       "  <th>Specialization_E-Business</th>             <td>    0.3822</td> <td>    0.362</td> <td>    1.057</td> <td> 0.291</td> <td>   -0.327</td> <td>    1.091</td>\n",
       "</tr>\n",
       "<tr>\n",
       "  <th>Specialization_E-COMMERCE</th>             <td>   -0.4100</td> <td>    0.290</td> <td>   -1.416</td> <td> 0.157</td> <td>   -0.978</td> <td>    0.158</td>\n",
       "</tr>\n",
       "<tr>\n",
       "  <th>Specialization_International Business</th> <td>   -0.2578</td> <td>    0.214</td> <td>   -1.204</td> <td> 0.228</td> <td>   -0.677</td> <td>    0.162</td>\n",
       "</tr>\n",
       "<tr>\n",
       "  <th>Specialization_Media and Advertising</th>  <td>   -0.2335</td> <td>    0.202</td> <td>   -1.157</td> <td> 0.247</td> <td>   -0.629</td> <td>    0.162</td>\n",
       "</tr>\n",
       "<tr>\n",
       "  <th>Specialization_Other</th>                  <td>   -1.4042</td> <td>    0.113</td> <td>  -12.427</td> <td> 0.000</td> <td>   -1.626</td> <td>   -1.183</td>\n",
       "</tr>\n",
       "<tr>\n",
       "  <th>Specialization_Retail Management</th>      <td>   -0.2269</td> <td>    0.280</td> <td>   -0.809</td> <td> 0.419</td> <td>   -0.777</td> <td>    0.323</td>\n",
       "</tr>\n",
       "<tr>\n",
       "  <th>Specialization_Services Excellence</th>    <td>   -0.8784</td> <td>    0.548</td> <td>   -1.604</td> <td> 0.109</td> <td>   -1.952</td> <td>    0.195</td>\n",
       "</tr>\n",
       "<tr>\n",
       "  <th>Unemployed</th>                            <td>   -0.5235</td> <td>    0.186</td> <td>   -2.813</td> <td> 0.005</td> <td>   -0.888</td> <td>   -0.159</td>\n",
       "</tr>\n",
       "<tr>\n",
       "  <th>Working Professional</th>                  <td>    2.1468</td> <td>    0.254</td> <td>    8.451</td> <td> 0.000</td> <td>    1.649</td> <td>    2.645</td>\n",
       "</tr>\n",
       "<tr>\n",
       "  <th>Last Activity_Modified</th>                <td>   -0.7540</td> <td>    0.079</td> <td>   -9.563</td> <td> 0.000</td> <td>   -0.909</td> <td>   -0.599</td>\n",
       "</tr>\n",
       "<tr>\n",
       "  <th>Last Activity_Other</th>                   <td>   -0.2920</td> <td>    0.116</td> <td>   -2.525</td> <td> 0.012</td> <td>   -0.519</td> <td>   -0.065</td>\n",
       "</tr>\n",
       "<tr>\n",
       "  <th>Last Activity_SMS Sent</th>                <td>    1.4183</td> <td>    0.080</td> <td>   17.779</td> <td> 0.000</td> <td>    1.262</td> <td>    1.575</td>\n",
       "</tr>\n",
       "</table>"
      ],
      "text/plain": [
       "<class 'statsmodels.iolib.summary.Summary'>\n",
       "\"\"\"\n",
       "                 Generalized Linear Model Regression Results                  \n",
       "==============================================================================\n",
       "Dep. Variable:              Converted   No. Observations:                 6351\n",
       "Model:                            GLM   Df Residuals:                     6335\n",
       "Model Family:                Binomial   Df Model:                           15\n",
       "Link Function:                  logit   Scale:                          1.0000\n",
       "Method:                          IRLS   Log-Likelihood:                -3163.4\n",
       "Date:                Mon, 20 Jul 2020   Deviance:                       6326.8\n",
       "Time:                        01:33:44   Pearson chi2:                 6.66e+03\n",
       "No. Iterations:                     6                                         \n",
       "Covariance Type:            nonrobust                                         \n",
       "=========================================================================================================\n",
       "                                            coef    std err          z      P>|z|      [0.025      0.975]\n",
       "---------------------------------------------------------------------------------------------------------\n",
       "const                                     0.6652      0.210      3.170      0.002       0.254       1.076\n",
       "Origin_Landing Page Submission           -1.1596      0.109    -10.610      0.000      -1.374      -0.945\n",
       "Origin_Others                             2.5147      0.180     13.987      0.000       2.162       2.867\n",
       "Source_Google                             0.3672      0.066      5.604      0.000       0.239       0.496\n",
       "Specialization_E-Business                 0.3822      0.362      1.057      0.291      -0.327       1.091\n",
       "Specialization_E-COMMERCE                -0.4100      0.290     -1.416      0.157      -0.978       0.158\n",
       "Specialization_International Business    -0.2578      0.214     -1.204      0.228      -0.677       0.162\n",
       "Specialization_Media and Advertising     -0.2335      0.202     -1.157      0.247      -0.629       0.162\n",
       "Specialization_Other                     -1.4042      0.113    -12.427      0.000      -1.626      -1.183\n",
       "Specialization_Retail Management         -0.2269      0.280     -0.809      0.419      -0.777       0.323\n",
       "Specialization_Services Excellence       -0.8784      0.548     -1.604      0.109      -1.952       0.195\n",
       "Unemployed                               -0.5235      0.186     -2.813      0.005      -0.888      -0.159\n",
       "Working Professional                      2.1468      0.254      8.451      0.000       1.649       2.645\n",
       "Last Activity_Modified                   -0.7540      0.079     -9.563      0.000      -0.909      -0.599\n",
       "Last Activity_Other                      -0.2920      0.116     -2.525      0.012      -0.519      -0.065\n",
       "Last Activity_SMS Sent                    1.4183      0.080     17.779      0.000       1.262       1.575\n",
       "=========================================================================================================\n",
       "\"\"\""
      ]
     },
     "execution_count": 135,
     "metadata": {},
     "output_type": "execute_result"
    }
   ],
   "source": [
    "# Assessing the model with statsmodel\n",
    "X_train_sm = sm.add_constant(X_train[col])\n",
    "logm2 = sm.GLM(y_train,X_train_sm, family = sm.families.Binomial())\n",
    "res = logm2.fit()\n",
    "res.summary()"
   ]
  },
  {
   "cell_type": "code",
   "execution_count": 136,
   "metadata": {},
   "outputs": [],
   "source": [
    "# Getting the predicted values on the train set\n",
    "y_train_pred = res.predict(X_train_sm).values.reshape(-1)"
   ]
  },
  {
   "cell_type": "code",
   "execution_count": 137,
   "metadata": {},
   "outputs": [
    {
     "data": {
      "text/plain": [
       "array([0.26542438, 0.48905138, 0.11748015, 0.59877221, 0.14529836,\n",
       "       0.68298205, 0.34280821, 0.87293169, 0.22244128, 0.14529836])"
      ]
     },
     "execution_count": 137,
     "metadata": {},
     "output_type": "execute_result"
    }
   ],
   "source": [
    "y_train_pred[:10]"
   ]
  },
  {
   "cell_type": "markdown",
   "metadata": {},
   "source": [
    "##### Creating a dataframe with the actual 'converted' flag and the 'conversion' probabilities"
   ]
  },
  {
   "cell_type": "code",
   "execution_count": 139,
   "metadata": {
    "scrolled": false
   },
   "outputs": [
    {
     "data": {
      "text/html": [
       "<div>\n",
       "<style scoped>\n",
       "    .dataframe tbody tr th:only-of-type {\n",
       "        vertical-align: middle;\n",
       "    }\n",
       "\n",
       "    .dataframe tbody tr th {\n",
       "        vertical-align: top;\n",
       "    }\n",
       "\n",
       "    .dataframe thead th {\n",
       "        text-align: right;\n",
       "    }\n",
       "</style>\n",
       "<table border=\"1\" class=\"dataframe\">\n",
       "  <thead>\n",
       "    <tr style=\"text-align: right;\">\n",
       "      <th></th>\n",
       "      <th>Converted</th>\n",
       "      <th>Converted_Prob</th>\n",
       "      <th>Lead ID</th>\n",
       "    </tr>\n",
       "  </thead>\n",
       "  <tbody>\n",
       "    <tr>\n",
       "      <th>0</th>\n",
       "      <td>0</td>\n",
       "      <td>0.265424</td>\n",
       "      <td>3009</td>\n",
       "    </tr>\n",
       "    <tr>\n",
       "      <th>1</th>\n",
       "      <td>0</td>\n",
       "      <td>0.489051</td>\n",
       "      <td>1012</td>\n",
       "    </tr>\n",
       "    <tr>\n",
       "      <th>2</th>\n",
       "      <td>0</td>\n",
       "      <td>0.117480</td>\n",
       "      <td>9226</td>\n",
       "    </tr>\n",
       "    <tr>\n",
       "      <th>3</th>\n",
       "      <td>1</td>\n",
       "      <td>0.598772</td>\n",
       "      <td>4750</td>\n",
       "    </tr>\n",
       "    <tr>\n",
       "      <th>4</th>\n",
       "      <td>1</td>\n",
       "      <td>0.145298</td>\n",
       "      <td>7987</td>\n",
       "    </tr>\n",
       "    <tr>\n",
       "      <th>5</th>\n",
       "      <td>1</td>\n",
       "      <td>0.682982</td>\n",
       "      <td>1281</td>\n",
       "    </tr>\n",
       "    <tr>\n",
       "      <th>6</th>\n",
       "      <td>0</td>\n",
       "      <td>0.342808</td>\n",
       "      <td>2880</td>\n",
       "    </tr>\n",
       "    <tr>\n",
       "      <th>7</th>\n",
       "      <td>1</td>\n",
       "      <td>0.872932</td>\n",
       "      <td>4971</td>\n",
       "    </tr>\n",
       "    <tr>\n",
       "      <th>8</th>\n",
       "      <td>1</td>\n",
       "      <td>0.222441</td>\n",
       "      <td>7536</td>\n",
       "    </tr>\n",
       "    <tr>\n",
       "      <th>9</th>\n",
       "      <td>0</td>\n",
       "      <td>0.145298</td>\n",
       "      <td>1248</td>\n",
       "    </tr>\n",
       "    <tr>\n",
       "      <th>10</th>\n",
       "      <td>0</td>\n",
       "      <td>0.342808</td>\n",
       "      <td>1429</td>\n",
       "    </tr>\n",
       "    <tr>\n",
       "      <th>11</th>\n",
       "      <td>0</td>\n",
       "      <td>0.040074</td>\n",
       "      <td>2178</td>\n",
       "    </tr>\n",
       "    <tr>\n",
       "      <th>12</th>\n",
       "      <td>0</td>\n",
       "      <td>0.145298</td>\n",
       "      <td>8554</td>\n",
       "    </tr>\n",
       "    <tr>\n",
       "      <th>13</th>\n",
       "      <td>1</td>\n",
       "      <td>0.538872</td>\n",
       "      <td>5044</td>\n",
       "    </tr>\n",
       "    <tr>\n",
       "      <th>14</th>\n",
       "      <td>1</td>\n",
       "      <td>0.710623</td>\n",
       "      <td>3475</td>\n",
       "    </tr>\n",
       "    <tr>\n",
       "      <th>15</th>\n",
       "      <td>1</td>\n",
       "      <td>0.598772</td>\n",
       "      <td>7424</td>\n",
       "    </tr>\n",
       "    <tr>\n",
       "      <th>16</th>\n",
       "      <td>0</td>\n",
       "      <td>0.265424</td>\n",
       "      <td>421</td>\n",
       "    </tr>\n",
       "    <tr>\n",
       "      <th>17</th>\n",
       "      <td>0</td>\n",
       "      <td>0.290006</td>\n",
       "      <td>3591</td>\n",
       "    </tr>\n",
       "    <tr>\n",
       "      <th>18</th>\n",
       "      <td>0</td>\n",
       "      <td>0.145298</td>\n",
       "      <td>6247</td>\n",
       "    </tr>\n",
       "    <tr>\n",
       "      <th>19</th>\n",
       "      <td>0</td>\n",
       "      <td>0.627840</td>\n",
       "      <td>7843</td>\n",
       "    </tr>\n",
       "  </tbody>\n",
       "</table>\n",
       "</div>"
      ],
      "text/plain": [
       "    Converted  Converted_Prob  Lead ID\n",
       "0           0        0.265424     3009\n",
       "1           0        0.489051     1012\n",
       "2           0        0.117480     9226\n",
       "3           1        0.598772     4750\n",
       "4           1        0.145298     7987\n",
       "5           1        0.682982     1281\n",
       "6           0        0.342808     2880\n",
       "7           1        0.872932     4971\n",
       "8           1        0.222441     7536\n",
       "9           0        0.145298     1248\n",
       "10          0        0.342808     1429\n",
       "11          0        0.040074     2178\n",
       "12          0        0.145298     8554\n",
       "13          1        0.538872     5044\n",
       "14          1        0.710623     3475\n",
       "15          1        0.598772     7424\n",
       "16          0        0.265424      421\n",
       "17          0        0.290006     3591\n",
       "18          0        0.145298     6247\n",
       "19          0        0.627840     7843"
      ]
     },
     "execution_count": 139,
     "metadata": {},
     "output_type": "execute_result"
    }
   ],
   "source": [
    "y_train_pred_final = pd.DataFrame({'Converted':y_train.values, 'Converted_Prob':y_train_pred})\n",
    "y_train_pred_final['Lead ID'] = y_train.index\n",
    "y_train_pred_final.head(20)"
   ]
  },
  {
   "cell_type": "markdown",
   "metadata": {},
   "source": [
    "##### Creating new column 'predicted' with 1 if Coverted_Prob > 0.5 else 0"
   ]
  },
  {
   "cell_type": "code",
   "execution_count": 141,
   "metadata": {},
   "outputs": [
    {
     "data": {
      "text/html": [
       "<div>\n",
       "<style scoped>\n",
       "    .dataframe tbody tr th:only-of-type {\n",
       "        vertical-align: middle;\n",
       "    }\n",
       "\n",
       "    .dataframe tbody tr th {\n",
       "        vertical-align: top;\n",
       "    }\n",
       "\n",
       "    .dataframe thead th {\n",
       "        text-align: right;\n",
       "    }\n",
       "</style>\n",
       "<table border=\"1\" class=\"dataframe\">\n",
       "  <thead>\n",
       "    <tr style=\"text-align: right;\">\n",
       "      <th></th>\n",
       "      <th>Converted</th>\n",
       "      <th>Converted_Prob</th>\n",
       "      <th>Lead ID</th>\n",
       "      <th>predicted</th>\n",
       "    </tr>\n",
       "  </thead>\n",
       "  <tbody>\n",
       "    <tr>\n",
       "      <th>0</th>\n",
       "      <td>0</td>\n",
       "      <td>0.265424</td>\n",
       "      <td>3009</td>\n",
       "      <td>0</td>\n",
       "    </tr>\n",
       "    <tr>\n",
       "      <th>1</th>\n",
       "      <td>0</td>\n",
       "      <td>0.489051</td>\n",
       "      <td>1012</td>\n",
       "      <td>0</td>\n",
       "    </tr>\n",
       "    <tr>\n",
       "      <th>2</th>\n",
       "      <td>0</td>\n",
       "      <td>0.117480</td>\n",
       "      <td>9226</td>\n",
       "      <td>0</td>\n",
       "    </tr>\n",
       "    <tr>\n",
       "      <th>3</th>\n",
       "      <td>1</td>\n",
       "      <td>0.598772</td>\n",
       "      <td>4750</td>\n",
       "      <td>1</td>\n",
       "    </tr>\n",
       "    <tr>\n",
       "      <th>4</th>\n",
       "      <td>1</td>\n",
       "      <td>0.145298</td>\n",
       "      <td>7987</td>\n",
       "      <td>0</td>\n",
       "    </tr>\n",
       "  </tbody>\n",
       "</table>\n",
       "</div>"
      ],
      "text/plain": [
       "   Converted  Converted_Prob  Lead ID  predicted\n",
       "0          0        0.265424     3009          0\n",
       "1          0        0.489051     1012          0\n",
       "2          0        0.117480     9226          0\n",
       "3          1        0.598772     4750          1\n",
       "4          1        0.145298     7987          0"
      ]
     },
     "execution_count": 141,
     "metadata": {},
     "output_type": "execute_result"
    }
   ],
   "source": [
    "y_train_pred_final['predicted'] = y_train_pred_final.Converted_Prob.map(lambda x: 1 if x > 0.5 else 0)\n",
    "\n",
    "# Let's see the head\n",
    "y_train_pred_final.head()"
   ]
  },
  {
   "cell_type": "code",
   "execution_count": 142,
   "metadata": {},
   "outputs": [],
   "source": [
    "from sklearn import metrics"
   ]
  },
  {
   "cell_type": "code",
   "execution_count": 143,
   "metadata": {},
   "outputs": [
    {
     "name": "stdout",
     "output_type": "stream",
     "text": [
      "[[3331  574]\n",
      " [ 882 1564]]\n"
     ]
    }
   ],
   "source": [
    "# Confusion matrix \n",
    "confusion = metrics.confusion_matrix(y_train_pred_final.Converted, y_train_pred_final.predicted )\n",
    "print(confusion)"
   ]
  },
  {
   "cell_type": "code",
   "execution_count": 144,
   "metadata": {},
   "outputs": [],
   "source": [
    "# Predicted     not_churn    churn\n",
    "# Actual\n",
    "# not_churn        2221      470\n",
    "# churn            754       1331  "
   ]
  },
  {
   "cell_type": "code",
   "execution_count": 145,
   "metadata": {},
   "outputs": [
    {
     "name": "stdout",
     "output_type": "stream",
     "text": [
      "0.7707447646039993\n"
     ]
    }
   ],
   "source": [
    "# Let's check the overall accuracy.\n",
    "print(metrics.accuracy_score(y_train_pred_final.Converted, y_train_pred_final.predicted))"
   ]
  },
  {
   "cell_type": "markdown",
   "metadata": {},
   "source": [
    "#### Checking VIFs "
   ]
  },
  {
   "cell_type": "code",
   "execution_count": 147,
   "metadata": {},
   "outputs": [],
   "source": [
    "# Check for the VIF values of the feature variables. \n",
    "from statsmodels.stats.outliers_influence import variance_inflation_factor"
   ]
  },
  {
   "cell_type": "code",
   "execution_count": 148,
   "metadata": {
    "scrolled": false
   },
   "outputs": [
    {
     "data": {
      "text/html": [
       "<div>\n",
       "<style scoped>\n",
       "    .dataframe tbody tr th:only-of-type {\n",
       "        vertical-align: middle;\n",
       "    }\n",
       "\n",
       "    .dataframe tbody tr th {\n",
       "        vertical-align: top;\n",
       "    }\n",
       "\n",
       "    .dataframe thead th {\n",
       "        text-align: right;\n",
       "    }\n",
       "</style>\n",
       "<table border=\"1\" class=\"dataframe\">\n",
       "  <thead>\n",
       "    <tr style=\"text-align: right;\">\n",
       "      <th></th>\n",
       "      <th>Features</th>\n",
       "      <th>VIF</th>\n",
       "    </tr>\n",
       "  </thead>\n",
       "  <tbody>\n",
       "    <tr>\n",
       "      <th>5</th>\n",
       "      <td>Specialization_International Business</td>\n",
       "      <td>1.04</td>\n",
       "    </tr>\n",
       "    <tr>\n",
       "      <th>6</th>\n",
       "      <td>Specialization_Media and Advertising</td>\n",
       "      <td>1.04</td>\n",
       "    </tr>\n",
       "    <tr>\n",
       "      <th>4</th>\n",
       "      <td>Specialization_E-COMMERCE</td>\n",
       "      <td>1.02</td>\n",
       "    </tr>\n",
       "    <tr>\n",
       "      <th>8</th>\n",
       "      <td>Specialization_Retail Management</td>\n",
       "      <td>1.02</td>\n",
       "    </tr>\n",
       "    <tr>\n",
       "      <th>3</th>\n",
       "      <td>Specialization_E-Business</td>\n",
       "      <td>1.01</td>\n",
       "    </tr>\n",
       "    <tr>\n",
       "      <th>9</th>\n",
       "      <td>Specialization_Services Excellence</td>\n",
       "      <td>1.01</td>\n",
       "    </tr>\n",
       "    <tr>\n",
       "      <th>11</th>\n",
       "      <td>Working Professional</td>\n",
       "      <td>0.74</td>\n",
       "    </tr>\n",
       "    <tr>\n",
       "      <th>1</th>\n",
       "      <td>Origin_Others</td>\n",
       "      <td>0.59</td>\n",
       "    </tr>\n",
       "    <tr>\n",
       "      <th>12</th>\n",
       "      <td>Last Activity_Modified</td>\n",
       "      <td>0.22</td>\n",
       "    </tr>\n",
       "    <tr>\n",
       "      <th>2</th>\n",
       "      <td>Source_Google</td>\n",
       "      <td>0.18</td>\n",
       "    </tr>\n",
       "    <tr>\n",
       "      <th>13</th>\n",
       "      <td>Last Activity_Other</td>\n",
       "      <td>0.14</td>\n",
       "    </tr>\n",
       "    <tr>\n",
       "      <th>10</th>\n",
       "      <td>Unemployed</td>\n",
       "      <td>0.13</td>\n",
       "    </tr>\n",
       "    <tr>\n",
       "      <th>0</th>\n",
       "      <td>Origin_Landing Page Submission</td>\n",
       "      <td>0.12</td>\n",
       "    </tr>\n",
       "    <tr>\n",
       "      <th>14</th>\n",
       "      <td>Last Activity_SMS Sent</td>\n",
       "      <td>0.02</td>\n",
       "    </tr>\n",
       "    <tr>\n",
       "      <th>7</th>\n",
       "      <td>Specialization_Other</td>\n",
       "      <td>0.00</td>\n",
       "    </tr>\n",
       "  </tbody>\n",
       "</table>\n",
       "</div>"
      ],
      "text/plain": [
       "                                 Features   VIF\n",
       "5   Specialization_International Business  1.04\n",
       "6    Specialization_Media and Advertising  1.04\n",
       "4               Specialization_E-COMMERCE  1.02\n",
       "8        Specialization_Retail Management  1.02\n",
       "3               Specialization_E-Business  1.01\n",
       "9      Specialization_Services Excellence  1.01\n",
       "11                   Working Professional  0.74\n",
       "1                           Origin_Others  0.59\n",
       "12                 Last Activity_Modified  0.22\n",
       "2                           Source_Google  0.18\n",
       "13                    Last Activity_Other  0.14\n",
       "10                             Unemployed  0.13\n",
       "0          Origin_Landing Page Submission  0.12\n",
       "14                 Last Activity_SMS Sent  0.02\n",
       "7                    Specialization_Other  0.00"
      ]
     },
     "execution_count": 148,
     "metadata": {},
     "output_type": "execute_result"
    }
   ],
   "source": [
    "vif = pd.DataFrame()\n",
    "vif['Features'] = X_train[col].columns\n",
    "vif['VIF'] = [variance_inflation_factor(X_train[col].values, i) for i in range(X_train[col].shape[1])]\n",
    "vif['VIF'] = round(vif['VIF'], 2)\n",
    "vif = vif.sort_values(by = \"VIF\", ascending = False)\n",
    "vif"
   ]
  },
  {
   "cell_type": "markdown",
   "metadata": {},
   "source": [
    "#### We can see that, even though the VIFs are normal, a few variables have a p-value > 0.05. Lets drop these variables one by one and recheck the statsmodel."
   ]
  },
  {
   "cell_type": "code",
   "execution_count": 149,
   "metadata": {
    "scrolled": true
   },
   "outputs": [
    {
     "data": {
      "text/plain": [
       "Index(['Origin_Landing Page Submission', 'Origin_Others', 'Source_Google',\n",
       "       'Specialization_E-Business', 'Specialization_E-COMMERCE',\n",
       "       'Specialization_International Business',\n",
       "       'Specialization_Media and Advertising', 'Specialization_Other',\n",
       "       'Specialization_Services Excellence', 'Unemployed',\n",
       "       'Working Professional', 'Last Activity_Modified', 'Last Activity_Other',\n",
       "       'Last Activity_SMS Sent'],\n",
       "      dtype='object')"
      ]
     },
     "execution_count": 149,
     "metadata": {},
     "output_type": "execute_result"
    }
   ],
   "source": [
    "# dropping the variable - 'Specialization_Retail Management', as it has high p-value\n",
    "col = col.drop('Specialization_Retail Management', 1)\n",
    "col"
   ]
  },
  {
   "cell_type": "code",
   "execution_count": 150,
   "metadata": {},
   "outputs": [
    {
     "data": {
      "text/html": [
       "<table class=\"simpletable\">\n",
       "<caption>Generalized Linear Model Regression Results</caption>\n",
       "<tr>\n",
       "  <th>Dep. Variable:</th>       <td>Converted</td>    <th>  No. Observations:  </th>  <td>  6351</td> \n",
       "</tr>\n",
       "<tr>\n",
       "  <th>Model:</th>                  <td>GLM</td>       <th>  Df Residuals:      </th>  <td>  6336</td> \n",
       "</tr>\n",
       "<tr>\n",
       "  <th>Model Family:</th>        <td>Binomial</td>     <th>  Df Model:          </th>  <td>    14</td> \n",
       "</tr>\n",
       "<tr>\n",
       "  <th>Link Function:</th>         <td>logit</td>      <th>  Scale:             </th> <td>  1.0000</td>\n",
       "</tr>\n",
       "<tr>\n",
       "  <th>Method:</th>                <td>IRLS</td>       <th>  Log-Likelihood:    </th> <td> -3163.7</td>\n",
       "</tr>\n",
       "<tr>\n",
       "  <th>Date:</th>            <td>Mon, 20 Jul 2020</td> <th>  Deviance:          </th> <td>  6327.5</td>\n",
       "</tr>\n",
       "<tr>\n",
       "  <th>Time:</th>                <td>01:41:03</td>     <th>  Pearson chi2:      </th> <td>6.66e+03</td>\n",
       "</tr>\n",
       "<tr>\n",
       "  <th>No. Iterations:</th>          <td>6</td>        <th>                     </th>     <td> </td>   \n",
       "</tr>\n",
       "<tr>\n",
       "  <th>Covariance Type:</th>     <td>nonrobust</td>    <th>                     </th>     <td> </td>   \n",
       "</tr>\n",
       "</table>\n",
       "<table class=\"simpletable\">\n",
       "<tr>\n",
       "                    <td></td>                       <th>coef</th>     <th>std err</th>      <th>z</th>      <th>P>|z|</th>  <th>[0.025</th>    <th>0.975]</th>  \n",
       "</tr>\n",
       "<tr>\n",
       "  <th>const</th>                                 <td>    0.6623</td> <td>    0.210</td> <td>    3.156</td> <td> 0.002</td> <td>    0.251</td> <td>    1.074</td>\n",
       "</tr>\n",
       "<tr>\n",
       "  <th>Origin_Landing Page Submission</th>        <td>   -1.1619</td> <td>    0.109</td> <td>  -10.635</td> <td> 0.000</td> <td>   -1.376</td> <td>   -0.948</td>\n",
       "</tr>\n",
       "<tr>\n",
       "  <th>Origin_Others</th>                         <td>    2.5138</td> <td>    0.180</td> <td>   13.982</td> <td> 0.000</td> <td>    2.161</td> <td>    2.866</td>\n",
       "</tr>\n",
       "<tr>\n",
       "  <th>Source_Google</th>                         <td>    0.3667</td> <td>    0.066</td> <td>    5.598</td> <td> 0.000</td> <td>    0.238</td> <td>    0.495</td>\n",
       "</tr>\n",
       "<tr>\n",
       "  <th>Specialization_E-Business</th>             <td>    0.3874</td> <td>    0.362</td> <td>    1.071</td> <td> 0.284</td> <td>   -0.321</td> <td>    1.096</td>\n",
       "</tr>\n",
       "<tr>\n",
       "  <th>Specialization_E-COMMERCE</th>             <td>   -0.4051</td> <td>    0.290</td> <td>   -1.399</td> <td> 0.162</td> <td>   -0.973</td> <td>    0.162</td>\n",
       "</tr>\n",
       "<tr>\n",
       "  <th>Specialization_International Business</th> <td>   -0.2529</td> <td>    0.214</td> <td>   -1.182</td> <td> 0.237</td> <td>   -0.672</td> <td>    0.166</td>\n",
       "</tr>\n",
       "<tr>\n",
       "  <th>Specialization_Media and Advertising</th>  <td>   -0.2286</td> <td>    0.202</td> <td>   -1.132</td> <td> 0.257</td> <td>   -0.624</td> <td>    0.167</td>\n",
       "</tr>\n",
       "<tr>\n",
       "  <th>Specialization_Other</th>                  <td>   -1.4011</td> <td>    0.113</td> <td>  -12.407</td> <td> 0.000</td> <td>   -1.622</td> <td>   -1.180</td>\n",
       "</tr>\n",
       "<tr>\n",
       "  <th>Specialization_Services Excellence</th>    <td>   -0.8735</td> <td>    0.548</td> <td>   -1.595</td> <td> 0.111</td> <td>   -1.947</td> <td>    0.200</td>\n",
       "</tr>\n",
       "<tr>\n",
       "  <th>Unemployed</th>                            <td>   -0.5230</td> <td>    0.186</td> <td>   -2.809</td> <td> 0.005</td> <td>   -0.888</td> <td>   -0.158</td>\n",
       "</tr>\n",
       "<tr>\n",
       "  <th>Working Professional</th>                  <td>    2.1486</td> <td>    0.254</td> <td>    8.457</td> <td> 0.000</td> <td>    1.651</td> <td>    2.647</td>\n",
       "</tr>\n",
       "<tr>\n",
       "  <th>Last Activity_Modified</th>                <td>   -0.7545</td> <td>    0.079</td> <td>   -9.570</td> <td> 0.000</td> <td>   -0.909</td> <td>   -0.600</td>\n",
       "</tr>\n",
       "<tr>\n",
       "  <th>Last Activity_Other</th>                   <td>   -0.2937</td> <td>    0.116</td> <td>   -2.540</td> <td> 0.011</td> <td>   -0.520</td> <td>   -0.067</td>\n",
       "</tr>\n",
       "<tr>\n",
       "  <th>Last Activity_SMS Sent</th>                <td>    1.4176</td> <td>    0.080</td> <td>   17.774</td> <td> 0.000</td> <td>    1.261</td> <td>    1.574</td>\n",
       "</tr>\n",
       "</table>"
      ],
      "text/plain": [
       "<class 'statsmodels.iolib.summary.Summary'>\n",
       "\"\"\"\n",
       "                 Generalized Linear Model Regression Results                  \n",
       "==============================================================================\n",
       "Dep. Variable:              Converted   No. Observations:                 6351\n",
       "Model:                            GLM   Df Residuals:                     6336\n",
       "Model Family:                Binomial   Df Model:                           14\n",
       "Link Function:                  logit   Scale:                          1.0000\n",
       "Method:                          IRLS   Log-Likelihood:                -3163.7\n",
       "Date:                Mon, 20 Jul 2020   Deviance:                       6327.5\n",
       "Time:                        01:41:03   Pearson chi2:                 6.66e+03\n",
       "No. Iterations:                     6                                         \n",
       "Covariance Type:            nonrobust                                         \n",
       "=========================================================================================================\n",
       "                                            coef    std err          z      P>|z|      [0.025      0.975]\n",
       "---------------------------------------------------------------------------------------------------------\n",
       "const                                     0.6623      0.210      3.156      0.002       0.251       1.074\n",
       "Origin_Landing Page Submission           -1.1619      0.109    -10.635      0.000      -1.376      -0.948\n",
       "Origin_Others                             2.5138      0.180     13.982      0.000       2.161       2.866\n",
       "Source_Google                             0.3667      0.066      5.598      0.000       0.238       0.495\n",
       "Specialization_E-Business                 0.3874      0.362      1.071      0.284      -0.321       1.096\n",
       "Specialization_E-COMMERCE                -0.4051      0.290     -1.399      0.162      -0.973       0.162\n",
       "Specialization_International Business    -0.2529      0.214     -1.182      0.237      -0.672       0.166\n",
       "Specialization_Media and Advertising     -0.2286      0.202     -1.132      0.257      -0.624       0.167\n",
       "Specialization_Other                     -1.4011      0.113    -12.407      0.000      -1.622      -1.180\n",
       "Specialization_Services Excellence       -0.8735      0.548     -1.595      0.111      -1.947       0.200\n",
       "Unemployed                               -0.5230      0.186     -2.809      0.005      -0.888      -0.158\n",
       "Working Professional                      2.1486      0.254      8.457      0.000       1.651       2.647\n",
       "Last Activity_Modified                   -0.7545      0.079     -9.570      0.000      -0.909      -0.600\n",
       "Last Activity_Other                      -0.2937      0.116     -2.540      0.011      -0.520      -0.067\n",
       "Last Activity_SMS Sent                    1.4176      0.080     17.774      0.000       1.261       1.574\n",
       "=========================================================================================================\n",
       "\"\"\""
      ]
     },
     "execution_count": 150,
     "metadata": {},
     "output_type": "execute_result"
    }
   ],
   "source": [
    "# Let's re-run the model using the selected variables\n",
    "X_train_sm = sm.add_constant(X_train[col])\n",
    "logm3 = sm.GLM(y_train,X_train_sm, family = sm.families.Binomial())\n",
    "res = logm3.fit()\n",
    "res.summary()"
   ]
  },
  {
   "cell_type": "code",
   "execution_count": 151,
   "metadata": {},
   "outputs": [],
   "source": [
    "y_train_pred = res.predict(X_train_sm).values.reshape(-1)"
   ]
  },
  {
   "cell_type": "code",
   "execution_count": 152,
   "metadata": {},
   "outputs": [
    {
     "data": {
      "text/plain": [
       "array([0.26453166, 0.48856765, 0.1175077 , 0.59749552, 0.1446645 ,\n",
       "       0.68173499, 0.34167684, 0.87254381, 0.22250545, 0.1446645 ])"
      ]
     },
     "execution_count": 152,
     "metadata": {},
     "output_type": "execute_result"
    }
   ],
   "source": [
    "y_train_pred[:10]"
   ]
  },
  {
   "cell_type": "code",
   "execution_count": 153,
   "metadata": {},
   "outputs": [],
   "source": [
    "y_train_pred_final['Converted_Prob'] = y_train_pred"
   ]
  },
  {
   "cell_type": "code",
   "execution_count": 154,
   "metadata": {},
   "outputs": [
    {
     "data": {
      "text/html": [
       "<div>\n",
       "<style scoped>\n",
       "    .dataframe tbody tr th:only-of-type {\n",
       "        vertical-align: middle;\n",
       "    }\n",
       "\n",
       "    .dataframe tbody tr th {\n",
       "        vertical-align: top;\n",
       "    }\n",
       "\n",
       "    .dataframe thead th {\n",
       "        text-align: right;\n",
       "    }\n",
       "</style>\n",
       "<table border=\"1\" class=\"dataframe\">\n",
       "  <thead>\n",
       "    <tr style=\"text-align: right;\">\n",
       "      <th></th>\n",
       "      <th>Converted</th>\n",
       "      <th>Converted_Prob</th>\n",
       "      <th>Lead ID</th>\n",
       "      <th>predicted</th>\n",
       "    </tr>\n",
       "  </thead>\n",
       "  <tbody>\n",
       "    <tr>\n",
       "      <th>0</th>\n",
       "      <td>0</td>\n",
       "      <td>0.264532</td>\n",
       "      <td>3009</td>\n",
       "      <td>0</td>\n",
       "    </tr>\n",
       "    <tr>\n",
       "      <th>1</th>\n",
       "      <td>0</td>\n",
       "      <td>0.488568</td>\n",
       "      <td>1012</td>\n",
       "      <td>0</td>\n",
       "    </tr>\n",
       "    <tr>\n",
       "      <th>2</th>\n",
       "      <td>0</td>\n",
       "      <td>0.117508</td>\n",
       "      <td>9226</td>\n",
       "      <td>0</td>\n",
       "    </tr>\n",
       "    <tr>\n",
       "      <th>3</th>\n",
       "      <td>1</td>\n",
       "      <td>0.597496</td>\n",
       "      <td>4750</td>\n",
       "      <td>1</td>\n",
       "    </tr>\n",
       "    <tr>\n",
       "      <th>4</th>\n",
       "      <td>1</td>\n",
       "      <td>0.144664</td>\n",
       "      <td>7987</td>\n",
       "      <td>0</td>\n",
       "    </tr>\n",
       "  </tbody>\n",
       "</table>\n",
       "</div>"
      ],
      "text/plain": [
       "   Converted  Converted_Prob  Lead ID  predicted\n",
       "0          0        0.264532     3009          0\n",
       "1          0        0.488568     1012          0\n",
       "2          0        0.117508     9226          0\n",
       "3          1        0.597496     4750          1\n",
       "4          1        0.144664     7987          0"
      ]
     },
     "execution_count": 154,
     "metadata": {},
     "output_type": "execute_result"
    }
   ],
   "source": [
    "# Creating new column 'predicted' with 1 if Churn_Prob > 0.5 else 0\n",
    "y_train_pred_final['predicted'] = y_train_pred_final.Converted_Prob.map(lambda x: 1 if x > 0.5 else 0)\n",
    "y_train_pred_final.head()"
   ]
  },
  {
   "cell_type": "code",
   "execution_count": 155,
   "metadata": {},
   "outputs": [
    {
     "name": "stdout",
     "output_type": "stream",
     "text": [
      "0.7707447646039993\n"
     ]
    }
   ],
   "source": [
    "# Let's check the overall accuracy.\n",
    "print(metrics.accuracy_score(y_train_pred_final.Converted, y_train_pred_final.predicted))"
   ]
  },
  {
   "cell_type": "markdown",
   "metadata": {},
   "source": [
    "Overall Accuracy is almost the same"
   ]
  },
  {
   "cell_type": "markdown",
   "metadata": {},
   "source": [
    "#### Checking VIFs again"
   ]
  },
  {
   "cell_type": "code",
   "execution_count": 156,
   "metadata": {
    "scrolled": false
   },
   "outputs": [
    {
     "data": {
      "text/html": [
       "<div>\n",
       "<style scoped>\n",
       "    .dataframe tbody tr th:only-of-type {\n",
       "        vertical-align: middle;\n",
       "    }\n",
       "\n",
       "    .dataframe tbody tr th {\n",
       "        vertical-align: top;\n",
       "    }\n",
       "\n",
       "    .dataframe thead th {\n",
       "        text-align: right;\n",
       "    }\n",
       "</style>\n",
       "<table border=\"1\" class=\"dataframe\">\n",
       "  <thead>\n",
       "    <tr style=\"text-align: right;\">\n",
       "      <th></th>\n",
       "      <th>Features</th>\n",
       "      <th>VIF</th>\n",
       "    </tr>\n",
       "  </thead>\n",
       "  <tbody>\n",
       "    <tr>\n",
       "      <th>5</th>\n",
       "      <td>Specialization_International Business</td>\n",
       "      <td>1.04</td>\n",
       "    </tr>\n",
       "    <tr>\n",
       "      <th>6</th>\n",
       "      <td>Specialization_Media and Advertising</td>\n",
       "      <td>1.04</td>\n",
       "    </tr>\n",
       "    <tr>\n",
       "      <th>4</th>\n",
       "      <td>Specialization_E-COMMERCE</td>\n",
       "      <td>1.02</td>\n",
       "    </tr>\n",
       "    <tr>\n",
       "      <th>3</th>\n",
       "      <td>Specialization_E-Business</td>\n",
       "      <td>1.01</td>\n",
       "    </tr>\n",
       "    <tr>\n",
       "      <th>8</th>\n",
       "      <td>Specialization_Services Excellence</td>\n",
       "      <td>1.01</td>\n",
       "    </tr>\n",
       "    <tr>\n",
       "      <th>10</th>\n",
       "      <td>Working Professional</td>\n",
       "      <td>0.74</td>\n",
       "    </tr>\n",
       "    <tr>\n",
       "      <th>1</th>\n",
       "      <td>Origin_Others</td>\n",
       "      <td>0.59</td>\n",
       "    </tr>\n",
       "    <tr>\n",
       "      <th>11</th>\n",
       "      <td>Last Activity_Modified</td>\n",
       "      <td>0.22</td>\n",
       "    </tr>\n",
       "    <tr>\n",
       "      <th>2</th>\n",
       "      <td>Source_Google</td>\n",
       "      <td>0.18</td>\n",
       "    </tr>\n",
       "    <tr>\n",
       "      <th>12</th>\n",
       "      <td>Last Activity_Other</td>\n",
       "      <td>0.14</td>\n",
       "    </tr>\n",
       "    <tr>\n",
       "      <th>9</th>\n",
       "      <td>Unemployed</td>\n",
       "      <td>0.13</td>\n",
       "    </tr>\n",
       "    <tr>\n",
       "      <th>0</th>\n",
       "      <td>Origin_Landing Page Submission</td>\n",
       "      <td>0.12</td>\n",
       "    </tr>\n",
       "    <tr>\n",
       "      <th>13</th>\n",
       "      <td>Last Activity_SMS Sent</td>\n",
       "      <td>0.02</td>\n",
       "    </tr>\n",
       "    <tr>\n",
       "      <th>7</th>\n",
       "      <td>Specialization_Other</td>\n",
       "      <td>0.00</td>\n",
       "    </tr>\n",
       "  </tbody>\n",
       "</table>\n",
       "</div>"
      ],
      "text/plain": [
       "                                 Features   VIF\n",
       "5   Specialization_International Business  1.04\n",
       "6    Specialization_Media and Advertising  1.04\n",
       "4               Specialization_E-COMMERCE  1.02\n",
       "3               Specialization_E-Business  1.01\n",
       "8      Specialization_Services Excellence  1.01\n",
       "10                   Working Professional  0.74\n",
       "1                           Origin_Others  0.59\n",
       "11                 Last Activity_Modified  0.22\n",
       "2                           Source_Google  0.18\n",
       "12                    Last Activity_Other  0.14\n",
       "9                              Unemployed  0.13\n",
       "0          Origin_Landing Page Submission  0.12\n",
       "13                 Last Activity_SMS Sent  0.02\n",
       "7                    Specialization_Other  0.00"
      ]
     },
     "execution_count": 156,
     "metadata": {},
     "output_type": "execute_result"
    }
   ],
   "source": [
    "vif = pd.DataFrame()\n",
    "vif['Features'] = X_train[col].columns\n",
    "vif['VIF'] = [variance_inflation_factor(X_train[col].values, i) for i in range(X_train[col].shape[1])]\n",
    "vif['VIF'] = round(vif['VIF'], 2)\n",
    "vif = vif.sort_values(by = \"VIF\", ascending = False)\n",
    "vif"
   ]
  },
  {
   "cell_type": "code",
   "execution_count": 157,
   "metadata": {
    "scrolled": true
   },
   "outputs": [
    {
     "data": {
      "text/plain": [
       "Index(['Origin_Landing Page Submission', 'Origin_Others', 'Source_Google',\n",
       "       'Specialization_E-COMMERCE', 'Specialization_International Business',\n",
       "       'Specialization_Media and Advertising', 'Specialization_Other',\n",
       "       'Specialization_Services Excellence', 'Unemployed',\n",
       "       'Working Professional', 'Last Activity_Modified', 'Last Activity_Other',\n",
       "       'Last Activity_SMS Sent'],\n",
       "      dtype='object')"
      ]
     },
     "execution_count": 157,
     "metadata": {},
     "output_type": "execute_result"
    }
   ],
   "source": [
    "# dropping the variable - 'Specialization_E-Business', as it has high p-value\n",
    "col = col.drop('Specialization_E-Business', 1)\n",
    "col"
   ]
  },
  {
   "cell_type": "code",
   "execution_count": 158,
   "metadata": {},
   "outputs": [
    {
     "data": {
      "text/html": [
       "<table class=\"simpletable\">\n",
       "<caption>Generalized Linear Model Regression Results</caption>\n",
       "<tr>\n",
       "  <th>Dep. Variable:</th>       <td>Converted</td>    <th>  No. Observations:  </th>  <td>  6351</td> \n",
       "</tr>\n",
       "<tr>\n",
       "  <th>Model:</th>                  <td>GLM</td>       <th>  Df Residuals:      </th>  <td>  6337</td> \n",
       "</tr>\n",
       "<tr>\n",
       "  <th>Model Family:</th>        <td>Binomial</td>     <th>  Df Model:          </th>  <td>    13</td> \n",
       "</tr>\n",
       "<tr>\n",
       "  <th>Link Function:</th>         <td>logit</td>      <th>  Scale:             </th> <td>  1.0000</td>\n",
       "</tr>\n",
       "<tr>\n",
       "  <th>Method:</th>                <td>IRLS</td>       <th>  Log-Likelihood:    </th> <td> -3164.3</td>\n",
       "</tr>\n",
       "<tr>\n",
       "  <th>Date:</th>            <td>Mon, 20 Jul 2020</td> <th>  Deviance:          </th> <td>  6328.6</td>\n",
       "</tr>\n",
       "<tr>\n",
       "  <th>Time:</th>                <td>01:41:24</td>     <th>  Pearson chi2:      </th> <td>6.65e+03</td>\n",
       "</tr>\n",
       "<tr>\n",
       "  <th>No. Iterations:</th>          <td>6</td>        <th>                     </th>     <td> </td>   \n",
       "</tr>\n",
       "<tr>\n",
       "  <th>Covariance Type:</th>     <td>nonrobust</td>    <th>                     </th>     <td> </td>   \n",
       "</tr>\n",
       "</table>\n",
       "<table class=\"simpletable\">\n",
       "<tr>\n",
       "                    <td></td>                       <th>coef</th>     <th>std err</th>      <th>z</th>      <th>P>|z|</th>  <th>[0.025</th>    <th>0.975]</th>  \n",
       "</tr>\n",
       "<tr>\n",
       "  <th>const</th>                                 <td>    0.6642</td> <td>    0.210</td> <td>    3.166</td> <td> 0.002</td> <td>    0.253</td> <td>    1.075</td>\n",
       "</tr>\n",
       "<tr>\n",
       "  <th>Origin_Landing Page Submission</th>        <td>   -1.1589</td> <td>    0.109</td> <td>  -10.613</td> <td> 0.000</td> <td>   -1.373</td> <td>   -0.945</td>\n",
       "</tr>\n",
       "<tr>\n",
       "  <th>Origin_Others</th>                         <td>    2.5145</td> <td>    0.180</td> <td>   13.988</td> <td> 0.000</td> <td>    2.162</td> <td>    2.867</td>\n",
       "</tr>\n",
       "<tr>\n",
       "  <th>Source_Google</th>                         <td>    0.3653</td> <td>    0.065</td> <td>    5.578</td> <td> 0.000</td> <td>    0.237</td> <td>    0.494</td>\n",
       "</tr>\n",
       "<tr>\n",
       "  <th>Specialization_E-COMMERCE</th>             <td>   -0.4099</td> <td>    0.289</td> <td>   -1.416</td> <td> 0.157</td> <td>   -0.977</td> <td>    0.157</td>\n",
       "</tr>\n",
       "<tr>\n",
       "  <th>Specialization_International Business</th> <td>   -0.2573</td> <td>    0.214</td> <td>   -1.203</td> <td> 0.229</td> <td>   -0.676</td> <td>    0.162</td>\n",
       "</tr>\n",
       "<tr>\n",
       "  <th>Specialization_Media and Advertising</th>  <td>   -0.2332</td> <td>    0.202</td> <td>   -1.156</td> <td> 0.248</td> <td>   -0.629</td> <td>    0.162</td>\n",
       "</tr>\n",
       "<tr>\n",
       "  <th>Specialization_Other</th>                  <td>   -1.4036</td> <td>    0.113</td> <td>  -12.434</td> <td> 0.000</td> <td>   -1.625</td> <td>   -1.182</td>\n",
       "</tr>\n",
       "<tr>\n",
       "  <th>Specialization_Services Excellence</th>    <td>   -0.8780</td> <td>    0.548</td> <td>   -1.603</td> <td> 0.109</td> <td>   -1.951</td> <td>    0.195</td>\n",
       "</tr>\n",
       "<tr>\n",
       "  <th>Unemployed</th>                            <td>   -0.5230</td> <td>    0.186</td> <td>   -2.810</td> <td> 0.005</td> <td>   -0.888</td> <td>   -0.158</td>\n",
       "</tr>\n",
       "<tr>\n",
       "  <th>Working Professional</th>                  <td>    2.1448</td> <td>    0.254</td> <td>    8.443</td> <td> 0.000</td> <td>    1.647</td> <td>    2.643</td>\n",
       "</tr>\n",
       "<tr>\n",
       "  <th>Last Activity_Modified</th>                <td>   -0.7523</td> <td>    0.079</td> <td>   -9.547</td> <td> 0.000</td> <td>   -0.907</td> <td>   -0.598</td>\n",
       "</tr>\n",
       "<tr>\n",
       "  <th>Last Activity_Other</th>                   <td>   -0.2911</td> <td>    0.116</td> <td>   -2.518</td> <td> 0.012</td> <td>   -0.518</td> <td>   -0.065</td>\n",
       "</tr>\n",
       "<tr>\n",
       "  <th>Last Activity_SMS Sent</th>                <td>    1.4180</td> <td>    0.080</td> <td>   17.780</td> <td> 0.000</td> <td>    1.262</td> <td>    1.574</td>\n",
       "</tr>\n",
       "</table>"
      ],
      "text/plain": [
       "<class 'statsmodels.iolib.summary.Summary'>\n",
       "\"\"\"\n",
       "                 Generalized Linear Model Regression Results                  \n",
       "==============================================================================\n",
       "Dep. Variable:              Converted   No. Observations:                 6351\n",
       "Model:                            GLM   Df Residuals:                     6337\n",
       "Model Family:                Binomial   Df Model:                           13\n",
       "Link Function:                  logit   Scale:                          1.0000\n",
       "Method:                          IRLS   Log-Likelihood:                -3164.3\n",
       "Date:                Mon, 20 Jul 2020   Deviance:                       6328.6\n",
       "Time:                        01:41:24   Pearson chi2:                 6.65e+03\n",
       "No. Iterations:                     6                                         \n",
       "Covariance Type:            nonrobust                                         \n",
       "=========================================================================================================\n",
       "                                            coef    std err          z      P>|z|      [0.025      0.975]\n",
       "---------------------------------------------------------------------------------------------------------\n",
       "const                                     0.6642      0.210      3.166      0.002       0.253       1.075\n",
       "Origin_Landing Page Submission           -1.1589      0.109    -10.613      0.000      -1.373      -0.945\n",
       "Origin_Others                             2.5145      0.180     13.988      0.000       2.162       2.867\n",
       "Source_Google                             0.3653      0.065      5.578      0.000       0.237       0.494\n",
       "Specialization_E-COMMERCE                -0.4099      0.289     -1.416      0.157      -0.977       0.157\n",
       "Specialization_International Business    -0.2573      0.214     -1.203      0.229      -0.676       0.162\n",
       "Specialization_Media and Advertising     -0.2332      0.202     -1.156      0.248      -0.629       0.162\n",
       "Specialization_Other                     -1.4036      0.113    -12.434      0.000      -1.625      -1.182\n",
       "Specialization_Services Excellence       -0.8780      0.548     -1.603      0.109      -1.951       0.195\n",
       "Unemployed                               -0.5230      0.186     -2.810      0.005      -0.888      -0.158\n",
       "Working Professional                      2.1448      0.254      8.443      0.000       1.647       2.643\n",
       "Last Activity_Modified                   -0.7523      0.079     -9.547      0.000      -0.907      -0.598\n",
       "Last Activity_Other                      -0.2911      0.116     -2.518      0.012      -0.518      -0.065\n",
       "Last Activity_SMS Sent                    1.4180      0.080     17.780      0.000       1.262       1.574\n",
       "=========================================================================================================\n",
       "\"\"\""
      ]
     },
     "execution_count": 158,
     "metadata": {},
     "output_type": "execute_result"
    }
   ],
   "source": [
    "# Let's re-run the model using the selected variables\n",
    "X_train_sm = sm.add_constant(X_train[col])\n",
    "logm3 = sm.GLM(y_train,X_train_sm, family = sm.families.Binomial())\n",
    "res = logm3.fit()\n",
    "res.summary()"
   ]
  },
  {
   "cell_type": "code",
   "execution_count": 159,
   "metadata": {},
   "outputs": [],
   "source": [
    "y_train_pred = res.predict(X_train_sm).values.reshape(-1)"
   ]
  },
  {
   "cell_type": "code",
   "execution_count": 160,
   "metadata": {},
   "outputs": [
    {
     "data": {
      "text/plain": [
       "array([0.26546468, 0.48883587, 0.11765781, 0.59874958, 0.14553225,\n",
       "       0.68255869, 0.34243574, 0.87263696, 0.22253309, 0.14553225])"
      ]
     },
     "execution_count": 160,
     "metadata": {},
     "output_type": "execute_result"
    }
   ],
   "source": [
    "y_train_pred[:10]"
   ]
  },
  {
   "cell_type": "code",
   "execution_count": 161,
   "metadata": {},
   "outputs": [],
   "source": [
    "y_train_pred_final['Converted_Prob'] = y_train_pred"
   ]
  },
  {
   "cell_type": "code",
   "execution_count": 162,
   "metadata": {},
   "outputs": [
    {
     "data": {
      "text/html": [
       "<div>\n",
       "<style scoped>\n",
       "    .dataframe tbody tr th:only-of-type {\n",
       "        vertical-align: middle;\n",
       "    }\n",
       "\n",
       "    .dataframe tbody tr th {\n",
       "        vertical-align: top;\n",
       "    }\n",
       "\n",
       "    .dataframe thead th {\n",
       "        text-align: right;\n",
       "    }\n",
       "</style>\n",
       "<table border=\"1\" class=\"dataframe\">\n",
       "  <thead>\n",
       "    <tr style=\"text-align: right;\">\n",
       "      <th></th>\n",
       "      <th>Converted</th>\n",
       "      <th>Converted_Prob</th>\n",
       "      <th>Lead ID</th>\n",
       "      <th>predicted</th>\n",
       "    </tr>\n",
       "  </thead>\n",
       "  <tbody>\n",
       "    <tr>\n",
       "      <th>0</th>\n",
       "      <td>0</td>\n",
       "      <td>0.265465</td>\n",
       "      <td>3009</td>\n",
       "      <td>0</td>\n",
       "    </tr>\n",
       "    <tr>\n",
       "      <th>1</th>\n",
       "      <td>0</td>\n",
       "      <td>0.488836</td>\n",
       "      <td>1012</td>\n",
       "      <td>0</td>\n",
       "    </tr>\n",
       "    <tr>\n",
       "      <th>2</th>\n",
       "      <td>0</td>\n",
       "      <td>0.117658</td>\n",
       "      <td>9226</td>\n",
       "      <td>0</td>\n",
       "    </tr>\n",
       "    <tr>\n",
       "      <th>3</th>\n",
       "      <td>1</td>\n",
       "      <td>0.598750</td>\n",
       "      <td>4750</td>\n",
       "      <td>1</td>\n",
       "    </tr>\n",
       "    <tr>\n",
       "      <th>4</th>\n",
       "      <td>1</td>\n",
       "      <td>0.145532</td>\n",
       "      <td>7987</td>\n",
       "      <td>0</td>\n",
       "    </tr>\n",
       "  </tbody>\n",
       "</table>\n",
       "</div>"
      ],
      "text/plain": [
       "   Converted  Converted_Prob  Lead ID  predicted\n",
       "0          0        0.265465     3009          0\n",
       "1          0        0.488836     1012          0\n",
       "2          0        0.117658     9226          0\n",
       "3          1        0.598750     4750          1\n",
       "4          1        0.145532     7987          0"
      ]
     },
     "execution_count": 162,
     "metadata": {},
     "output_type": "execute_result"
    }
   ],
   "source": [
    "# Creating new column 'predicted' with 1 if Churn_Prob > 0.5 else 0\n",
    "y_train_pred_final['predicted'] = y_train_pred_final.Converted_Prob.map(lambda x: 1 if x > 0.5 else 0)\n",
    "y_train_pred_final.head()"
   ]
  },
  {
   "cell_type": "code",
   "execution_count": 163,
   "metadata": {},
   "outputs": [
    {
     "name": "stdout",
     "output_type": "stream",
     "text": [
      "0.7707447646039993\n"
     ]
    }
   ],
   "source": [
    "# Let's check the overall accuracy.\n",
    "print(metrics.accuracy_score(y_train_pred_final.Converted, y_train_pred_final.predicted))"
   ]
  },
  {
   "cell_type": "markdown",
   "metadata": {},
   "source": [
    "Overall Accuracy is almost the same"
   ]
  },
  {
   "cell_type": "markdown",
   "metadata": {},
   "source": [
    "#### Checking VIFs again"
   ]
  },
  {
   "cell_type": "code",
   "execution_count": 164,
   "metadata": {},
   "outputs": [
    {
     "data": {
      "text/html": [
       "<div>\n",
       "<style scoped>\n",
       "    .dataframe tbody tr th:only-of-type {\n",
       "        vertical-align: middle;\n",
       "    }\n",
       "\n",
       "    .dataframe tbody tr th {\n",
       "        vertical-align: top;\n",
       "    }\n",
       "\n",
       "    .dataframe thead th {\n",
       "        text-align: right;\n",
       "    }\n",
       "</style>\n",
       "<table border=\"1\" class=\"dataframe\">\n",
       "  <thead>\n",
       "    <tr style=\"text-align: right;\">\n",
       "      <th></th>\n",
       "      <th>Features</th>\n",
       "      <th>VIF</th>\n",
       "    </tr>\n",
       "  </thead>\n",
       "  <tbody>\n",
       "    <tr>\n",
       "      <th>4</th>\n",
       "      <td>Specialization_International Business</td>\n",
       "      <td>1.04</td>\n",
       "    </tr>\n",
       "    <tr>\n",
       "      <th>5</th>\n",
       "      <td>Specialization_Media and Advertising</td>\n",
       "      <td>1.04</td>\n",
       "    </tr>\n",
       "    <tr>\n",
       "      <th>3</th>\n",
       "      <td>Specialization_E-COMMERCE</td>\n",
       "      <td>1.02</td>\n",
       "    </tr>\n",
       "    <tr>\n",
       "      <th>7</th>\n",
       "      <td>Specialization_Services Excellence</td>\n",
       "      <td>1.01</td>\n",
       "    </tr>\n",
       "    <tr>\n",
       "      <th>9</th>\n",
       "      <td>Working Professional</td>\n",
       "      <td>0.74</td>\n",
       "    </tr>\n",
       "    <tr>\n",
       "      <th>1</th>\n",
       "      <td>Origin_Others</td>\n",
       "      <td>0.59</td>\n",
       "    </tr>\n",
       "    <tr>\n",
       "      <th>10</th>\n",
       "      <td>Last Activity_Modified</td>\n",
       "      <td>0.22</td>\n",
       "    </tr>\n",
       "    <tr>\n",
       "      <th>2</th>\n",
       "      <td>Source_Google</td>\n",
       "      <td>0.18</td>\n",
       "    </tr>\n",
       "    <tr>\n",
       "      <th>11</th>\n",
       "      <td>Last Activity_Other</td>\n",
       "      <td>0.14</td>\n",
       "    </tr>\n",
       "    <tr>\n",
       "      <th>8</th>\n",
       "      <td>Unemployed</td>\n",
       "      <td>0.13</td>\n",
       "    </tr>\n",
       "    <tr>\n",
       "      <th>0</th>\n",
       "      <td>Origin_Landing Page Submission</td>\n",
       "      <td>0.12</td>\n",
       "    </tr>\n",
       "    <tr>\n",
       "      <th>12</th>\n",
       "      <td>Last Activity_SMS Sent</td>\n",
       "      <td>0.02</td>\n",
       "    </tr>\n",
       "    <tr>\n",
       "      <th>6</th>\n",
       "      <td>Specialization_Other</td>\n",
       "      <td>0.00</td>\n",
       "    </tr>\n",
       "  </tbody>\n",
       "</table>\n",
       "</div>"
      ],
      "text/plain": [
       "                                 Features   VIF\n",
       "4   Specialization_International Business  1.04\n",
       "5    Specialization_Media and Advertising  1.04\n",
       "3               Specialization_E-COMMERCE  1.02\n",
       "7      Specialization_Services Excellence  1.01\n",
       "9                    Working Professional  0.74\n",
       "1                           Origin_Others  0.59\n",
       "10                 Last Activity_Modified  0.22\n",
       "2                           Source_Google  0.18\n",
       "11                    Last Activity_Other  0.14\n",
       "8                              Unemployed  0.13\n",
       "0          Origin_Landing Page Submission  0.12\n",
       "12                 Last Activity_SMS Sent  0.02\n",
       "6                    Specialization_Other  0.00"
      ]
     },
     "execution_count": 164,
     "metadata": {},
     "output_type": "execute_result"
    }
   ],
   "source": [
    "vif = pd.DataFrame()\n",
    "vif['Features'] = X_train[col].columns\n",
    "vif['VIF'] = [variance_inflation_factor(X_train[col].values, i) for i in range(X_train[col].shape[1])]\n",
    "vif['VIF'] = round(vif['VIF'], 2)\n",
    "vif = vif.sort_values(by = \"VIF\", ascending = False)\n",
    "vif"
   ]
  },
  {
   "cell_type": "code",
   "execution_count": 165,
   "metadata": {
    "scrolled": false
   },
   "outputs": [
    {
     "data": {
      "text/plain": [
       "Index(['Origin_Landing Page Submission', 'Origin_Others', 'Source_Google',\n",
       "       'Specialization_E-COMMERCE', 'Specialization_International Business',\n",
       "       'Specialization_Other', 'Specialization_Services Excellence',\n",
       "       'Unemployed', 'Working Professional', 'Last Activity_Modified',\n",
       "       'Last Activity_Other', 'Last Activity_SMS Sent'],\n",
       "      dtype='object')"
      ]
     },
     "execution_count": 165,
     "metadata": {},
     "output_type": "execute_result"
    }
   ],
   "source": [
    "# dropping the variable - 'Specialization_Media and Advertising', as it has high p-value\n",
    "col = col.drop('Specialization_Media and Advertising', 1)\n",
    "col"
   ]
  },
  {
   "cell_type": "code",
   "execution_count": 166,
   "metadata": {},
   "outputs": [
    {
     "data": {
      "text/html": [
       "<table class=\"simpletable\">\n",
       "<caption>Generalized Linear Model Regression Results</caption>\n",
       "<tr>\n",
       "  <th>Dep. Variable:</th>       <td>Converted</td>    <th>  No. Observations:  </th>  <td>  6351</td> \n",
       "</tr>\n",
       "<tr>\n",
       "  <th>Model:</th>                  <td>GLM</td>       <th>  Df Residuals:      </th>  <td>  6338</td> \n",
       "</tr>\n",
       "<tr>\n",
       "  <th>Model Family:</th>        <td>Binomial</td>     <th>  Df Model:          </th>  <td>    12</td> \n",
       "</tr>\n",
       "<tr>\n",
       "  <th>Link Function:</th>         <td>logit</td>      <th>  Scale:             </th> <td>  1.0000</td>\n",
       "</tr>\n",
       "<tr>\n",
       "  <th>Method:</th>                <td>IRLS</td>       <th>  Log-Likelihood:    </th> <td> -3165.0</td>\n",
       "</tr>\n",
       "<tr>\n",
       "  <th>Date:</th>            <td>Mon, 20 Jul 2020</td> <th>  Deviance:          </th> <td>  6330.0</td>\n",
       "</tr>\n",
       "<tr>\n",
       "  <th>Time:</th>                <td>01:42:01</td>     <th>  Pearson chi2:      </th> <td>6.65e+03</td>\n",
       "</tr>\n",
       "<tr>\n",
       "  <th>No. Iterations:</th>          <td>6</td>        <th>                     </th>     <td> </td>   \n",
       "</tr>\n",
       "<tr>\n",
       "  <th>Covariance Type:</th>     <td>nonrobust</td>    <th>                     </th>     <td> </td>   \n",
       "</tr>\n",
       "</table>\n",
       "<table class=\"simpletable\">\n",
       "<tr>\n",
       "                    <td></td>                       <th>coef</th>     <th>std err</th>      <th>z</th>      <th>P>|z|</th>  <th>[0.025</th>    <th>0.975]</th>  \n",
       "</tr>\n",
       "<tr>\n",
       "  <th>const</th>                                 <td>    0.6537</td> <td>    0.210</td> <td>    3.119</td> <td> 0.002</td> <td>    0.243</td> <td>    1.064</td>\n",
       "</tr>\n",
       "<tr>\n",
       "  <th>Origin_Landing Page Submission</th>        <td>   -1.1578</td> <td>    0.109</td> <td>  -10.610</td> <td> 0.000</td> <td>   -1.372</td> <td>   -0.944</td>\n",
       "</tr>\n",
       "<tr>\n",
       "  <th>Origin_Others</th>                         <td>    2.5162</td> <td>    0.180</td> <td>   14.001</td> <td> 0.000</td> <td>    2.164</td> <td>    2.868</td>\n",
       "</tr>\n",
       "<tr>\n",
       "  <th>Source_Google</th>                         <td>    0.3662</td> <td>    0.065</td> <td>    5.593</td> <td> 0.000</td> <td>    0.238</td> <td>    0.495</td>\n",
       "</tr>\n",
       "<tr>\n",
       "  <th>Specialization_E-COMMERCE</th>             <td>   -0.4001</td> <td>    0.289</td> <td>   -1.383</td> <td> 0.167</td> <td>   -0.967</td> <td>    0.167</td>\n",
       "</tr>\n",
       "<tr>\n",
       "  <th>Specialization_International Business</th> <td>   -0.2478</td> <td>    0.214</td> <td>   -1.160</td> <td> 0.246</td> <td>   -0.667</td> <td>    0.171</td>\n",
       "</tr>\n",
       "<tr>\n",
       "  <th>Specialization_Other</th>                  <td>   -1.3933</td> <td>    0.112</td> <td>  -12.390</td> <td> 0.000</td> <td>   -1.614</td> <td>   -1.173</td>\n",
       "</tr>\n",
       "<tr>\n",
       "  <th>Specialization_Services Excellence</th>    <td>   -0.8681</td> <td>    0.547</td> <td>   -1.586</td> <td> 0.113</td> <td>   -1.941</td> <td>    0.205</td>\n",
       "</tr>\n",
       "<tr>\n",
       "  <th>Unemployed</th>                            <td>   -0.5218</td> <td>    0.186</td> <td>   -2.804</td> <td> 0.005</td> <td>   -0.887</td> <td>   -0.157</td>\n",
       "</tr>\n",
       "<tr>\n",
       "  <th>Working Professional</th>                  <td>    2.1471</td> <td>    0.254</td> <td>    8.454</td> <td> 0.000</td> <td>    1.649</td> <td>    2.645</td>\n",
       "</tr>\n",
       "<tr>\n",
       "  <th>Last Activity_Modified</th>                <td>   -0.7533</td> <td>    0.079</td> <td>   -9.560</td> <td> 0.000</td> <td>   -0.908</td> <td>   -0.599</td>\n",
       "</tr>\n",
       "<tr>\n",
       "  <th>Last Activity_Other</th>                   <td>   -0.2929</td> <td>    0.116</td> <td>   -2.535</td> <td> 0.011</td> <td>   -0.519</td> <td>   -0.066</td>\n",
       "</tr>\n",
       "<tr>\n",
       "  <th>Last Activity_SMS Sent</th>                <td>    1.4143</td> <td>    0.080</td> <td>   17.754</td> <td> 0.000</td> <td>    1.258</td> <td>    1.570</td>\n",
       "</tr>\n",
       "</table>"
      ],
      "text/plain": [
       "<class 'statsmodels.iolib.summary.Summary'>\n",
       "\"\"\"\n",
       "                 Generalized Linear Model Regression Results                  \n",
       "==============================================================================\n",
       "Dep. Variable:              Converted   No. Observations:                 6351\n",
       "Model:                            GLM   Df Residuals:                     6338\n",
       "Model Family:                Binomial   Df Model:                           12\n",
       "Link Function:                  logit   Scale:                          1.0000\n",
       "Method:                          IRLS   Log-Likelihood:                -3165.0\n",
       "Date:                Mon, 20 Jul 2020   Deviance:                       6330.0\n",
       "Time:                        01:42:01   Pearson chi2:                 6.65e+03\n",
       "No. Iterations:                     6                                         \n",
       "Covariance Type:            nonrobust                                         \n",
       "=========================================================================================================\n",
       "                                            coef    std err          z      P>|z|      [0.025      0.975]\n",
       "---------------------------------------------------------------------------------------------------------\n",
       "const                                     0.6537      0.210      3.119      0.002       0.243       1.064\n",
       "Origin_Landing Page Submission           -1.1578      0.109    -10.610      0.000      -1.372      -0.944\n",
       "Origin_Others                             2.5162      0.180     14.001      0.000       2.164       2.868\n",
       "Source_Google                             0.3662      0.065      5.593      0.000       0.238       0.495\n",
       "Specialization_E-COMMERCE                -0.4001      0.289     -1.383      0.167      -0.967       0.167\n",
       "Specialization_International Business    -0.2478      0.214     -1.160      0.246      -0.667       0.171\n",
       "Specialization_Other                     -1.3933      0.112    -12.390      0.000      -1.614      -1.173\n",
       "Specialization_Services Excellence       -0.8681      0.547     -1.586      0.113      -1.941       0.205\n",
       "Unemployed                               -0.5218      0.186     -2.804      0.005      -0.887      -0.157\n",
       "Working Professional                      2.1471      0.254      8.454      0.000       1.649       2.645\n",
       "Last Activity_Modified                   -0.7533      0.079     -9.560      0.000      -0.908      -0.599\n",
       "Last Activity_Other                      -0.2929      0.116     -2.535      0.011      -0.519      -0.066\n",
       "Last Activity_SMS Sent                    1.4143      0.080     17.754      0.000       1.258       1.570\n",
       "=========================================================================================================\n",
       "\"\"\""
      ]
     },
     "execution_count": 166,
     "metadata": {},
     "output_type": "execute_result"
    }
   ],
   "source": [
    "# Let's re-run the model using the selected variables\n",
    "X_train_sm = sm.add_constant(X_train[col])\n",
    "logm3 = sm.GLM(y_train,X_train_sm, family = sm.families.Binomial())\n",
    "res = logm3.fit()\n",
    "res.summary()"
   ]
  },
  {
   "cell_type": "code",
   "execution_count": 167,
   "metadata": {},
   "outputs": [],
   "source": [
    "y_train_pred = res.predict(X_train_sm).values.reshape(-1)"
   ]
  },
  {
   "cell_type": "code",
   "execution_count": 168,
   "metadata": {},
   "outputs": [
    {
     "data": {
      "text/plain": [
       "array([0.26387778, 0.48920258, 0.11766686, 0.59589047, 0.14440461,\n",
       "       0.68018131, 0.34081243, 0.87128588, 0.26387778, 0.14440461])"
      ]
     },
     "execution_count": 168,
     "metadata": {},
     "output_type": "execute_result"
    }
   ],
   "source": [
    "y_train_pred[:10]"
   ]
  },
  {
   "cell_type": "code",
   "execution_count": 169,
   "metadata": {},
   "outputs": [],
   "source": [
    "y_train_pred_final['Converted_Prob'] = y_train_pred"
   ]
  },
  {
   "cell_type": "code",
   "execution_count": 170,
   "metadata": {},
   "outputs": [
    {
     "data": {
      "text/html": [
       "<div>\n",
       "<style scoped>\n",
       "    .dataframe tbody tr th:only-of-type {\n",
       "        vertical-align: middle;\n",
       "    }\n",
       "\n",
       "    .dataframe tbody tr th {\n",
       "        vertical-align: top;\n",
       "    }\n",
       "\n",
       "    .dataframe thead th {\n",
       "        text-align: right;\n",
       "    }\n",
       "</style>\n",
       "<table border=\"1\" class=\"dataframe\">\n",
       "  <thead>\n",
       "    <tr style=\"text-align: right;\">\n",
       "      <th></th>\n",
       "      <th>Converted</th>\n",
       "      <th>Converted_Prob</th>\n",
       "      <th>Lead ID</th>\n",
       "      <th>predicted</th>\n",
       "    </tr>\n",
       "  </thead>\n",
       "  <tbody>\n",
       "    <tr>\n",
       "      <th>0</th>\n",
       "      <td>0</td>\n",
       "      <td>0.263878</td>\n",
       "      <td>3009</td>\n",
       "      <td>0</td>\n",
       "    </tr>\n",
       "    <tr>\n",
       "      <th>1</th>\n",
       "      <td>0</td>\n",
       "      <td>0.489203</td>\n",
       "      <td>1012</td>\n",
       "      <td>0</td>\n",
       "    </tr>\n",
       "    <tr>\n",
       "      <th>2</th>\n",
       "      <td>0</td>\n",
       "      <td>0.117667</td>\n",
       "      <td>9226</td>\n",
       "      <td>0</td>\n",
       "    </tr>\n",
       "    <tr>\n",
       "      <th>3</th>\n",
       "      <td>1</td>\n",
       "      <td>0.595890</td>\n",
       "      <td>4750</td>\n",
       "      <td>1</td>\n",
       "    </tr>\n",
       "    <tr>\n",
       "      <th>4</th>\n",
       "      <td>1</td>\n",
       "      <td>0.144405</td>\n",
       "      <td>7987</td>\n",
       "      <td>0</td>\n",
       "    </tr>\n",
       "  </tbody>\n",
       "</table>\n",
       "</div>"
      ],
      "text/plain": [
       "   Converted  Converted_Prob  Lead ID  predicted\n",
       "0          0        0.263878     3009          0\n",
       "1          0        0.489203     1012          0\n",
       "2          0        0.117667     9226          0\n",
       "3          1        0.595890     4750          1\n",
       "4          1        0.144405     7987          0"
      ]
     },
     "execution_count": 170,
     "metadata": {},
     "output_type": "execute_result"
    }
   ],
   "source": [
    "# Creating new column 'predicted' with 1 if Churn_Prob > 0.5 else 0\n",
    "y_train_pred_final['predicted'] = y_train_pred_final.Converted_Prob.map(lambda x: 1 if x > 0.5 else 0)\n",
    "y_train_pred_final.head()"
   ]
  },
  {
   "cell_type": "code",
   "execution_count": 171,
   "metadata": {},
   "outputs": [
    {
     "name": "stdout",
     "output_type": "stream",
     "text": [
      "0.7707447646039993\n"
     ]
    }
   ],
   "source": [
    "# Let's check the overall accuracy.\n",
    "print(metrics.accuracy_score(y_train_pred_final.Converted, y_train_pred_final.predicted))"
   ]
  },
  {
   "cell_type": "markdown",
   "metadata": {},
   "source": [
    "Overall Accuracy is almost the same"
   ]
  },
  {
   "cell_type": "markdown",
   "metadata": {},
   "source": [
    "#### Checking VIFs again"
   ]
  },
  {
   "cell_type": "code",
   "execution_count": 172,
   "metadata": {},
   "outputs": [
    {
     "data": {
      "text/html": [
       "<div>\n",
       "<style scoped>\n",
       "    .dataframe tbody tr th:only-of-type {\n",
       "        vertical-align: middle;\n",
       "    }\n",
       "\n",
       "    .dataframe tbody tr th {\n",
       "        vertical-align: top;\n",
       "    }\n",
       "\n",
       "    .dataframe thead th {\n",
       "        text-align: right;\n",
       "    }\n",
       "</style>\n",
       "<table border=\"1\" class=\"dataframe\">\n",
       "  <thead>\n",
       "    <tr style=\"text-align: right;\">\n",
       "      <th></th>\n",
       "      <th>Features</th>\n",
       "      <th>VIF</th>\n",
       "    </tr>\n",
       "  </thead>\n",
       "  <tbody>\n",
       "    <tr>\n",
       "      <th>4</th>\n",
       "      <td>Specialization_International Business</td>\n",
       "      <td>1.03</td>\n",
       "    </tr>\n",
       "    <tr>\n",
       "      <th>3</th>\n",
       "      <td>Specialization_E-COMMERCE</td>\n",
       "      <td>1.02</td>\n",
       "    </tr>\n",
       "    <tr>\n",
       "      <th>6</th>\n",
       "      <td>Specialization_Services Excellence</td>\n",
       "      <td>1.01</td>\n",
       "    </tr>\n",
       "    <tr>\n",
       "      <th>8</th>\n",
       "      <td>Working Professional</td>\n",
       "      <td>0.74</td>\n",
       "    </tr>\n",
       "    <tr>\n",
       "      <th>1</th>\n",
       "      <td>Origin_Others</td>\n",
       "      <td>0.59</td>\n",
       "    </tr>\n",
       "    <tr>\n",
       "      <th>9</th>\n",
       "      <td>Last Activity_Modified</td>\n",
       "      <td>0.22</td>\n",
       "    </tr>\n",
       "    <tr>\n",
       "      <th>2</th>\n",
       "      <td>Source_Google</td>\n",
       "      <td>0.18</td>\n",
       "    </tr>\n",
       "    <tr>\n",
       "      <th>10</th>\n",
       "      <td>Last Activity_Other</td>\n",
       "      <td>0.14</td>\n",
       "    </tr>\n",
       "    <tr>\n",
       "      <th>7</th>\n",
       "      <td>Unemployed</td>\n",
       "      <td>0.13</td>\n",
       "    </tr>\n",
       "    <tr>\n",
       "      <th>0</th>\n",
       "      <td>Origin_Landing Page Submission</td>\n",
       "      <td>0.12</td>\n",
       "    </tr>\n",
       "    <tr>\n",
       "      <th>11</th>\n",
       "      <td>Last Activity_SMS Sent</td>\n",
       "      <td>0.02</td>\n",
       "    </tr>\n",
       "    <tr>\n",
       "      <th>5</th>\n",
       "      <td>Specialization_Other</td>\n",
       "      <td>0.00</td>\n",
       "    </tr>\n",
       "  </tbody>\n",
       "</table>\n",
       "</div>"
      ],
      "text/plain": [
       "                                 Features   VIF\n",
       "4   Specialization_International Business  1.03\n",
       "3               Specialization_E-COMMERCE  1.02\n",
       "6      Specialization_Services Excellence  1.01\n",
       "8                    Working Professional  0.74\n",
       "1                           Origin_Others  0.59\n",
       "9                  Last Activity_Modified  0.22\n",
       "2                           Source_Google  0.18\n",
       "10                    Last Activity_Other  0.14\n",
       "7                              Unemployed  0.13\n",
       "0          Origin_Landing Page Submission  0.12\n",
       "11                 Last Activity_SMS Sent  0.02\n",
       "5                    Specialization_Other  0.00"
      ]
     },
     "execution_count": 172,
     "metadata": {},
     "output_type": "execute_result"
    }
   ],
   "source": [
    "vif = pd.DataFrame()\n",
    "vif['Features'] = X_train[col].columns\n",
    "vif['VIF'] = [variance_inflation_factor(X_train[col].values, i) for i in range(X_train[col].shape[1])]\n",
    "vif['VIF'] = round(vif['VIF'], 2)\n",
    "vif = vif.sort_values(by = \"VIF\", ascending = False)\n",
    "vif"
   ]
  },
  {
   "cell_type": "code",
   "execution_count": 173,
   "metadata": {
    "scrolled": true
   },
   "outputs": [
    {
     "data": {
      "text/plain": [
       "Index(['Origin_Landing Page Submission', 'Origin_Others', 'Source_Google',\n",
       "       'Specialization_E-COMMERCE', 'Specialization_Other',\n",
       "       'Specialization_Services Excellence', 'Unemployed',\n",
       "       'Working Professional', 'Last Activity_Modified', 'Last Activity_Other',\n",
       "       'Last Activity_SMS Sent'],\n",
       "      dtype='object')"
      ]
     },
     "execution_count": 173,
     "metadata": {},
     "output_type": "execute_result"
    }
   ],
   "source": [
    "# dropping the variable - 'Specialization_International Business', as it has high p-value\n",
    "col = col.drop('Specialization_International Business', 1)\n",
    "col"
   ]
  },
  {
   "cell_type": "code",
   "execution_count": 174,
   "metadata": {},
   "outputs": [
    {
     "data": {
      "text/html": [
       "<table class=\"simpletable\">\n",
       "<caption>Generalized Linear Model Regression Results</caption>\n",
       "<tr>\n",
       "  <th>Dep. Variable:</th>       <td>Converted</td>    <th>  No. Observations:  </th>  <td>  6351</td> \n",
       "</tr>\n",
       "<tr>\n",
       "  <th>Model:</th>                  <td>GLM</td>       <th>  Df Residuals:      </th>  <td>  6339</td> \n",
       "</tr>\n",
       "<tr>\n",
       "  <th>Model Family:</th>        <td>Binomial</td>     <th>  Df Model:          </th>  <td>    11</td> \n",
       "</tr>\n",
       "<tr>\n",
       "  <th>Link Function:</th>         <td>logit</td>      <th>  Scale:             </th> <td>  1.0000</td>\n",
       "</tr>\n",
       "<tr>\n",
       "  <th>Method:</th>                <td>IRLS</td>       <th>  Log-Likelihood:    </th> <td> -3165.7</td>\n",
       "</tr>\n",
       "<tr>\n",
       "  <th>Date:</th>            <td>Mon, 20 Jul 2020</td> <th>  Deviance:          </th> <td>  6331.3</td>\n",
       "</tr>\n",
       "<tr>\n",
       "  <th>Time:</th>                <td>01:42:30</td>     <th>  Pearson chi2:      </th> <td>6.66e+03</td>\n",
       "</tr>\n",
       "<tr>\n",
       "  <th>No. Iterations:</th>          <td>6</td>        <th>                     </th>     <td> </td>   \n",
       "</tr>\n",
       "<tr>\n",
       "  <th>Covariance Type:</th>     <td>nonrobust</td>    <th>                     </th>     <td> </td>   \n",
       "</tr>\n",
       "</table>\n",
       "<table class=\"simpletable\">\n",
       "<tr>\n",
       "                   <td></td>                     <th>coef</th>     <th>std err</th>      <th>z</th>      <th>P>|z|</th>  <th>[0.025</th>    <th>0.975]</th>  \n",
       "</tr>\n",
       "<tr>\n",
       "  <th>const</th>                              <td>    0.6441</td> <td>    0.209</td> <td>    3.075</td> <td> 0.002</td> <td>    0.234</td> <td>    1.055</td>\n",
       "</tr>\n",
       "<tr>\n",
       "  <th>Origin_Landing Page Submission</th>     <td>   -1.1575</td> <td>    0.109</td> <td>  -10.610</td> <td> 0.000</td> <td>   -1.371</td> <td>   -0.944</td>\n",
       "</tr>\n",
       "<tr>\n",
       "  <th>Origin_Others</th>                      <td>    2.5172</td> <td>    0.180</td> <td>   14.009</td> <td> 0.000</td> <td>    2.165</td> <td>    2.869</td>\n",
       "</tr>\n",
       "<tr>\n",
       "  <th>Source_Google</th>                      <td>    0.3662</td> <td>    0.065</td> <td>    5.593</td> <td> 0.000</td> <td>    0.238</td> <td>    0.494</td>\n",
       "</tr>\n",
       "<tr>\n",
       "  <th>Specialization_E-COMMERCE</th>          <td>   -0.3917</td> <td>    0.289</td> <td>   -1.354</td> <td> 0.176</td> <td>   -0.958</td> <td>    0.175</td>\n",
       "</tr>\n",
       "<tr>\n",
       "  <th>Specialization_Other</th>               <td>   -1.3847</td> <td>    0.112</td> <td>  -12.344</td> <td> 0.000</td> <td>   -1.605</td> <td>   -1.165</td>\n",
       "</tr>\n",
       "<tr>\n",
       "  <th>Specialization_Services Excellence</th> <td>   -0.8603</td> <td>    0.548</td> <td>   -1.571</td> <td> 0.116</td> <td>   -1.933</td> <td>    0.213</td>\n",
       "</tr>\n",
       "<tr>\n",
       "  <th>Unemployed</th>                         <td>   -0.5224</td> <td>    0.186</td> <td>   -2.806</td> <td> 0.005</td> <td>   -0.887</td> <td>   -0.158</td>\n",
       "</tr>\n",
       "<tr>\n",
       "  <th>Working Professional</th>               <td>    2.1516</td> <td>    0.254</td> <td>    8.473</td> <td> 0.000</td> <td>    1.654</td> <td>    2.649</td>\n",
       "</tr>\n",
       "<tr>\n",
       "  <th>Last Activity_Modified</th>             <td>   -0.7503</td> <td>    0.079</td> <td>   -9.528</td> <td> 0.000</td> <td>   -0.905</td> <td>   -0.596</td>\n",
       "</tr>\n",
       "<tr>\n",
       "  <th>Last Activity_Other</th>                <td>   -0.2909</td> <td>    0.116</td> <td>   -2.516</td> <td> 0.012</td> <td>   -0.517</td> <td>   -0.064</td>\n",
       "</tr>\n",
       "<tr>\n",
       "  <th>Last Activity_SMS Sent</th>             <td>    1.4149</td> <td>    0.080</td> <td>   17.766</td> <td> 0.000</td> <td>    1.259</td> <td>    1.571</td>\n",
       "</tr>\n",
       "</table>"
      ],
      "text/plain": [
       "<class 'statsmodels.iolib.summary.Summary'>\n",
       "\"\"\"\n",
       "                 Generalized Linear Model Regression Results                  \n",
       "==============================================================================\n",
       "Dep. Variable:              Converted   No. Observations:                 6351\n",
       "Model:                            GLM   Df Residuals:                     6339\n",
       "Model Family:                Binomial   Df Model:                           11\n",
       "Link Function:                  logit   Scale:                          1.0000\n",
       "Method:                          IRLS   Log-Likelihood:                -3165.7\n",
       "Date:                Mon, 20 Jul 2020   Deviance:                       6331.3\n",
       "Time:                        01:42:30   Pearson chi2:                 6.66e+03\n",
       "No. Iterations:                     6                                         \n",
       "Covariance Type:            nonrobust                                         \n",
       "======================================================================================================\n",
       "                                         coef    std err          z      P>|z|      [0.025      0.975]\n",
       "------------------------------------------------------------------------------------------------------\n",
       "const                                  0.6441      0.209      3.075      0.002       0.234       1.055\n",
       "Origin_Landing Page Submission        -1.1575      0.109    -10.610      0.000      -1.371      -0.944\n",
       "Origin_Others                          2.5172      0.180     14.009      0.000       2.165       2.869\n",
       "Source_Google                          0.3662      0.065      5.593      0.000       0.238       0.494\n",
       "Specialization_E-COMMERCE             -0.3917      0.289     -1.354      0.176      -0.958       0.175\n",
       "Specialization_Other                  -1.3847      0.112    -12.344      0.000      -1.605      -1.165\n",
       "Specialization_Services Excellence    -0.8603      0.548     -1.571      0.116      -1.933       0.213\n",
       "Unemployed                            -0.5224      0.186     -2.806      0.005      -0.887      -0.158\n",
       "Working Professional                   2.1516      0.254      8.473      0.000       1.654       2.649\n",
       "Last Activity_Modified                -0.7503      0.079     -9.528      0.000      -0.905      -0.596\n",
       "Last Activity_Other                   -0.2909      0.116     -2.516      0.012      -0.517      -0.064\n",
       "Last Activity_SMS Sent                 1.4149      0.080     17.766      0.000       1.259       1.571\n",
       "======================================================================================================\n",
       "\"\"\""
      ]
     },
     "execution_count": 174,
     "metadata": {},
     "output_type": "execute_result"
    }
   ],
   "source": [
    "# Let's re-run the model using the selected variables\n",
    "X_train_sm = sm.add_constant(X_train[col])\n",
    "logm3 = sm.GLM(y_train,X_train_sm, family = sm.families.Binomial())\n",
    "res = logm3.fit()\n",
    "res.summary()"
   ]
  },
  {
   "cell_type": "code",
   "execution_count": 175,
   "metadata": {},
   "outputs": [],
   "source": [
    "y_train_pred = res.predict(X_train_sm).values.reshape(-1)"
   ]
  },
  {
   "cell_type": "code",
   "execution_count": 176,
   "metadata": {},
   "outputs": [
    {
     "data": {
      "text/plain": [
       "array([0.26196693, 0.49068477, 0.11782002, 0.59366768, 0.14355523,\n",
       "       0.67815348, 0.33858196, 0.8702068 , 0.26196693, 0.14355523])"
      ]
     },
     "execution_count": 176,
     "metadata": {},
     "output_type": "execute_result"
    }
   ],
   "source": [
    "y_train_pred[:10]"
   ]
  },
  {
   "cell_type": "code",
   "execution_count": 177,
   "metadata": {},
   "outputs": [],
   "source": [
    "y_train_pred_final['Converted_Prob'] = y_train_pred"
   ]
  },
  {
   "cell_type": "code",
   "execution_count": 178,
   "metadata": {},
   "outputs": [
    {
     "data": {
      "text/html": [
       "<div>\n",
       "<style scoped>\n",
       "    .dataframe tbody tr th:only-of-type {\n",
       "        vertical-align: middle;\n",
       "    }\n",
       "\n",
       "    .dataframe tbody tr th {\n",
       "        vertical-align: top;\n",
       "    }\n",
       "\n",
       "    .dataframe thead th {\n",
       "        text-align: right;\n",
       "    }\n",
       "</style>\n",
       "<table border=\"1\" class=\"dataframe\">\n",
       "  <thead>\n",
       "    <tr style=\"text-align: right;\">\n",
       "      <th></th>\n",
       "      <th>Converted</th>\n",
       "      <th>Converted_Prob</th>\n",
       "      <th>Lead ID</th>\n",
       "      <th>predicted</th>\n",
       "    </tr>\n",
       "  </thead>\n",
       "  <tbody>\n",
       "    <tr>\n",
       "      <th>0</th>\n",
       "      <td>0</td>\n",
       "      <td>0.261967</td>\n",
       "      <td>3009</td>\n",
       "      <td>0</td>\n",
       "    </tr>\n",
       "    <tr>\n",
       "      <th>1</th>\n",
       "      <td>0</td>\n",
       "      <td>0.490685</td>\n",
       "      <td>1012</td>\n",
       "      <td>0</td>\n",
       "    </tr>\n",
       "    <tr>\n",
       "      <th>2</th>\n",
       "      <td>0</td>\n",
       "      <td>0.117820</td>\n",
       "      <td>9226</td>\n",
       "      <td>0</td>\n",
       "    </tr>\n",
       "    <tr>\n",
       "      <th>3</th>\n",
       "      <td>1</td>\n",
       "      <td>0.593668</td>\n",
       "      <td>4750</td>\n",
       "      <td>1</td>\n",
       "    </tr>\n",
       "    <tr>\n",
       "      <th>4</th>\n",
       "      <td>1</td>\n",
       "      <td>0.143555</td>\n",
       "      <td>7987</td>\n",
       "      <td>0</td>\n",
       "    </tr>\n",
       "  </tbody>\n",
       "</table>\n",
       "</div>"
      ],
      "text/plain": [
       "   Converted  Converted_Prob  Lead ID  predicted\n",
       "0          0        0.261967     3009          0\n",
       "1          0        0.490685     1012          0\n",
       "2          0        0.117820     9226          0\n",
       "3          1        0.593668     4750          1\n",
       "4          1        0.143555     7987          0"
      ]
     },
     "execution_count": 178,
     "metadata": {},
     "output_type": "execute_result"
    }
   ],
   "source": [
    "# Creating new column 'predicted' with 1 if Churn_Prob > 0.5 else 0\n",
    "y_train_pred_final['predicted'] = y_train_pred_final.Converted_Prob.map(lambda x: 1 if x > 0.5 else 0)\n",
    "y_train_pred_final.head()"
   ]
  },
  {
   "cell_type": "code",
   "execution_count": 179,
   "metadata": {},
   "outputs": [
    {
     "name": "stdout",
     "output_type": "stream",
     "text": [
      "0.7709022201228153\n"
     ]
    }
   ],
   "source": [
    "# Let's check the overall accuracy.\n",
    "print(metrics.accuracy_score(y_train_pred_final.Converted, y_train_pred_final.predicted))"
   ]
  },
  {
   "cell_type": "markdown",
   "metadata": {},
   "source": [
    "Overall Accuracy is almost the same"
   ]
  },
  {
   "cell_type": "markdown",
   "metadata": {},
   "source": [
    "#### Checking VIFs again"
   ]
  },
  {
   "cell_type": "code",
   "execution_count": 180,
   "metadata": {},
   "outputs": [
    {
     "data": {
      "text/html": [
       "<div>\n",
       "<style scoped>\n",
       "    .dataframe tbody tr th:only-of-type {\n",
       "        vertical-align: middle;\n",
       "    }\n",
       "\n",
       "    .dataframe tbody tr th {\n",
       "        vertical-align: top;\n",
       "    }\n",
       "\n",
       "    .dataframe thead th {\n",
       "        text-align: right;\n",
       "    }\n",
       "</style>\n",
       "<table border=\"1\" class=\"dataframe\">\n",
       "  <thead>\n",
       "    <tr style=\"text-align: right;\">\n",
       "      <th></th>\n",
       "      <th>Features</th>\n",
       "      <th>VIF</th>\n",
       "    </tr>\n",
       "  </thead>\n",
       "  <tbody>\n",
       "    <tr>\n",
       "      <th>3</th>\n",
       "      <td>Specialization_E-COMMERCE</td>\n",
       "      <td>1.02</td>\n",
       "    </tr>\n",
       "    <tr>\n",
       "      <th>5</th>\n",
       "      <td>Specialization_Services Excellence</td>\n",
       "      <td>1.01</td>\n",
       "    </tr>\n",
       "    <tr>\n",
       "      <th>7</th>\n",
       "      <td>Working Professional</td>\n",
       "      <td>0.74</td>\n",
       "    </tr>\n",
       "    <tr>\n",
       "      <th>1</th>\n",
       "      <td>Origin_Others</td>\n",
       "      <td>0.59</td>\n",
       "    </tr>\n",
       "    <tr>\n",
       "      <th>8</th>\n",
       "      <td>Last Activity_Modified</td>\n",
       "      <td>0.22</td>\n",
       "    </tr>\n",
       "    <tr>\n",
       "      <th>2</th>\n",
       "      <td>Source_Google</td>\n",
       "      <td>0.18</td>\n",
       "    </tr>\n",
       "    <tr>\n",
       "      <th>9</th>\n",
       "      <td>Last Activity_Other</td>\n",
       "      <td>0.14</td>\n",
       "    </tr>\n",
       "    <tr>\n",
       "      <th>6</th>\n",
       "      <td>Unemployed</td>\n",
       "      <td>0.12</td>\n",
       "    </tr>\n",
       "    <tr>\n",
       "      <th>0</th>\n",
       "      <td>Origin_Landing Page Submission</td>\n",
       "      <td>0.11</td>\n",
       "    </tr>\n",
       "    <tr>\n",
       "      <th>10</th>\n",
       "      <td>Last Activity_SMS Sent</td>\n",
       "      <td>0.02</td>\n",
       "    </tr>\n",
       "    <tr>\n",
       "      <th>4</th>\n",
       "      <td>Specialization_Other</td>\n",
       "      <td>0.00</td>\n",
       "    </tr>\n",
       "  </tbody>\n",
       "</table>\n",
       "</div>"
      ],
      "text/plain": [
       "                              Features   VIF\n",
       "3            Specialization_E-COMMERCE  1.02\n",
       "5   Specialization_Services Excellence  1.01\n",
       "7                 Working Professional  0.74\n",
       "1                        Origin_Others  0.59\n",
       "8               Last Activity_Modified  0.22\n",
       "2                        Source_Google  0.18\n",
       "9                  Last Activity_Other  0.14\n",
       "6                           Unemployed  0.12\n",
       "0       Origin_Landing Page Submission  0.11\n",
       "10              Last Activity_SMS Sent  0.02\n",
       "4                 Specialization_Other  0.00"
      ]
     },
     "execution_count": 180,
     "metadata": {},
     "output_type": "execute_result"
    }
   ],
   "source": [
    "vif = pd.DataFrame()\n",
    "vif['Features'] = X_train[col].columns\n",
    "vif['VIF'] = [variance_inflation_factor(X_train[col].values, i) for i in range(X_train[col].shape[1])]\n",
    "vif['VIF'] = round(vif['VIF'], 2)\n",
    "vif = vif.sort_values(by = \"VIF\", ascending = False)\n",
    "vif"
   ]
  },
  {
   "cell_type": "code",
   "execution_count": 181,
   "metadata": {
    "scrolled": false
   },
   "outputs": [
    {
     "data": {
      "text/plain": [
       "Index(['Origin_Landing Page Submission', 'Origin_Others', 'Source_Google',\n",
       "       'Specialization_Other', 'Specialization_Services Excellence',\n",
       "       'Unemployed', 'Working Professional', 'Last Activity_Modified',\n",
       "       'Last Activity_Other', 'Last Activity_SMS Sent'],\n",
       "      dtype='object')"
      ]
     },
     "execution_count": 181,
     "metadata": {},
     "output_type": "execute_result"
    }
   ],
   "source": [
    "# dropping the variable - 'Specialization_E-COMMERCE', as it has high p-value\n",
    "col = col.drop('Specialization_E-COMMERCE', 1)\n",
    "col"
   ]
  },
  {
   "cell_type": "code",
   "execution_count": 182,
   "metadata": {},
   "outputs": [
    {
     "data": {
      "text/html": [
       "<table class=\"simpletable\">\n",
       "<caption>Generalized Linear Model Regression Results</caption>\n",
       "<tr>\n",
       "  <th>Dep. Variable:</th>       <td>Converted</td>    <th>  No. Observations:  </th>  <td>  6351</td> \n",
       "</tr>\n",
       "<tr>\n",
       "  <th>Model:</th>                  <td>GLM</td>       <th>  Df Residuals:      </th>  <td>  6340</td> \n",
       "</tr>\n",
       "<tr>\n",
       "  <th>Model Family:</th>        <td>Binomial</td>     <th>  Df Model:          </th>  <td>    10</td> \n",
       "</tr>\n",
       "<tr>\n",
       "  <th>Link Function:</th>         <td>logit</td>      <th>  Scale:             </th> <td>  1.0000</td>\n",
       "</tr>\n",
       "<tr>\n",
       "  <th>Method:</th>                <td>IRLS</td>       <th>  Log-Likelihood:    </th> <td> -3166.6</td>\n",
       "</tr>\n",
       "<tr>\n",
       "  <th>Date:</th>            <td>Mon, 20 Jul 2020</td> <th>  Deviance:          </th> <td>  6333.2</td>\n",
       "</tr>\n",
       "<tr>\n",
       "  <th>Time:</th>                <td>01:42:56</td>     <th>  Pearson chi2:      </th> <td>6.66e+03</td>\n",
       "</tr>\n",
       "<tr>\n",
       "  <th>No. Iterations:</th>          <td>6</td>        <th>                     </th>     <td> </td>   \n",
       "</tr>\n",
       "<tr>\n",
       "  <th>Covariance Type:</th>     <td>nonrobust</td>    <th>                     </th>     <td> </td>   \n",
       "</tr>\n",
       "</table>\n",
       "<table class=\"simpletable\">\n",
       "<tr>\n",
       "                   <td></td>                     <th>coef</th>     <th>std err</th>      <th>z</th>      <th>P>|z|</th>  <th>[0.025</th>    <th>0.975]</th>  \n",
       "</tr>\n",
       "<tr>\n",
       "  <th>const</th>                              <td>    0.6436</td> <td>    0.209</td> <td>    3.073</td> <td> 0.002</td> <td>    0.233</td> <td>    1.054</td>\n",
       "</tr>\n",
       "<tr>\n",
       "  <th>Origin_Landing Page Submission</th>     <td>   -1.1590</td> <td>    0.109</td> <td>  -10.624</td> <td> 0.000</td> <td>   -1.373</td> <td>   -0.945</td>\n",
       "</tr>\n",
       "<tr>\n",
       "  <th>Origin_Others</th>                      <td>    2.5165</td> <td>    0.180</td> <td>   14.006</td> <td> 0.000</td> <td>    2.164</td> <td>    2.869</td>\n",
       "</tr>\n",
       "<tr>\n",
       "  <th>Source_Google</th>                      <td>    0.3684</td> <td>    0.065</td> <td>    5.630</td> <td> 0.000</td> <td>    0.240</td> <td>    0.497</td>\n",
       "</tr>\n",
       "<tr>\n",
       "  <th>Specialization_Other</th>               <td>   -1.3784</td> <td>    0.112</td> <td>  -12.299</td> <td> 0.000</td> <td>   -1.598</td> <td>   -1.159</td>\n",
       "</tr>\n",
       "<tr>\n",
       "  <th>Specialization_Services Excellence</th> <td>   -0.8521</td> <td>    0.547</td> <td>   -1.557</td> <td> 0.120</td> <td>   -1.925</td> <td>    0.221</td>\n",
       "</tr>\n",
       "<tr>\n",
       "  <th>Unemployed</th>                         <td>   -0.5272</td> <td>    0.186</td> <td>   -2.833</td> <td> 0.005</td> <td>   -0.892</td> <td>   -0.162</td>\n",
       "</tr>\n",
       "<tr>\n",
       "  <th>Working Professional</th>               <td>    2.1457</td> <td>    0.254</td> <td>    8.454</td> <td> 0.000</td> <td>    1.648</td> <td>    2.643</td>\n",
       "</tr>\n",
       "<tr>\n",
       "  <th>Last Activity_Modified</th>             <td>   -0.7525</td> <td>    0.079</td> <td>   -9.559</td> <td> 0.000</td> <td>   -0.907</td> <td>   -0.598</td>\n",
       "</tr>\n",
       "<tr>\n",
       "  <th>Last Activity_Other</th>                <td>   -0.2924</td> <td>    0.116</td> <td>   -2.530</td> <td> 0.011</td> <td>   -0.519</td> <td>   -0.066</td>\n",
       "</tr>\n",
       "<tr>\n",
       "  <th>Last Activity_SMS Sent</th>             <td>    1.4118</td> <td>    0.080</td> <td>   17.742</td> <td> 0.000</td> <td>    1.256</td> <td>    1.568</td>\n",
       "</tr>\n",
       "</table>"
      ],
      "text/plain": [
       "<class 'statsmodels.iolib.summary.Summary'>\n",
       "\"\"\"\n",
       "                 Generalized Linear Model Regression Results                  \n",
       "==============================================================================\n",
       "Dep. Variable:              Converted   No. Observations:                 6351\n",
       "Model:                            GLM   Df Residuals:                     6340\n",
       "Model Family:                Binomial   Df Model:                           10\n",
       "Link Function:                  logit   Scale:                          1.0000\n",
       "Method:                          IRLS   Log-Likelihood:                -3166.6\n",
       "Date:                Mon, 20 Jul 2020   Deviance:                       6333.2\n",
       "Time:                        01:42:56   Pearson chi2:                 6.66e+03\n",
       "No. Iterations:                     6                                         \n",
       "Covariance Type:            nonrobust                                         \n",
       "======================================================================================================\n",
       "                                         coef    std err          z      P>|z|      [0.025      0.975]\n",
       "------------------------------------------------------------------------------------------------------\n",
       "const                                  0.6436      0.209      3.073      0.002       0.233       1.054\n",
       "Origin_Landing Page Submission        -1.1590      0.109    -10.624      0.000      -1.373      -0.945\n",
       "Origin_Others                          2.5165      0.180     14.006      0.000       2.164       2.869\n",
       "Source_Google                          0.3684      0.065      5.630      0.000       0.240       0.497\n",
       "Specialization_Other                  -1.3784      0.112    -12.299      0.000      -1.598      -1.159\n",
       "Specialization_Services Excellence    -0.8521      0.547     -1.557      0.120      -1.925       0.221\n",
       "Unemployed                            -0.5272      0.186     -2.833      0.005      -0.892      -0.162\n",
       "Working Professional                   2.1457      0.254      8.454      0.000       1.648       2.643\n",
       "Last Activity_Modified                -0.7525      0.079     -9.559      0.000      -0.907      -0.598\n",
       "Last Activity_Other                   -0.2924      0.116     -2.530      0.011      -0.519      -0.066\n",
       "Last Activity_SMS Sent                 1.4118      0.080     17.742      0.000       1.256       1.568\n",
       "======================================================================================================\n",
       "\"\"\""
      ]
     },
     "execution_count": 182,
     "metadata": {},
     "output_type": "execute_result"
    }
   ],
   "source": [
    "# Let's re-run the model using the selected variables\n",
    "X_train_sm = sm.add_constant(X_train[col])\n",
    "logm3 = sm.GLM(y_train,X_train_sm, family = sm.families.Binomial())\n",
    "res = logm3.fit()\n",
    "res.summary()"
   ]
  },
  {
   "cell_type": "code",
   "execution_count": 183,
   "metadata": {},
   "outputs": [],
   "source": [
    "y_train_pred = res.predict(X_train_sm).values.reshape(-1)"
   ]
  },
  {
   "cell_type": "code",
   "execution_count": 184,
   "metadata": {},
   "outputs": [
    {
     "data": {
      "text/plain": [
       "array([0.26064733, 0.48986766, 0.11768776, 0.59126834, 0.14244419,\n",
       "       0.67647164, 0.33755387, 0.86950419, 0.26064733, 0.14244419])"
      ]
     },
     "execution_count": 184,
     "metadata": {},
     "output_type": "execute_result"
    }
   ],
   "source": [
    "y_train_pred[:10]"
   ]
  },
  {
   "cell_type": "code",
   "execution_count": 185,
   "metadata": {},
   "outputs": [],
   "source": [
    "y_train_pred_final['Converted_Prob'] = y_train_pred"
   ]
  },
  {
   "cell_type": "code",
   "execution_count": 186,
   "metadata": {},
   "outputs": [
    {
     "data": {
      "text/html": [
       "<div>\n",
       "<style scoped>\n",
       "    .dataframe tbody tr th:only-of-type {\n",
       "        vertical-align: middle;\n",
       "    }\n",
       "\n",
       "    .dataframe tbody tr th {\n",
       "        vertical-align: top;\n",
       "    }\n",
       "\n",
       "    .dataframe thead th {\n",
       "        text-align: right;\n",
       "    }\n",
       "</style>\n",
       "<table border=\"1\" class=\"dataframe\">\n",
       "  <thead>\n",
       "    <tr style=\"text-align: right;\">\n",
       "      <th></th>\n",
       "      <th>Converted</th>\n",
       "      <th>Converted_Prob</th>\n",
       "      <th>Lead ID</th>\n",
       "      <th>predicted</th>\n",
       "    </tr>\n",
       "  </thead>\n",
       "  <tbody>\n",
       "    <tr>\n",
       "      <th>0</th>\n",
       "      <td>0</td>\n",
       "      <td>0.260647</td>\n",
       "      <td>3009</td>\n",
       "      <td>0</td>\n",
       "    </tr>\n",
       "    <tr>\n",
       "      <th>1</th>\n",
       "      <td>0</td>\n",
       "      <td>0.489868</td>\n",
       "      <td>1012</td>\n",
       "      <td>0</td>\n",
       "    </tr>\n",
       "    <tr>\n",
       "      <th>2</th>\n",
       "      <td>0</td>\n",
       "      <td>0.117688</td>\n",
       "      <td>9226</td>\n",
       "      <td>0</td>\n",
       "    </tr>\n",
       "    <tr>\n",
       "      <th>3</th>\n",
       "      <td>1</td>\n",
       "      <td>0.591268</td>\n",
       "      <td>4750</td>\n",
       "      <td>1</td>\n",
       "    </tr>\n",
       "    <tr>\n",
       "      <th>4</th>\n",
       "      <td>1</td>\n",
       "      <td>0.142444</td>\n",
       "      <td>7987</td>\n",
       "      <td>0</td>\n",
       "    </tr>\n",
       "  </tbody>\n",
       "</table>\n",
       "</div>"
      ],
      "text/plain": [
       "   Converted  Converted_Prob  Lead ID  predicted\n",
       "0          0        0.260647     3009          0\n",
       "1          0        0.489868     1012          0\n",
       "2          0        0.117688     9226          0\n",
       "3          1        0.591268     4750          1\n",
       "4          1        0.142444     7987          0"
      ]
     },
     "execution_count": 186,
     "metadata": {},
     "output_type": "execute_result"
    }
   ],
   "source": [
    "# Creating new column 'predicted' with 1 if Churn_Prob > 0.5 else 0\n",
    "y_train_pred_final['predicted'] = y_train_pred_final.Converted_Prob.map(lambda x: 1 if x > 0.5 else 0)\n",
    "y_train_pred_final.head()"
   ]
  },
  {
   "cell_type": "code",
   "execution_count": 187,
   "metadata": {},
   "outputs": [
    {
     "name": "stdout",
     "output_type": "stream",
     "text": [
      "0.7709022201228153\n"
     ]
    }
   ],
   "source": [
    "# Let's check the overall accuracy.\n",
    "print(metrics.accuracy_score(y_train_pred_final.Converted, y_train_pred_final.predicted))"
   ]
  },
  {
   "cell_type": "markdown",
   "metadata": {},
   "source": [
    "Overall Accuracy is almost the same"
   ]
  },
  {
   "cell_type": "markdown",
   "metadata": {},
   "source": [
    "#### Checking VIFs again"
   ]
  },
  {
   "cell_type": "code",
   "execution_count": 188,
   "metadata": {},
   "outputs": [
    {
     "data": {
      "text/html": [
       "<div>\n",
       "<style scoped>\n",
       "    .dataframe tbody tr th:only-of-type {\n",
       "        vertical-align: middle;\n",
       "    }\n",
       "\n",
       "    .dataframe tbody tr th {\n",
       "        vertical-align: top;\n",
       "    }\n",
       "\n",
       "    .dataframe thead th {\n",
       "        text-align: right;\n",
       "    }\n",
       "</style>\n",
       "<table border=\"1\" class=\"dataframe\">\n",
       "  <thead>\n",
       "    <tr style=\"text-align: right;\">\n",
       "      <th></th>\n",
       "      <th>Features</th>\n",
       "      <th>VIF</th>\n",
       "    </tr>\n",
       "  </thead>\n",
       "  <tbody>\n",
       "    <tr>\n",
       "      <th>4</th>\n",
       "      <td>Specialization_Services Excellence</td>\n",
       "      <td>1.01</td>\n",
       "    </tr>\n",
       "    <tr>\n",
       "      <th>6</th>\n",
       "      <td>Working Professional</td>\n",
       "      <td>0.74</td>\n",
       "    </tr>\n",
       "    <tr>\n",
       "      <th>1</th>\n",
       "      <td>Origin_Others</td>\n",
       "      <td>0.59</td>\n",
       "    </tr>\n",
       "    <tr>\n",
       "      <th>7</th>\n",
       "      <td>Last Activity_Modified</td>\n",
       "      <td>0.22</td>\n",
       "    </tr>\n",
       "    <tr>\n",
       "      <th>2</th>\n",
       "      <td>Source_Google</td>\n",
       "      <td>0.18</td>\n",
       "    </tr>\n",
       "    <tr>\n",
       "      <th>8</th>\n",
       "      <td>Last Activity_Other</td>\n",
       "      <td>0.14</td>\n",
       "    </tr>\n",
       "    <tr>\n",
       "      <th>5</th>\n",
       "      <td>Unemployed</td>\n",
       "      <td>0.12</td>\n",
       "    </tr>\n",
       "    <tr>\n",
       "      <th>0</th>\n",
       "      <td>Origin_Landing Page Submission</td>\n",
       "      <td>0.11</td>\n",
       "    </tr>\n",
       "    <tr>\n",
       "      <th>9</th>\n",
       "      <td>Last Activity_SMS Sent</td>\n",
       "      <td>0.02</td>\n",
       "    </tr>\n",
       "    <tr>\n",
       "      <th>3</th>\n",
       "      <td>Specialization_Other</td>\n",
       "      <td>0.00</td>\n",
       "    </tr>\n",
       "  </tbody>\n",
       "</table>\n",
       "</div>"
      ],
      "text/plain": [
       "                             Features   VIF\n",
       "4  Specialization_Services Excellence  1.01\n",
       "6                Working Professional  0.74\n",
       "1                       Origin_Others  0.59\n",
       "7              Last Activity_Modified  0.22\n",
       "2                       Source_Google  0.18\n",
       "8                 Last Activity_Other  0.14\n",
       "5                          Unemployed  0.12\n",
       "0      Origin_Landing Page Submission  0.11\n",
       "9              Last Activity_SMS Sent  0.02\n",
       "3                Specialization_Other  0.00"
      ]
     },
     "execution_count": 188,
     "metadata": {},
     "output_type": "execute_result"
    }
   ],
   "source": [
    "vif = pd.DataFrame()\n",
    "vif['Features'] = X_train[col].columns\n",
    "vif['VIF'] = [variance_inflation_factor(X_train[col].values, i) for i in range(X_train[col].shape[1])]\n",
    "vif['VIF'] = round(vif['VIF'], 2)\n",
    "vif = vif.sort_values(by = \"VIF\", ascending = False)\n",
    "vif"
   ]
  },
  {
   "cell_type": "code",
   "execution_count": 189,
   "metadata": {
    "scrolled": false
   },
   "outputs": [
    {
     "data": {
      "text/plain": [
       "Index(['Origin_Landing Page Submission', 'Origin_Others', 'Source_Google',\n",
       "       'Specialization_Other', 'Unemployed', 'Working Professional',\n",
       "       'Last Activity_Modified', 'Last Activity_Other',\n",
       "       'Last Activity_SMS Sent'],\n",
       "      dtype='object')"
      ]
     },
     "execution_count": 189,
     "metadata": {},
     "output_type": "execute_result"
    }
   ],
   "source": [
    "# dropping the variable - 'Specialization_Services Excellence', as it has high p-value\n",
    "col = col.drop('Specialization_Services Excellence', 1)\n",
    "col"
   ]
  },
  {
   "cell_type": "code",
   "execution_count": 190,
   "metadata": {},
   "outputs": [
    {
     "data": {
      "text/html": [
       "<table class=\"simpletable\">\n",
       "<caption>Generalized Linear Model Regression Results</caption>\n",
       "<tr>\n",
       "  <th>Dep. Variable:</th>       <td>Converted</td>    <th>  No. Observations:  </th>  <td>  6351</td> \n",
       "</tr>\n",
       "<tr>\n",
       "  <th>Model:</th>                  <td>GLM</td>       <th>  Df Residuals:      </th>  <td>  6341</td> \n",
       "</tr>\n",
       "<tr>\n",
       "  <th>Model Family:</th>        <td>Binomial</td>     <th>  Df Model:          </th>  <td>     9</td> \n",
       "</tr>\n",
       "<tr>\n",
       "  <th>Link Function:</th>         <td>logit</td>      <th>  Scale:             </th> <td>  1.0000</td>\n",
       "</tr>\n",
       "<tr>\n",
       "  <th>Method:</th>                <td>IRLS</td>       <th>  Log-Likelihood:    </th> <td> -3167.9</td>\n",
       "</tr>\n",
       "<tr>\n",
       "  <th>Date:</th>            <td>Mon, 20 Jul 2020</td> <th>  Deviance:          </th> <td>  6335.8</td>\n",
       "</tr>\n",
       "<tr>\n",
       "  <th>Time:</th>                <td>01:43:11</td>     <th>  Pearson chi2:      </th> <td>6.65e+03</td>\n",
       "</tr>\n",
       "<tr>\n",
       "  <th>No. Iterations:</th>          <td>6</td>        <th>                     </th>     <td> </td>   \n",
       "</tr>\n",
       "<tr>\n",
       "  <th>Covariance Type:</th>     <td>nonrobust</td>    <th>                     </th>     <td> </td>   \n",
       "</tr>\n",
       "</table>\n",
       "<table class=\"simpletable\">\n",
       "<tr>\n",
       "                 <td></td>                   <th>coef</th>     <th>std err</th>      <th>z</th>      <th>P>|z|</th>  <th>[0.025</th>    <th>0.975]</th>  \n",
       "</tr>\n",
       "<tr>\n",
       "  <th>const</th>                          <td>    0.6420</td> <td>    0.209</td> <td>    3.067</td> <td> 0.002</td> <td>    0.232</td> <td>    1.052</td>\n",
       "</tr>\n",
       "<tr>\n",
       "  <th>Origin_Landing Page Submission</th> <td>   -1.1581</td> <td>    0.109</td> <td>  -10.618</td> <td> 0.000</td> <td>   -1.372</td> <td>   -0.944</td>\n",
       "</tr>\n",
       "<tr>\n",
       "  <th>Origin_Others</th>                  <td>    2.5145</td> <td>    0.180</td> <td>   14.000</td> <td> 0.000</td> <td>    2.162</td> <td>    2.867</td>\n",
       "</tr>\n",
       "<tr>\n",
       "  <th>Source_Google</th>                  <td>    0.3702</td> <td>    0.065</td> <td>    5.659</td> <td> 0.000</td> <td>    0.242</td> <td>    0.498</td>\n",
       "</tr>\n",
       "<tr>\n",
       "  <th>Specialization_Other</th>           <td>   -1.3729</td> <td>    0.112</td> <td>  -12.258</td> <td> 0.000</td> <td>   -1.592</td> <td>   -1.153</td>\n",
       "</tr>\n",
       "<tr>\n",
       "  <th>Unemployed</th>                     <td>   -0.5302</td> <td>    0.186</td> <td>   -2.850</td> <td> 0.004</td> <td>   -0.895</td> <td>   -0.166</td>\n",
       "</tr>\n",
       "<tr>\n",
       "  <th>Working Professional</th>           <td>    2.1348</td> <td>    0.254</td> <td>    8.420</td> <td> 0.000</td> <td>    1.638</td> <td>    2.632</td>\n",
       "</tr>\n",
       "<tr>\n",
       "  <th>Last Activity_Modified</th>         <td>   -0.7531</td> <td>    0.079</td> <td>   -9.569</td> <td> 0.000</td> <td>   -0.907</td> <td>   -0.599</td>\n",
       "</tr>\n",
       "<tr>\n",
       "  <th>Last Activity_Other</th>            <td>   -0.2994</td> <td>    0.116</td> <td>   -2.592</td> <td> 0.010</td> <td>   -0.526</td> <td>   -0.073</td>\n",
       "</tr>\n",
       "<tr>\n",
       "  <th>Last Activity_SMS Sent</th>         <td>    1.4099</td> <td>    0.080</td> <td>   17.726</td> <td> 0.000</td> <td>    1.254</td> <td>    1.566</td>\n",
       "</tr>\n",
       "</table>"
      ],
      "text/plain": [
       "<class 'statsmodels.iolib.summary.Summary'>\n",
       "\"\"\"\n",
       "                 Generalized Linear Model Regression Results                  \n",
       "==============================================================================\n",
       "Dep. Variable:              Converted   No. Observations:                 6351\n",
       "Model:                            GLM   Df Residuals:                     6341\n",
       "Model Family:                Binomial   Df Model:                            9\n",
       "Link Function:                  logit   Scale:                          1.0000\n",
       "Method:                          IRLS   Log-Likelihood:                -3167.9\n",
       "Date:                Mon, 20 Jul 2020   Deviance:                       6335.8\n",
       "Time:                        01:43:11   Pearson chi2:                 6.65e+03\n",
       "No. Iterations:                     6                                         \n",
       "Covariance Type:            nonrobust                                         \n",
       "==================================================================================================\n",
       "                                     coef    std err          z      P>|z|      [0.025      0.975]\n",
       "--------------------------------------------------------------------------------------------------\n",
       "const                              0.6420      0.209      3.067      0.002       0.232       1.052\n",
       "Origin_Landing Page Submission    -1.1581      0.109    -10.618      0.000      -1.372      -0.944\n",
       "Origin_Others                      2.5145      0.180     14.000      0.000       2.162       2.867\n",
       "Source_Google                      0.3702      0.065      5.659      0.000       0.242       0.498\n",
       "Specialization_Other              -1.3729      0.112    -12.258      0.000      -1.592      -1.153\n",
       "Unemployed                        -0.5302      0.186     -2.850      0.004      -0.895      -0.166\n",
       "Working Professional               2.1348      0.254      8.420      0.000       1.638       2.632\n",
       "Last Activity_Modified            -0.7531      0.079     -9.569      0.000      -0.907      -0.599\n",
       "Last Activity_Other               -0.2994      0.116     -2.592      0.010      -0.526      -0.073\n",
       "Last Activity_SMS Sent             1.4099      0.080     17.726      0.000       1.254       1.566\n",
       "==================================================================================================\n",
       "\"\"\""
      ]
     },
     "execution_count": 190,
     "metadata": {},
     "output_type": "execute_result"
    }
   ],
   "source": [
    "# Let's re-run the model using the selected variables\n",
    "X_train_sm = sm.add_constant(X_train[col])\n",
    "logm3 = sm.GLM(y_train,X_train_sm, family = sm.families.Binomial())\n",
    "res = logm3.fit()\n",
    "res.summary()"
   ]
  },
  {
   "cell_type": "code",
   "execution_count": 191,
   "metadata": {},
   "outputs": [],
   "source": [
    "y_train_pred = res.predict(X_train_sm).values.reshape(-1)"
   ]
  },
  {
   "cell_type": "code",
   "execution_count": 192,
   "metadata": {},
   "outputs": [
    {
     "data": {
      "text/plain": [
       "array([0.25995853, 0.48662499, 0.11772578, 0.58994449, 0.14193257,\n",
       "       0.67567297, 0.33716288, 0.86898559, 0.25995853, 0.14193257])"
      ]
     },
     "execution_count": 192,
     "metadata": {},
     "output_type": "execute_result"
    }
   ],
   "source": [
    "y_train_pred[:10]"
   ]
  },
  {
   "cell_type": "code",
   "execution_count": 193,
   "metadata": {},
   "outputs": [],
   "source": [
    "y_train_pred_final['Converted_Prob'] = y_train_pred"
   ]
  },
  {
   "cell_type": "code",
   "execution_count": 194,
   "metadata": {},
   "outputs": [
    {
     "data": {
      "text/html": [
       "<div>\n",
       "<style scoped>\n",
       "    .dataframe tbody tr th:only-of-type {\n",
       "        vertical-align: middle;\n",
       "    }\n",
       "\n",
       "    .dataframe tbody tr th {\n",
       "        vertical-align: top;\n",
       "    }\n",
       "\n",
       "    .dataframe thead th {\n",
       "        text-align: right;\n",
       "    }\n",
       "</style>\n",
       "<table border=\"1\" class=\"dataframe\">\n",
       "  <thead>\n",
       "    <tr style=\"text-align: right;\">\n",
       "      <th></th>\n",
       "      <th>Converted</th>\n",
       "      <th>Converted_Prob</th>\n",
       "      <th>Lead ID</th>\n",
       "      <th>predicted</th>\n",
       "    </tr>\n",
       "  </thead>\n",
       "  <tbody>\n",
       "    <tr>\n",
       "      <th>0</th>\n",
       "      <td>0</td>\n",
       "      <td>0.259959</td>\n",
       "      <td>3009</td>\n",
       "      <td>0</td>\n",
       "    </tr>\n",
       "    <tr>\n",
       "      <th>1</th>\n",
       "      <td>0</td>\n",
       "      <td>0.486625</td>\n",
       "      <td>1012</td>\n",
       "      <td>0</td>\n",
       "    </tr>\n",
       "    <tr>\n",
       "      <th>2</th>\n",
       "      <td>0</td>\n",
       "      <td>0.117726</td>\n",
       "      <td>9226</td>\n",
       "      <td>0</td>\n",
       "    </tr>\n",
       "    <tr>\n",
       "      <th>3</th>\n",
       "      <td>1</td>\n",
       "      <td>0.589944</td>\n",
       "      <td>4750</td>\n",
       "      <td>1</td>\n",
       "    </tr>\n",
       "    <tr>\n",
       "      <th>4</th>\n",
       "      <td>1</td>\n",
       "      <td>0.141933</td>\n",
       "      <td>7987</td>\n",
       "      <td>0</td>\n",
       "    </tr>\n",
       "  </tbody>\n",
       "</table>\n",
       "</div>"
      ],
      "text/plain": [
       "   Converted  Converted_Prob  Lead ID  predicted\n",
       "0          0        0.259959     3009          0\n",
       "1          0        0.486625     1012          0\n",
       "2          0        0.117726     9226          0\n",
       "3          1        0.589944     4750          1\n",
       "4          1        0.141933     7987          0"
      ]
     },
     "execution_count": 194,
     "metadata": {},
     "output_type": "execute_result"
    }
   ],
   "source": [
    "# Creating new column 'predicted' with 1 if Churn_Prob > 0.5 else 0\n",
    "y_train_pred_final['predicted'] = y_train_pred_final.Converted_Prob.map(lambda x: 1 if x > 0.5 else 0)\n",
    "y_train_pred_final.head()"
   ]
  },
  {
   "cell_type": "code",
   "execution_count": 195,
   "metadata": {},
   "outputs": [
    {
     "name": "stdout",
     "output_type": "stream",
     "text": [
      "0.7707447646039993\n"
     ]
    }
   ],
   "source": [
    "# Let's check the overall accuracy.\n",
    "print(metrics.accuracy_score(y_train_pred_final.Converted, y_train_pred_final.predicted))"
   ]
  },
  {
   "cell_type": "markdown",
   "metadata": {},
   "source": [
    "Overall Accuracy is almost the same"
   ]
  },
  {
   "cell_type": "markdown",
   "metadata": {},
   "source": [
    "#### Checking VIFs again"
   ]
  },
  {
   "cell_type": "code",
   "execution_count": 196,
   "metadata": {},
   "outputs": [
    {
     "data": {
      "text/html": [
       "<div>\n",
       "<style scoped>\n",
       "    .dataframe tbody tr th:only-of-type {\n",
       "        vertical-align: middle;\n",
       "    }\n",
       "\n",
       "    .dataframe tbody tr th {\n",
       "        vertical-align: top;\n",
       "    }\n",
       "\n",
       "    .dataframe thead th {\n",
       "        text-align: right;\n",
       "    }\n",
       "</style>\n",
       "<table border=\"1\" class=\"dataframe\">\n",
       "  <thead>\n",
       "    <tr style=\"text-align: right;\">\n",
       "      <th></th>\n",
       "      <th>Features</th>\n",
       "      <th>VIF</th>\n",
       "    </tr>\n",
       "  </thead>\n",
       "  <tbody>\n",
       "    <tr>\n",
       "      <th>5</th>\n",
       "      <td>Working Professional</td>\n",
       "      <td>0.74</td>\n",
       "    </tr>\n",
       "    <tr>\n",
       "      <th>1</th>\n",
       "      <td>Origin_Others</td>\n",
       "      <td>0.59</td>\n",
       "    </tr>\n",
       "    <tr>\n",
       "      <th>6</th>\n",
       "      <td>Last Activity_Modified</td>\n",
       "      <td>0.22</td>\n",
       "    </tr>\n",
       "    <tr>\n",
       "      <th>2</th>\n",
       "      <td>Source_Google</td>\n",
       "      <td>0.18</td>\n",
       "    </tr>\n",
       "    <tr>\n",
       "      <th>7</th>\n",
       "      <td>Last Activity_Other</td>\n",
       "      <td>0.14</td>\n",
       "    </tr>\n",
       "    <tr>\n",
       "      <th>4</th>\n",
       "      <td>Unemployed</td>\n",
       "      <td>0.12</td>\n",
       "    </tr>\n",
       "    <tr>\n",
       "      <th>0</th>\n",
       "      <td>Origin_Landing Page Submission</td>\n",
       "      <td>0.11</td>\n",
       "    </tr>\n",
       "    <tr>\n",
       "      <th>8</th>\n",
       "      <td>Last Activity_SMS Sent</td>\n",
       "      <td>0.02</td>\n",
       "    </tr>\n",
       "    <tr>\n",
       "      <th>3</th>\n",
       "      <td>Specialization_Other</td>\n",
       "      <td>0.00</td>\n",
       "    </tr>\n",
       "  </tbody>\n",
       "</table>\n",
       "</div>"
      ],
      "text/plain": [
       "                         Features   VIF\n",
       "5            Working Professional  0.74\n",
       "1                   Origin_Others  0.59\n",
       "6          Last Activity_Modified  0.22\n",
       "2                   Source_Google  0.18\n",
       "7             Last Activity_Other  0.14\n",
       "4                      Unemployed  0.12\n",
       "0  Origin_Landing Page Submission  0.11\n",
       "8          Last Activity_SMS Sent  0.02\n",
       "3            Specialization_Other  0.00"
      ]
     },
     "execution_count": 196,
     "metadata": {},
     "output_type": "execute_result"
    }
   ],
   "source": [
    "vif = pd.DataFrame()\n",
    "vif['Features'] = X_train[col].columns\n",
    "vif['VIF'] = [variance_inflation_factor(X_train[col].values, i) for i in range(X_train[col].shape[1])]\n",
    "vif['VIF'] = round(vif['VIF'], 2)\n",
    "vif = vif.sort_values(by = \"VIF\", ascending = False)\n",
    "vif"
   ]
  },
  {
   "cell_type": "markdown",
   "metadata": {},
   "source": [
    "We can see that the VIF values and p-values are low, we can say the variables in the model are significant enough."
   ]
  },
  {
   "cell_type": "code",
   "execution_count": 197,
   "metadata": {},
   "outputs": [
    {
     "data": {
      "text/plain": [
       "array([[3318,  587],\n",
       "       [ 869, 1577]])"
      ]
     },
     "execution_count": 197,
     "metadata": {},
     "output_type": "execute_result"
    }
   ],
   "source": [
    "# Let's take a look at the confusion matrix again \n",
    "confusion = metrics.confusion_matrix(y_train_pred_final.Converted, y_train_pred_final.predicted )\n",
    "confusion"
   ]
  },
  {
   "cell_type": "code",
   "execution_count": 198,
   "metadata": {},
   "outputs": [],
   "source": [
    "TP = confusion[1,1] # true positive \n",
    "TN = confusion[0,0] # true negatives\n",
    "FP = confusion[0,1] # false positives\n",
    "FN = confusion[1,0] # false negatives"
   ]
  },
  {
   "cell_type": "code",
   "execution_count": 199,
   "metadata": {},
   "outputs": [
    {
     "data": {
      "text/plain": [
       "0.8496798975672215"
      ]
     },
     "execution_count": 199,
     "metadata": {},
     "output_type": "execute_result"
    }
   ],
   "source": [
    "# Let us calculate specificity\n",
    "TN / float(TN+FP)"
   ]
  },
  {
   "cell_type": "code",
   "execution_count": 200,
   "metadata": {},
   "outputs": [
    {
     "data": {
      "text/plain": [
       "0.6447260834014718"
      ]
     },
     "execution_count": 200,
     "metadata": {},
     "output_type": "execute_result"
    }
   ],
   "source": [
    "# Let's see the sensitivity of our logistic regression model\n",
    "TP / float(TP+FN)"
   ]
  },
  {
   "cell_type": "markdown",
   "metadata": {},
   "source": [
    "### Plotting the ROC Curve"
   ]
  },
  {
   "cell_type": "code",
   "execution_count": 201,
   "metadata": {},
   "outputs": [],
   "source": [
    "def draw_roc( actual, probs ):\n",
    "    fpr, tpr, thresholds = metrics.roc_curve( actual, probs,\n",
    "                                              drop_intermediate = False )\n",
    "    auc_score = metrics.roc_auc_score( actual, probs )\n",
    "    plt.figure(figsize=(5, 5))\n",
    "    plt.plot( fpr, tpr, label='ROC curve (area = %0.2f)' % auc_score )\n",
    "    plt.plot([0, 1], [0, 1], 'k--')\n",
    "    plt.xlim([0.0, 1.0])\n",
    "    plt.ylim([0.0, 1.05])\n",
    "    plt.xlabel('False Positive Rate or [1 - True Negative Rate]')\n",
    "    plt.ylabel('True Positive Rate')\n",
    "    plt.title('Receiver operating characteristic example')\n",
    "    plt.legend(loc=\"lower right\")\n",
    "    plt.show()\n",
    "\n",
    "    return None"
   ]
  },
  {
   "cell_type": "code",
   "execution_count": 202,
   "metadata": {},
   "outputs": [],
   "source": [
    "fpr, tpr, thresholds = metrics.roc_curve( y_train_pred_final.Converted, y_train_pred_final.Converted_Prob, drop_intermediate = False )"
   ]
  },
  {
   "cell_type": "code",
   "execution_count": 203,
   "metadata": {},
   "outputs": [
    {
     "data": {
      "image/png": "[encoded data removed]",
      "text/plain": [
       "<Figure size 360x360 with 1 Axes>"
      ]
     },
     "metadata": {
      "needs_background": "light"
     },
     "output_type": "display_data"
    }
   ],
   "source": [
    "draw_roc(y_train_pred_final.Converted, y_train_pred_final.Converted_Prob)"
   ]
  },
  {
   "cell_type": "markdown",
   "metadata": {},
   "source": [
    "### Finding Optimal Cutoff Point"
   ]
  },
  {
   "cell_type": "code",
   "execution_count": 204,
   "metadata": {},
   "outputs": [
    {
     "data": {
      "text/html": [
       "<div>\n",
       "<style scoped>\n",
       "    .dataframe tbody tr th:only-of-type {\n",
       "        vertical-align: middle;\n",
       "    }\n",
       "\n",
       "    .dataframe tbody tr th {\n",
       "        vertical-align: top;\n",
       "    }\n",
       "\n",
       "    .dataframe thead th {\n",
       "        text-align: right;\n",
       "    }\n",
       "</style>\n",
       "<table border=\"1\" class=\"dataframe\">\n",
       "  <thead>\n",
       "    <tr style=\"text-align: right;\">\n",
       "      <th></th>\n",
       "      <th>Converted</th>\n",
       "      <th>Converted_Prob</th>\n",
       "      <th>Lead ID</th>\n",
       "      <th>predicted</th>\n",
       "      <th>0.0</th>\n",
       "      <th>0.1</th>\n",
       "      <th>0.2</th>\n",
       "      <th>0.3</th>\n",
       "      <th>0.4</th>\n",
       "      <th>0.5</th>\n",
       "      <th>0.6</th>\n",
       "      <th>0.7</th>\n",
       "      <th>0.8</th>\n",
       "      <th>0.9</th>\n",
       "    </tr>\n",
       "  </thead>\n",
       "  <tbody>\n",
       "    <tr>\n",
       "      <th>0</th>\n",
       "      <td>0</td>\n",
       "      <td>0.259959</td>\n",
       "      <td>3009</td>\n",
       "      <td>0</td>\n",
       "      <td>1</td>\n",
       "      <td>1</td>\n",
       "      <td>1</td>\n",
       "      <td>0</td>\n",
       "      <td>0</td>\n",
       "      <td>0</td>\n",
       "      <td>0</td>\n",
       "      <td>0</td>\n",
       "      <td>0</td>\n",
       "      <td>0</td>\n",
       "    </tr>\n",
       "    <tr>\n",
       "      <th>1</th>\n",
       "      <td>0</td>\n",
       "      <td>0.486625</td>\n",
       "      <td>1012</td>\n",
       "      <td>0</td>\n",
       "      <td>1</td>\n",
       "      <td>1</td>\n",
       "      <td>1</td>\n",
       "      <td>1</td>\n",
       "      <td>1</td>\n",
       "      <td>0</td>\n",
       "      <td>0</td>\n",
       "      <td>0</td>\n",
       "      <td>0</td>\n",
       "      <td>0</td>\n",
       "    </tr>\n",
       "    <tr>\n",
       "      <th>2</th>\n",
       "      <td>0</td>\n",
       "      <td>0.117726</td>\n",
       "      <td>9226</td>\n",
       "      <td>0</td>\n",
       "      <td>1</td>\n",
       "      <td>1</td>\n",
       "      <td>0</td>\n",
       "      <td>0</td>\n",
       "      <td>0</td>\n",
       "      <td>0</td>\n",
       "      <td>0</td>\n",
       "      <td>0</td>\n",
       "      <td>0</td>\n",
       "      <td>0</td>\n",
       "    </tr>\n",
       "    <tr>\n",
       "      <th>3</th>\n",
       "      <td>1</td>\n",
       "      <td>0.589944</td>\n",
       "      <td>4750</td>\n",
       "      <td>1</td>\n",
       "      <td>1</td>\n",
       "      <td>1</td>\n",
       "      <td>1</td>\n",
       "      <td>1</td>\n",
       "      <td>1</td>\n",
       "      <td>1</td>\n",
       "      <td>0</td>\n",
       "      <td>0</td>\n",
       "      <td>0</td>\n",
       "      <td>0</td>\n",
       "    </tr>\n",
       "    <tr>\n",
       "      <th>4</th>\n",
       "      <td>1</td>\n",
       "      <td>0.141933</td>\n",
       "      <td>7987</td>\n",
       "      <td>0</td>\n",
       "      <td>1</td>\n",
       "      <td>1</td>\n",
       "      <td>0</td>\n",
       "      <td>0</td>\n",
       "      <td>0</td>\n",
       "      <td>0</td>\n",
       "      <td>0</td>\n",
       "      <td>0</td>\n",
       "      <td>0</td>\n",
       "      <td>0</td>\n",
       "    </tr>\n",
       "  </tbody>\n",
       "</table>\n",
       "</div>"
      ],
      "text/plain": [
       "   Converted  Converted_Prob  Lead ID  predicted  0.0  0.1  0.2  0.3  0.4  \\\n",
       "0          0        0.259959     3009          0    1    1    1    0    0   \n",
       "1          0        0.486625     1012          0    1    1    1    1    1   \n",
       "2          0        0.117726     9226          0    1    1    0    0    0   \n",
       "3          1        0.589944     4750          1    1    1    1    1    1   \n",
       "4          1        0.141933     7987          0    1    1    0    0    0   \n",
       "\n",
       "   0.5  0.6  0.7  0.8  0.9  \n",
       "0    0    0    0    0    0  \n",
       "1    0    0    0    0    0  \n",
       "2    0    0    0    0    0  \n",
       "3    1    0    0    0    0  \n",
       "4    0    0    0    0    0  "
      ]
     },
     "execution_count": 204,
     "metadata": {},
     "output_type": "execute_result"
    }
   ],
   "source": [
    "# Let's create columns with different probability cutoffs \n",
    "numbers = [float(x)/10 for x in range(10)]\n",
    "for i in numbers:\n",
    "    y_train_pred_final[i]= y_train_pred_final.Converted_Prob.map(lambda x: 1 if x > i else 0)\n",
    "y_train_pred_final.head()"
   ]
  },
  {
   "cell_type": "code",
   "execution_count": 205,
   "metadata": {},
   "outputs": [
    {
     "name": "stdout",
     "output_type": "stream",
     "text": [
      "     prob  accuracy     sensi     speci\n",
      "0.0   0.0  0.385136  1.000000  0.000000\n",
      "0.1   0.1  0.394111  0.998365  0.015621\n",
      "0.2   0.2  0.632814  0.879804  0.478105\n",
      "0.3   0.3  0.741773  0.723630  0.753137\n",
      "0.4   0.4  0.768225  0.659853  0.836108\n",
      "0.5   0.5  0.770745  0.644726  0.849680\n",
      "0.6   0.6  0.754684  0.465249  0.935980\n",
      "0.7   0.7  0.729491  0.327882  0.981050\n",
      "0.8   0.8  0.718312  0.289043  0.987196\n",
      "0.9   0.9  0.690442  0.208095  0.992574\n"
     ]
    }
   ],
   "source": [
    "# Now let's calculate accuracy sensitivity and specificity for various probability cutoffs.\n",
    "cutoff_df = pd.DataFrame( columns = ['prob','accuracy','sensi','speci'])\n",
    "from sklearn.metrics import confusion_matrix\n",
    "\n",
    "# TP = confusion[1,1] # true positive \n",
    "# TN = confusion[0,0] # true negatives\n",
    "# FP = confusion[0,1] # false positives\n",
    "# FN = confusion[1,0] # false negatives\n",
    "\n",
    "num = [0.0,0.1,0.2,0.3,0.4,0.5,0.6,0.7,0.8,0.9]\n",
    "for i in num:\n",
    "    cm1 = metrics.confusion_matrix(y_train_pred_final.Converted, y_train_pred_final[i] )\n",
    "    total1=sum(sum(cm1))\n",
    "    accuracy = (cm1[0,0]+cm1[1,1])/total1\n",
    "    \n",
    "    speci = cm1[0,0]/(cm1[0,0]+cm1[0,1])\n",
    "    sensi = cm1[1,1]/(cm1[1,0]+cm1[1,1])\n",
    "    cutoff_df.loc[i] =[ i ,accuracy,sensi,speci]\n",
    "print(cutoff_df)"
   ]
  },
  {
   "cell_type": "code",
   "execution_count": 206,
   "metadata": {
    "scrolled": true
   },
   "outputs": [
    {
     "data": {
      "image/png": "[encoded data removed]",
      "text/plain": [
       "<Figure size 432x288 with 1 Axes>"
      ]
     },
     "metadata": {
      "needs_background": "light"
     },
     "output_type": "display_data"
    }
   ],
   "source": [
    "# Let's plot accuracy sensitivity and specificity for various probabilities.\n",
    "cutoff_df.plot.line(x='prob', y=['accuracy','sensi','speci'])\n",
    "plt.show()"
   ]
  },
  {
   "cell_type": "markdown",
   "metadata": {},
   "source": [
    "#### From the curve above, 0.28 is the optimum point to take it as a cutoff probability."
   ]
  },
  {
   "cell_type": "code",
   "execution_count": 207,
   "metadata": {
    "scrolled": true
   },
   "outputs": [
    {
     "data": {
      "text/html": [
       "<div>\n",
       "<style scoped>\n",
       "    .dataframe tbody tr th:only-of-type {\n",
       "        vertical-align: middle;\n",
       "    }\n",
       "\n",
       "    .dataframe tbody tr th {\n",
       "        vertical-align: top;\n",
       "    }\n",
       "\n",
       "    .dataframe thead th {\n",
       "        text-align: right;\n",
       "    }\n",
       "</style>\n",
       "<table border=\"1\" class=\"dataframe\">\n",
       "  <thead>\n",
       "    <tr style=\"text-align: right;\">\n",
       "      <th></th>\n",
       "      <th>Converted</th>\n",
       "      <th>Converted_Prob</th>\n",
       "      <th>Lead ID</th>\n",
       "      <th>predicted</th>\n",
       "      <th>0.0</th>\n",
       "      <th>0.1</th>\n",
       "      <th>0.2</th>\n",
       "      <th>0.3</th>\n",
       "      <th>0.4</th>\n",
       "      <th>0.5</th>\n",
       "      <th>0.6</th>\n",
       "      <th>0.7</th>\n",
       "      <th>0.8</th>\n",
       "      <th>0.9</th>\n",
       "      <th>final_predicted</th>\n",
       "    </tr>\n",
       "  </thead>\n",
       "  <tbody>\n",
       "    <tr>\n",
       "      <th>0</th>\n",
       "      <td>0</td>\n",
       "      <td>0.259959</td>\n",
       "      <td>3009</td>\n",
       "      <td>0</td>\n",
       "      <td>1</td>\n",
       "      <td>1</td>\n",
       "      <td>1</td>\n",
       "      <td>0</td>\n",
       "      <td>0</td>\n",
       "      <td>0</td>\n",
       "      <td>0</td>\n",
       "      <td>0</td>\n",
       "      <td>0</td>\n",
       "      <td>0</td>\n",
       "      <td>0</td>\n",
       "    </tr>\n",
       "    <tr>\n",
       "      <th>1</th>\n",
       "      <td>0</td>\n",
       "      <td>0.486625</td>\n",
       "      <td>1012</td>\n",
       "      <td>0</td>\n",
       "      <td>1</td>\n",
       "      <td>1</td>\n",
       "      <td>1</td>\n",
       "      <td>1</td>\n",
       "      <td>1</td>\n",
       "      <td>0</td>\n",
       "      <td>0</td>\n",
       "      <td>0</td>\n",
       "      <td>0</td>\n",
       "      <td>0</td>\n",
       "      <td>1</td>\n",
       "    </tr>\n",
       "    <tr>\n",
       "      <th>2</th>\n",
       "      <td>0</td>\n",
       "      <td>0.117726</td>\n",
       "      <td>9226</td>\n",
       "      <td>0</td>\n",
       "      <td>1</td>\n",
       "      <td>1</td>\n",
       "      <td>0</td>\n",
       "      <td>0</td>\n",
       "      <td>0</td>\n",
       "      <td>0</td>\n",
       "      <td>0</td>\n",
       "      <td>0</td>\n",
       "      <td>0</td>\n",
       "      <td>0</td>\n",
       "      <td>0</td>\n",
       "    </tr>\n",
       "    <tr>\n",
       "      <th>3</th>\n",
       "      <td>1</td>\n",
       "      <td>0.589944</td>\n",
       "      <td>4750</td>\n",
       "      <td>1</td>\n",
       "      <td>1</td>\n",
       "      <td>1</td>\n",
       "      <td>1</td>\n",
       "      <td>1</td>\n",
       "      <td>1</td>\n",
       "      <td>1</td>\n",
       "      <td>0</td>\n",
       "      <td>0</td>\n",
       "      <td>0</td>\n",
       "      <td>0</td>\n",
       "      <td>1</td>\n",
       "    </tr>\n",
       "    <tr>\n",
       "      <th>4</th>\n",
       "      <td>1</td>\n",
       "      <td>0.141933</td>\n",
       "      <td>7987</td>\n",
       "      <td>0</td>\n",
       "      <td>1</td>\n",
       "      <td>1</td>\n",
       "      <td>0</td>\n",
       "      <td>0</td>\n",
       "      <td>0</td>\n",
       "      <td>0</td>\n",
       "      <td>0</td>\n",
       "      <td>0</td>\n",
       "      <td>0</td>\n",
       "      <td>0</td>\n",
       "      <td>0</td>\n",
       "    </tr>\n",
       "  </tbody>\n",
       "</table>\n",
       "</div>"
      ],
      "text/plain": [
       "   Converted  Converted_Prob  Lead ID  predicted  0.0  0.1  0.2  0.3  0.4  \\\n",
       "0          0        0.259959     3009          0    1    1    1    0    0   \n",
       "1          0        0.486625     1012          0    1    1    1    1    1   \n",
       "2          0        0.117726     9226          0    1    1    0    0    0   \n",
       "3          1        0.589944     4750          1    1    1    1    1    1   \n",
       "4          1        0.141933     7987          0    1    1    0    0    0   \n",
       "\n",
       "   0.5  0.6  0.7  0.8  0.9  final_predicted  \n",
       "0    0    0    0    0    0                0  \n",
       "1    0    0    0    0    0                1  \n",
       "2    0    0    0    0    0                0  \n",
       "3    1    0    0    0    0                1  \n",
       "4    0    0    0    0    0                0  "
      ]
     },
     "execution_count": 207,
     "metadata": {},
     "output_type": "execute_result"
    }
   ],
   "source": [
    "y_train_pred_final['final_predicted'] = y_train_pred_final.Converted_Prob.map( lambda x: 1 if x > 0.28 else 0)\n",
    "\n",
    "y_train_pred_final.head()"
   ]
  },
  {
   "cell_type": "code",
   "execution_count": 208,
   "metadata": {},
   "outputs": [
    {
     "data": {
      "text/plain": [
       "0.730593607305936"
      ]
     },
     "execution_count": 208,
     "metadata": {},
     "output_type": "execute_result"
    }
   ],
   "source": [
    "# Let's check the overall accuracy.\n",
    "metrics.accuracy_score(y_train_pred_final.Converted, y_train_pred_final.final_predicted)"
   ]
  },
  {
   "cell_type": "code",
   "execution_count": 209,
   "metadata": {},
   "outputs": [
    {
     "data": {
      "text/plain": [
       "array([[2819, 1086],\n",
       "       [ 625, 1821]])"
      ]
     },
     "execution_count": 209,
     "metadata": {},
     "output_type": "execute_result"
    }
   ],
   "source": [
    "confusion2 = metrics.confusion_matrix(y_train_pred_final.Converted, y_train_pred_final.final_predicted )\n",
    "confusion2"
   ]
  },
  {
   "cell_type": "code",
   "execution_count": 210,
   "metadata": {},
   "outputs": [],
   "source": [
    "TP = confusion2[1,1] # true positive \n",
    "TN = confusion2[0,0] # true negatives\n",
    "FP = confusion2[0,1] # false positives\n",
    "FN = confusion2[1,0] # false negatives"
   ]
  },
  {
   "cell_type": "code",
   "execution_count": 211,
   "metadata": {},
   "outputs": [
    {
     "data": {
      "text/plain": [
       "0.7218950064020486"
      ]
     },
     "execution_count": 211,
     "metadata": {},
     "output_type": "execute_result"
    }
   ],
   "source": [
    "# Let us calculate specificity\n",
    "TN / float(TN+FP)"
   ]
  },
  {
   "cell_type": "code",
   "execution_count": 212,
   "metadata": {},
   "outputs": [
    {
     "data": {
      "text/plain": [
       "0.7444807849550286"
      ]
     },
     "execution_count": 212,
     "metadata": {},
     "output_type": "execute_result"
    }
   ],
   "source": [
    "# Let's see the sensitivity of our logistic regression model\n",
    "TP / float(TP+FN)"
   ]
  },
  {
   "cell_type": "markdown",
   "metadata": {},
   "source": [
    "## Model Evaluation"
   ]
  },
  {
   "cell_type": "markdown",
   "metadata": {},
   "source": [
    "### Precision and Recall"
   ]
  },
  {
   "cell_type": "code",
   "execution_count": 213,
   "metadata": {},
   "outputs": [
    {
     "data": {
      "text/plain": [
       "array([[3318,  587],\n",
       "       [ 869, 1577]])"
      ]
     },
     "execution_count": 213,
     "metadata": {},
     "output_type": "execute_result"
    }
   ],
   "source": [
    "confusion = metrics.confusion_matrix(y_train_pred_final.Converted, y_train_pred_final.predicted )\n",
    "confusion"
   ]
  },
  {
   "cell_type": "code",
   "execution_count": 214,
   "metadata": {},
   "outputs": [
    {
     "data": {
      "text/plain": [
       "0.7287430683918669"
      ]
     },
     "execution_count": 214,
     "metadata": {},
     "output_type": "execute_result"
    }
   ],
   "source": [
    "#Precision\n",
    "confusion[1,1]/(confusion[0,1]+confusion[1,1])"
   ]
  },
  {
   "cell_type": "code",
   "execution_count": 215,
   "metadata": {},
   "outputs": [
    {
     "data": {
      "text/plain": [
       "0.6447260834014718"
      ]
     },
     "execution_count": 215,
     "metadata": {},
     "output_type": "execute_result"
    }
   ],
   "source": [
    "#Recall\n",
    "confusion[1,1]/(confusion[1,0]+confusion[1,1])"
   ]
  },
  {
   "cell_type": "code",
   "execution_count": 216,
   "metadata": {},
   "outputs": [],
   "source": [
    "from sklearn.metrics import precision_score, recall_score\n"
   ]
  },
  {
   "cell_type": "code",
   "execution_count": 217,
   "metadata": {},
   "outputs": [
    {
     "data": {
      "text/plain": [
       "0.7287430683918669"
      ]
     },
     "execution_count": 217,
     "metadata": {},
     "output_type": "execute_result"
    }
   ],
   "source": [
    "precision_score(y_train_pred_final.Converted, y_train_pred_final.predicted)"
   ]
  },
  {
   "cell_type": "code",
   "execution_count": 218,
   "metadata": {},
   "outputs": [
    {
     "data": {
      "text/plain": [
       "0.6447260834014718"
      ]
     },
     "execution_count": 218,
     "metadata": {},
     "output_type": "execute_result"
    }
   ],
   "source": [
    "recall_score(y_train_pred_final.Converted, y_train_pred_final.predicted)"
   ]
  },
  {
   "cell_type": "markdown",
   "metadata": {},
   "source": [
    "#### Precision-Recall Curve"
   ]
  },
  {
   "cell_type": "code",
   "execution_count": 219,
   "metadata": {},
   "outputs": [],
   "source": [
    "from sklearn.metrics import precision_recall_curve"
   ]
  },
  {
   "cell_type": "code",
   "execution_count": 220,
   "metadata": {},
   "outputs": [
    {
     "data": {
      "text/plain": [
       "(0       0\n",
       " 1       0\n",
       " 2       0\n",
       " 3       1\n",
       " 4       1\n",
       "        ..\n",
       " 6346    0\n",
       " 6347    1\n",
       " 6348    0\n",
       " 6349    0\n",
       " 6350    0\n",
       " Name: Converted, Length: 6351, dtype: int64,\n",
       " 0       0\n",
       " 1       0\n",
       " 2       0\n",
       " 3       1\n",
       " 4       0\n",
       "        ..\n",
       " 6346    0\n",
       " 6347    1\n",
       " 6348    1\n",
       " 6349    0\n",
       " 6350    0\n",
       " Name: predicted, Length: 6351, dtype: int64)"
      ]
     },
     "execution_count": 220,
     "metadata": {},
     "output_type": "execute_result"
    }
   ],
   "source": [
    "y_train_pred_final.Converted, y_train_pred_final.predicted"
   ]
  },
  {
   "cell_type": "code",
   "execution_count": 221,
   "metadata": {},
   "outputs": [],
   "source": [
    "p, r, thresholds = precision_recall_curve(y_train_pred_final.Converted, y_train_pred_final.Converted_Prob)"
   ]
  },
  {
   "cell_type": "code",
   "execution_count": 222,
   "metadata": {
    "scrolled": true
   },
   "outputs": [
    {
     "data": {
      "image/png": "[encoded data removed]",
      "text/plain": [
       "<Figure size 432x288 with 1 Axes>"
      ]
     },
     "metadata": {
      "needs_background": "light"
     },
     "output_type": "display_data"
    }
   ],
   "source": [
    "plt.plot(thresholds, p[:-1], \"g-\")\n",
    "plt.plot(thresholds, r[:-1], \"r-\")\n",
    "plt.show()"
   ]
  },
  {
   "cell_type": "markdown",
   "metadata": {},
   "source": [
    "### Making Predictions on the test set"
   ]
  },
  {
   "cell_type": "code",
   "execution_count": 223,
   "metadata": {},
   "outputs": [
    {
     "data": {
      "text/html": [
       "<div>\n",
       "<style scoped>\n",
       "    .dataframe tbody tr th:only-of-type {\n",
       "        vertical-align: middle;\n",
       "    }\n",
       "\n",
       "    .dataframe tbody tr th {\n",
       "        vertical-align: top;\n",
       "    }\n",
       "\n",
       "    .dataframe thead th {\n",
       "        text-align: right;\n",
       "    }\n",
       "</style>\n",
       "<table border=\"1\" class=\"dataframe\">\n",
       "  <thead>\n",
       "    <tr style=\"text-align: right;\">\n",
       "      <th></th>\n",
       "      <th>TotalVisits</th>\n",
       "      <th>Page Views Per Visit</th>\n",
       "      <th>Origin_Landing Page Submission</th>\n",
       "      <th>Origin_Others</th>\n",
       "      <th>Source_Google</th>\n",
       "      <th>Source_Olark Chat</th>\n",
       "      <th>Source_Organic Search</th>\n",
       "      <th>Source_Others</th>\n",
       "      <th>Specialization_Business Administration</th>\n",
       "      <th>Specialization_E-Business</th>\n",
       "      <th>Specialization_E-COMMERCE</th>\n",
       "      <th>Specialization_Finance Management</th>\n",
       "      <th>Specialization_Healthcare Management</th>\n",
       "      <th>Specialization_Hospitality Management</th>\n",
       "      <th>Specialization_Human Resource Management</th>\n",
       "      <th>Specialization_IT Projects Management</th>\n",
       "      <th>Specialization_International Business</th>\n",
       "      <th>Specialization_Marketing Management</th>\n",
       "      <th>Specialization_Media and Advertising</th>\n",
       "      <th>Specialization_Operations Management</th>\n",
       "      <th>Specialization_Other</th>\n",
       "      <th>Specialization_Retail Management</th>\n",
       "      <th>Specialization_Rural and Agribusiness</th>\n",
       "      <th>Specialization_Services Excellence</th>\n",
       "      <th>Specialization_Supply Chain Management</th>\n",
       "      <th>Specialization_Travel and Tourism</th>\n",
       "      <th>Unemployed</th>\n",
       "      <th>Working Professional</th>\n",
       "      <th>Last Activity_Modified</th>\n",
       "      <th>Last Activity_Other</th>\n",
       "      <th>Last Activity_SMS Sent</th>\n",
       "      <th>Mumbai</th>\n",
       "      <th>Other Cities</th>\n",
       "    </tr>\n",
       "  </thead>\n",
       "  <tbody>\n",
       "    <tr>\n",
       "      <th>3009</th>\n",
       "      <td>-0.417238</td>\n",
       "      <td>2.0</td>\n",
       "      <td>1</td>\n",
       "      <td>0</td>\n",
       "      <td>0</td>\n",
       "      <td>0</td>\n",
       "      <td>0</td>\n",
       "      <td>0</td>\n",
       "      <td>0</td>\n",
       "      <td>0</td>\n",
       "      <td>0</td>\n",
       "      <td>1</td>\n",
       "      <td>0</td>\n",
       "      <td>0</td>\n",
       "      <td>0</td>\n",
       "      <td>0</td>\n",
       "      <td>0</td>\n",
       "      <td>0</td>\n",
       "      <td>0</td>\n",
       "      <td>0</td>\n",
       "      <td>0</td>\n",
       "      <td>0</td>\n",
       "      <td>0</td>\n",
       "      <td>0</td>\n",
       "      <td>0</td>\n",
       "      <td>0</td>\n",
       "      <td>1</td>\n",
       "      <td>0</td>\n",
       "      <td>0</td>\n",
       "      <td>0</td>\n",
       "      <td>0</td>\n",
       "      <td>1</td>\n",
       "      <td>0</td>\n",
       "    </tr>\n",
       "    <tr>\n",
       "      <th>1012</th>\n",
       "      <td>-0.417238</td>\n",
       "      <td>2.0</td>\n",
       "      <td>1</td>\n",
       "      <td>0</td>\n",
       "      <td>0</td>\n",
       "      <td>0</td>\n",
       "      <td>0</td>\n",
       "      <td>0</td>\n",
       "      <td>0</td>\n",
       "      <td>0</td>\n",
       "      <td>0</td>\n",
       "      <td>0</td>\n",
       "      <td>0</td>\n",
       "      <td>0</td>\n",
       "      <td>0</td>\n",
       "      <td>0</td>\n",
       "      <td>0</td>\n",
       "      <td>0</td>\n",
       "      <td>0</td>\n",
       "      <td>0</td>\n",
       "      <td>1</td>\n",
       "      <td>0</td>\n",
       "      <td>0</td>\n",
       "      <td>0</td>\n",
       "      <td>0</td>\n",
       "      <td>0</td>\n",
       "      <td>0</td>\n",
       "      <td>1</td>\n",
       "      <td>0</td>\n",
       "      <td>1</td>\n",
       "      <td>0</td>\n",
       "      <td>1</td>\n",
       "      <td>0</td>\n",
       "    </tr>\n",
       "    <tr>\n",
       "      <th>9226</th>\n",
       "      <td>-1.034493</td>\n",
       "      <td>0.0</td>\n",
       "      <td>0</td>\n",
       "      <td>0</td>\n",
       "      <td>0</td>\n",
       "      <td>1</td>\n",
       "      <td>0</td>\n",
       "      <td>0</td>\n",
       "      <td>0</td>\n",
       "      <td>0</td>\n",
       "      <td>0</td>\n",
       "      <td>0</td>\n",
       "      <td>0</td>\n",
       "      <td>0</td>\n",
       "      <td>0</td>\n",
       "      <td>0</td>\n",
       "      <td>0</td>\n",
       "      <td>0</td>\n",
       "      <td>0</td>\n",
       "      <td>0</td>\n",
       "      <td>1</td>\n",
       "      <td>0</td>\n",
       "      <td>0</td>\n",
       "      <td>0</td>\n",
       "      <td>0</td>\n",
       "      <td>0</td>\n",
       "      <td>1</td>\n",
       "      <td>0</td>\n",
       "      <td>1</td>\n",
       "      <td>0</td>\n",
       "      <td>0</td>\n",
       "      <td>1</td>\n",
       "      <td>0</td>\n",
       "    </tr>\n",
       "    <tr>\n",
       "      <th>4750</th>\n",
       "      <td>-0.417238</td>\n",
       "      <td>2.0</td>\n",
       "      <td>1</td>\n",
       "      <td>0</td>\n",
       "      <td>0</td>\n",
       "      <td>0</td>\n",
       "      <td>0</td>\n",
       "      <td>0</td>\n",
       "      <td>0</td>\n",
       "      <td>0</td>\n",
       "      <td>0</td>\n",
       "      <td>0</td>\n",
       "      <td>0</td>\n",
       "      <td>0</td>\n",
       "      <td>0</td>\n",
       "      <td>0</td>\n",
       "      <td>0</td>\n",
       "      <td>1</td>\n",
       "      <td>0</td>\n",
       "      <td>0</td>\n",
       "      <td>0</td>\n",
       "      <td>0</td>\n",
       "      <td>0</td>\n",
       "      <td>0</td>\n",
       "      <td>0</td>\n",
       "      <td>0</td>\n",
       "      <td>1</td>\n",
       "      <td>0</td>\n",
       "      <td>0</td>\n",
       "      <td>0</td>\n",
       "      <td>1</td>\n",
       "      <td>0</td>\n",
       "      <td>1</td>\n",
       "    </tr>\n",
       "    <tr>\n",
       "      <th>7987</th>\n",
       "      <td>0.508645</td>\n",
       "      <td>2.5</td>\n",
       "      <td>1</td>\n",
       "      <td>0</td>\n",
       "      <td>0</td>\n",
       "      <td>0</td>\n",
       "      <td>0</td>\n",
       "      <td>0</td>\n",
       "      <td>0</td>\n",
       "      <td>0</td>\n",
       "      <td>0</td>\n",
       "      <td>1</td>\n",
       "      <td>0</td>\n",
       "      <td>0</td>\n",
       "      <td>0</td>\n",
       "      <td>0</td>\n",
       "      <td>0</td>\n",
       "      <td>0</td>\n",
       "      <td>0</td>\n",
       "      <td>0</td>\n",
       "      <td>0</td>\n",
       "      <td>0</td>\n",
       "      <td>0</td>\n",
       "      <td>0</td>\n",
       "      <td>0</td>\n",
       "      <td>0</td>\n",
       "      <td>1</td>\n",
       "      <td>0</td>\n",
       "      <td>1</td>\n",
       "      <td>0</td>\n",
       "      <td>0</td>\n",
       "      <td>0</td>\n",
       "      <td>0</td>\n",
       "    </tr>\n",
       "  </tbody>\n",
       "</table>\n",
       "</div>"
      ],
      "text/plain": [
       "      TotalVisits  Page Views Per Visit  Origin_Landing Page Submission  \\\n",
       "3009    -0.417238                   2.0                               1   \n",
       "1012    -0.417238                   2.0                               1   \n",
       "9226    -1.034493                   0.0                               0   \n",
       "4750    -0.417238                   2.0                               1   \n",
       "7987     0.508645                   2.5                               1   \n",
       "\n",
       "      Origin_Others  Source_Google  Source_Olark Chat  Source_Organic Search  \\\n",
       "3009              0              0                  0                      0   \n",
       "1012              0              0                  0                      0   \n",
       "9226              0              0                  1                      0   \n",
       "4750              0              0                  0                      0   \n",
       "7987              0              0                  0                      0   \n",
       "\n",
       "      Source_Others  Specialization_Business Administration  \\\n",
       "3009              0                                       0   \n",
       "1012              0                                       0   \n",
       "9226              0                                       0   \n",
       "4750              0                                       0   \n",
       "7987              0                                       0   \n",
       "\n",
       "      Specialization_E-Business  Specialization_E-COMMERCE  \\\n",
       "3009                          0                          0   \n",
       "1012                          0                          0   \n",
       "9226                          0                          0   \n",
       "4750                          0                          0   \n",
       "7987                          0                          0   \n",
       "\n",
       "      Specialization_Finance Management  Specialization_Healthcare Management  \\\n",
       "3009                                  1                                     0   \n",
       "1012                                  0                                     0   \n",
       "9226                                  0                                     0   \n",
       "4750                                  0                                     0   \n",
       "7987                                  1                                     0   \n",
       "\n",
       "      Specialization_Hospitality Management  \\\n",
       "3009                                      0   \n",
       "1012                                      0   \n",
       "9226                                      0   \n",
       "4750                                      0   \n",
       "7987                                      0   \n",
       "\n",
       "      Specialization_Human Resource Management  \\\n",
       "3009                                         0   \n",
       "1012                                         0   \n",
       "9226                                         0   \n",
       "4750                                         0   \n",
       "7987                                         0   \n",
       "\n",
       "      Specialization_IT Projects Management  \\\n",
       "3009                                      0   \n",
       "1012                                      0   \n",
       "9226                                      0   \n",
       "4750                                      0   \n",
       "7987                                      0   \n",
       "\n",
       "      Specialization_International Business  \\\n",
       "3009                                      0   \n",
       "1012                                      0   \n",
       "9226                                      0   \n",
       "4750                                      0   \n",
       "7987                                      0   \n",
       "\n",
       "      Specialization_Marketing Management  \\\n",
       "3009                                    0   \n",
       "1012                                    0   \n",
       "9226                                    0   \n",
       "4750                                    1   \n",
       "7987                                    0   \n",
       "\n",
       "      Specialization_Media and Advertising  \\\n",
       "3009                                     0   \n",
       "1012                                     0   \n",
       "9226                                     0   \n",
       "4750                                     0   \n",
       "7987                                     0   \n",
       "\n",
       "      Specialization_Operations Management  Specialization_Other  \\\n",
       "3009                                     0                     0   \n",
       "1012                                     0                     1   \n",
       "9226                                     0                     1   \n",
       "4750                                     0                     0   \n",
       "7987                                     0                     0   \n",
       "\n",
       "      Specialization_Retail Management  Specialization_Rural and Agribusiness  \\\n",
       "3009                                 0                                      0   \n",
       "1012                                 0                                      0   \n",
       "9226                                 0                                      0   \n",
       "4750                                 0                                      0   \n",
       "7987                                 0                                      0   \n",
       "\n",
       "      Specialization_Services Excellence  \\\n",
       "3009                                   0   \n",
       "1012                                   0   \n",
       "9226                                   0   \n",
       "4750                                   0   \n",
       "7987                                   0   \n",
       "\n",
       "      Specialization_Supply Chain Management  \\\n",
       "3009                                       0   \n",
       "1012                                       0   \n",
       "9226                                       0   \n",
       "4750                                       0   \n",
       "7987                                       0   \n",
       "\n",
       "      Specialization_Travel and Tourism  Unemployed  Working Professional  \\\n",
       "3009                                  0           1                     0   \n",
       "1012                                  0           0                     1   \n",
       "9226                                  0           1                     0   \n",
       "4750                                  0           1                     0   \n",
       "7987                                  0           1                     0   \n",
       "\n",
       "      Last Activity_Modified  Last Activity_Other  Last Activity_SMS Sent  \\\n",
       "3009                       0                    0                       0   \n",
       "1012                       0                    1                       0   \n",
       "9226                       1                    0                       0   \n",
       "4750                       0                    0                       1   \n",
       "7987                       1                    0                       0   \n",
       "\n",
       "      Mumbai  Other Cities  \n",
       "3009       1             0  \n",
       "1012       1             0  \n",
       "9226       1             0  \n",
       "4750       0             1  \n",
       "7987       0             0  "
      ]
     },
     "execution_count": 223,
     "metadata": {},
     "output_type": "execute_result"
    }
   ],
   "source": [
    "scaler = StandardScaler()\n",
    "\n",
    "X_train[['TotalVisits']] = scaler.fit_transform(X_train[['TotalVisits']])\n",
    "X_train.head()\n"
   ]
  },
  {
   "cell_type": "code",
   "execution_count": 224,
   "metadata": {},
   "outputs": [
    {
     "data": {
      "text/html": [
       "<div>\n",
       "<style scoped>\n",
       "    .dataframe tbody tr th:only-of-type {\n",
       "        vertical-align: middle;\n",
       "    }\n",
       "\n",
       "    .dataframe tbody tr th {\n",
       "        vertical-align: top;\n",
       "    }\n",
       "\n",
       "    .dataframe thead th {\n",
       "        text-align: right;\n",
       "    }\n",
       "</style>\n",
       "<table border=\"1\" class=\"dataframe\">\n",
       "  <thead>\n",
       "    <tr style=\"text-align: right;\">\n",
       "      <th></th>\n",
       "      <th>Origin_Landing Page Submission</th>\n",
       "      <th>Origin_Others</th>\n",
       "      <th>Source_Google</th>\n",
       "      <th>Specialization_Other</th>\n",
       "      <th>Unemployed</th>\n",
       "      <th>Working Professional</th>\n",
       "      <th>Last Activity_Modified</th>\n",
       "      <th>Last Activity_Other</th>\n",
       "      <th>Last Activity_SMS Sent</th>\n",
       "    </tr>\n",
       "  </thead>\n",
       "  <tbody>\n",
       "    <tr>\n",
       "      <th>3271</th>\n",
       "      <td>0</td>\n",
       "      <td>0</td>\n",
       "      <td>1</td>\n",
       "      <td>1</td>\n",
       "      <td>1</td>\n",
       "      <td>0</td>\n",
       "      <td>0</td>\n",
       "      <td>0</td>\n",
       "      <td>0</td>\n",
       "    </tr>\n",
       "    <tr>\n",
       "      <th>1490</th>\n",
       "      <td>1</td>\n",
       "      <td>0</td>\n",
       "      <td>0</td>\n",
       "      <td>0</td>\n",
       "      <td>0</td>\n",
       "      <td>1</td>\n",
       "      <td>0</td>\n",
       "      <td>0</td>\n",
       "      <td>0</td>\n",
       "    </tr>\n",
       "    <tr>\n",
       "      <th>7936</th>\n",
       "      <td>0</td>\n",
       "      <td>0</td>\n",
       "      <td>1</td>\n",
       "      <td>1</td>\n",
       "      <td>1</td>\n",
       "      <td>0</td>\n",
       "      <td>0</td>\n",
       "      <td>0</td>\n",
       "      <td>0</td>\n",
       "    </tr>\n",
       "    <tr>\n",
       "      <th>4216</th>\n",
       "      <td>0</td>\n",
       "      <td>1</td>\n",
       "      <td>0</td>\n",
       "      <td>0</td>\n",
       "      <td>0</td>\n",
       "      <td>0</td>\n",
       "      <td>1</td>\n",
       "      <td>0</td>\n",
       "      <td>0</td>\n",
       "    </tr>\n",
       "    <tr>\n",
       "      <th>3830</th>\n",
       "      <td>1</td>\n",
       "      <td>0</td>\n",
       "      <td>0</td>\n",
       "      <td>0</td>\n",
       "      <td>1</td>\n",
       "      <td>0</td>\n",
       "      <td>0</td>\n",
       "      <td>0</td>\n",
       "      <td>0</td>\n",
       "    </tr>\n",
       "  </tbody>\n",
       "</table>\n",
       "</div>"
      ],
      "text/plain": [
       "      Origin_Landing Page Submission  Origin_Others  Source_Google  \\\n",
       "3271                               0              0              1   \n",
       "1490                               1              0              0   \n",
       "7936                               0              0              1   \n",
       "4216                               0              1              0   \n",
       "3830                               1              0              0   \n",
       "\n",
       "      Specialization_Other  Unemployed  Working Professional  \\\n",
       "3271                     1           1                     0   \n",
       "1490                     0           0                     1   \n",
       "7936                     1           1                     0   \n",
       "4216                     0           0                     0   \n",
       "3830                     0           1                     0   \n",
       "\n",
       "      Last Activity_Modified  Last Activity_Other  Last Activity_SMS Sent  \n",
       "3271                       0                    0                       0  \n",
       "1490                       0                    0                       0  \n",
       "7936                       0                    0                       0  \n",
       "4216                       1                    0                       0  \n",
       "3830                       0                    0                       0  "
      ]
     },
     "execution_count": 224,
     "metadata": {},
     "output_type": "execute_result"
    }
   ],
   "source": [
    "X_test = X_test[col]\n",
    "X_test.head()"
   ]
  },
  {
   "cell_type": "code",
   "execution_count": 225,
   "metadata": {},
   "outputs": [],
   "source": [
    "X_test_sm = sm.add_constant(X_test)"
   ]
  },
  {
   "cell_type": "code",
   "execution_count": 226,
   "metadata": {},
   "outputs": [],
   "source": [
    "y_test_pred = res.predict(X_test_sm)"
   ]
  },
  {
   "cell_type": "code",
   "execution_count": 227,
   "metadata": {},
   "outputs": [
    {
     "data": {
      "text/plain": [
       "3271    0.290949\n",
       "1490    0.834630\n",
       "7936    0.290949\n",
       "4216    0.917089\n",
       "3830    0.259959\n",
       "1800    0.879639\n",
       "6507    0.675673\n",
       "4821    0.259959\n",
       "4223    0.934836\n",
       "4714    0.117726\n",
       "dtype: float64"
      ]
     },
     "execution_count": 227,
     "metadata": {},
     "output_type": "execute_result"
    }
   ],
   "source": [
    "y_test_pred[:10]"
   ]
  },
  {
   "cell_type": "code",
   "execution_count": 228,
   "metadata": {},
   "outputs": [],
   "source": [
    "# Converting y_pred to a dataframe which is an array\n",
    "y_pred_1 = pd.DataFrame(y_test_pred)"
   ]
  },
  {
   "cell_type": "code",
   "execution_count": 229,
   "metadata": {},
   "outputs": [
    {
     "data": {
      "text/html": [
       "<div>\n",
       "<style scoped>\n",
       "    .dataframe tbody tr th:only-of-type {\n",
       "        vertical-align: middle;\n",
       "    }\n",
       "\n",
       "    .dataframe tbody tr th {\n",
       "        vertical-align: top;\n",
       "    }\n",
       "\n",
       "    .dataframe thead th {\n",
       "        text-align: right;\n",
       "    }\n",
       "</style>\n",
       "<table border=\"1\" class=\"dataframe\">\n",
       "  <thead>\n",
       "    <tr style=\"text-align: right;\">\n",
       "      <th></th>\n",
       "      <th>0</th>\n",
       "    </tr>\n",
       "  </thead>\n",
       "  <tbody>\n",
       "    <tr>\n",
       "      <th>3271</th>\n",
       "      <td>0.290949</td>\n",
       "    </tr>\n",
       "    <tr>\n",
       "      <th>1490</th>\n",
       "      <td>0.834630</td>\n",
       "    </tr>\n",
       "    <tr>\n",
       "      <th>7936</th>\n",
       "      <td>0.290949</td>\n",
       "    </tr>\n",
       "    <tr>\n",
       "      <th>4216</th>\n",
       "      <td>0.917089</td>\n",
       "    </tr>\n",
       "    <tr>\n",
       "      <th>3830</th>\n",
       "      <td>0.259959</td>\n",
       "    </tr>\n",
       "  </tbody>\n",
       "</table>\n",
       "</div>"
      ],
      "text/plain": [
       "             0\n",
       "3271  0.290949\n",
       "1490  0.834630\n",
       "7936  0.290949\n",
       "4216  0.917089\n",
       "3830  0.259959"
      ]
     },
     "execution_count": 229,
     "metadata": {},
     "output_type": "execute_result"
    }
   ],
   "source": [
    "# Let's see the head\n",
    "y_pred_1.head()"
   ]
  },
  {
   "cell_type": "code",
   "execution_count": 230,
   "metadata": {},
   "outputs": [],
   "source": [
    "# Converting y_test to dataframe\n",
    "y_test_df = pd.DataFrame(y_test)"
   ]
  },
  {
   "cell_type": "code",
   "execution_count": 231,
   "metadata": {},
   "outputs": [],
   "source": [
    "# Putting LeadID to index\n",
    "y_test_df['Lead ID'] = y_test_df.index"
   ]
  },
  {
   "cell_type": "code",
   "execution_count": 232,
   "metadata": {},
   "outputs": [],
   "source": [
    "# Removing index for both dataframes to append them side by side \n",
    "y_pred_1.reset_index(drop=True, inplace=True)\n",
    "y_test_df.reset_index(drop=True, inplace=True)"
   ]
  },
  {
   "cell_type": "code",
   "execution_count": 233,
   "metadata": {},
   "outputs": [],
   "source": [
    "# Appending y_test_df and y_pred_1\n",
    "y_pred_final = pd.concat([y_test_df, y_pred_1],axis=1)"
   ]
  },
  {
   "cell_type": "code",
   "execution_count": 234,
   "metadata": {},
   "outputs": [
    {
     "data": {
      "text/html": [
       "<div>\n",
       "<style scoped>\n",
       "    .dataframe tbody tr th:only-of-type {\n",
       "        vertical-align: middle;\n",
       "    }\n",
       "\n",
       "    .dataframe tbody tr th {\n",
       "        vertical-align: top;\n",
       "    }\n",
       "\n",
       "    .dataframe thead th {\n",
       "        text-align: right;\n",
       "    }\n",
       "</style>\n",
       "<table border=\"1\" class=\"dataframe\">\n",
       "  <thead>\n",
       "    <tr style=\"text-align: right;\">\n",
       "      <th></th>\n",
       "      <th>Converted</th>\n",
       "      <th>Lead ID</th>\n",
       "      <th>0</th>\n",
       "    </tr>\n",
       "  </thead>\n",
       "  <tbody>\n",
       "    <tr>\n",
       "      <th>0</th>\n",
       "      <td>0</td>\n",
       "      <td>3271</td>\n",
       "      <td>0.290949</td>\n",
       "    </tr>\n",
       "    <tr>\n",
       "      <th>1</th>\n",
       "      <td>1</td>\n",
       "      <td>1490</td>\n",
       "      <td>0.834630</td>\n",
       "    </tr>\n",
       "    <tr>\n",
       "      <th>2</th>\n",
       "      <td>0</td>\n",
       "      <td>7936</td>\n",
       "      <td>0.290949</td>\n",
       "    </tr>\n",
       "    <tr>\n",
       "      <th>3</th>\n",
       "      <td>1</td>\n",
       "      <td>4216</td>\n",
       "      <td>0.917089</td>\n",
       "    </tr>\n",
       "    <tr>\n",
       "      <th>4</th>\n",
       "      <td>0</td>\n",
       "      <td>3830</td>\n",
       "      <td>0.259959</td>\n",
       "    </tr>\n",
       "  </tbody>\n",
       "</table>\n",
       "</div>"
      ],
      "text/plain": [
       "   Converted  Lead ID         0\n",
       "0          0     3271  0.290949\n",
       "1          1     1490  0.834630\n",
       "2          0     7936  0.290949\n",
       "3          1     4216  0.917089\n",
       "4          0     3830  0.259959"
      ]
     },
     "execution_count": 234,
     "metadata": {},
     "output_type": "execute_result"
    }
   ],
   "source": [
    "y_pred_final.head()"
   ]
  },
  {
   "cell_type": "code",
   "execution_count": 235,
   "metadata": {},
   "outputs": [],
   "source": [
    "# Renaming the column \n",
    "y_pred_final= y_pred_final.rename(columns={ 0 : 'Converted_Prob'})"
   ]
  },
  {
   "cell_type": "code",
   "execution_count": 236,
   "metadata": {},
   "outputs": [],
   "source": [
    "# Rearranging the columns\n",
    "y_pred_final = y_pred_final[['Lead ID','Converted','Converted_Prob']]"
   ]
  },
  {
   "cell_type": "code",
   "execution_count": 237,
   "metadata": {},
   "outputs": [
    {
     "data": {
      "text/html": [
       "<div>\n",
       "<style scoped>\n",
       "    .dataframe tbody tr th:only-of-type {\n",
       "        vertical-align: middle;\n",
       "    }\n",
       "\n",
       "    .dataframe tbody tr th {\n",
       "        vertical-align: top;\n",
       "    }\n",
       "\n",
       "    .dataframe thead th {\n",
       "        text-align: right;\n",
       "    }\n",
       "</style>\n",
       "<table border=\"1\" class=\"dataframe\">\n",
       "  <thead>\n",
       "    <tr style=\"text-align: right;\">\n",
       "      <th></th>\n",
       "      <th>Lead ID</th>\n",
       "      <th>Converted</th>\n",
       "      <th>Converted_Prob</th>\n",
       "    </tr>\n",
       "  </thead>\n",
       "  <tbody>\n",
       "    <tr>\n",
       "      <th>0</th>\n",
       "      <td>3271</td>\n",
       "      <td>0</td>\n",
       "      <td>0.290949</td>\n",
       "    </tr>\n",
       "    <tr>\n",
       "      <th>1</th>\n",
       "      <td>1490</td>\n",
       "      <td>1</td>\n",
       "      <td>0.834630</td>\n",
       "    </tr>\n",
       "    <tr>\n",
       "      <th>2</th>\n",
       "      <td>7936</td>\n",
       "      <td>0</td>\n",
       "      <td>0.290949</td>\n",
       "    </tr>\n",
       "    <tr>\n",
       "      <th>3</th>\n",
       "      <td>4216</td>\n",
       "      <td>1</td>\n",
       "      <td>0.917089</td>\n",
       "    </tr>\n",
       "    <tr>\n",
       "      <th>4</th>\n",
       "      <td>3830</td>\n",
       "      <td>0</td>\n",
       "      <td>0.259959</td>\n",
       "    </tr>\n",
       "  </tbody>\n",
       "</table>\n",
       "</div>"
      ],
      "text/plain": [
       "   Lead ID  Converted  Converted_Prob\n",
       "0     3271          0        0.290949\n",
       "1     1490          1        0.834630\n",
       "2     7936          0        0.290949\n",
       "3     4216          1        0.917089\n",
       "4     3830          0        0.259959"
      ]
     },
     "execution_count": 237,
     "metadata": {},
     "output_type": "execute_result"
    }
   ],
   "source": [
    "y_pred_final.head()"
   ]
  },
  {
   "cell_type": "code",
   "execution_count": 238,
   "metadata": {},
   "outputs": [],
   "source": [
    "y_pred_final['final_predicted'] = y_pred_final.Converted_Prob.map(lambda x: 1 if x > 0.28 else 0)"
   ]
  },
  {
   "cell_type": "code",
   "execution_count": 239,
   "metadata": {},
   "outputs": [
    {
     "data": {
      "text/html": [
       "<div>\n",
       "<style scoped>\n",
       "    .dataframe tbody tr th:only-of-type {\n",
       "        vertical-align: middle;\n",
       "    }\n",
       "\n",
       "    .dataframe tbody tr th {\n",
       "        vertical-align: top;\n",
       "    }\n",
       "\n",
       "    .dataframe thead th {\n",
       "        text-align: right;\n",
       "    }\n",
       "</style>\n",
       "<table border=\"1\" class=\"dataframe\">\n",
       "  <thead>\n",
       "    <tr style=\"text-align: right;\">\n",
       "      <th></th>\n",
       "      <th>Lead ID</th>\n",
       "      <th>Converted</th>\n",
       "      <th>Converted_Prob</th>\n",
       "      <th>final_predicted</th>\n",
       "    </tr>\n",
       "  </thead>\n",
       "  <tbody>\n",
       "    <tr>\n",
       "      <th>0</th>\n",
       "      <td>3271</td>\n",
       "      <td>0</td>\n",
       "      <td>0.290949</td>\n",
       "      <td>1</td>\n",
       "    </tr>\n",
       "    <tr>\n",
       "      <th>1</th>\n",
       "      <td>1490</td>\n",
       "      <td>1</td>\n",
       "      <td>0.834630</td>\n",
       "      <td>1</td>\n",
       "    </tr>\n",
       "    <tr>\n",
       "      <th>2</th>\n",
       "      <td>7936</td>\n",
       "      <td>0</td>\n",
       "      <td>0.290949</td>\n",
       "      <td>1</td>\n",
       "    </tr>\n",
       "    <tr>\n",
       "      <th>3</th>\n",
       "      <td>4216</td>\n",
       "      <td>1</td>\n",
       "      <td>0.917089</td>\n",
       "      <td>1</td>\n",
       "    </tr>\n",
       "    <tr>\n",
       "      <th>4</th>\n",
       "      <td>3830</td>\n",
       "      <td>0</td>\n",
       "      <td>0.259959</td>\n",
       "      <td>0</td>\n",
       "    </tr>\n",
       "  </tbody>\n",
       "</table>\n",
       "</div>"
      ],
      "text/plain": [
       "   Lead ID  Converted  Converted_Prob  final_predicted\n",
       "0     3271          0        0.290949                1\n",
       "1     1490          1        0.834630                1\n",
       "2     7936          0        0.290949                1\n",
       "3     4216          1        0.917089                1\n",
       "4     3830          0        0.259959                0"
      ]
     },
     "execution_count": 239,
     "metadata": {},
     "output_type": "execute_result"
    }
   ],
   "source": [
    "y_pred_final.head()"
   ]
  },
  {
   "cell_type": "code",
   "execution_count": 240,
   "metadata": {},
   "outputs": [
    {
     "data": {
      "text/plain": [
       "0.7271391847227323"
      ]
     },
     "execution_count": 240,
     "metadata": {},
     "output_type": "execute_result"
    }
   ],
   "source": [
    "# Let's check the overall accuracy.\n",
    "metrics.accuracy_score(y_pred_final.Converted, y_pred_final.final_predicted)"
   ]
  },
  {
   "cell_type": "code",
   "execution_count": 241,
   "metadata": {},
   "outputs": [
    {
     "data": {
      "text/plain": [
       "array([[1275,  459],\n",
       "       [ 284,  705]])"
      ]
     },
     "execution_count": 241,
     "metadata": {},
     "output_type": "execute_result"
    }
   ],
   "source": [
    "confusion2 = metrics.confusion_matrix(y_pred_final.Converted, y_pred_final.final_predicted )\n",
    "confusion2"
   ]
  },
  {
   "cell_type": "code",
   "execution_count": 242,
   "metadata": {},
   "outputs": [],
   "source": [
    "TP = confusion2[1,1] # true positive \n",
    "TN = confusion2[0,0] # true negatives\n",
    "FP = confusion2[0,1] # false positives\n",
    "FN = confusion2[1,0] # false negatives"
   ]
  },
  {
   "cell_type": "code",
   "execution_count": 243,
   "metadata": {},
   "outputs": [
    {
     "data": {
      "text/plain": [
       "0.7352941176470589"
      ]
     },
     "execution_count": 243,
     "metadata": {},
     "output_type": "execute_result"
    }
   ],
   "source": [
    "# Let us calculate specificity\n",
    "TN / float(TN+FP)"
   ]
  },
  {
   "cell_type": "code",
   "execution_count": 244,
   "metadata": {},
   "outputs": [
    {
     "data": {
      "text/plain": [
       "0.7128412537917088"
      ]
     },
     "execution_count": 244,
     "metadata": {},
     "output_type": "execute_result"
    }
   ],
   "source": [
    "# Let's see the sensitivity of our logistic regression model\n",
    "TP / float(TP+FN)"
   ]
  },
  {
   "cell_type": "code",
   "execution_count": 245,
   "metadata": {},
   "outputs": [
    {
     "name": "stdout",
     "output_type": "stream",
     "text": [
      "<class 'pandas.core.frame.DataFrame'>\n",
      "RangeIndex: 2723 entries, 0 to 2722\n",
      "Data columns (total 4 columns):\n",
      " #   Column           Non-Null Count  Dtype  \n",
      "---  ------           --------------  -----  \n",
      " 0   Lead ID          2723 non-null   int64  \n",
      " 1   Converted        2723 non-null   int64  \n",
      " 2   Converted_Prob   2723 non-null   float64\n",
      " 3   final_predicted  2723 non-null   int64  \n",
      "dtypes: float64(1), int64(3)\n",
      "memory usage: 85.2 KB\n"
     ]
    }
   ],
   "source": [
    "y_pred_final.info()"
   ]
  },
  {
   "cell_type": "markdown",
   "metadata": {},
   "source": [
    "## Generating the Score for Leads"
   ]
  },
  {
   "cell_type": "code",
   "execution_count": null,
   "metadata": {
    "scrolled": true
   },
   "outputs": [],
   "source": [
    "leads_final.info()"
   ]
  },
  {
   "cell_type": "code",
   "execution_count": null,
   "metadata": {
    "scrolled": true
   },
   "outputs": [],
   "source": [
    "leads_final.head()"
   ]
  },
  {
   "cell_type": "code",
   "execution_count": null,
   "metadata": {},
   "outputs": [],
   "source": [
    "# Converting the index column to Lead ID\n",
    "leads_final['Lead ID'] = leads_final.index"
   ]
  },
  {
   "cell_type": "code",
   "execution_count": null,
   "metadata": {
    "scrolled": false
   },
   "outputs": [],
   "source": [
    "leads_final.head()"
   ]
  },
  {
   "cell_type": "code",
   "execution_count": null,
   "metadata": {},
   "outputs": [],
   "source": [
    "# Bringing the Lead ID column to begining\n",
    "columns = leads_final.columns.tolist()\n",
    "columns = columns[-1:] + columns[:-1]\n",
    "leads_final = leads_final[columns]\n",
    "leads_final.head()"
   ]
  },
  {
   "cell_type": "code",
   "execution_count": null,
   "metadata": {
    "scrolled": true
   },
   "outputs": [],
   "source": [
    "leads_final.info()"
   ]
  },
  {
   "cell_type": "markdown",
   "metadata": {},
   "source": [
    "**We can say the Probability calculated on the Converted variable can be the Score.**\n",
    "> The Leads that have a probability of higher than 75% can be targeted by the Sales Team."
   ]
  },
  {
   "cell_type": "code",
   "execution_count": null,
   "metadata": {
    "scrolled": false
   },
   "outputs": [],
   "source": [
    "# Merging the Probabilities in Train and Test Data.\n",
    "y_train_pred_final.head()"
   ]
  },
  {
   "cell_type": "markdown",
   "metadata": {},
   "source": [
    "Now we need to extract 'Lead ID' and 'Converted_Prob' from both the y_test_pred_final and y_pred_final"
   ]
  },
  {
   "cell_type": "code",
   "execution_count": null,
   "metadata": {},
   "outputs": [],
   "source": [
    "train_prob = y_train_pred_final[['Lead ID','Converted_Prob']].copy()\n",
    "train_prob.head()"
   ]
  },
  {
   "cell_type": "code",
   "execution_count": null,
   "metadata": {},
   "outputs": [],
   "source": [
    "test_prob = y_pred_final[['Lead ID','Converted_Prob']].copy()\n",
    "test_prob.head()"
   ]
  },
  {
   "cell_type": "markdown",
   "metadata": {},
   "source": [
    "Merging the two files"
   ]
  },
  {
   "cell_type": "code",
   "execution_count": null,
   "metadata": {},
   "outputs": [],
   "source": [
    "score = pd.concat([test_prob,train_prob],axis=0)\n",
    "score.head()"
   ]
  },
  {
   "cell_type": "code",
   "execution_count": null,
   "metadata": {},
   "outputs": [],
   "source": [
    "score.shape"
   ]
  },
  {
   "cell_type": "code",
   "execution_count": null,
   "metadata": {},
   "outputs": [],
   "source": [
    "# Creating a new column as 'Score'.\n",
    "score['Lead Score'] = round(score['Converted_Prob']*100,2)"
   ]
  },
  {
   "cell_type": "code",
   "execution_count": null,
   "metadata": {},
   "outputs": [],
   "source": [
    "score.head()"
   ]
  },
  {
   "cell_type": "markdown",
   "metadata": {},
   "source": [
    "> Now, we will create a new column named 'Hot Lead' to indicate whether the lead is a Hot Lead or Not based on the 'Score' variable."
   ]
  },
  {
   "cell_type": "code",
   "execution_count": null,
   "metadata": {},
   "outputs": [],
   "source": [
    "# Creating the column 'Hot Lead'\n",
    "score['Hot Lead'] = 0\n",
    "score.loc[score['Lead Score'] > 70, 'Hot Lead'] = 1"
   ]
  },
  {
   "cell_type": "code",
   "execution_count": null,
   "metadata": {
    "scrolled": false
   },
   "outputs": [],
   "source": [
    "score.head()"
   ]
  },
  {
   "cell_type": "code",
   "execution_count": null,
   "metadata": {},
   "outputs": [],
   "source": [
    "score.sort_values(['Lead Score'], ascending = False)"
   ]
  },
  {
   "cell_type": "markdown",
   "metadata": {},
   "source": [
    "### Merging the 'Score' dataframe to the original dataset"
   ]
  },
  {
   "cell_type": "code",
   "execution_count": null,
   "metadata": {},
   "outputs": [],
   "source": [
    "leads_final = pd.merge(leads_final, score, on='Lead ID')"
   ]
  },
  {
   "cell_type": "code",
   "execution_count": null,
   "metadata": {
    "scrolled": false
   },
   "outputs": [],
   "source": [
    "leads_final.head()"
   ]
  },
  {
   "cell_type": "code",
   "execution_count": null,
   "metadata": {},
   "outputs": [],
   "source": [
    "leads_final = leads_final.sort_values(['Lead Score'], ascending=False)"
   ]
  },
  {
   "cell_type": "code",
   "execution_count": null,
   "metadata": {},
   "outputs": [],
   "source": [
    "leads_final"
   ]
  },
  {
   "cell_type": "code",
   "execution_count": null,
   "metadata": {},
   "outputs": [],
   "source": [
    "Hot_leads = leads_final[leads_final['Hot Lead']==1].copy()"
   ]
  },
  {
   "cell_type": "code",
   "execution_count": null,
   "metadata": {
    "scrolled": false
   },
   "outputs": [],
   "source": [
    "Hot_leads"
   ]
  },
  {
   "cell_type": "code",
   "execution_count": null,
   "metadata": {},
   "outputs": [],
   "source": [
    "Hot_leads = Hot_leads.drop(['Lead ID'], axis = 1)"
   ]
  },
  {
   "cell_type": "code",
   "execution_count": null,
   "metadata": {},
   "outputs": [],
   "source": [
    "Hot_leads"
   ]
  },
  {
   "cell_type": "markdown",
   "metadata": {},
   "source": [
    "#### We can see that, after performing Logistic Regression, we have 1055 leads, that have high chances of converting."
   ]
  },
  {
   "cell_type": "code",
   "execution_count": null,
   "metadata": {},
   "outputs": [],
   "source": [
    "## Conversion Rate\n",
    "converted = (sum(Hot_leads['Converted'])/len(Hot_leads['Converted'].index))*100\n",
    "converted"
   ]
  }
 ],
 "metadata": {
  "kernelspec": {
   "display_name": "Python 3",
   "language": "python",
   "name": "python3"
  },
  "language_info": {
   "codemirror_mode": {
    "name": "ipython",
    "version": 3
   },
   "file_extension": ".py",
   "mimetype": "text/x-python",
   "name": "python",
   "nbconvert_exporter": "python",
   "pygments_lexer": "ipython3",
   "version": "3.7.6"
  }
 },
 "nbformat": 4,
 "nbformat_minor": 4
}
