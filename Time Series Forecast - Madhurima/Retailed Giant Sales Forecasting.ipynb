{
 "cells": [
  {
   "cell_type": "markdown",
   "metadata": {},
   "source": [
    "# Problem Statement"
   ]
  },
  {
   "cell_type": "markdown",
   "metadata": {},
   "source": [
    "Global Mart is an online supergiant store that has worldwide operations. This store takes orders and delivers across the globe and deals with all the major product categories — consumer, corporate & home office.\n",
    "\n",
    "As a sales manager for this store, we have to forecast the sales of the products for the next 6 months, so that we have a proper estimate and can plan the inventory and business processes accordingly."
   ]
  },
  {
   "cell_type": "markdown",
   "metadata": {},
   "source": [
    "# Initial Setup"
   ]
  },
  {
   "cell_type": "markdown",
   "metadata": {},
   "source": [
    "### Importing Required Packages"
   ]
  },
  {
   "cell_type": "code",
   "execution_count": 1,
   "metadata": {},
   "outputs": [],
   "source": [
    "import pandas as pd\n",
    "import numpy as np\n",
    "import matplotlib.pyplot as plt\n",
    "%matplotlib inline\n",
    "from scipy.stats import variation \n",
    "\n",
    "import warnings\n",
    "warnings.filterwarnings('ignore')"
   ]
  },
  {
   "cell_type": "markdown",
   "metadata": {},
   "source": [
    "### Import Dataset"
   ]
  },
  {
   "cell_type": "code",
   "execution_count": 2,
   "metadata": {},
   "outputs": [
    {
     "data": {
      "text/html": [
       "<div>\n",
       "<style scoped>\n",
       "    .dataframe tbody tr th:only-of-type {\n",
       "        vertical-align: middle;\n",
       "    }\n",
       "\n",
       "    .dataframe tbody tr th {\n",
       "        vertical-align: top;\n",
       "    }\n",
       "\n",
       "    .dataframe thead th {\n",
       "        text-align: right;\n",
       "    }\n",
       "</style>\n",
       "<table border=\"1\" class=\"dataframe\">\n",
       "  <thead>\n",
       "    <tr style=\"text-align: right;\">\n",
       "      <th></th>\n",
       "      <th>Order Date</th>\n",
       "      <th>Segment</th>\n",
       "      <th>Market</th>\n",
       "      <th>Sales</th>\n",
       "      <th>Profit</th>\n",
       "    </tr>\n",
       "  </thead>\n",
       "  <tbody>\n",
       "    <tr>\n",
       "      <th>0</th>\n",
       "      <td>31-07-2012</td>\n",
       "      <td>Consumer</td>\n",
       "      <td>US</td>\n",
       "      <td>2309.650</td>\n",
       "      <td>762.1845</td>\n",
       "    </tr>\n",
       "    <tr>\n",
       "      <th>1</th>\n",
       "      <td>05-02-2013</td>\n",
       "      <td>Corporate</td>\n",
       "      <td>APAC</td>\n",
       "      <td>3709.395</td>\n",
       "      <td>-288.7650</td>\n",
       "    </tr>\n",
       "    <tr>\n",
       "      <th>2</th>\n",
       "      <td>17-10-2013</td>\n",
       "      <td>Consumer</td>\n",
       "      <td>APAC</td>\n",
       "      <td>5175.171</td>\n",
       "      <td>919.9710</td>\n",
       "    </tr>\n",
       "    <tr>\n",
       "      <th>3</th>\n",
       "      <td>28-01-2013</td>\n",
       "      <td>Home Office</td>\n",
       "      <td>EU</td>\n",
       "      <td>2892.510</td>\n",
       "      <td>-96.5400</td>\n",
       "    </tr>\n",
       "    <tr>\n",
       "      <th>4</th>\n",
       "      <td>05-11-2013</td>\n",
       "      <td>Consumer</td>\n",
       "      <td>Africa</td>\n",
       "      <td>2832.960</td>\n",
       "      <td>311.5200</td>\n",
       "    </tr>\n",
       "    <tr>\n",
       "      <th>5</th>\n",
       "      <td>28-06-2013</td>\n",
       "      <td>Corporate</td>\n",
       "      <td>APAC</td>\n",
       "      <td>2862.675</td>\n",
       "      <td>763.2750</td>\n",
       "    </tr>\n",
       "    <tr>\n",
       "      <th>6</th>\n",
       "      <td>07-11-2011</td>\n",
       "      <td>Consumer</td>\n",
       "      <td>APAC</td>\n",
       "      <td>1822.080</td>\n",
       "      <td>564.8400</td>\n",
       "    </tr>\n",
       "    <tr>\n",
       "      <th>7</th>\n",
       "      <td>14-04-2012</td>\n",
       "      <td>Consumer</td>\n",
       "      <td>APAC</td>\n",
       "      <td>5244.840</td>\n",
       "      <td>996.4800</td>\n",
       "    </tr>\n",
       "    <tr>\n",
       "      <th>8</th>\n",
       "      <td>14-10-2014</td>\n",
       "      <td>Corporate</td>\n",
       "      <td>US</td>\n",
       "      <td>5083.960</td>\n",
       "      <td>1906.4850</td>\n",
       "    </tr>\n",
       "    <tr>\n",
       "      <th>9</th>\n",
       "      <td>28-01-2012</td>\n",
       "      <td>Consumer</td>\n",
       "      <td>US</td>\n",
       "      <td>4297.644</td>\n",
       "      <td>-1862.3124</td>\n",
       "    </tr>\n",
       "  </tbody>\n",
       "</table>\n",
       "</div>"
      ],
      "text/plain": [
       "   Order Date      Segment  Market     Sales     Profit\n",
       "0  31-07-2012     Consumer      US  2309.650   762.1845\n",
       "1  05-02-2013    Corporate    APAC  3709.395  -288.7650\n",
       "2  17-10-2013     Consumer    APAC  5175.171   919.9710\n",
       "3  28-01-2013  Home Office      EU  2892.510   -96.5400\n",
       "4  05-11-2013     Consumer  Africa  2832.960   311.5200\n",
       "5  28-06-2013    Corporate    APAC  2862.675   763.2750\n",
       "6  07-11-2011     Consumer    APAC  1822.080   564.8400\n",
       "7  14-04-2012     Consumer    APAC  5244.840   996.4800\n",
       "8  14-10-2014    Corporate      US  5083.960  1906.4850\n",
       "9  28-01-2012     Consumer      US  4297.644 -1862.3124"
      ]
     },
     "execution_count": 2,
     "metadata": {},
     "output_type": "execute_result"
    }
   ],
   "source": [
    "data = pd.read_csv('Global+Superstore+Data.csv')\n",
    "data.head(10)"
   ]
  },
  {
   "cell_type": "markdown",
   "metadata": {},
   "source": [
    "# Data Inspection"
   ]
  },
  {
   "cell_type": "code",
   "execution_count": 3,
   "metadata": {},
   "outputs": [
    {
     "data": {
      "text/plain": [
       "(51290, 5)"
      ]
     },
     "execution_count": 3,
     "metadata": {},
     "output_type": "execute_result"
    }
   ],
   "source": [
    "data.shape"
   ]
  },
  {
   "cell_type": "code",
   "execution_count": 4,
   "metadata": {
    "scrolled": true
   },
   "outputs": [
    {
     "name": "stdout",
     "output_type": "stream",
     "text": [
      "<class 'pandas.core.frame.DataFrame'>\n",
      "RangeIndex: 51290 entries, 0 to 51289\n",
      "Data columns (total 5 columns):\n",
      " #   Column      Non-Null Count  Dtype  \n",
      "---  ------      --------------  -----  \n",
      " 0   Order Date  51290 non-null  object \n",
      " 1   Segment     51290 non-null  object \n",
      " 2   Market      51290 non-null  object \n",
      " 3   Sales       51290 non-null  float64\n",
      " 4   Profit      51290 non-null  float64\n",
      "dtypes: float64(2), object(3)\n",
      "memory usage: 2.0+ MB\n"
     ]
    }
   ],
   "source": [
    "data.info()"
   ]
  },
  {
   "cell_type": "code",
   "execution_count": 5,
   "metadata": {
    "scrolled": true
   },
   "outputs": [
    {
     "data": {
      "text/plain": [
       "Order Date    0\n",
       "Segment       0\n",
       "Market        0\n",
       "Sales         0\n",
       "Profit        0\n",
       "dtype: int64"
      ]
     },
     "execution_count": 5,
     "metadata": {},
     "output_type": "execute_result"
    }
   ],
   "source": [
    "data.isnull().sum()"
   ]
  },
  {
   "cell_type": "markdown",
   "metadata": {},
   "source": [
    "> No null values are found in the dataset"
   ]
  },
  {
   "cell_type": "markdown",
   "metadata": {},
   "source": [
    "# Finding out the 21 Market-Segments"
   ]
  },
  {
   "cell_type": "markdown",
   "metadata": {},
   "source": [
    "### Creating the Column - 'Market-Segment'"
   ]
  },
  {
   "cell_type": "markdown",
   "metadata": {},
   "source": [
    "First, creating a new column 'Market-Segment' by combining the two columns 'Market' and 'Segment' with '-' as a separator."
   ]
  },
  {
   "cell_type": "code",
   "execution_count": 6,
   "metadata": {},
   "outputs": [],
   "source": [
    "separator = '-'\n",
    "data[\"Market-Segment\"] = data[\"Market\"].map(str) + separator + data[\"Segment\"]"
   ]
  },
  {
   "cell_type": "code",
   "execution_count": 7,
   "metadata": {},
   "outputs": [
    {
     "data": {
      "text/html": [
       "<div>\n",
       "<style scoped>\n",
       "    .dataframe tbody tr th:only-of-type {\n",
       "        vertical-align: middle;\n",
       "    }\n",
       "\n",
       "    .dataframe tbody tr th {\n",
       "        vertical-align: top;\n",
       "    }\n",
       "\n",
       "    .dataframe thead th {\n",
       "        text-align: right;\n",
       "    }\n",
       "</style>\n",
       "<table border=\"1\" class=\"dataframe\">\n",
       "  <thead>\n",
       "    <tr style=\"text-align: right;\">\n",
       "      <th></th>\n",
       "      <th>Order Date</th>\n",
       "      <th>Segment</th>\n",
       "      <th>Market</th>\n",
       "      <th>Sales</th>\n",
       "      <th>Profit</th>\n",
       "      <th>Market-Segment</th>\n",
       "    </tr>\n",
       "  </thead>\n",
       "  <tbody>\n",
       "    <tr>\n",
       "      <th>0</th>\n",
       "      <td>31-07-2012</td>\n",
       "      <td>Consumer</td>\n",
       "      <td>US</td>\n",
       "      <td>2309.650</td>\n",
       "      <td>762.1845</td>\n",
       "      <td>US-Consumer</td>\n",
       "    </tr>\n",
       "    <tr>\n",
       "      <th>1</th>\n",
       "      <td>05-02-2013</td>\n",
       "      <td>Corporate</td>\n",
       "      <td>APAC</td>\n",
       "      <td>3709.395</td>\n",
       "      <td>-288.7650</td>\n",
       "      <td>APAC-Corporate</td>\n",
       "    </tr>\n",
       "    <tr>\n",
       "      <th>2</th>\n",
       "      <td>17-10-2013</td>\n",
       "      <td>Consumer</td>\n",
       "      <td>APAC</td>\n",
       "      <td>5175.171</td>\n",
       "      <td>919.9710</td>\n",
       "      <td>APAC-Consumer</td>\n",
       "    </tr>\n",
       "    <tr>\n",
       "      <th>3</th>\n",
       "      <td>28-01-2013</td>\n",
       "      <td>Home Office</td>\n",
       "      <td>EU</td>\n",
       "      <td>2892.510</td>\n",
       "      <td>-96.5400</td>\n",
       "      <td>EU-Home Office</td>\n",
       "    </tr>\n",
       "    <tr>\n",
       "      <th>4</th>\n",
       "      <td>05-11-2013</td>\n",
       "      <td>Consumer</td>\n",
       "      <td>Africa</td>\n",
       "      <td>2832.960</td>\n",
       "      <td>311.5200</td>\n",
       "      <td>Africa-Consumer</td>\n",
       "    </tr>\n",
       "    <tr>\n",
       "      <th>5</th>\n",
       "      <td>28-06-2013</td>\n",
       "      <td>Corporate</td>\n",
       "      <td>APAC</td>\n",
       "      <td>2862.675</td>\n",
       "      <td>763.2750</td>\n",
       "      <td>APAC-Corporate</td>\n",
       "    </tr>\n",
       "    <tr>\n",
       "      <th>6</th>\n",
       "      <td>07-11-2011</td>\n",
       "      <td>Consumer</td>\n",
       "      <td>APAC</td>\n",
       "      <td>1822.080</td>\n",
       "      <td>564.8400</td>\n",
       "      <td>APAC-Consumer</td>\n",
       "    </tr>\n",
       "    <tr>\n",
       "      <th>7</th>\n",
       "      <td>14-04-2012</td>\n",
       "      <td>Consumer</td>\n",
       "      <td>APAC</td>\n",
       "      <td>5244.840</td>\n",
       "      <td>996.4800</td>\n",
       "      <td>APAC-Consumer</td>\n",
       "    </tr>\n",
       "    <tr>\n",
       "      <th>8</th>\n",
       "      <td>14-10-2014</td>\n",
       "      <td>Corporate</td>\n",
       "      <td>US</td>\n",
       "      <td>5083.960</td>\n",
       "      <td>1906.4850</td>\n",
       "      <td>US-Corporate</td>\n",
       "    </tr>\n",
       "    <tr>\n",
       "      <th>9</th>\n",
       "      <td>28-01-2012</td>\n",
       "      <td>Consumer</td>\n",
       "      <td>US</td>\n",
       "      <td>4297.644</td>\n",
       "      <td>-1862.3124</td>\n",
       "      <td>US-Consumer</td>\n",
       "    </tr>\n",
       "  </tbody>\n",
       "</table>\n",
       "</div>"
      ],
      "text/plain": [
       "   Order Date      Segment  Market     Sales     Profit   Market-Segment\n",
       "0  31-07-2012     Consumer      US  2309.650   762.1845      US-Consumer\n",
       "1  05-02-2013    Corporate    APAC  3709.395  -288.7650   APAC-Corporate\n",
       "2  17-10-2013     Consumer    APAC  5175.171   919.9710    APAC-Consumer\n",
       "3  28-01-2013  Home Office      EU  2892.510   -96.5400   EU-Home Office\n",
       "4  05-11-2013     Consumer  Africa  2832.960   311.5200  Africa-Consumer\n",
       "5  28-06-2013    Corporate    APAC  2862.675   763.2750   APAC-Corporate\n",
       "6  07-11-2011     Consumer    APAC  1822.080   564.8400    APAC-Consumer\n",
       "7  14-04-2012     Consumer    APAC  5244.840   996.4800    APAC-Consumer\n",
       "8  14-10-2014    Corporate      US  5083.960  1906.4850     US-Corporate\n",
       "9  28-01-2012     Consumer      US  4297.644 -1862.3124      US-Consumer"
      ]
     },
     "execution_count": 7,
     "metadata": {},
     "output_type": "execute_result"
    }
   ],
   "source": [
    "data.head(10)"
   ]
  },
  {
   "cell_type": "code",
   "execution_count": 8,
   "metadata": {},
   "outputs": [],
   "source": [
    "data['Order Date'] = pd.to_datetime(data['Order Date'])"
   ]
  },
  {
   "cell_type": "code",
   "execution_count": 9,
   "metadata": {},
   "outputs": [
    {
     "data": {
      "text/html": [
       "<div>\n",
       "<style scoped>\n",
       "    .dataframe tbody tr th:only-of-type {\n",
       "        vertical-align: middle;\n",
       "    }\n",
       "\n",
       "    .dataframe tbody tr th {\n",
       "        vertical-align: top;\n",
       "    }\n",
       "\n",
       "    .dataframe thead th {\n",
       "        text-align: right;\n",
       "    }\n",
       "</style>\n",
       "<table border=\"1\" class=\"dataframe\">\n",
       "  <thead>\n",
       "    <tr style=\"text-align: right;\">\n",
       "      <th></th>\n",
       "      <th>Order Date</th>\n",
       "      <th>Segment</th>\n",
       "      <th>Market</th>\n",
       "      <th>Sales</th>\n",
       "      <th>Profit</th>\n",
       "      <th>Market-Segment</th>\n",
       "    </tr>\n",
       "  </thead>\n",
       "  <tbody>\n",
       "    <tr>\n",
       "      <th>0</th>\n",
       "      <td>2012-07-31</td>\n",
       "      <td>Consumer</td>\n",
       "      <td>US</td>\n",
       "      <td>2309.650</td>\n",
       "      <td>762.1845</td>\n",
       "      <td>US-Consumer</td>\n",
       "    </tr>\n",
       "    <tr>\n",
       "      <th>1</th>\n",
       "      <td>2013-05-02</td>\n",
       "      <td>Corporate</td>\n",
       "      <td>APAC</td>\n",
       "      <td>3709.395</td>\n",
       "      <td>-288.7650</td>\n",
       "      <td>APAC-Corporate</td>\n",
       "    </tr>\n",
       "    <tr>\n",
       "      <th>2</th>\n",
       "      <td>2013-10-17</td>\n",
       "      <td>Consumer</td>\n",
       "      <td>APAC</td>\n",
       "      <td>5175.171</td>\n",
       "      <td>919.9710</td>\n",
       "      <td>APAC-Consumer</td>\n",
       "    </tr>\n",
       "    <tr>\n",
       "      <th>3</th>\n",
       "      <td>2013-01-28</td>\n",
       "      <td>Home Office</td>\n",
       "      <td>EU</td>\n",
       "      <td>2892.510</td>\n",
       "      <td>-96.5400</td>\n",
       "      <td>EU-Home Office</td>\n",
       "    </tr>\n",
       "    <tr>\n",
       "      <th>4</th>\n",
       "      <td>2013-05-11</td>\n",
       "      <td>Consumer</td>\n",
       "      <td>Africa</td>\n",
       "      <td>2832.960</td>\n",
       "      <td>311.5200</td>\n",
       "      <td>Africa-Consumer</td>\n",
       "    </tr>\n",
       "    <tr>\n",
       "      <th>5</th>\n",
       "      <td>2013-06-28</td>\n",
       "      <td>Corporate</td>\n",
       "      <td>APAC</td>\n",
       "      <td>2862.675</td>\n",
       "      <td>763.2750</td>\n",
       "      <td>APAC-Corporate</td>\n",
       "    </tr>\n",
       "    <tr>\n",
       "      <th>6</th>\n",
       "      <td>2011-07-11</td>\n",
       "      <td>Consumer</td>\n",
       "      <td>APAC</td>\n",
       "      <td>1822.080</td>\n",
       "      <td>564.8400</td>\n",
       "      <td>APAC-Consumer</td>\n",
       "    </tr>\n",
       "    <tr>\n",
       "      <th>7</th>\n",
       "      <td>2012-04-14</td>\n",
       "      <td>Consumer</td>\n",
       "      <td>APAC</td>\n",
       "      <td>5244.840</td>\n",
       "      <td>996.4800</td>\n",
       "      <td>APAC-Consumer</td>\n",
       "    </tr>\n",
       "    <tr>\n",
       "      <th>8</th>\n",
       "      <td>2014-10-14</td>\n",
       "      <td>Corporate</td>\n",
       "      <td>US</td>\n",
       "      <td>5083.960</td>\n",
       "      <td>1906.4850</td>\n",
       "      <td>US-Corporate</td>\n",
       "    </tr>\n",
       "    <tr>\n",
       "      <th>9</th>\n",
       "      <td>2012-01-28</td>\n",
       "      <td>Consumer</td>\n",
       "      <td>US</td>\n",
       "      <td>4297.644</td>\n",
       "      <td>-1862.3124</td>\n",
       "      <td>US-Consumer</td>\n",
       "    </tr>\n",
       "  </tbody>\n",
       "</table>\n",
       "</div>"
      ],
      "text/plain": [
       "  Order Date      Segment  Market     Sales     Profit   Market-Segment\n",
       "0 2012-07-31     Consumer      US  2309.650   762.1845      US-Consumer\n",
       "1 2013-05-02    Corporate    APAC  3709.395  -288.7650   APAC-Corporate\n",
       "2 2013-10-17     Consumer    APAC  5175.171   919.9710    APAC-Consumer\n",
       "3 2013-01-28  Home Office      EU  2892.510   -96.5400   EU-Home Office\n",
       "4 2013-05-11     Consumer  Africa  2832.960   311.5200  Africa-Consumer\n",
       "5 2013-06-28    Corporate    APAC  2862.675   763.2750   APAC-Corporate\n",
       "6 2011-07-11     Consumer    APAC  1822.080   564.8400    APAC-Consumer\n",
       "7 2012-04-14     Consumer    APAC  5244.840   996.4800    APAC-Consumer\n",
       "8 2014-10-14    Corporate      US  5083.960  1906.4850     US-Corporate\n",
       "9 2012-01-28     Consumer      US  4297.644 -1862.3124      US-Consumer"
      ]
     },
     "execution_count": 9,
     "metadata": {},
     "output_type": "execute_result"
    }
   ],
   "source": [
    "data.head(10)"
   ]
  },
  {
   "cell_type": "code",
   "execution_count": 10,
   "metadata": {},
   "outputs": [],
   "source": [
    "data = data.sort_values(by='Order Date')"
   ]
  },
  {
   "cell_type": "code",
   "execution_count": 11,
   "metadata": {},
   "outputs": [
    {
     "data": {
      "text/html": [
       "<div>\n",
       "<style scoped>\n",
       "    .dataframe tbody tr th:only-of-type {\n",
       "        vertical-align: middle;\n",
       "    }\n",
       "\n",
       "    .dataframe tbody tr th {\n",
       "        vertical-align: top;\n",
       "    }\n",
       "\n",
       "    .dataframe thead th {\n",
       "        text-align: right;\n",
       "    }\n",
       "</style>\n",
       "<table border=\"1\" class=\"dataframe\">\n",
       "  <thead>\n",
       "    <tr style=\"text-align: right;\">\n",
       "      <th></th>\n",
       "      <th>Order Date</th>\n",
       "      <th>Segment</th>\n",
       "      <th>Market</th>\n",
       "      <th>Sales</th>\n",
       "      <th>Profit</th>\n",
       "      <th>Market-Segment</th>\n",
       "    </tr>\n",
       "  </thead>\n",
       "  <tbody>\n",
       "    <tr>\n",
       "      <th>42055</th>\n",
       "      <td>2011-01-01</td>\n",
       "      <td>Consumer</td>\n",
       "      <td>APAC</td>\n",
       "      <td>55.242</td>\n",
       "      <td>15.3420</td>\n",
       "      <td>APAC-Consumer</td>\n",
       "    </tr>\n",
       "    <tr>\n",
       "      <th>25084</th>\n",
       "      <td>2011-01-01</td>\n",
       "      <td>Consumer</td>\n",
       "      <td>EMEA</td>\n",
       "      <td>66.120</td>\n",
       "      <td>29.6400</td>\n",
       "      <td>EMEA-Consumer</td>\n",
       "    </tr>\n",
       "    <tr>\n",
       "      <th>31869</th>\n",
       "      <td>2011-01-01</td>\n",
       "      <td>Consumer</td>\n",
       "      <td>APAC</td>\n",
       "      <td>113.670</td>\n",
       "      <td>37.7700</td>\n",
       "      <td>APAC-Consumer</td>\n",
       "    </tr>\n",
       "    <tr>\n",
       "      <th>22951</th>\n",
       "      <td>2011-01-01</td>\n",
       "      <td>Consumer</td>\n",
       "      <td>APAC</td>\n",
       "      <td>120.366</td>\n",
       "      <td>36.0360</td>\n",
       "      <td>APAC-Consumer</td>\n",
       "    </tr>\n",
       "    <tr>\n",
       "      <th>31579</th>\n",
       "      <td>2011-01-01</td>\n",
       "      <td>Home Office</td>\n",
       "      <td>EU</td>\n",
       "      <td>44.865</td>\n",
       "      <td>-26.0550</td>\n",
       "      <td>EU-Home Office</td>\n",
       "    </tr>\n",
       "    <tr>\n",
       "      <th>9352</th>\n",
       "      <td>2011-01-01</td>\n",
       "      <td>Consumer</td>\n",
       "      <td>Africa</td>\n",
       "      <td>408.300</td>\n",
       "      <td>106.1400</td>\n",
       "      <td>Africa-Consumer</td>\n",
       "    </tr>\n",
       "    <tr>\n",
       "      <th>6200</th>\n",
       "      <td>2011-01-02</td>\n",
       "      <td>Consumer</td>\n",
       "      <td>US</td>\n",
       "      <td>290.666</td>\n",
       "      <td>3.4196</td>\n",
       "      <td>US-Consumer</td>\n",
       "    </tr>\n",
       "    <tr>\n",
       "      <th>15262</th>\n",
       "      <td>2011-01-02</td>\n",
       "      <td>Corporate</td>\n",
       "      <td>EU</td>\n",
       "      <td>139.650</td>\n",
       "      <td>15.3000</td>\n",
       "      <td>EU-Corporate</td>\n",
       "    </tr>\n",
       "    <tr>\n",
       "      <th>47497</th>\n",
       "      <td>2011-01-02</td>\n",
       "      <td>Corporate</td>\n",
       "      <td>LATAM</td>\n",
       "      <td>9.576</td>\n",
       "      <td>-0.9840</td>\n",
       "      <td>LATAM-Corporate</td>\n",
       "    </tr>\n",
       "    <tr>\n",
       "      <th>28495</th>\n",
       "      <td>2011-01-02</td>\n",
       "      <td>Corporate</td>\n",
       "      <td>LATAM</td>\n",
       "      <td>81.984</td>\n",
       "      <td>-19.1360</td>\n",
       "      <td>LATAM-Corporate</td>\n",
       "    </tr>\n",
       "  </tbody>\n",
       "</table>\n",
       "</div>"
      ],
      "text/plain": [
       "      Order Date      Segment  Market    Sales    Profit   Market-Segment\n",
       "42055 2011-01-01     Consumer    APAC   55.242   15.3420    APAC-Consumer\n",
       "25084 2011-01-01     Consumer    EMEA   66.120   29.6400    EMEA-Consumer\n",
       "31869 2011-01-01     Consumer    APAC  113.670   37.7700    APAC-Consumer\n",
       "22951 2011-01-01     Consumer    APAC  120.366   36.0360    APAC-Consumer\n",
       "31579 2011-01-01  Home Office      EU   44.865  -26.0550   EU-Home Office\n",
       "9352  2011-01-01     Consumer  Africa  408.300  106.1400  Africa-Consumer\n",
       "6200  2011-01-02     Consumer      US  290.666    3.4196      US-Consumer\n",
       "15262 2011-01-02    Corporate      EU  139.650   15.3000     EU-Corporate\n",
       "47497 2011-01-02    Corporate   LATAM    9.576   -0.9840  LATAM-Corporate\n",
       "28495 2011-01-02    Corporate   LATAM   81.984  -19.1360  LATAM-Corporate"
      ]
     },
     "execution_count": 11,
     "metadata": {},
     "output_type": "execute_result"
    }
   ],
   "source": [
    "data.head(10)"
   ]
  },
  {
   "cell_type": "markdown",
   "metadata": {},
   "source": [
    "### Checking the number of Market Segments"
   ]
  },
  {
   "cell_type": "code",
   "execution_count": 12,
   "metadata": {},
   "outputs": [
    {
     "data": {
      "text/plain": [
       "21"
      ]
     },
     "execution_count": 12,
     "metadata": {},
     "output_type": "execute_result"
    }
   ],
   "source": [
    "data['Market-Segment'].nunique()"
   ]
  },
  {
   "cell_type": "code",
   "execution_count": 13,
   "metadata": {},
   "outputs": [
    {
     "data": {
      "text/plain": [
       "APAC-Consumer         5699\n",
       "LATAM-Consumer        5321\n",
       "US-Consumer           5191\n",
       "EU-Consumer           5186\n",
       "APAC-Corporate        3283\n",
       "EU-Corporate          3077\n",
       "LATAM-Corporate       3053\n",
       "US-Corporate          3020\n",
       "EMEA-Consumer         2538\n",
       "Africa-Consumer       2381\n",
       "APAC-Home Office      2020\n",
       "LATAM-Home Office     1920\n",
       "US-Home Office        1783\n",
       "EU-Home Office        1737\n",
       "EMEA-Corporate        1574\n",
       "Africa-Corporate      1312\n",
       "EMEA-Home Office       917\n",
       "Africa-Home Office     894\n",
       "Canada-Consumer        202\n",
       "Canada-Corporate       110\n",
       "Canada-Home Office      72\n",
       "Name: Market-Segment, dtype: int64"
      ]
     },
     "execution_count": 13,
     "metadata": {},
     "output_type": "execute_result"
    }
   ],
   "source": [
    "# Checking the list of Market Segments\n",
    "data['Market-Segment'].value_counts()"
   ]
  },
  {
   "cell_type": "markdown",
   "metadata": {},
   "source": [
    "We can see that there are 21 Market Segments which are:\n",
    "1. APAC-Consumer      \n",
    "3. LATAM-Consumer        \n",
    "4. US-Consumer           \n",
    "5. EU-Consumer           \n",
    "6. APAC-Corporate        \n",
    "7. EU-Corporate          \n",
    "8. LATAM-Corporate       \n",
    "9. US-Corporate          \n",
    "10. EMEA-Consumer         \n",
    "11. Africa-Consumer       \n",
    "12. APAC-Home Office      \n",
    "13. LATAM-Home Office     \n",
    "14. US-Home Office        \n",
    "15. EU-Home Office        \n",
    "16. EMEA-Corporate        \n",
    "17. Africa-Corporate      \n",
    "18. EMEA-Home Office       \n",
    "19. Africa-Home Office     \n",
    "20. Canada-Consumer        \n",
    "21. Canada-Corporate       \n",
    "22. Canada-Home Office      "
   ]
  },
  {
   "cell_type": "markdown",
   "metadata": {},
   "source": [
    "# Data Preparation"
   ]
  },
  {
   "cell_type": "markdown",
   "metadata": {},
   "source": [
    "### Dropping unnecessary columns"
   ]
  },
  {
   "cell_type": "code",
   "execution_count": 14,
   "metadata": {
    "scrolled": false
   },
   "outputs": [
    {
     "data": {
      "text/html": [
       "<div>\n",
       "<style scoped>\n",
       "    .dataframe tbody tr th:only-of-type {\n",
       "        vertical-align: middle;\n",
       "    }\n",
       "\n",
       "    .dataframe tbody tr th {\n",
       "        vertical-align: top;\n",
       "    }\n",
       "\n",
       "    .dataframe thead th {\n",
       "        text-align: right;\n",
       "    }\n",
       "</style>\n",
       "<table border=\"1\" class=\"dataframe\">\n",
       "  <thead>\n",
       "    <tr style=\"text-align: right;\">\n",
       "      <th></th>\n",
       "      <th>Order Date</th>\n",
       "      <th>Sales</th>\n",
       "      <th>Profit</th>\n",
       "      <th>Market-Segment</th>\n",
       "    </tr>\n",
       "  </thead>\n",
       "  <tbody>\n",
       "    <tr>\n",
       "      <th>42055</th>\n",
       "      <td>2011-01-01</td>\n",
       "      <td>55.242</td>\n",
       "      <td>15.342</td>\n",
       "      <td>APAC-Consumer</td>\n",
       "    </tr>\n",
       "    <tr>\n",
       "      <th>25084</th>\n",
       "      <td>2011-01-01</td>\n",
       "      <td>66.120</td>\n",
       "      <td>29.640</td>\n",
       "      <td>EMEA-Consumer</td>\n",
       "    </tr>\n",
       "    <tr>\n",
       "      <th>31869</th>\n",
       "      <td>2011-01-01</td>\n",
       "      <td>113.670</td>\n",
       "      <td>37.770</td>\n",
       "      <td>APAC-Consumer</td>\n",
       "    </tr>\n",
       "    <tr>\n",
       "      <th>22951</th>\n",
       "      <td>2011-01-01</td>\n",
       "      <td>120.366</td>\n",
       "      <td>36.036</td>\n",
       "      <td>APAC-Consumer</td>\n",
       "    </tr>\n",
       "    <tr>\n",
       "      <th>31579</th>\n",
       "      <td>2011-01-01</td>\n",
       "      <td>44.865</td>\n",
       "      <td>-26.055</td>\n",
       "      <td>EU-Home Office</td>\n",
       "    </tr>\n",
       "  </tbody>\n",
       "</table>\n",
       "</div>"
      ],
      "text/plain": [
       "      Order Date    Sales  Profit  Market-Segment\n",
       "42055 2011-01-01   55.242  15.342   APAC-Consumer\n",
       "25084 2011-01-01   66.120  29.640   EMEA-Consumer\n",
       "31869 2011-01-01  113.670  37.770   APAC-Consumer\n",
       "22951 2011-01-01  120.366  36.036   APAC-Consumer\n",
       "31579 2011-01-01   44.865 -26.055  EU-Home Office"
      ]
     },
     "execution_count": 14,
     "metadata": {},
     "output_type": "execute_result"
    }
   ],
   "source": [
    "data = data.drop(['Market','Segment'], axis=1)\n",
    "data.head()"
   ]
  },
  {
   "cell_type": "markdown",
   "metadata": {
    "scrolled": true
   },
   "source": [
    "### Converting 'Order-Date' to the required Month-Year Format"
   ]
  },
  {
   "cell_type": "code",
   "execution_count": 15,
   "metadata": {},
   "outputs": [],
   "source": [
    "data['Order Date'] = pd.to_datetime(data['Order Date']).dt.to_period('m')"
   ]
  },
  {
   "cell_type": "code",
   "execution_count": 16,
   "metadata": {},
   "outputs": [
    {
     "data": {
      "text/html": [
       "<div>\n",
       "<style scoped>\n",
       "    .dataframe tbody tr th:only-of-type {\n",
       "        vertical-align: middle;\n",
       "    }\n",
       "\n",
       "    .dataframe tbody tr th {\n",
       "        vertical-align: top;\n",
       "    }\n",
       "\n",
       "    .dataframe thead th {\n",
       "        text-align: right;\n",
       "    }\n",
       "</style>\n",
       "<table border=\"1\" class=\"dataframe\">\n",
       "  <thead>\n",
       "    <tr style=\"text-align: right;\">\n",
       "      <th></th>\n",
       "      <th>Order Date</th>\n",
       "      <th>Sales</th>\n",
       "      <th>Profit</th>\n",
       "      <th>Market-Segment</th>\n",
       "    </tr>\n",
       "  </thead>\n",
       "  <tbody>\n",
       "    <tr>\n",
       "      <th>42055</th>\n",
       "      <td>2011-01</td>\n",
       "      <td>55.242</td>\n",
       "      <td>15.3420</td>\n",
       "      <td>APAC-Consumer</td>\n",
       "    </tr>\n",
       "    <tr>\n",
       "      <th>25084</th>\n",
       "      <td>2011-01</td>\n",
       "      <td>66.120</td>\n",
       "      <td>29.6400</td>\n",
       "      <td>EMEA-Consumer</td>\n",
       "    </tr>\n",
       "    <tr>\n",
       "      <th>31869</th>\n",
       "      <td>2011-01</td>\n",
       "      <td>113.670</td>\n",
       "      <td>37.7700</td>\n",
       "      <td>APAC-Consumer</td>\n",
       "    </tr>\n",
       "    <tr>\n",
       "      <th>22951</th>\n",
       "      <td>2011-01</td>\n",
       "      <td>120.366</td>\n",
       "      <td>36.0360</td>\n",
       "      <td>APAC-Consumer</td>\n",
       "    </tr>\n",
       "    <tr>\n",
       "      <th>31579</th>\n",
       "      <td>2011-01</td>\n",
       "      <td>44.865</td>\n",
       "      <td>-26.0550</td>\n",
       "      <td>EU-Home Office</td>\n",
       "    </tr>\n",
       "    <tr>\n",
       "      <th>9352</th>\n",
       "      <td>2011-01</td>\n",
       "      <td>408.300</td>\n",
       "      <td>106.1400</td>\n",
       "      <td>Africa-Consumer</td>\n",
       "    </tr>\n",
       "    <tr>\n",
       "      <th>6200</th>\n",
       "      <td>2011-01</td>\n",
       "      <td>290.666</td>\n",
       "      <td>3.4196</td>\n",
       "      <td>US-Consumer</td>\n",
       "    </tr>\n",
       "    <tr>\n",
       "      <th>15262</th>\n",
       "      <td>2011-01</td>\n",
       "      <td>139.650</td>\n",
       "      <td>15.3000</td>\n",
       "      <td>EU-Corporate</td>\n",
       "    </tr>\n",
       "    <tr>\n",
       "      <th>47497</th>\n",
       "      <td>2011-01</td>\n",
       "      <td>9.576</td>\n",
       "      <td>-0.9840</td>\n",
       "      <td>LATAM-Corporate</td>\n",
       "    </tr>\n",
       "    <tr>\n",
       "      <th>28495</th>\n",
       "      <td>2011-01</td>\n",
       "      <td>81.984</td>\n",
       "      <td>-19.1360</td>\n",
       "      <td>LATAM-Corporate</td>\n",
       "    </tr>\n",
       "  </tbody>\n",
       "</table>\n",
       "</div>"
      ],
      "text/plain": [
       "      Order Date    Sales    Profit   Market-Segment\n",
       "42055    2011-01   55.242   15.3420    APAC-Consumer\n",
       "25084    2011-01   66.120   29.6400    EMEA-Consumer\n",
       "31869    2011-01  113.670   37.7700    APAC-Consumer\n",
       "22951    2011-01  120.366   36.0360    APAC-Consumer\n",
       "31579    2011-01   44.865  -26.0550   EU-Home Office\n",
       "9352     2011-01  408.300  106.1400  Africa-Consumer\n",
       "6200     2011-01  290.666    3.4196      US-Consumer\n",
       "15262    2011-01  139.650   15.3000     EU-Corporate\n",
       "47497    2011-01    9.576   -0.9840  LATAM-Corporate\n",
       "28495    2011-01   81.984  -19.1360  LATAM-Corporate"
      ]
     },
     "execution_count": 16,
     "metadata": {},
     "output_type": "execute_result"
    }
   ],
   "source": [
    "data.head(10)"
   ]
  },
  {
   "cell_type": "markdown",
   "metadata": {},
   "source": [
    "### Calculating Monthly Profit Data for each Market Segment\n",
    "We need to sum the profit month-wise for each Market Segment by using Pivot Table."
   ]
  },
  {
   "cell_type": "code",
   "execution_count": 17,
   "metadata": {},
   "outputs": [],
   "source": [
    "# Creating a duplicate dataset of the orginal data.\n",
    "df = data.copy()"
   ]
  },
  {
   "cell_type": "code",
   "execution_count": 18,
   "metadata": {},
   "outputs": [
    {
     "data": {
      "text/html": [
       "<div>\n",
       "<style scoped>\n",
       "    .dataframe tbody tr th:only-of-type {\n",
       "        vertical-align: middle;\n",
       "    }\n",
       "\n",
       "    .dataframe tbody tr th {\n",
       "        vertical-align: top;\n",
       "    }\n",
       "\n",
       "    .dataframe thead th {\n",
       "        text-align: right;\n",
       "    }\n",
       "</style>\n",
       "<table border=\"1\" class=\"dataframe\">\n",
       "  <thead>\n",
       "    <tr style=\"text-align: right;\">\n",
       "      <th></th>\n",
       "      <th>Order Date</th>\n",
       "      <th>Sales</th>\n",
       "      <th>Profit</th>\n",
       "      <th>Market-Segment</th>\n",
       "    </tr>\n",
       "  </thead>\n",
       "  <tbody>\n",
       "    <tr>\n",
       "      <th>42055</th>\n",
       "      <td>2011-01</td>\n",
       "      <td>55.242</td>\n",
       "      <td>15.3420</td>\n",
       "      <td>APAC-Consumer</td>\n",
       "    </tr>\n",
       "    <tr>\n",
       "      <th>25084</th>\n",
       "      <td>2011-01</td>\n",
       "      <td>66.120</td>\n",
       "      <td>29.6400</td>\n",
       "      <td>EMEA-Consumer</td>\n",
       "    </tr>\n",
       "    <tr>\n",
       "      <th>31869</th>\n",
       "      <td>2011-01</td>\n",
       "      <td>113.670</td>\n",
       "      <td>37.7700</td>\n",
       "      <td>APAC-Consumer</td>\n",
       "    </tr>\n",
       "    <tr>\n",
       "      <th>22951</th>\n",
       "      <td>2011-01</td>\n",
       "      <td>120.366</td>\n",
       "      <td>36.0360</td>\n",
       "      <td>APAC-Consumer</td>\n",
       "    </tr>\n",
       "    <tr>\n",
       "      <th>31579</th>\n",
       "      <td>2011-01</td>\n",
       "      <td>44.865</td>\n",
       "      <td>-26.0550</td>\n",
       "      <td>EU-Home Office</td>\n",
       "    </tr>\n",
       "    <tr>\n",
       "      <th>9352</th>\n",
       "      <td>2011-01</td>\n",
       "      <td>408.300</td>\n",
       "      <td>106.1400</td>\n",
       "      <td>Africa-Consumer</td>\n",
       "    </tr>\n",
       "    <tr>\n",
       "      <th>6200</th>\n",
       "      <td>2011-01</td>\n",
       "      <td>290.666</td>\n",
       "      <td>3.4196</td>\n",
       "      <td>US-Consumer</td>\n",
       "    </tr>\n",
       "    <tr>\n",
       "      <th>15262</th>\n",
       "      <td>2011-01</td>\n",
       "      <td>139.650</td>\n",
       "      <td>15.3000</td>\n",
       "      <td>EU-Corporate</td>\n",
       "    </tr>\n",
       "    <tr>\n",
       "      <th>47497</th>\n",
       "      <td>2011-01</td>\n",
       "      <td>9.576</td>\n",
       "      <td>-0.9840</td>\n",
       "      <td>LATAM-Corporate</td>\n",
       "    </tr>\n",
       "    <tr>\n",
       "      <th>28495</th>\n",
       "      <td>2011-01</td>\n",
       "      <td>81.984</td>\n",
       "      <td>-19.1360</td>\n",
       "      <td>LATAM-Corporate</td>\n",
       "    </tr>\n",
       "  </tbody>\n",
       "</table>\n",
       "</div>"
      ],
      "text/plain": [
       "      Order Date    Sales    Profit   Market-Segment\n",
       "42055    2011-01   55.242   15.3420    APAC-Consumer\n",
       "25084    2011-01   66.120   29.6400    EMEA-Consumer\n",
       "31869    2011-01  113.670   37.7700    APAC-Consumer\n",
       "22951    2011-01  120.366   36.0360    APAC-Consumer\n",
       "31579    2011-01   44.865  -26.0550   EU-Home Office\n",
       "9352     2011-01  408.300  106.1400  Africa-Consumer\n",
       "6200     2011-01  290.666    3.4196      US-Consumer\n",
       "15262    2011-01  139.650   15.3000     EU-Corporate\n",
       "47497    2011-01    9.576   -0.9840  LATAM-Corporate\n",
       "28495    2011-01   81.984  -19.1360  LATAM-Corporate"
      ]
     },
     "execution_count": 18,
     "metadata": {},
     "output_type": "execute_result"
    }
   ],
   "source": [
    "df.head(10)"
   ]
  },
  {
   "cell_type": "code",
   "execution_count": 19,
   "metadata": {},
   "outputs": [
    {
     "data": {
      "text/html": [
       "<div>\n",
       "<style scoped>\n",
       "    .dataframe tbody tr th:only-of-type {\n",
       "        vertical-align: middle;\n",
       "    }\n",
       "\n",
       "    .dataframe tbody tr th {\n",
       "        vertical-align: top;\n",
       "    }\n",
       "\n",
       "    .dataframe thead th {\n",
       "        text-align: right;\n",
       "    }\n",
       "</style>\n",
       "<table border=\"1\" class=\"dataframe\">\n",
       "  <thead>\n",
       "    <tr style=\"text-align: right;\">\n",
       "      <th>Market-Segment</th>\n",
       "      <th>APAC-Consumer</th>\n",
       "      <th>APAC-Corporate</th>\n",
       "      <th>APAC-Home Office</th>\n",
       "      <th>Africa-Consumer</th>\n",
       "      <th>Africa-Corporate</th>\n",
       "      <th>Africa-Home Office</th>\n",
       "      <th>Canada-Consumer</th>\n",
       "      <th>Canada-Corporate</th>\n",
       "      <th>Canada-Home Office</th>\n",
       "      <th>EMEA-Consumer</th>\n",
       "      <th>...</th>\n",
       "      <th>EMEA-Home Office</th>\n",
       "      <th>EU-Consumer</th>\n",
       "      <th>EU-Corporate</th>\n",
       "      <th>EU-Home Office</th>\n",
       "      <th>LATAM-Consumer</th>\n",
       "      <th>LATAM-Corporate</th>\n",
       "      <th>LATAM-Home Office</th>\n",
       "      <th>US-Consumer</th>\n",
       "      <th>US-Corporate</th>\n",
       "      <th>US-Home Office</th>\n",
       "    </tr>\n",
       "    <tr>\n",
       "      <th>Order Date</th>\n",
       "      <th></th>\n",
       "      <th></th>\n",
       "      <th></th>\n",
       "      <th></th>\n",
       "      <th></th>\n",
       "      <th></th>\n",
       "      <th></th>\n",
       "      <th></th>\n",
       "      <th></th>\n",
       "      <th></th>\n",
       "      <th></th>\n",
       "      <th></th>\n",
       "      <th></th>\n",
       "      <th></th>\n",
       "      <th></th>\n",
       "      <th></th>\n",
       "      <th></th>\n",
       "      <th></th>\n",
       "      <th></th>\n",
       "      <th></th>\n",
       "      <th></th>\n",
       "    </tr>\n",
       "  </thead>\n",
       "  <tbody>\n",
       "    <tr>\n",
       "      <th>2011-01</th>\n",
       "      <td>2254.4898</td>\n",
       "      <td>-173.7264</td>\n",
       "      <td>230.2656</td>\n",
       "      <td>265.539</td>\n",
       "      <td>520.026</td>\n",
       "      <td>391.515</td>\n",
       "      <td>447.33</td>\n",
       "      <td>12.57</td>\n",
       "      <td>NaN</td>\n",
       "      <td>-2952.594</td>\n",
       "      <td>...</td>\n",
       "      <td>392.526</td>\n",
       "      <td>2259.8670</td>\n",
       "      <td>841.3875</td>\n",
       "      <td>2534.568</td>\n",
       "      <td>540.44312</td>\n",
       "      <td>1021.05924</td>\n",
       "      <td>-26.59744</td>\n",
       "      <td>2465.8368</td>\n",
       "      <td>643.3689</td>\n",
       "      <td>1233.9329</td>\n",
       "    </tr>\n",
       "    <tr>\n",
       "      <th>2011-02</th>\n",
       "      <td>4627.8531</td>\n",
       "      <td>3600.7776</td>\n",
       "      <td>617.5407</td>\n",
       "      <td>-201.888</td>\n",
       "      <td>-31.689</td>\n",
       "      <td>825.606</td>\n",
       "      <td>26.43</td>\n",
       "      <td>9.24</td>\n",
       "      <td>87.99</td>\n",
       "      <td>464.160</td>\n",
       "      <td>...</td>\n",
       "      <td>368.070</td>\n",
       "      <td>-783.9945</td>\n",
       "      <td>2234.4060</td>\n",
       "      <td>162.255</td>\n",
       "      <td>1227.86616</td>\n",
       "      <td>814.03020</td>\n",
       "      <td>-356.80440</td>\n",
       "      <td>1853.5541</td>\n",
       "      <td>421.9256</td>\n",
       "      <td>553.9467</td>\n",
       "    </tr>\n",
       "    <tr>\n",
       "      <th>2011-03</th>\n",
       "      <td>2337.8319</td>\n",
       "      <td>3634.9365</td>\n",
       "      <td>205.1052</td>\n",
       "      <td>919.074</td>\n",
       "      <td>244.437</td>\n",
       "      <td>83.430</td>\n",
       "      <td>82.47</td>\n",
       "      <td>NaN</td>\n",
       "      <td>84.03</td>\n",
       "      <td>706.380</td>\n",
       "      <td>...</td>\n",
       "      <td>-15.570</td>\n",
       "      <td>1273.7100</td>\n",
       "      <td>2206.5960</td>\n",
       "      <td>269.745</td>\n",
       "      <td>2427.39612</td>\n",
       "      <td>178.66400</td>\n",
       "      <td>769.88400</td>\n",
       "      <td>204.2007</td>\n",
       "      <td>127.4696</td>\n",
       "      <td>-268.9314</td>\n",
       "    </tr>\n",
       "    <tr>\n",
       "      <th>2011-04</th>\n",
       "      <td>633.6423</td>\n",
       "      <td>90.7521</td>\n",
       "      <td>603.8478</td>\n",
       "      <td>381.315</td>\n",
       "      <td>941.751</td>\n",
       "      <td>417.618</td>\n",
       "      <td>55.08</td>\n",
       "      <td>6.51</td>\n",
       "      <td>NaN</td>\n",
       "      <td>121.353</td>\n",
       "      <td>...</td>\n",
       "      <td>-456.510</td>\n",
       "      <td>2980.0065</td>\n",
       "      <td>981.1470</td>\n",
       "      <td>130.371</td>\n",
       "      <td>1368.82948</td>\n",
       "      <td>872.64068</td>\n",
       "      <td>-554.22952</td>\n",
       "      <td>1434.8636</td>\n",
       "      <td>494.7315</td>\n",
       "      <td>2723.4358</td>\n",
       "    </tr>\n",
       "    <tr>\n",
       "      <th>2011-05</th>\n",
       "      <td>3838.9500</td>\n",
       "      <td>1028.4489</td>\n",
       "      <td>102.0315</td>\n",
       "      <td>-39.981</td>\n",
       "      <td>490.650</td>\n",
       "      <td>39.180</td>\n",
       "      <td>0.87</td>\n",
       "      <td>NaN</td>\n",
       "      <td>NaN</td>\n",
       "      <td>172.554</td>\n",
       "      <td>...</td>\n",
       "      <td>-33.591</td>\n",
       "      <td>673.0080</td>\n",
       "      <td>1719.0600</td>\n",
       "      <td>443.310</td>\n",
       "      <td>1749.39200</td>\n",
       "      <td>134.87252</td>\n",
       "      <td>-397.95600</td>\n",
       "      <td>833.9433</td>\n",
       "      <td>2912.7976</td>\n",
       "      <td>145.7781</td>\n",
       "    </tr>\n",
       "  </tbody>\n",
       "</table>\n",
       "<p>5 rows × 21 columns</p>\n",
       "</div>"
      ],
      "text/plain": [
       "Market-Segment  APAC-Consumer  APAC-Corporate  APAC-Home Office  \\\n",
       "Order Date                                                        \n",
       "2011-01             2254.4898       -173.7264          230.2656   \n",
       "2011-02             4627.8531       3600.7776          617.5407   \n",
       "2011-03             2337.8319       3634.9365          205.1052   \n",
       "2011-04              633.6423         90.7521          603.8478   \n",
       "2011-05             3838.9500       1028.4489          102.0315   \n",
       "\n",
       "Market-Segment  Africa-Consumer  Africa-Corporate  Africa-Home Office  \\\n",
       "Order Date                                                              \n",
       "2011-01                 265.539           520.026             391.515   \n",
       "2011-02                -201.888           -31.689             825.606   \n",
       "2011-03                 919.074           244.437              83.430   \n",
       "2011-04                 381.315           941.751             417.618   \n",
       "2011-05                 -39.981           490.650              39.180   \n",
       "\n",
       "Market-Segment  Canada-Consumer  Canada-Corporate  Canada-Home Office  \\\n",
       "Order Date                                                              \n",
       "2011-01                  447.33             12.57                 NaN   \n",
       "2011-02                   26.43              9.24               87.99   \n",
       "2011-03                   82.47               NaN               84.03   \n",
       "2011-04                   55.08              6.51                 NaN   \n",
       "2011-05                    0.87               NaN                 NaN   \n",
       "\n",
       "Market-Segment  EMEA-Consumer  ...  EMEA-Home Office  EU-Consumer  \\\n",
       "Order Date                     ...                                  \n",
       "2011-01             -2952.594  ...           392.526    2259.8670   \n",
       "2011-02               464.160  ...           368.070    -783.9945   \n",
       "2011-03               706.380  ...           -15.570    1273.7100   \n",
       "2011-04               121.353  ...          -456.510    2980.0065   \n",
       "2011-05               172.554  ...           -33.591     673.0080   \n",
       "\n",
       "Market-Segment  EU-Corporate  EU-Home Office  LATAM-Consumer  LATAM-Corporate  \\\n",
       "Order Date                                                                      \n",
       "2011-01             841.3875        2534.568       540.44312       1021.05924   \n",
       "2011-02            2234.4060         162.255      1227.86616        814.03020   \n",
       "2011-03            2206.5960         269.745      2427.39612        178.66400   \n",
       "2011-04             981.1470         130.371      1368.82948        872.64068   \n",
       "2011-05            1719.0600         443.310      1749.39200        134.87252   \n",
       "\n",
       "Market-Segment  LATAM-Home Office  US-Consumer  US-Corporate  US-Home Office  \n",
       "Order Date                                                                    \n",
       "2011-01                 -26.59744    2465.8368      643.3689       1233.9329  \n",
       "2011-02                -356.80440    1853.5541      421.9256        553.9467  \n",
       "2011-03                 769.88400     204.2007      127.4696       -268.9314  \n",
       "2011-04                -554.22952    1434.8636      494.7315       2723.4358  \n",
       "2011-05                -397.95600     833.9433     2912.7976        145.7781  \n",
       "\n",
       "[5 rows x 21 columns]"
      ]
     },
     "execution_count": 19,
     "metadata": {},
     "output_type": "execute_result"
    }
   ],
   "source": [
    "df = data.pivot_table(index='Order Date', values = 'Profit', columns = 'Market-Segment', aggfunc = 'sum')\n",
    "df.head()"
   ]
  },
  {
   "cell_type": "code",
   "execution_count": 20,
   "metadata": {},
   "outputs": [
    {
     "data": {
      "text/plain": [
       "(48, 21)"
      ]
     },
     "execution_count": 20,
     "metadata": {},
     "output_type": "execute_result"
    }
   ],
   "source": [
    "df.shape"
   ]
  },
  {
   "cell_type": "markdown",
   "metadata": {},
   "source": [
    "> So we have the profit data for 48 months and 21 Market Segment as required."
   ]
  },
  {
   "cell_type": "markdown",
   "metadata": {},
   "source": [
    "### Splitting the Dataset to Train-Test"
   ]
  },
  {
   "cell_type": "code",
   "execution_count": 21,
   "metadata": {},
   "outputs": [],
   "source": [
    "train_len = 42\n",
    "train_df = df[0:train_len]       # Using 42 Months for Train Data\n",
    "test_df = df[train_len:]        # Using 6 Months for Test Data"
   ]
  },
  {
   "cell_type": "markdown",
   "metadata": {},
   "source": [
    "### Finding out the Most Consistently Profitable Market Segment\n",
    "To find the most consistently profitable market-segment we need to calculate the \"Coefficient of Variation (CoV)\". The coefficient of variation or CoV is nothing but the ratio of the standard deviation to mean for the data."
   ]
  },
  {
   "cell_type": "code",
   "execution_count": 22,
   "metadata": {},
   "outputs": [
    {
     "data": {
      "text/plain": [
       "Market-Segment\n",
       "APAC-Consumer         4400.894243\n",
       "APAC-Corporate        2574.919807\n",
       "APAC-Home Office      1511.088314\n",
       "Africa-Consumer        957.707000\n",
       "Africa-Corporate       412.617571\n",
       "Africa-Home Office     377.221071\n",
       "Canada-Consumer        225.987632\n",
       "Canada-Corporate        90.980294\n",
       "Canada-Home Office     118.003750\n",
       "EMEA-Consumer          423.960286\n",
       "EMEA-Corporate         182.642643\n",
       "EMEA-Home Office        84.231366\n",
       "EU-Consumer           3699.977143\n",
       "EU-Corporate          2216.299429\n",
       "EU-Home Office        1224.456536\n",
       "LATAM-Consumer        2295.555697\n",
       "LATAM-Corporate       1122.633016\n",
       "LATAM-Home Office      818.398941\n",
       "US-Consumer           2686.740912\n",
       "US-Corporate          1754.199083\n",
       "US-Home Office        1132.065762\n",
       "dtype: float64"
      ]
     },
     "execution_count": 22,
     "metadata": {},
     "output_type": "execute_result"
    }
   ],
   "source": [
    "# Calulating mean\n",
    "mean = train_df.mean()\n",
    "mean"
   ]
  },
  {
   "cell_type": "code",
   "execution_count": 23,
   "metadata": {},
   "outputs": [
    {
     "data": {
      "text/plain": [
       "Market-Segment\n",
       "APAC-Consumer         2300.457687\n",
       "APAC-Corporate        1364.837734\n",
       "APAC-Home Office      1523.508658\n",
       "Africa-Consumer       1254.932072\n",
       "Africa-Corporate       780.566850\n",
       "Africa-Home Office     759.322203\n",
       "Canada-Consumer        282.555788\n",
       "Canada-Corporate       162.493114\n",
       "Canada-Home Office     279.632866\n",
       "EMEA-Consumer         1124.552711\n",
       "EMEA-Corporate        1160.698430\n",
       "EMEA-Home Office       651.283095\n",
       "EU-Consumer           2202.282289\n",
       "EU-Corporate          1600.336696\n",
       "EU-Home Office        1148.627937\n",
       "LATAM-Consumer        1569.632686\n",
       "LATAM-Corporate        990.360880\n",
       "LATAM-Home Office      957.275713\n",
       "US-Consumer           2715.031412\n",
       "US-Corporate          1880.200775\n",
       "US-Home Office        1272.476439\n",
       "dtype: float64"
      ]
     },
     "execution_count": 23,
     "metadata": {},
     "output_type": "execute_result"
    }
   ],
   "source": [
    "# Calculating Standard Deviation\n",
    "std = np.std(train_df)\n",
    "std"
   ]
  },
  {
   "cell_type": "code",
   "execution_count": 24,
   "metadata": {},
   "outputs": [
    {
     "data": {
      "text/plain": [
       "Market-Segment\n",
       "APAC-Consumer         0.522725\n",
       "APAC-Corporate        0.530051\n",
       "EU-Consumer           0.595215\n",
       "LATAM-Consumer        0.683770\n",
       "EU-Corporate          0.722076\n",
       "LATAM-Corporate       0.882177\n",
       "EU-Home Office        0.938072\n",
       "APAC-Home Office      1.008219\n",
       "US-Consumer           1.010530\n",
       "US-Corporate          1.071829\n",
       "US-Home Office        1.124030\n",
       "LATAM-Home Office     1.169693\n",
       "Canada-Consumer       1.250315\n",
       "Africa-Consumer       1.310351\n",
       "Canada-Corporate      1.786025\n",
       "Africa-Corporate      1.891744\n",
       "Africa-Home Office    2.012937\n",
       "Canada-Home Office    2.369695\n",
       "EMEA-Consumer         2.652495\n",
       "EMEA-Corporate        6.355024\n",
       "EMEA-Home Office      7.732073\n",
       "dtype: float64"
      ]
     },
     "execution_count": 24,
     "metadata": {},
     "output_type": "execute_result"
    }
   ],
   "source": [
    "# Calculating the CoV\n",
    "cov = std/mean\n",
    "cov.sort_values()"
   ]
  },
  {
   "cell_type": "markdown",
   "metadata": {},
   "source": [
    "We can see that the Market-Segment having the least CoV is **'APAC-Consumer'** which means that this segment is the most consistently profitable market segment.\n",
    "#### Due to certain unpredictable circumstances in the market, as a company, we are prioritizing only the best and most consistent market segment in terms of profitability. So we now forecast the sales for 'APAC-Consumers' as it is the most consistently profitable market-segment."
   ]
  },
  {
   "cell_type": "markdown",
   "metadata": {},
   "source": [
    "## Extracting the rows for APAC-Consumer"
   ]
  },
  {
   "cell_type": "code",
   "execution_count": 25,
   "metadata": {},
   "outputs": [
    {
     "data": {
      "text/html": [
       "<div>\n",
       "<style scoped>\n",
       "    .dataframe tbody tr th:only-of-type {\n",
       "        vertical-align: middle;\n",
       "    }\n",
       "\n",
       "    .dataframe tbody tr th {\n",
       "        vertical-align: top;\n",
       "    }\n",
       "\n",
       "    .dataframe thead th {\n",
       "        text-align: right;\n",
       "    }\n",
       "</style>\n",
       "<table border=\"1\" class=\"dataframe\">\n",
       "  <thead>\n",
       "    <tr style=\"text-align: right;\">\n",
       "      <th></th>\n",
       "      <th>Order Date</th>\n",
       "      <th>Sales</th>\n",
       "      <th>Profit</th>\n",
       "      <th>Market-Segment</th>\n",
       "    </tr>\n",
       "  </thead>\n",
       "  <tbody>\n",
       "    <tr>\n",
       "      <th>42055</th>\n",
       "      <td>2011-01</td>\n",
       "      <td>55.242</td>\n",
       "      <td>15.342</td>\n",
       "      <td>APAC-Consumer</td>\n",
       "    </tr>\n",
       "    <tr>\n",
       "      <th>31869</th>\n",
       "      <td>2011-01</td>\n",
       "      <td>113.670</td>\n",
       "      <td>37.770</td>\n",
       "      <td>APAC-Consumer</td>\n",
       "    </tr>\n",
       "    <tr>\n",
       "      <th>22951</th>\n",
       "      <td>2011-01</td>\n",
       "      <td>120.366</td>\n",
       "      <td>36.036</td>\n",
       "      <td>APAC-Consumer</td>\n",
       "    </tr>\n",
       "    <tr>\n",
       "      <th>34400</th>\n",
       "      <td>2011-01</td>\n",
       "      <td>20.340</td>\n",
       "      <td>9.900</td>\n",
       "      <td>APAC-Consumer</td>\n",
       "    </tr>\n",
       "    <tr>\n",
       "      <th>30467</th>\n",
       "      <td>2011-01</td>\n",
       "      <td>22.650</td>\n",
       "      <td>9.600</td>\n",
       "      <td>APAC-Consumer</td>\n",
       "    </tr>\n",
       "  </tbody>\n",
       "</table>\n",
       "</div>"
      ],
      "text/plain": [
       "      Order Date    Sales  Profit Market-Segment\n",
       "42055    2011-01   55.242  15.342  APAC-Consumer\n",
       "31869    2011-01  113.670  37.770  APAC-Consumer\n",
       "22951    2011-01  120.366  36.036  APAC-Consumer\n",
       "34400    2011-01   20.340   9.900  APAC-Consumer\n",
       "30467    2011-01   22.650   9.600  APAC-Consumer"
      ]
     },
     "execution_count": 25,
     "metadata": {},
     "output_type": "execute_result"
    }
   ],
   "source": [
    "market = data.loc[data['Market-Segment'] == 'APAC-Consumer'] \n",
    "market.head()"
   ]
  },
  {
   "cell_type": "code",
   "execution_count": 26,
   "metadata": {},
   "outputs": [
    {
     "data": {
      "text/plain": [
       "(5699, 4)"
      ]
     },
     "execution_count": 26,
     "metadata": {},
     "output_type": "execute_result"
    }
   ],
   "source": [
    "market.shape"
   ]
  },
  {
   "cell_type": "markdown",
   "metadata": {},
   "source": [
    "Now we are left with 5699 rows out of 51290 rows."
   ]
  },
  {
   "cell_type": "markdown",
   "metadata": {},
   "source": [
    "#### We can see that there are multiple rows in the data which belong to the same Month and Year, we can group the data by order dates to get monthly aggregated data."
   ]
  },
  {
   "cell_type": "code",
   "execution_count": 27,
   "metadata": {},
   "outputs": [],
   "source": [
    "market = market.groupby(['Order Date']).sum()"
   ]
  },
  {
   "cell_type": "code",
   "execution_count": 28,
   "metadata": {},
   "outputs": [
    {
     "data": {
      "text/html": [
       "<div>\n",
       "<style scoped>\n",
       "    .dataframe tbody tr th:only-of-type {\n",
       "        vertical-align: middle;\n",
       "    }\n",
       "\n",
       "    .dataframe tbody tr th {\n",
       "        vertical-align: top;\n",
       "    }\n",
       "\n",
       "    .dataframe thead th {\n",
       "        text-align: right;\n",
       "    }\n",
       "</style>\n",
       "<table border=\"1\" class=\"dataframe\">\n",
       "  <thead>\n",
       "    <tr style=\"text-align: right;\">\n",
       "      <th></th>\n",
       "      <th>Sales</th>\n",
       "      <th>Profit</th>\n",
       "    </tr>\n",
       "    <tr>\n",
       "      <th>Order Date</th>\n",
       "      <th></th>\n",
       "      <th></th>\n",
       "    </tr>\n",
       "  </thead>\n",
       "  <tbody>\n",
       "    <tr>\n",
       "      <th>2011-01</th>\n",
       "      <td>18821.9898</td>\n",
       "      <td>2254.4898</td>\n",
       "    </tr>\n",
       "    <tr>\n",
       "      <th>2011-02</th>\n",
       "      <td>23313.3531</td>\n",
       "      <td>4627.8531</td>\n",
       "    </tr>\n",
       "    <tr>\n",
       "      <th>2011-03</th>\n",
       "      <td>26518.4919</td>\n",
       "      <td>2337.8319</td>\n",
       "    </tr>\n",
       "    <tr>\n",
       "      <th>2011-04</th>\n",
       "      <td>12046.0923</td>\n",
       "      <td>633.6423</td>\n",
       "    </tr>\n",
       "    <tr>\n",
       "      <th>2011-05</th>\n",
       "      <td>25941.9000</td>\n",
       "      <td>3838.9500</td>\n",
       "    </tr>\n",
       "    <tr>\n",
       "      <th>2011-06</th>\n",
       "      <td>30398.9316</td>\n",
       "      <td>5231.0316</td>\n",
       "    </tr>\n",
       "    <tr>\n",
       "      <th>2011-07</th>\n",
       "      <td>22431.5949</td>\n",
       "      <td>1928.5449</td>\n",
       "    </tr>\n",
       "    <tr>\n",
       "      <th>2011-08</th>\n",
       "      <td>20331.0735</td>\n",
       "      <td>1101.5235</td>\n",
       "    </tr>\n",
       "    <tr>\n",
       "      <th>2011-09</th>\n",
       "      <td>24860.3949</td>\n",
       "      <td>3088.9449</td>\n",
       "    </tr>\n",
       "    <tr>\n",
       "      <th>2011-10</th>\n",
       "      <td>34787.2881</td>\n",
       "      <td>6719.4081</td>\n",
       "    </tr>\n",
       "  </tbody>\n",
       "</table>\n",
       "</div>"
      ],
      "text/plain": [
       "                 Sales     Profit\n",
       "Order Date                       \n",
       "2011-01     18821.9898  2254.4898\n",
       "2011-02     23313.3531  4627.8531\n",
       "2011-03     26518.4919  2337.8319\n",
       "2011-04     12046.0923   633.6423\n",
       "2011-05     25941.9000  3838.9500\n",
       "2011-06     30398.9316  5231.0316\n",
       "2011-07     22431.5949  1928.5449\n",
       "2011-08     20331.0735  1101.5235\n",
       "2011-09     24860.3949  3088.9449\n",
       "2011-10     34787.2881  6719.4081"
      ]
     },
     "execution_count": 28,
     "metadata": {},
     "output_type": "execute_result"
    }
   ],
   "source": [
    "market.head(10)"
   ]
  },
  {
   "cell_type": "code",
   "execution_count": 29,
   "metadata": {},
   "outputs": [
    {
     "data": {
      "text/plain": [
       "(48, 2)"
      ]
     },
     "execution_count": 29,
     "metadata": {},
     "output_type": "execute_result"
    }
   ],
   "source": [
    "market.shape"
   ]
  },
  {
   "cell_type": "markdown",
   "metadata": {},
   "source": [
    "> **Since, we need to forecast the Sales for the next months. Let's drop rest of the columns**"
   ]
  },
  {
   "cell_type": "code",
   "execution_count": 30,
   "metadata": {},
   "outputs": [
    {
     "data": {
      "text/html": [
       "<div>\n",
       "<style scoped>\n",
       "    .dataframe tbody tr th:only-of-type {\n",
       "        vertical-align: middle;\n",
       "    }\n",
       "\n",
       "    .dataframe tbody tr th {\n",
       "        vertical-align: top;\n",
       "    }\n",
       "\n",
       "    .dataframe thead th {\n",
       "        text-align: right;\n",
       "    }\n",
       "</style>\n",
       "<table border=\"1\" class=\"dataframe\">\n",
       "  <thead>\n",
       "    <tr style=\"text-align: right;\">\n",
       "      <th></th>\n",
       "      <th>Sales</th>\n",
       "    </tr>\n",
       "    <tr>\n",
       "      <th>Order Date</th>\n",
       "      <th></th>\n",
       "    </tr>\n",
       "  </thead>\n",
       "  <tbody>\n",
       "    <tr>\n",
       "      <th>2011-01</th>\n",
       "      <td>18821.9898</td>\n",
       "    </tr>\n",
       "    <tr>\n",
       "      <th>2011-02</th>\n",
       "      <td>23313.3531</td>\n",
       "    </tr>\n",
       "    <tr>\n",
       "      <th>2011-03</th>\n",
       "      <td>26518.4919</td>\n",
       "    </tr>\n",
       "    <tr>\n",
       "      <th>2011-04</th>\n",
       "      <td>12046.0923</td>\n",
       "    </tr>\n",
       "    <tr>\n",
       "      <th>2011-05</th>\n",
       "      <td>25941.9000</td>\n",
       "    </tr>\n",
       "  </tbody>\n",
       "</table>\n",
       "</div>"
      ],
      "text/plain": [
       "                 Sales\n",
       "Order Date            \n",
       "2011-01     18821.9898\n",
       "2011-02     23313.3531\n",
       "2011-03     26518.4919\n",
       "2011-04     12046.0923\n",
       "2011-05     25941.9000"
      ]
     },
     "execution_count": 30,
     "metadata": {},
     "output_type": "execute_result"
    }
   ],
   "source": [
    "sales = market[['Sales']]\n",
    "sales.head()"
   ]
  },
  {
   "cell_type": "markdown",
   "metadata": {},
   "source": [
    "# Time Series Analysis"
   ]
  },
  {
   "cell_type": "markdown",
   "metadata": {},
   "source": [
    "### Plotting the Sales Data"
   ]
  },
  {
   "cell_type": "code",
   "execution_count": 31,
   "metadata": {},
   "outputs": [
    {
     "data": {
      "image/png": "[encoded data removed]",
      "text/plain": [
       "<Figure size 864x288 with 1 Axes>"
      ]
     },
     "metadata": {
      "needs_background": "light"
     },
     "output_type": "display_data"
    }
   ],
   "source": [
    "sales.plot(figsize=(12,4))\n",
    "plt.legend(loc='best')\n",
    "plt.title('Global Mart Sales of APAC-Consumer')\n",
    "plt.show(block=False)"
   ]
  },
  {
   "cell_type": "markdown",
   "metadata": {},
   "source": [
    "Here we observe a linear trend; the seasonality is not as very obvious. Lets decompose this time series to get a better idea."
   ]
  },
  {
   "cell_type": "markdown",
   "metadata": {},
   "source": [
    "### Outlier Detection\n",
    "Before decompising the data, let's check for outliers first."
   ]
  },
  {
   "cell_type": "code",
   "execution_count": 32,
   "metadata": {},
   "outputs": [
    {
     "data": {
      "image/png": "[encoded data removed]",
      "text/plain": [
       "<Figure size 864x144 with 1 Axes>"
      ]
     },
     "metadata": {
      "needs_background": "light"
     },
     "output_type": "display_data"
    }
   ],
   "source": [
    "# Boxplot and Interquartile Range\n",
    "import seaborn as sns\n",
    "fig = plt.subplots(figsize=(12, 2))\n",
    "ax = sns.boxplot(x=sales['Sales'],whis=1.5)"
   ]
  },
  {
   "cell_type": "markdown",
   "metadata": {},
   "source": [
    "> No outliers can be observed from the boxplot above."
   ]
  },
  {
   "cell_type": "markdown",
   "metadata": {},
   "source": [
    "# Time Series Decomposition"
   ]
  },
  {
   "cell_type": "code",
   "execution_count": 33,
   "metadata": {},
   "outputs": [],
   "source": [
    "# Converting the data to timestamp to avoid errors\n",
    "sales = sales.to_timestamp()"
   ]
  },
  {
   "cell_type": "code",
   "execution_count": 34,
   "metadata": {
    "scrolled": false
   },
   "outputs": [
    {
     "data": {
      "image/png": "[encoded data removed]",
      "text/plain": [
       "<Figure size 864x576 with 4 Axes>"
      ]
     },
     "metadata": {
      "needs_background": "light"
     },
     "output_type": "display_data"
    }
   ],
   "source": [
    "# Additive Seasonal Decomposition\n",
    "from pylab import rcParams\n",
    "import statsmodels.api as sm\n",
    "rcParams['figure.figsize'] = 12, 8\n",
    "decomposition = sm.tsa.seasonal_decompose(sales.Sales, model='additive') \n",
    "fig = decomposition.plot()\n",
    "plt.show()"
   ]
  },
  {
   "cell_type": "markdown",
   "metadata": {},
   "source": [
    "> We can observe that there is some seasonality but we cannot be sure yet."
   ]
  },
  {
   "cell_type": "markdown",
   "metadata": {},
   "source": [
    "# Model Building and Evaluation"
   ]
  },
  {
   "cell_type": "markdown",
   "metadata": {},
   "source": [
    "## Train-Test Split"
   ]
  },
  {
   "cell_type": "code",
   "execution_count": 35,
   "metadata": {},
   "outputs": [],
   "source": [
    "train_len = 42\n",
    "train_sales = sales[0:train_len]       # Using 42 Months for Train Data\n",
    "test_sales = sales[train_len:]        # Using 6 Months for Test Data"
   ]
  },
  {
   "cell_type": "markdown",
   "metadata": {},
   "source": [
    "# Forecasting Methods\n",
    "**Looking at the flowchart for choosing the Right Time Series Method, we can say that the best smoothing method to Forecast Sales would be 'Holt-Winters Method' and among the ARIMA Models, SARIMA would be the best model for forecasting. Lets Check this.**"
   ]
  },
  {
   "cell_type": "markdown",
   "metadata": {},
   "source": [
    "![title](img/Flowchart.png)"
   ]
  },
  {
   "cell_type": "markdown",
   "metadata": {},
   "source": [
    "# Smoothing Techniques"
   ]
  },
  {
   "cell_type": "markdown",
   "metadata": {},
   "source": [
    "We will be applying the following methods to check for best Smoothing Technique:\n",
    "1. Simple exponential smoothing\n",
    "2. Holt’s exponential smoothing\n",
    "3. Holt-Winters’ exponential smoothing - Additive\n",
    "4. Holt-Winters’ exponential smoothing - Multiplicative"
   ]
  },
  {
   "cell_type": "markdown",
   "metadata": {},
   "source": [
    "## Simple Exponential Smoothing"
   ]
  },
  {
   "cell_type": "code",
   "execution_count": 36,
   "metadata": {},
   "outputs": [
    {
     "name": "stdout",
     "output_type": "stream",
     "text": [
      "{'smoothing_level': 0.2, 'smoothing_slope': None, 'smoothing_seasonal': None, 'damping_slope': nan, 'initial_level': 18821.989799999996, 'initial_slope': nan, 'initial_seasons': array([], dtype=float64), 'use_boxcox': False, 'lamda': None, 'remove_bias': False}\n"
     ]
    }
   ],
   "source": [
    "from statsmodels.tsa.holtwinters import SimpleExpSmoothing\n",
    "\n",
    "model = SimpleExpSmoothing(train_sales['Sales'])\n",
    "model_fit = model.fit(smoothing_level=0.2, optimized=False) # alpha = 0.2 \n",
    "print(model_fit.params)\n",
    "y_hat_ses = test_sales.copy()\n",
    "y_hat_ses['ses_forecast'] = model_fit.forecast(len(test_sales))"
   ]
  },
  {
   "cell_type": "markdown",
   "metadata": {},
   "source": [
    "### Plot train, test and forecast"
   ]
  },
  {
   "cell_type": "code",
   "execution_count": 37,
   "metadata": {},
   "outputs": [
    {
     "data": {
      "image/png": "[encoded data removed]",
      "text/plain": [
       "<Figure size 864x288 with 1 Axes>"
      ]
     },
     "metadata": {
      "needs_background": "light"
     },
     "output_type": "display_data"
    }
   ],
   "source": [
    "plt.figure(figsize=(12,4))\n",
    "plt.plot(train_sales['Sales'], label='Train')\n",
    "plt.plot(test_sales['Sales'], label='Test')\n",
    "plt.plot(y_hat_ses['ses_forecast'], label='Simple exponential smoothing forecast')\n",
    "plt.legend(loc='best')\n",
    "plt.title('Simple Exponential Smoothing Method')\n",
    "plt.show()"
   ]
  },
  {
   "cell_type": "markdown",
   "metadata": {},
   "source": [
    "### Calculate MAPE"
   ]
  },
  {
   "cell_type": "code",
   "execution_count": 38,
   "metadata": {},
   "outputs": [
    {
     "data": {
      "text/html": [
       "<div>\n",
       "<style scoped>\n",
       "    .dataframe tbody tr th:only-of-type {\n",
       "        vertical-align: middle;\n",
       "    }\n",
       "\n",
       "    .dataframe tbody tr th {\n",
       "        vertical-align: top;\n",
       "    }\n",
       "\n",
       "    .dataframe thead th {\n",
       "        text-align: right;\n",
       "    }\n",
       "</style>\n",
       "<table border=\"1\" class=\"dataframe\">\n",
       "  <thead>\n",
       "    <tr style=\"text-align: right;\">\n",
       "      <th></th>\n",
       "      <th>Method</th>\n",
       "      <th>MAPE</th>\n",
       "    </tr>\n",
       "  </thead>\n",
       "  <tbody>\n",
       "    <tr>\n",
       "      <th>0</th>\n",
       "      <td>Simple exponential smoothing forecast</td>\n",
       "      <td>15.99</td>\n",
       "    </tr>\n",
       "  </tbody>\n",
       "</table>\n",
       "</div>"
      ],
      "text/plain": [
       "                                  Method   MAPE\n",
       "0  Simple exponential smoothing forecast  15.99"
      ]
     },
     "execution_count": 38,
     "metadata": {},
     "output_type": "execute_result"
    }
   ],
   "source": [
    "mape = np.round(np.mean(np.abs(test_sales['Sales']-y_hat_ses['ses_forecast'])/test_sales['Sales'])*100,2)\n",
    "\n",
    "results = pd.DataFrame({'Method':['Simple exponential smoothing forecast'],'MAPE': [mape] })\n",
    "results"
   ]
  },
  {
   "cell_type": "markdown",
   "metadata": {},
   "source": [
    "## Holt’s exponential smoothing"
   ]
  },
  {
   "cell_type": "code",
   "execution_count": 39,
   "metadata": {},
   "outputs": [
    {
     "name": "stdout",
     "output_type": "stream",
     "text": [
      "{'smoothing_level': 5.627237358067814e-07, 'smoothing_slope': 5.585707788149618e-07, 'smoothing_seasonal': nan, 'damping_slope': nan, 'initial_level': 19662.850091634136, 'initial_slope': 728.0262935036827, 'initial_seasons': array([], dtype=float64), 'use_boxcox': False, 'lamda': None, 'remove_bias': False}\n"
     ]
    },
    {
     "name": "stderr",
     "output_type": "stream",
     "text": [
      "/opt/anaconda3/lib/python3.7/site-packages/statsmodels/tsa/holtwinters.py:744: ConvergenceWarning: Optimization failed to converge. Check mle_retvals.\n",
      "  ConvergenceWarning)\n"
     ]
    }
   ],
   "source": [
    "from statsmodels.tsa.holtwinters import ExponentialSmoothing\n",
    "\n",
    "model = ExponentialSmoothing(np.asarray(train_sales['Sales']),seasonal_periods=12, trend='additive', seasonal=None)\n",
    "#model_fit = model.fit(smoothing_level=0.2, smoothing_slope=0.04, optimized=False)\n",
    "model_fit = model.fit(optimized=True)\n",
    "print(model_fit.params)\n",
    "y_hat_holt = test_sales.copy()\n",
    "y_hat_holt['holt_forecast'] = model_fit.forecast(len(test_sales))"
   ]
  },
  {
   "cell_type": "markdown",
   "metadata": {},
   "source": [
    "### Plot Train, Test and Forecast"
   ]
  },
  {
   "cell_type": "code",
   "execution_count": 40,
   "metadata": {},
   "outputs": [
    {
     "data": {
      "image/png": "[encoded data removed]",
      "text/plain": [
       "<Figure size 864x288 with 1 Axes>"
      ]
     },
     "metadata": {
      "needs_background": "light"
     },
     "output_type": "display_data"
    }
   ],
   "source": [
    "plt.figure(figsize=(12,4))\n",
    "plt.plot(train_sales['Sales'], label='Train')\n",
    "plt.plot(test_sales['Sales'], label='Test')\n",
    "plt.plot(y_hat_holt['holt_forecast'], label='Holt\\'s exponential smoothing forecast')\n",
    "plt.legend(loc='best')\n",
    "plt.title('Holt\\'s Exponential Smoothing Method')\n",
    "plt.show()"
   ]
  },
  {
   "cell_type": "markdown",
   "metadata": {},
   "source": [
    "### Calculate MAPE"
   ]
  },
  {
   "cell_type": "code",
   "execution_count": 41,
   "metadata": {},
   "outputs": [
    {
     "data": {
      "text/html": [
       "<div>\n",
       "<style scoped>\n",
       "    .dataframe tbody tr th:only-of-type {\n",
       "        vertical-align: middle;\n",
       "    }\n",
       "\n",
       "    .dataframe tbody tr th {\n",
       "        vertical-align: top;\n",
       "    }\n",
       "\n",
       "    .dataframe thead th {\n",
       "        text-align: right;\n",
       "    }\n",
       "</style>\n",
       "<table border=\"1\" class=\"dataframe\">\n",
       "  <thead>\n",
       "    <tr style=\"text-align: right;\">\n",
       "      <th></th>\n",
       "      <th>Method</th>\n",
       "      <th>MAPE</th>\n",
       "    </tr>\n",
       "  </thead>\n",
       "  <tbody>\n",
       "    <tr>\n",
       "      <th>0</th>\n",
       "      <td>Simple exponential smoothing forecast</td>\n",
       "      <td>15.99</td>\n",
       "    </tr>\n",
       "    <tr>\n",
       "      <th>0</th>\n",
       "      <td>Holt's exponential smoothing method</td>\n",
       "      <td>14.67</td>\n",
       "    </tr>\n",
       "  </tbody>\n",
       "</table>\n",
       "</div>"
      ],
      "text/plain": [
       "                                  Method   MAPE\n",
       "0  Simple exponential smoothing forecast  15.99\n",
       "0    Holt's exponential smoothing method  14.67"
      ]
     },
     "execution_count": 41,
     "metadata": {},
     "output_type": "execute_result"
    }
   ],
   "source": [
    "mape = np.round(np.mean(np.abs(test_sales['Sales']-y_hat_holt['holt_forecast'])/test_sales['Sales'])*100,2)\n",
    "\n",
    "tempResults = pd.DataFrame({'Method':['Holt\\'s exponential smoothing method'], 'MAPE': [mape] })\n",
    "results = pd.concat([results, tempResults])\n",
    "results = results[['Method', 'MAPE']]\n",
    "results"
   ]
  },
  {
   "cell_type": "markdown",
   "metadata": {},
   "source": [
    "## Holt-Winters’ exponential smoothing - Additive"
   ]
  },
  {
   "cell_type": "code",
   "execution_count": 42,
   "metadata": {},
   "outputs": [
    {
     "name": "stdout",
     "output_type": "stream",
     "text": [
      "{'smoothing_level': 1.5184305341224914e-05, 'smoothing_slope': 1.5181664162983083e-05, 'smoothing_seasonal': 0.0, 'damping_slope': nan, 'initial_level': 30726.376810705675, 'initial_slope': 681.4626134515486, 'initial_seasons': array([ -9896.48784843, -19066.37419577, -11837.57010739, -20058.86777711,\n",
      "        -9125.10164866,  -1098.98956305, -14099.00571122, -13080.28158206,\n",
      "       -13028.56626988,    996.31662701,  -4531.27391113,  -2727.09902587]), 'use_boxcox': False, 'lamda': None, 'remove_bias': False}\n"
     ]
    },
    {
     "name": "stderr",
     "output_type": "stream",
     "text": [
      "/opt/anaconda3/lib/python3.7/site-packages/statsmodels/tsa/holtwinters.py:744: ConvergenceWarning: Optimization failed to converge. Check mle_retvals.\n",
      "  ConvergenceWarning)\n"
     ]
    }
   ],
   "source": [
    "y_hat_hwa = test_sales.copy()\n",
    "model = ExponentialSmoothing(np.asarray(train_sales['Sales']), seasonal_periods=12 ,trend='add', seasonal='add')\n",
    "model_fit = model.fit(optimized=True)\n",
    "print(model_fit.params)\n",
    "y_hat_hwa['hw_forecast'] = model_fit.forecast(len(test_sales))"
   ]
  },
  {
   "cell_type": "markdown",
   "metadata": {},
   "source": [
    "### Plot Train, Test and Forecast"
   ]
  },
  {
   "cell_type": "code",
   "execution_count": 43,
   "metadata": {},
   "outputs": [
    {
     "data": {
      "image/png": "[encoded data removed]",
      "text/plain": [
       "<Figure size 864x288 with 1 Axes>"
      ]
     },
     "metadata": {
      "needs_background": "light"
     },
     "output_type": "display_data"
    }
   ],
   "source": [
    "plt.figure(figsize=(12,4))\n",
    "plt.plot( train_sales['Sales'], label='Train')\n",
    "plt.plot(test_sales['Sales'], label='Test')\n",
    "plt.plot(y_hat_hwa['hw_forecast'], label='Holt Winters\\'s additive forecast')\n",
    "plt.legend(loc='best')\n",
    "plt.title('Holt Winters\\' Additive Method')\n",
    "plt.show()"
   ]
  },
  {
   "cell_type": "markdown",
   "metadata": {},
   "source": [
    "### Calculate MAPE"
   ]
  },
  {
   "cell_type": "code",
   "execution_count": 44,
   "metadata": {},
   "outputs": [
    {
     "data": {
      "text/html": [
       "<div>\n",
       "<style scoped>\n",
       "    .dataframe tbody tr th:only-of-type {\n",
       "        vertical-align: middle;\n",
       "    }\n",
       "\n",
       "    .dataframe tbody tr th {\n",
       "        vertical-align: top;\n",
       "    }\n",
       "\n",
       "    .dataframe thead th {\n",
       "        text-align: right;\n",
       "    }\n",
       "</style>\n",
       "<table border=\"1\" class=\"dataframe\">\n",
       "  <thead>\n",
       "    <tr style=\"text-align: right;\">\n",
       "      <th></th>\n",
       "      <th>Method</th>\n",
       "      <th>MAPE</th>\n",
       "    </tr>\n",
       "  </thead>\n",
       "  <tbody>\n",
       "    <tr>\n",
       "      <th>0</th>\n",
       "      <td>Simple exponential smoothing forecast</td>\n",
       "      <td>15.99</td>\n",
       "    </tr>\n",
       "    <tr>\n",
       "      <th>0</th>\n",
       "      <td>Holt's exponential smoothing method</td>\n",
       "      <td>14.67</td>\n",
       "    </tr>\n",
       "    <tr>\n",
       "      <th>0</th>\n",
       "      <td>Holt Winters' additive method</td>\n",
       "      <td>8.42</td>\n",
       "    </tr>\n",
       "  </tbody>\n",
       "</table>\n",
       "</div>"
      ],
      "text/plain": [
       "                                  Method   MAPE\n",
       "0  Simple exponential smoothing forecast  15.99\n",
       "0    Holt's exponential smoothing method  14.67\n",
       "0          Holt Winters' additive method   8.42"
      ]
     },
     "execution_count": 44,
     "metadata": {},
     "output_type": "execute_result"
    }
   ],
   "source": [
    "mape = np.round(np.mean(np.abs(test_sales['Sales']-y_hat_hwa['hw_forecast'])/test_sales['Sales'])*100,2)\n",
    "\n",
    "tempResults = pd.DataFrame({'Method':['Holt Winters\\' additive method'], 'MAPE': [mape] })\n",
    "results = pd.concat([results, tempResults])\n",
    "results = results[['Method', 'MAPE']]\n",
    "results"
   ]
  },
  {
   "cell_type": "markdown",
   "metadata": {},
   "source": [
    "## Holt-Winters’ exponential smoothing - Multiplicative"
   ]
  },
  {
   "cell_type": "code",
   "execution_count": 45,
   "metadata": {},
   "outputs": [
    {
     "name": "stdout",
     "output_type": "stream",
     "text": [
      "{'smoothing_level': 0.05263157508923701, 'smoothing_slope': 0.05263157431919611, 'smoothing_seasonal': 0.1578946902981123, 'damping_slope': nan, 'initial_level': 34110.965270043744, 'initial_slope': 730.4181594897913, 'initial_seasons': array([0.63077589, 0.37866617, 0.61733525, 0.45673281, 0.64532906,\n",
      "       0.79505355, 0.5577297 , 0.57994453, 0.58277784, 0.83287475,\n",
      "       0.74144394, 0.80759051]), 'use_boxcox': False, 'lamda': None, 'remove_bias': False}\n"
     ]
    },
    {
     "name": "stderr",
     "output_type": "stream",
     "text": [
      "/opt/anaconda3/lib/python3.7/site-packages/statsmodels/tsa/holtwinters.py:744: ConvergenceWarning: Optimization failed to converge. Check mle_retvals.\n",
      "  ConvergenceWarning)\n"
     ]
    }
   ],
   "source": [
    "model = ExponentialSmoothing(np.asarray(train_sales['Sales']), seasonal_periods=12, trend='add', seasonal='mul')\n",
    "model_fit = model.fit(optimized=True)\n",
    "print(model_fit.params)\n",
    "y_hat_hwm = test_sales.copy()\n",
    "y_hat_hwm['hw_forecast'] = model_fit.forecast(len(test_sales))"
   ]
  },
  {
   "cell_type": "markdown",
   "metadata": {},
   "source": [
    "### Plot train, test and forecast"
   ]
  },
  {
   "cell_type": "code",
   "execution_count": 46,
   "metadata": {},
   "outputs": [
    {
     "data": {
      "image/png": "[encoded data removed]",
      "text/plain": [
       "<Figure size 864x288 with 1 Axes>"
      ]
     },
     "metadata": {
      "needs_background": "light"
     },
     "output_type": "display_data"
    }
   ],
   "source": [
    "plt.figure(figsize=(12,4))\n",
    "plt.plot( train_sales['Sales'], label='Train')\n",
    "plt.plot(test_sales['Sales'], label='Test')\n",
    "plt.plot(y_hat_hwm['hw_forecast'], label='Holt Winters\\'s mulitplicative forecast')\n",
    "plt.legend(loc='best')\n",
    "plt.title('Holt Winters\\' Mulitplicative Method')\n",
    "plt.show()"
   ]
  },
  {
   "cell_type": "markdown",
   "metadata": {},
   "source": [
    "### Calculate MAPE"
   ]
  },
  {
   "cell_type": "code",
   "execution_count": 47,
   "metadata": {},
   "outputs": [
    {
     "data": {
      "text/html": [
       "<div>\n",
       "<style scoped>\n",
       "    .dataframe tbody tr th:only-of-type {\n",
       "        vertical-align: middle;\n",
       "    }\n",
       "\n",
       "    .dataframe tbody tr th {\n",
       "        vertical-align: top;\n",
       "    }\n",
       "\n",
       "    .dataframe thead th {\n",
       "        text-align: right;\n",
       "    }\n",
       "</style>\n",
       "<table border=\"1\" class=\"dataframe\">\n",
       "  <thead>\n",
       "    <tr style=\"text-align: right;\">\n",
       "      <th></th>\n",
       "      <th>Method</th>\n",
       "      <th>MAPE</th>\n",
       "    </tr>\n",
       "  </thead>\n",
       "  <tbody>\n",
       "    <tr>\n",
       "      <th>0</th>\n",
       "      <td>Simple exponential smoothing forecast</td>\n",
       "      <td>15.99</td>\n",
       "    </tr>\n",
       "    <tr>\n",
       "      <th>0</th>\n",
       "      <td>Holt's exponential smoothing method</td>\n",
       "      <td>14.67</td>\n",
       "    </tr>\n",
       "    <tr>\n",
       "      <th>0</th>\n",
       "      <td>Holt Winters' additive method</td>\n",
       "      <td>8.42</td>\n",
       "    </tr>\n",
       "    <tr>\n",
       "      <th>0</th>\n",
       "      <td>Holt Winters' multiplicative method</td>\n",
       "      <td>9.78</td>\n",
       "    </tr>\n",
       "  </tbody>\n",
       "</table>\n",
       "</div>"
      ],
      "text/plain": [
       "                                  Method   MAPE\n",
       "0  Simple exponential smoothing forecast  15.99\n",
       "0    Holt's exponential smoothing method  14.67\n",
       "0          Holt Winters' additive method   8.42\n",
       "0    Holt Winters' multiplicative method   9.78"
      ]
     },
     "execution_count": 47,
     "metadata": {},
     "output_type": "execute_result"
    }
   ],
   "source": [
    "mape = np.round(np.mean(np.abs(test_sales['Sales']-y_hat_hwm['hw_forecast'])/test_sales['Sales'])*100,2)\n",
    "\n",
    "tempResults = pd.DataFrame({'Method':['Holt Winters\\' multiplicative method'], 'MAPE': [mape] })\n",
    "results = pd.concat([results, tempResults])\n",
    "results = results[['Method', 'MAPE']]\n",
    "results"
   ]
  },
  {
   "cell_type": "markdown",
   "metadata": {},
   "source": [
    "**As we can see, the plot for Holt Winters' Additive Method shows that this method is able to predict the sales closer to the actual values better. Also, the MAPE value is the least for this method among all the other methods done as seen in the results dataframe above. Therefore, we can conclude that Holt Winters' Method is the best Smoothing Techique for the Forecast.**"
   ]
  },
  {
   "cell_type": "markdown",
   "metadata": {},
   "source": [
    "# Regression Techniques"
   ]
  },
  {
   "cell_type": "markdown",
   "metadata": {},
   "source": [
    "## Stationary Test"
   ]
  },
  {
   "cell_type": "code",
   "execution_count": 48,
   "metadata": {},
   "outputs": [
    {
     "name": "stdout",
     "output_type": "stream",
     "text": [
      "KPSS Statistic: 0.577076\n",
      "Critical Values @ 0.05: 0.46\n",
      "p-value: 0.024720\n"
     ]
    }
   ],
   "source": [
    "# KPSS test\n",
    "from statsmodels.tsa.stattools import kpss\n",
    "kpss_test = kpss(sales['Sales'])\n",
    "\n",
    "print('KPSS Statistic: %f' % kpss_test[0])\n",
    "print('Critical Values @ 0.05: %.2f' % kpss_test[3]['5%'])\n",
    "print('p-value: %f' % kpss_test[1])"
   ]
  },
  {
   "cell_type": "markdown",
   "metadata": {},
   "source": [
    "The Null Hypothesis for KPSS Test is that the series is Stationary _(which means p-value must be greater than 0.05)_ and Alternative Hypothesis is that the series is not stationary _(where p ≤ 0.05)_.\n",
    "\n",
    "So here, the p-value is 0.024 which means that the series is not Stationary. So we need to use the **box-cox transformation and differencing** to make the time-series stationary."
   ]
  },
  {
   "cell_type": "markdown",
   "metadata": {},
   "source": [
    "## Box-Cox Transformation"
   ]
  },
  {
   "cell_type": "code",
   "execution_count": 50,
   "metadata": {},
   "outputs": [
    {
     "data": {
      "image/png": "[encoded data removed]",
      "text/plain": [
       "<Figure size 864x288 with 1 Axes>"
      ]
     },
     "metadata": {
      "needs_background": "light"
     },
     "output_type": "display_data"
    }
   ],
   "source": [
    "from scipy.stats import boxcox\n",
    "data_boxcox = pd.Series(boxcox(sales['Sales'], lmbda=0), index = sales.index) # lmbda=0 implies log transformation\n",
    "\n",
    "plt.figure(figsize=(12,4))\n",
    "plt.plot(data_boxcox, label='After Box Cox tranformation')\n",
    "plt.legend(loc='best')\n",
    "plt.title('After Box Cox transform')\n",
    "plt.show()"
   ]
  },
  {
   "cell_type": "code",
   "execution_count": 51,
   "metadata": {},
   "outputs": [
    {
     "data": {
      "text/plain": [
       "[<matplotlib.lines.Line2D at 0x7fbd423f2550>]"
      ]
     },
     "execution_count": 51,
     "metadata": {},
     "output_type": "execute_result"
    },
    {
     "data": {
      "image/png": "[encoded data removed]",
      "text/plain": [
       "<Figure size 864x288 with 1 Axes>"
      ]
     },
     "metadata": {
      "needs_background": "light"
     },
     "output_type": "display_data"
    }
   ],
   "source": [
    "plt.figure(figsize=(12,4))\n",
    "plt.plot( sales['Sales'], label='sales')"
   ]
  },
  {
   "cell_type": "markdown",
   "metadata": {},
   "source": [
    "## Differencing to Remove Trend"
   ]
  },
  {
   "cell_type": "code",
   "execution_count": 52,
   "metadata": {},
   "outputs": [
    {
     "data": {
      "image/png": "[encoded data removed]",
      "text/plain": [
       "<Figure size 864x288 with 1 Axes>"
      ]
     },
     "metadata": {
      "needs_background": "light"
     },
     "output_type": "display_data"
    }
   ],
   "source": [
    "data_boxcox_diff = pd.Series(data_boxcox - data_boxcox.shift(), sales.index)\n",
    "plt.figure(figsize=(12,4))\n",
    "plt.plot(data_boxcox_diff, label='After Box Cox tranformation and differencing')\n",
    "plt.legend(loc='best')\n",
    "plt.title('After Box Cox transform and differencing')\n",
    "plt.show()"
   ]
  },
  {
   "cell_type": "code",
   "execution_count": 53,
   "metadata": {},
   "outputs": [],
   "source": [
    "data_boxcox_diff.dropna(inplace=True)"
   ]
  },
  {
   "cell_type": "markdown",
   "metadata": {},
   "source": [
    "## Train-Test Split"
   ]
  },
  {
   "cell_type": "markdown",
   "metadata": {},
   "source": [
    "#### Differencing and boxcox was done on the entire data, hence need to split it again."
   ]
  },
  {
   "cell_type": "code",
   "execution_count": 54,
   "metadata": {},
   "outputs": [],
   "source": [
    "train_data_boxcox = data_boxcox[:train_len] \n",
    "test_data_boxcox = data_boxcox[train_len:]\n",
    "\n",
    "train_data_boxcox_diff = data_boxcox_diff[:train_len] \n",
    "test_data_boxcox_diff = data_boxcox_diff[train_len:]"
   ]
  },
  {
   "cell_type": "code",
   "execution_count": 55,
   "metadata": {},
   "outputs": [
    {
     "data": {
      "text/plain": [
       "Order Date\n",
       "2014-08-01    0.112012\n",
       "2014-09-01   -0.072673\n",
       "2014-10-01    0.298459\n",
       "2014-11-01    0.265449\n",
       "2014-12-01   -0.335151\n",
       "Freq: MS, dtype: float64"
      ]
     },
     "execution_count": 55,
     "metadata": {},
     "output_type": "execute_result"
    }
   ],
   "source": [
    "test_data_boxcox_diff"
   ]
  },
  {
   "cell_type": "markdown",
   "metadata": {},
   "source": [
    "We will be applying the following methods to check for best Auto Regressive Model:\n",
    "1. AR model\n",
    "2. MA model\n",
    "3. ARMA model\n",
    "4. ARIMA model\n",
    "5. SARIMA model"
   ]
  },
  {
   "cell_type": "markdown",
   "metadata": {},
   "source": [
    "## AR Model"
   ]
  },
  {
   "cell_type": "code",
   "execution_count": 58,
   "metadata": {},
   "outputs": [
    {
     "name": "stdout",
     "output_type": "stream",
     "text": [
      "const      0.020458\n",
      "ar.L1.y   -0.410077\n",
      "dtype: float64\n"
     ]
    }
   ],
   "source": [
    "from statsmodels.tsa.arima_model import ARIMA\n",
    "model = ARIMA(train_data_boxcox_diff, order=(1, 0, 0)) \n",
    "model_fit = model.fit()\n",
    "print(model_fit.params)"
   ]
  },
  {
   "cell_type": "code",
   "execution_count": 60,
   "metadata": {},
   "outputs": [],
   "source": [
    "# In order to make the forecast, we need to transform the forecasts made to the original form\n",
    "y_hat_ar = data_boxcox_diff.copy()\n",
    "y_hat_ar['ar_forecast_boxcox_diff'] = model_fit.predict(data_boxcox_diff.index.min(), data_boxcox_diff.index.max())\n",
    "y_hat_ar['ar_forecast_boxcox'] = y_hat_ar['ar_forecast_boxcox_diff'].cumsum()\n",
    "y_hat_ar['ar_forecast_boxcox'] = y_hat_ar['ar_forecast_boxcox'].add(data_boxcox[0])\n",
    "y_hat_ar['ar_forecast'] = np.exp(y_hat_ar['ar_forecast_boxcox'])\n",
    "# In order to get back the original time series we need to do a cumulative sum to remove the differencing and \n",
    "# exponentiate the forecasts in order to remove the effect of the boxcox transformation"
   ]
  },
  {
   "cell_type": "markdown",
   "metadata": {},
   "source": [
    "### Plot Train, Test and Forecast"
   ]
  },
  {
   "cell_type": "code",
   "execution_count": 62,
   "metadata": {},
   "outputs": [
    {
     "data": {
      "image/png": "[encoded data removed]",
      "text/plain": [
       "<Figure size 864x288 with 1 Axes>"
      ]
     },
     "metadata": {
      "needs_background": "light"
     },
     "output_type": "display_data"
    }
   ],
   "source": [
    "plt.figure(figsize=(12,4))\n",
    "plt.plot(train_sales['Sales'], label='Train')\n",
    "plt.plot(test_sales['Sales'], label='Test')\n",
    "plt.plot(y_hat_ar['ar_forecast'][test_sales.index.min():], label='Auto regression forecast')\n",
    "plt.legend(loc='best')\n",
    "plt.title('Auto Regression Method')\n",
    "plt.show()"
   ]
  },
  {
   "cell_type": "markdown",
   "metadata": {},
   "source": [
    "### Calculate MAPE"
   ]
  },
  {
   "cell_type": "code",
   "execution_count": 63,
   "metadata": {},
   "outputs": [
    {
     "data": {
      "text/html": [
       "<div>\n",
       "<style scoped>\n",
       "    .dataframe tbody tr th:only-of-type {\n",
       "        vertical-align: middle;\n",
       "    }\n",
       "\n",
       "    .dataframe tbody tr th {\n",
       "        vertical-align: top;\n",
       "    }\n",
       "\n",
       "    .dataframe thead th {\n",
       "        text-align: right;\n",
       "    }\n",
       "</style>\n",
       "<table border=\"1\" class=\"dataframe\">\n",
       "  <thead>\n",
       "    <tr style=\"text-align: right;\">\n",
       "      <th></th>\n",
       "      <th>Method</th>\n",
       "      <th>MAPE</th>\n",
       "    </tr>\n",
       "  </thead>\n",
       "  <tbody>\n",
       "    <tr>\n",
       "      <th>0</th>\n",
       "      <td>Simple exponential smoothing forecast</td>\n",
       "      <td>15.99</td>\n",
       "    </tr>\n",
       "    <tr>\n",
       "      <th>0</th>\n",
       "      <td>Holt's exponential smoothing method</td>\n",
       "      <td>14.67</td>\n",
       "    </tr>\n",
       "    <tr>\n",
       "      <th>0</th>\n",
       "      <td>Holt Winters' additive method</td>\n",
       "      <td>8.42</td>\n",
       "    </tr>\n",
       "    <tr>\n",
       "      <th>0</th>\n",
       "      <td>Holt Winters' multiplicative method</td>\n",
       "      <td>9.78</td>\n",
       "    </tr>\n",
       "    <tr>\n",
       "      <th>0</th>\n",
       "      <td>Autoregressive (AR) method</td>\n",
       "      <td>16.11</td>\n",
       "    </tr>\n",
       "  </tbody>\n",
       "</table>\n",
       "</div>"
      ],
      "text/plain": [
       "                                  Method   MAPE\n",
       "0  Simple exponential smoothing forecast  15.99\n",
       "0    Holt's exponential smoothing method  14.67\n",
       "0          Holt Winters' additive method   8.42\n",
       "0    Holt Winters' multiplicative method   9.78\n",
       "0             Autoregressive (AR) method  16.11"
      ]
     },
     "execution_count": 63,
     "metadata": {},
     "output_type": "execute_result"
    }
   ],
   "source": [
    "mape = np.round(np.mean(np.abs(test_sales['Sales']-y_hat_ar['ar_forecast'][test_sales.index.min():])/test_sales['Sales'])*100,2)\n",
    "\n",
    "tempResults = pd.DataFrame({'Method':['Autoregressive (AR) method'], 'MAPE': [mape] })\n",
    "results = pd.concat([results, tempResults])\n",
    "results = results[['Method', 'MAPE']]\n",
    "results"
   ]
  },
  {
   "cell_type": "markdown",
   "metadata": {},
   "source": [
    "## MA Model"
   ]
  },
  {
   "cell_type": "code",
   "execution_count": 64,
   "metadata": {},
   "outputs": [
    {
     "name": "stdout",
     "output_type": "stream",
     "text": [
      "const      0.020855\n",
      "ma.L1.y   -1.000000\n",
      "dtype: float64\n"
     ]
    }
   ],
   "source": [
    "model = ARIMA(train_data_boxcox_diff, order=(0, 0, 1)) \n",
    "model_fit = model.fit()\n",
    "print(model_fit.params)"
   ]
  },
  {
   "cell_type": "code",
   "execution_count": 65,
   "metadata": {},
   "outputs": [],
   "source": [
    "y_hat_ma = data_boxcox_diff.copy()\n",
    "y_hat_ma['ma_forecast_boxcox_diff'] = model_fit.predict(data_boxcox_diff.index.min(), data_boxcox_diff.index.max())\n",
    "y_hat_ma['ma_forecast_boxcox'] = y_hat_ma['ma_forecast_boxcox_diff'].cumsum()\n",
    "y_hat_ma['ma_forecast_boxcox'] = y_hat_ma['ma_forecast_boxcox'].add(data_boxcox[0])\n",
    "y_hat_ma['ma_forecast'] = np.exp(y_hat_ma['ma_forecast_boxcox'])"
   ]
  },
  {
   "cell_type": "markdown",
   "metadata": {},
   "source": [
    "### Plot Train, Test and Forecast"
   ]
  },
  {
   "cell_type": "code",
   "execution_count": 68,
   "metadata": {},
   "outputs": [
    {
     "data": {
      "image/png": "[encoded data removed]",
      "text/plain": [
       "<Figure size 864x288 with 1 Axes>"
      ]
     },
     "metadata": {
      "needs_background": "light"
     },
     "output_type": "display_data"
    }
   ],
   "source": [
    "plt.figure(figsize=(12,4))\n",
    "plt.plot(train_sales['Sales'], label='Train')\n",
    "plt.plot(test_sales['Sales'], label='Test')\n",
    "plt.plot(y_hat_ma['ma_forecast'][test_sales.index.min():], label='Moving average forecast')\n",
    "plt.legend(loc='best')\n",
    "plt.title('Moving Average Method')\n",
    "plt.show()"
   ]
  },
  {
   "cell_type": "markdown",
   "metadata": {},
   "source": [
    "### Calculate MAPE"
   ]
  },
  {
   "cell_type": "code",
   "execution_count": 69,
   "metadata": {},
   "outputs": [
    {
     "data": {
      "text/html": [
       "<div>\n",
       "<style scoped>\n",
       "    .dataframe tbody tr th:only-of-type {\n",
       "        vertical-align: middle;\n",
       "    }\n",
       "\n",
       "    .dataframe tbody tr th {\n",
       "        vertical-align: top;\n",
       "    }\n",
       "\n",
       "    .dataframe thead th {\n",
       "        text-align: right;\n",
       "    }\n",
       "</style>\n",
       "<table border=\"1\" class=\"dataframe\">\n",
       "  <thead>\n",
       "    <tr style=\"text-align: right;\">\n",
       "      <th></th>\n",
       "      <th>Method</th>\n",
       "      <th>MAPE</th>\n",
       "    </tr>\n",
       "  </thead>\n",
       "  <tbody>\n",
       "    <tr>\n",
       "      <th>0</th>\n",
       "      <td>Simple exponential smoothing forecast</td>\n",
       "      <td>15.99</td>\n",
       "    </tr>\n",
       "    <tr>\n",
       "      <th>0</th>\n",
       "      <td>Holt's exponential smoothing method</td>\n",
       "      <td>14.67</td>\n",
       "    </tr>\n",
       "    <tr>\n",
       "      <th>0</th>\n",
       "      <td>Holt Winters' additive method</td>\n",
       "      <td>8.42</td>\n",
       "    </tr>\n",
       "    <tr>\n",
       "      <th>0</th>\n",
       "      <td>Holt Winters' multiplicative method</td>\n",
       "      <td>9.78</td>\n",
       "    </tr>\n",
       "    <tr>\n",
       "      <th>0</th>\n",
       "      <td>Autoregressive (AR) method</td>\n",
       "      <td>16.11</td>\n",
       "    </tr>\n",
       "    <tr>\n",
       "      <th>0</th>\n",
       "      <td>Moving Average (MA) method</td>\n",
       "      <td>41.97</td>\n",
       "    </tr>\n",
       "  </tbody>\n",
       "</table>\n",
       "</div>"
      ],
      "text/plain": [
       "                                  Method   MAPE\n",
       "0  Simple exponential smoothing forecast  15.99\n",
       "0    Holt's exponential smoothing method  14.67\n",
       "0          Holt Winters' additive method   8.42\n",
       "0    Holt Winters' multiplicative method   9.78\n",
       "0             Autoregressive (AR) method  16.11\n",
       "0             Moving Average (MA) method  41.97"
      ]
     },
     "execution_count": 69,
     "metadata": {},
     "output_type": "execute_result"
    }
   ],
   "source": [
    "mape = np.round(np.mean(np.abs(test_sales['Sales']-y_hat_ma['ma_forecast'][test_sales.index.min():])/test_sales['Sales'])*100,2)\n",
    "\n",
    "tempResults = pd.DataFrame({'Method':['Moving Average (MA) method'], 'MAPE': [mape] })\n",
    "results = pd.concat([results, tempResults])\n",
    "results = results[['Method', 'MAPE']]\n",
    "results"
   ]
  },
  {
   "cell_type": "markdown",
   "metadata": {},
   "source": [
    "## ARMA Model"
   ]
  },
  {
   "cell_type": "code",
   "execution_count": 70,
   "metadata": {},
   "outputs": [
    {
     "name": "stdout",
     "output_type": "stream",
     "text": [
      "const      0.020847\n",
      "ar.L1.y    0.069472\n",
      "ma.L1.y   -1.000000\n",
      "dtype: float64\n"
     ]
    }
   ],
   "source": [
    "model = ARIMA(train_data_boxcox_diff, order=(1, 0, 1))\n",
    "model_fit = model.fit()\n",
    "print(model_fit.params)"
   ]
  },
  {
   "cell_type": "code",
   "execution_count": 71,
   "metadata": {},
   "outputs": [],
   "source": [
    "y_hat_arma = data_boxcox_diff.copy()\n",
    "y_hat_arma['arma_forecast_boxcox_diff'] = model_fit.predict(data_boxcox_diff.index.min(), data_boxcox_diff.index.max())\n",
    "y_hat_arma['arma_forecast_boxcox'] = y_hat_arma['arma_forecast_boxcox_diff'].cumsum()\n",
    "y_hat_arma['arma_forecast_boxcox'] = y_hat_arma['arma_forecast_boxcox'].add(data_boxcox[0])\n",
    "y_hat_arma['arma_forecast'] = np.exp(y_hat_arma['arma_forecast_boxcox'])"
   ]
  },
  {
   "cell_type": "markdown",
   "metadata": {},
   "source": [
    "### Plot Train, Test and Forecast"
   ]
  },
  {
   "cell_type": "code",
   "execution_count": 72,
   "metadata": {},
   "outputs": [
    {
     "data": {
      "image/png": "[encoded data removed]",
      "text/plain": [
       "<Figure size 864x288 with 1 Axes>"
      ]
     },
     "metadata": {
      "needs_background": "light"
     },
     "output_type": "display_data"
    }
   ],
   "source": [
    "plt.figure(figsize=(12,4))\n",
    "plt.plot( sales['Sales'][:train_len-1], label='Train')\n",
    "plt.plot(sales['Sales'][train_len-1:], label='Test')\n",
    "plt.plot(y_hat_arma['arma_forecast'][test_sales.index.min():], label='ARMA forecast')\n",
    "plt.legend(loc='best')\n",
    "plt.title('ARMA Method')\n",
    "plt.show()"
   ]
  },
  {
   "cell_type": "markdown",
   "metadata": {},
   "source": [
    "### Calculate MAPE"
   ]
  },
  {
   "cell_type": "code",
   "execution_count": 73,
   "metadata": {},
   "outputs": [
    {
     "data": {
      "text/html": [
       "<div>\n",
       "<style scoped>\n",
       "    .dataframe tbody tr th:only-of-type {\n",
       "        vertical-align: middle;\n",
       "    }\n",
       "\n",
       "    .dataframe tbody tr th {\n",
       "        vertical-align: top;\n",
       "    }\n",
       "\n",
       "    .dataframe thead th {\n",
       "        text-align: right;\n",
       "    }\n",
       "</style>\n",
       "<table border=\"1\" class=\"dataframe\">\n",
       "  <thead>\n",
       "    <tr style=\"text-align: right;\">\n",
       "      <th></th>\n",
       "      <th>Method</th>\n",
       "      <th>MAPE</th>\n",
       "    </tr>\n",
       "  </thead>\n",
       "  <tbody>\n",
       "    <tr>\n",
       "      <th>0</th>\n",
       "      <td>Simple exponential smoothing forecast</td>\n",
       "      <td>15.99</td>\n",
       "    </tr>\n",
       "    <tr>\n",
       "      <th>0</th>\n",
       "      <td>Holt's exponential smoothing method</td>\n",
       "      <td>14.67</td>\n",
       "    </tr>\n",
       "    <tr>\n",
       "      <th>0</th>\n",
       "      <td>Holt Winters' additive method</td>\n",
       "      <td>8.42</td>\n",
       "    </tr>\n",
       "    <tr>\n",
       "      <th>0</th>\n",
       "      <td>Holt Winters' multiplicative method</td>\n",
       "      <td>9.78</td>\n",
       "    </tr>\n",
       "    <tr>\n",
       "      <th>0</th>\n",
       "      <td>Autoregressive (AR) method</td>\n",
       "      <td>16.11</td>\n",
       "    </tr>\n",
       "    <tr>\n",
       "      <th>0</th>\n",
       "      <td>Moving Average (MA) method</td>\n",
       "      <td>41.97</td>\n",
       "    </tr>\n",
       "    <tr>\n",
       "      <th>0</th>\n",
       "      <td>Autoregressive moving average (ARMA) method</td>\n",
       "      <td>41.17</td>\n",
       "    </tr>\n",
       "  </tbody>\n",
       "</table>\n",
       "</div>"
      ],
      "text/plain": [
       "                                        Method   MAPE\n",
       "0        Simple exponential smoothing forecast  15.99\n",
       "0          Holt's exponential smoothing method  14.67\n",
       "0                Holt Winters' additive method   8.42\n",
       "0          Holt Winters' multiplicative method   9.78\n",
       "0                   Autoregressive (AR) method  16.11\n",
       "0                   Moving Average (MA) method  41.97\n",
       "0  Autoregressive moving average (ARMA) method  41.17"
      ]
     },
     "execution_count": 73,
     "metadata": {},
     "output_type": "execute_result"
    }
   ],
   "source": [
    "mape = np.round(np.mean(np.abs(test_sales['Sales']-y_hat_arma['arma_forecast'][train_len-1:])/test_sales['Sales'])*100,2)\n",
    "\n",
    "tempResults = pd.DataFrame({'Method':['Autoregressive moving average (ARMA) method'], 'MAPE': [mape] })\n",
    "results = pd.concat([results, tempResults])\n",
    "results = results[['Method', 'MAPE']]\n",
    "results"
   ]
  },
  {
   "cell_type": "markdown",
   "metadata": {},
   "source": [
    "## ARIMA Model"
   ]
  },
  {
   "cell_type": "code",
   "execution_count": 74,
   "metadata": {},
   "outputs": [
    {
     "name": "stdout",
     "output_type": "stream",
     "text": [
      "const        0.02147\n",
      "ar.L1.D.y    0.07458\n",
      "ma.L1.D.y   -1.00000\n",
      "dtype: float64\n"
     ]
    }
   ],
   "source": [
    "model = ARIMA(train_data_boxcox, order=(1, 1, 1))\n",
    "model_fit = model.fit()\n",
    "print(model_fit.params)"
   ]
  },
  {
   "cell_type": "code",
   "execution_count": 75,
   "metadata": {},
   "outputs": [],
   "source": [
    "y_hat_arima = data_boxcox_diff.copy()\n",
    "y_hat_arima['arima_forecast_boxcox_diff'] = model_fit.predict(data_boxcox_diff.index.min(), data_boxcox_diff.index.max())\n",
    "y_hat_arima['arima_forecast_boxcox'] = y_hat_arima['arima_forecast_boxcox_diff'].cumsum()\n",
    "y_hat_arima['arima_forecast_boxcox'] = y_hat_arima['arima_forecast_boxcox'].add(data_boxcox[0])\n",
    "y_hat_arima['arima_forecast'] = np.exp(y_hat_arima['arima_forecast_boxcox'])"
   ]
  },
  {
   "cell_type": "markdown",
   "metadata": {},
   "source": [
    "### Plot Train, Test and Forecast"
   ]
  },
  {
   "cell_type": "code",
   "execution_count": 76,
   "metadata": {},
   "outputs": [
    {
     "data": {
      "image/png": "[encoded data removed]",
      "text/plain": [
       "<Figure size 864x288 with 1 Axes>"
      ]
     },
     "metadata": {
      "needs_background": "light"
     },
     "output_type": "display_data"
    }
   ],
   "source": [
    "plt.figure(figsize=(12,4))\n",
    "plt.plot(train_sales['Sales'], label='Train')\n",
    "plt.plot(test_sales['Sales'], label='Test')\n",
    "plt.plot(y_hat_arima['arima_forecast'][test_sales.index.min():], label='ARIMA forecast')\n",
    "plt.legend(loc='best')\n",
    "plt.title('Autoregressive integrated moving average (ARIMA) method')\n",
    "plt.show()"
   ]
  },
  {
   "cell_type": "markdown",
   "metadata": {},
   "source": [
    "### Caclulate MAPE"
   ]
  },
  {
   "cell_type": "code",
   "execution_count": 77,
   "metadata": {},
   "outputs": [
    {
     "data": {
      "text/html": [
       "<div>\n",
       "<style scoped>\n",
       "    .dataframe tbody tr th:only-of-type {\n",
       "        vertical-align: middle;\n",
       "    }\n",
       "\n",
       "    .dataframe tbody tr th {\n",
       "        vertical-align: top;\n",
       "    }\n",
       "\n",
       "    .dataframe thead th {\n",
       "        text-align: right;\n",
       "    }\n",
       "</style>\n",
       "<table border=\"1\" class=\"dataframe\">\n",
       "  <thead>\n",
       "    <tr style=\"text-align: right;\">\n",
       "      <th></th>\n",
       "      <th>Method</th>\n",
       "      <th>MAPE</th>\n",
       "    </tr>\n",
       "  </thead>\n",
       "  <tbody>\n",
       "    <tr>\n",
       "      <th>0</th>\n",
       "      <td>Simple exponential smoothing forecast</td>\n",
       "      <td>15.99</td>\n",
       "    </tr>\n",
       "    <tr>\n",
       "      <th>0</th>\n",
       "      <td>Holt's exponential smoothing method</td>\n",
       "      <td>14.67</td>\n",
       "    </tr>\n",
       "    <tr>\n",
       "      <th>0</th>\n",
       "      <td>Holt Winters' additive method</td>\n",
       "      <td>8.42</td>\n",
       "    </tr>\n",
       "    <tr>\n",
       "      <th>0</th>\n",
       "      <td>Holt Winters' multiplicative method</td>\n",
       "      <td>9.78</td>\n",
       "    </tr>\n",
       "    <tr>\n",
       "      <th>0</th>\n",
       "      <td>Autoregressive (AR) method</td>\n",
       "      <td>16.11</td>\n",
       "    </tr>\n",
       "    <tr>\n",
       "      <th>0</th>\n",
       "      <td>Moving Average (MA) method</td>\n",
       "      <td>41.97</td>\n",
       "    </tr>\n",
       "    <tr>\n",
       "      <th>0</th>\n",
       "      <td>Autoregressive moving average (ARMA) method</td>\n",
       "      <td>41.17</td>\n",
       "    </tr>\n",
       "    <tr>\n",
       "      <th>0</th>\n",
       "      <td>Autoregressive integrated moving average (ARIM...</td>\n",
       "      <td>16.11</td>\n",
       "    </tr>\n",
       "  </tbody>\n",
       "</table>\n",
       "</div>"
      ],
      "text/plain": [
       "                                              Method   MAPE\n",
       "0              Simple exponential smoothing forecast  15.99\n",
       "0                Holt's exponential smoothing method  14.67\n",
       "0                      Holt Winters' additive method   8.42\n",
       "0                Holt Winters' multiplicative method   9.78\n",
       "0                         Autoregressive (AR) method  16.11\n",
       "0                         Moving Average (MA) method  41.97\n",
       "0        Autoregressive moving average (ARMA) method  41.17\n",
       "0  Autoregressive integrated moving average (ARIM...  16.11"
      ]
     },
     "execution_count": 77,
     "metadata": {},
     "output_type": "execute_result"
    }
   ],
   "source": [
    "mape = np.round(np.mean(np.abs(test_sales['Sales']-y_hat_ar['ar_forecast'][test_sales.index.min():])/test_sales['Sales'])*100,2)\n",
    "\n",
    "tempResults = pd.DataFrame({'Method':['Autoregressive integrated moving average (ARIMA) method'],'MAPE': [mape] })\n",
    "results = pd.concat([results, tempResults])\n",
    "results = results[['Method', 'MAPE']]\n",
    "results"
   ]
  },
  {
   "cell_type": "markdown",
   "metadata": {},
   "source": [
    "## SARIMA Model"
   ]
  },
  {
   "cell_type": "code",
   "execution_count": 78,
   "metadata": {},
   "outputs": [
    {
     "name": "stdout",
     "output_type": "stream",
     "text": [
      "ar.L1      -0.039455\n",
      "ma.L1      -0.998683\n",
      "ar.S.L12   -0.485659\n",
      "sigma2      0.081975\n",
      "dtype: float64\n"
     ]
    }
   ],
   "source": [
    "from statsmodels.tsa.statespace.sarimax import SARIMAX\n",
    "\n",
    "model = SARIMAX(train_data_boxcox, order=(1, 1, 1), seasonal_order=(1, 1, 0, 12)) \n",
    "model_fit = model.fit()\n",
    "print(model_fit.params)"
   ]
  },
  {
   "cell_type": "code",
   "execution_count": 79,
   "metadata": {},
   "outputs": [],
   "source": [
    "y_hat_sarima = data_boxcox_diff.copy()\n",
    "y_hat_sarima['sarima_forecast_boxcox'] = model_fit.predict(data_boxcox_diff.index.min(), data_boxcox_diff.index.max())\n",
    "y_hat_sarima['sarima_forecast'] = np.exp(y_hat_sarima['sarima_forecast_boxcox'])"
   ]
  },
  {
   "cell_type": "markdown",
   "metadata": {},
   "source": [
    "### Plot Train, Test and Forecast"
   ]
  },
  {
   "cell_type": "code",
   "execution_count": 80,
   "metadata": {},
   "outputs": [
    {
     "data": {
      "image/png": "[encoded data removed]",
      "text/plain": [
       "<Figure size 864x288 with 1 Axes>"
      ]
     },
     "metadata": {
      "needs_background": "light"
     },
     "output_type": "display_data"
    }
   ],
   "source": [
    "plt.figure(figsize=(12,4))\n",
    "plt.plot(train_sales['Sales'], label='Train')\n",
    "plt.plot(test_sales['Sales'], label='Test')\n",
    "plt.plot(y_hat_sarima['sarima_forecast'][test_sales.index.min():], label='SARIMA forecast')\n",
    "plt.legend(loc='best')\n",
    "plt.title('Seasonal autoregressive integrated moving average (SARIMA) method')\n",
    "plt.show()"
   ]
  },
  {
   "cell_type": "markdown",
   "metadata": {},
   "source": [
    "### Calculate MAPE"
   ]
  },
  {
   "cell_type": "code",
   "execution_count": 81,
   "metadata": {},
   "outputs": [
    {
     "data": {
      "text/html": [
       "<div>\n",
       "<style scoped>\n",
       "    .dataframe tbody tr th:only-of-type {\n",
       "        vertical-align: middle;\n",
       "    }\n",
       "\n",
       "    .dataframe tbody tr th {\n",
       "        vertical-align: top;\n",
       "    }\n",
       "\n",
       "    .dataframe thead th {\n",
       "        text-align: right;\n",
       "    }\n",
       "</style>\n",
       "<table border=\"1\" class=\"dataframe\">\n",
       "  <thead>\n",
       "    <tr style=\"text-align: right;\">\n",
       "      <th></th>\n",
       "      <th>Method</th>\n",
       "      <th>MAPE</th>\n",
       "    </tr>\n",
       "  </thead>\n",
       "  <tbody>\n",
       "    <tr>\n",
       "      <th>0</th>\n",
       "      <td>Simple exponential smoothing forecast</td>\n",
       "      <td>15.99</td>\n",
       "    </tr>\n",
       "    <tr>\n",
       "      <th>0</th>\n",
       "      <td>Holt's exponential smoothing method</td>\n",
       "      <td>14.67</td>\n",
       "    </tr>\n",
       "    <tr>\n",
       "      <th>0</th>\n",
       "      <td>Holt Winters' additive method</td>\n",
       "      <td>8.42</td>\n",
       "    </tr>\n",
       "    <tr>\n",
       "      <th>0</th>\n",
       "      <td>Holt Winters' multiplicative method</td>\n",
       "      <td>9.78</td>\n",
       "    </tr>\n",
       "    <tr>\n",
       "      <th>0</th>\n",
       "      <td>Autoregressive (AR) method</td>\n",
       "      <td>16.11</td>\n",
       "    </tr>\n",
       "    <tr>\n",
       "      <th>0</th>\n",
       "      <td>Moving Average (MA) method</td>\n",
       "      <td>41.97</td>\n",
       "    </tr>\n",
       "    <tr>\n",
       "      <th>0</th>\n",
       "      <td>Autoregressive moving average (ARMA) method</td>\n",
       "      <td>41.17</td>\n",
       "    </tr>\n",
       "    <tr>\n",
       "      <th>0</th>\n",
       "      <td>Autoregressive integrated moving average (ARIM...</td>\n",
       "      <td>16.11</td>\n",
       "    </tr>\n",
       "    <tr>\n",
       "      <th>0</th>\n",
       "      <td>Seasonal autoregressive integrated moving aver...</td>\n",
       "      <td>12.78</td>\n",
       "    </tr>\n",
       "  </tbody>\n",
       "</table>\n",
       "</div>"
      ],
      "text/plain": [
       "                                              Method   MAPE\n",
       "0              Simple exponential smoothing forecast  15.99\n",
       "0                Holt's exponential smoothing method  14.67\n",
       "0                      Holt Winters' additive method   8.42\n",
       "0                Holt Winters' multiplicative method   9.78\n",
       "0                         Autoregressive (AR) method  16.11\n",
       "0                         Moving Average (MA) method  41.97\n",
       "0        Autoregressive moving average (ARMA) method  41.17\n",
       "0  Autoregressive integrated moving average (ARIM...  16.11\n",
       "0  Seasonal autoregressive integrated moving aver...  12.78"
      ]
     },
     "execution_count": 81,
     "metadata": {},
     "output_type": "execute_result"
    }
   ],
   "source": [
    "mape = np.round(np.mean(np.abs(test_sales['Sales']-y_hat_sarima['sarima_forecast'][test_sales.index.min():])/test_sales['Sales'])*100,2)\n",
    "\n",
    "\n",
    "tempResults = pd.DataFrame({'Method':['Seasonal autoregressive integrated moving average (SARIMA) method'], 'MAPE': [mape] })\n",
    "results = pd.concat([results, tempResults])\n",
    "results = results[['Method', 'MAPE']]\n",
    "results"
   ]
  },
  {
   "cell_type": "markdown",
   "metadata": {},
   "source": [
    "**As we can see, the plot for SARIMA shows that this Model is able to predict the sales closer to the actual values better. Also, the MAPE value is the least for this Model among all the other methods as seen in the results dataframe above. Therefore, we can conclude that SARIMA Model is the best AR Model for the Forecast.**"
   ]
  },
  {
   "cell_type": "markdown",
   "metadata": {},
   "source": [
    "# Conclusion"
   ]
  },
  {
   "cell_type": "markdown",
   "metadata": {},
   "source": [
    "**We can conclude that the hypothesis we had taken from the flowchart for choosing the Right Time Series Method and the Forecasting Methods performed have matched as the Best Smoothing Technique and AR Model are Holt Winter's Additive Method and SARIMA Model as predicted.**"
   ]
  }
 ],
 "metadata": {
  "kernelspec": {
   "display_name": "Python 3",
   "language": "python",
   "name": "python3"
  },
  "language_info": {
   "codemirror_mode": {
    "name": "ipython",
    "version": 3
   },
   "file_extension": ".py",
   "mimetype": "text/x-python",
   "name": "python",
   "nbconvert_exporter": "python",
   "pygments_lexer": "ipython3",
   "version": "3.7.6"
  }
 },
 "nbformat": 4,
 "nbformat_minor": 4
}
